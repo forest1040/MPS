{
 "cells": [
  {
   "cell_type": "code",
   "execution_count": 1,
   "metadata": {},
   "outputs": [],
   "source": [
    "import numpy as np\n",
    "import matplotlib.pyplot as plt\n",
    "import tensorflow as tf\n",
    "\n",
    "import tensornetwork as tn\n",
    "tn.set_default_backend(\"jax\")\n",
    "import jax.numpy as jnp\n",
    "import jax\n",
    "from jax import grad, jit, vmap, random\n",
    "\n",
    "import copy\n",
    "from jax.scipy.special import logsumexp\n",
    "import math"
   ]
  },
  {
   "cell_type": "code",
   "execution_count": 2,
   "metadata": {},
   "outputs": [],
   "source": [
    "from jax.config import config\n",
    "config.update(\"jax_enable_x64\", True)"
   ]
  },
  {
   "cell_type": "code",
   "execution_count": 3,
   "metadata": {},
   "outputs": [],
   "source": [
    "mnist = tf.keras.datasets.mnist\n",
    "(x_train, y_train), (x_test, y_test) = mnist.load_data()\n",
    "\n",
    "# Normalize\n",
    "x_train, x_test = x_train / 255.0, x_test / 255.0"
   ]
  },
  {
   "cell_type": "code",
   "execution_count": 4,
   "metadata": {},
   "outputs": [],
   "source": [
    "def pooling(data):\n",
    "    xlen = np.int(data.shape[1]/2)\n",
    "    ylen = np.int(data.shape[2]/2)\n",
    "    arr = np.zeros((data.shape[0], xlen, ylen))\n",
    "    for i in range(0, data.shape[1], 2):\n",
    "        for j in range(0, data.shape[2], 2):\n",
    "            for k in range(0, data.shape[0]):\n",
    "                arr[k][np.int(i/2)][np.int(j/2)] = \\\n",
    "                (data[k][i][j]+data[k][i+1][j]+data[k][i][j+1]+data[k][i+1][j+1])/4\n",
    "    return arr"
   ]
  },
  {
   "cell_type": "code",
   "execution_count": 5,
   "metadata": {},
   "outputs": [],
   "source": [
    "x_train_pool = pooling(x_train)\n",
    "x_test_pool = pooling(x_test)"
   ]
  },
  {
   "cell_type": "code",
   "execution_count": 6,
   "metadata": {},
   "outputs": [
    {
     "name": "stderr",
     "output_type": "stream",
     "text": [
      "/home/ryunagai/virtualenvs/jax_cpu/lib/python3.8/site-packages/jax/lib/xla_bridge.py:130: UserWarning: No GPU/TPU found, falling back to CPU.\n",
      "  warnings.warn('No GPU/TPU found, falling back to CPU.')\n"
     ]
    }
   ],
   "source": [
    "num_labels = 10\n",
    "\n",
    "x_train = jnp.array(x_train_pool, dtype=jnp.float64)\n",
    "x_test = jnp.array(x_test_pool, dtype=jnp.float64)\n",
    "\n",
    "num_pixels = x_train.shape[1] * x_train.shape[2]\n",
    "x_train_1d = jnp.reshape(x_train, (x_train.shape[0], num_pixels))\n",
    "x_test_1d = jnp.reshape(x_test, (x_test.shape[0], num_pixels))"
   ]
  },
  {
   "cell_type": "code",
   "execution_count": 7,
   "metadata": {},
   "outputs": [],
   "source": [
    "def one_hot(x, k, dtype=jnp.float64):\n",
    "    \"\"\"Create a one-hot encoding of x of size k.\"\"\"\n",
    "    return jnp.array(x[:, None] == jnp.arange(k), dtype)\n",
    "\n",
    "y_train_1h = one_hot(y_train, num_labels)\n",
    "y_test_1h = one_hot(y_test, num_labels)"
   ]
  },
  {
   "cell_type": "markdown",
   "metadata": {},
   "source": [
    "### Functions for Tensor Network"
   ]
  },
  {
   "cell_type": "code",
   "execution_count": 8,
   "metadata": {},
   "outputs": [],
   "source": [
    "def feature_map(p):\n",
    "    phi = jnp.array([1-p, p])\n",
    "    return phi\n",
    "\n",
    "def data_tensorize(vec):\n",
    "    data_tensor = [tn.Node(feature_map(p)) for p in vec]\n",
    "    return data_tensor"
   ]
  },
  {
   "cell_type": "code",
   "execution_count": 9,
   "metadata": {},
   "outputs": [],
   "source": [
    "def block(*dimensions):\n",
    "    '''Construct a new matrix for the MPS with random numbers from 0 to 1'''\n",
    "    seed = np.random.randint(100)\n",
    "    key = random.PRNGKey(seed)\n",
    "    size = tuple([x for x in dimensions])\n",
    "    scale = 0.35\n",
    "    return scale * random.normal(key, size, dtype=jnp.float64)\n",
    "\n",
    "def create_blocks(rank, dim, bond_dim, label_dim):\n",
    "    half = jnp.array([(rank - 2) / 2], dtype = jnp.int32)[0]\n",
    "    blocks = [\n",
    "        block(dim, bond_dim) ] + \\\n",
    "        [ block(bond_dim, dim, bond_dim) for _ in range(half)] + \\\n",
    "        [ block(bond_dim, label_dim, bond_dim) ] + \\\n",
    "        [ block(bond_dim, dim, bond_dim) for _ in range(half, rank-2)] + \\\n",
    "        [ block(bond_dim, dim) \n",
    "        ]\n",
    "    return blocks\n",
    "\n",
    "def create_MPS_labeled(blocks, rank, dim, bond_dim):\n",
    "    '''Build the MPS tensor'''\n",
    "    #half = jnp.array([(rank - 2) / 2], dtype = jnp.int32)[0]\n",
    "    mps = []\n",
    "    for b in blocks:\n",
    "        mps.append(tn.Node(b))\n",
    "\n",
    "    #connect edges to build mps\n",
    "    connected_edges=[]\n",
    "    conn=mps[0][1]^mps[1][0]\n",
    "    connected_edges.append(conn)\n",
    "    for k in range(1,rank):\n",
    "        conn=mps[k][2]^mps[k+1][0]\n",
    "        connected_edges.append(conn)\n",
    "\n",
    "    return mps, connected_edges"
   ]
  },
  {
   "cell_type": "markdown",
   "metadata": {},
   "source": [
    "### Prediction function"
   ]
  },
  {
   "cell_type": "code",
   "execution_count": 10,
   "metadata": {},
   "outputs": [],
   "source": [
    "label_len = 1\n",
    "label_dim = 10\n",
    "data_len = x_train_1d.shape[1]\n",
    "rank = data_len\n",
    "dim = 2\n",
    "bond_dim = 10\n",
    "\n",
    "blocks = create_blocks(rank, dim, bond_dim, label_dim)\n",
    "\n",
    "@jit\n",
    "def predict_2(data, blocks):\n",
    "    data = [jnp.array([[1-p], [p]]) for p in data]\n",
    "    half = math.floor(len(data)/2)\n",
    "    mps = []\n",
    "    dims = []\n",
    "    mps += [data[0], blocks[0], blocks[1]]\n",
    "    dims += [(1, -1), (1, 2), (2, 3, 4)]\n",
    "    closed = 3\n",
    "    opened = -2\n",
    "    for i in range(1, half):\n",
    "        mps += [data[i], blocks[i+1]]\n",
    "        if i==half-1:\n",
    "            dims += [(closed, opened), (closed+1, opened-1, closed+3)]\n",
    "            opened -= 1\n",
    "        else:\n",
    "            dims += [(closed, opened), (closed+1, closed+2, closed+3)]\n",
    "        closed += 2\n",
    "        opened -= 1\n",
    "    for j in range(half, len(data)-1):\n",
    "        mps += [blocks[j+1], data[j]]\n",
    "        dims += [(closed+1, closed+2, closed+3), (closed+2, opened)]\n",
    "        closed += 2\n",
    "        opened -= 1\n",
    "    mps += [blocks[len(data)], data[-1]]\n",
    "    dims += [(closed+1, closed+2), (closed+2, opened)]\n",
    "    res = tn.ncon(mps, dims)\n",
    "    res = jnp.squeeze(res)\n",
    "    res = res - logsumexp(res)\n",
    "    return res\n",
    "\n",
    "def data_list(vec):\n",
    "    data_list = [jnp.array([[1-p], [p]]) for p in vec]\n",
    "    return data_list"
   ]
  },
  {
   "cell_type": "code",
   "execution_count": 11,
   "metadata": {},
   "outputs": [],
   "source": [
    "@jit\n",
    "def batched_predict_2(batch_data, blocks):\n",
    "    return vmap(predict_2, in_axes=(0, None))(batch_data, blocks)"
   ]
  },
  {
   "cell_type": "markdown",
   "metadata": {},
   "source": [
    "### Validation function"
   ]
  },
  {
   "cell_type": "code",
   "execution_count": 12,
   "metadata": {},
   "outputs": [],
   "source": [
    "def accuracy(blocks, data, targets, params):\n",
    "    batched_preds = batched_predict_2(data, blocks)\n",
    "    target_class = jnp.argmax(targets, axis=1)\n",
    "    predicted_class = jnp.argmax(batched_preds, axis=1)\n",
    "    return jnp.mean(predicted_class == target_class)\n",
    "\n",
    "def loss(blocks, data, targets, params):\n",
    "    batched_preds = batched_predict_2(data, blocks)\n",
    "    return -jnp.mean(vmap(jnp.dot, in_axes=(0, 0))(batched_preds, targets))"
   ]
  },
  {
   "cell_type": "markdown",
   "metadata": {},
   "source": [
    "### Train"
   ]
  },
  {
   "cell_type": "code",
   "execution_count": 13,
   "metadata": {},
   "outputs": [],
   "source": [
    "@jit\n",
    "def update(blocks, data, targets, params, lr = 1e-3):\n",
    "    grads = grad(loss)(blocks, data, targets, params)\n",
    "    return [x - lr * dx for x, dx in zip(blocks, grads)]"
   ]
  },
  {
   "cell_type": "code",
   "execution_count": 35,
   "metadata": {},
   "outputs": [
    {
     "data": {
      "text/plain": [
       "DeviceArray(44.78271585, dtype=float64)"
      ]
     },
     "execution_count": 35,
     "metadata": {},
     "output_type": "execute_result"
    }
   ],
   "source": [
    "blocks = create_blocks(rank, dim, bond_dim, label_dim)\n",
    "a = update(blocks, x_train_1d, y_train_1h, params)\n",
    "l = loss(blocks, x_train_1d, y_train_1h, params)\n",
    "l"
   ]
  },
  {
   "cell_type": "code",
   "execution_count": 14,
   "metadata": {
    "scrolled": false
   },
   "outputs": [],
   "source": [
    "class batch_gen(object):\n",
    "    def __init__(self, train, target, batch_size):\n",
    "        self._train = train\n",
    "        self._target = target\n",
    "        self._batch_size = batch_size\n",
    "        self._i = 0\n",
    "    def __iter__(self):\n",
    "        # __next__()はselfが実装してるのでそのままselfを返す\n",
    "        return self\n",
    "    def __next__(self):  # Python2だと next(self) で定義\n",
    "        if self._i >= len(self._train):\n",
    "            raise StopIteration()\n",
    "        train_batch = self._train[self._i:self._i + self._batch_size]\n",
    "        target_batch = self._target[self._i:self._i + self._batch_size]\n",
    "        self._i += self._batch_size\n",
    "        return (train_batch, target_batch)"
   ]
  },
  {
   "cell_type": "code",
   "execution_count": null,
   "metadata": {},
   "outputs": [
    {
     "name": "stdout",
     "output_type": "stream",
     "text": [
      "Epoch 0 in 20.93 sec\n",
      "Training set accuracy 0.09915\n",
      "Training set loss nan\n",
      "Epoch 1 in 20.68 sec\n",
      "Training set accuracy 0.09915\n",
      "Training set loss nan\n",
      "Epoch 2 in 20.96 sec\n"
     ]
    }
   ],
   "source": [
    "import time\n",
    "\n",
    "batch_size = 30\n",
    "num_epochs = 300\n",
    "blocks = create_blocks(rank, dim, bond_dim, label_dim)\n",
    "train_hist = []\n",
    "loss_hist = []\n",
    "params = (rank, dim, bond_dim, label_len, data_len)\n",
    "\n",
    "for epoch in range(num_epochs):\n",
    "    start_time = time.time()\n",
    "    batch_num = 1\n",
    "    batches = batch_gen(x_train_1d, y_train_1h, batch_size)\n",
    "    for x, y in batches:\n",
    "        blocks = update(blocks, x, y, params, 1e-3)\n",
    "        #print('epoch: {}, batch: {}/{:0.0f}'.format(epoch, batch_num, len(x_train_1d)/batch_size))\n",
    "        batch_num += 1\n",
    "\n",
    "    train_acc = accuracy(blocks, x_train_1d, y_train_1h, params)\n",
    "    train_hist.append(train_acc)\n",
    "    loss_val = loss(blocks, x_train_1d, y_train_1h, params)\n",
    "    loss_hist.append(loss_val)\n",
    "    epoch_time = time.time() - start_time\n",
    "    #test_acc = accuracy(blocks, x, y, params)\n",
    "    print(\"Epoch {} in {:0.2f} sec\".format(epoch, epoch_time))\n",
    "    print(\"Training set accuracy {}\".format(train_acc))\n",
    "    print(\"Training set loss {}\".format(loss_val))\n",
    "    #print(\"Test set accuracy {}\".format(test_acc))"
   ]
  },
  {
   "cell_type": "code",
   "execution_count": 112,
   "metadata": {},
   "outputs": [],
   "source": [
    "test_loss = loss(blocks, x_test_1d, y_test_1h, params)\n",
    "test_acc = accuracy(blocks, x_test_1d, y_test_1h, params)"
   ]
  },
  {
   "cell_type": "code",
   "execution_count": 113,
   "metadata": {},
   "outputs": [
    {
     "name": "stdout",
     "output_type": "stream",
     "text": [
      "train loss:0.118\n",
      "train accuracy:0.962\n",
      "test loss:0.216\n",
      "test accuracy:0.952\n"
     ]
    }
   ],
   "source": [
    "print('train loss:{:.3f}'.format(loss_val))\n",
    "print('train accuracy:{:.3f}'.format(train_acc))\n",
    "print('test loss:{:.3f}'.format(test_loss))\n",
    "print('test accuracy:{:.3f}'.format(test_acc))"
   ]
  },
  {
   "cell_type": "markdown",
   "metadata": {},
   "source": [
    "### Learning curve"
   ]
  },
  {
   "cell_type": "code",
   "execution_count": 111,
   "metadata": {},
   "outputs": [
    {
     "data": {
      "text/plain": [
       "(0.0, 1.1)"
      ]
     },
     "execution_count": 111,
     "metadata": {},
     "output_type": "execute_result"
    },
    {
     "data": {
      "image/png": "[encoded data removed]",
      "text/plain": [
       "<Figure size 432x288 with 2 Axes>"
      ]
     },
     "metadata": {
      "needs_background": "light"
     },
     "output_type": "display_data"
    }
   ],
   "source": [
    "# lr 2e-5 -> 2e-4\n",
    "\n",
    "fig, ax1 = plt.subplots()\n",
    "ax2 = ax1.twinx()\n",
    "\n",
    "ax1.plot(loss_hist,\n",
    "         color='r', label=\"Loss\")\n",
    "ax2.plot(train_hist, color='b',\n",
    "        label=\"Accuracy\")\n",
    " \n",
    "handler1, label1 = ax1.get_legend_handles_labels()\n",
    "handler2, label2 = ax2.get_legend_handles_labels()\n",
    "ax1.legend(handler1 + handler2, label1 + label2, loc=3, borderaxespad=0.)\n",
    "ax1.set_xlabel('Epoch', fontsize=14)\n",
    "ax1.set_ylabel('Loss', fontsize=14)\n",
    "ax2.set_ylabel('Accuracy', fontsize=14)\n",
    " \n",
    "ax1.set_ylim([0, 2.5])\n",
    "ax2.set_ylim([0, 1.1])"
   ]
  },
  {
   "cell_type": "code",
   "execution_count": null,
   "metadata": {},
   "outputs": [],
   "source": []
  }
 ],
 "metadata": {
  "kernelspec": {
   "display_name": "Python 3",
   "language": "python",
   "name": "python3"
  },
  "language_info": {
   "codemirror_mode": {
    "name": "ipython",
    "version": 3
   },
   "file_extension": ".py",
   "mimetype": "text/x-python",
   "name": "python",
   "nbconvert_exporter": "python",
   "pygments_lexer": "ipython3",
   "version": "3.8.5"
  }
 },
 "nbformat": 4,
 "nbformat_minor": 4
}
