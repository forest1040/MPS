{
 "cells": [
  {
   "cell_type": "code",
   "execution_count": 12,
   "metadata": {},
   "outputs": [
    {
     "name": "stdout",
     "output_type": "stream",
     "text": [
      "answer = 7.0\n"
     ]
    },
    {
     "data": {
      "text/plain": [
       "Float64"
      ]
     },
     "execution_count": 12,
     "metadata": {},
     "output_type": "execute_result"
    }
   ],
   "source": [
    "a=2.0\n",
    "b=3.0\n",
    "function linearcombo()\n",
    "  return 2a+b\n",
    "end\n",
    "answer = linearcombo()\n",
    "\n",
    "@show answer;"
   ]
  },
  {
   "cell_type": "code",
   "execution_count": 16,
   "metadata": {},
   "outputs": [
    {
     "name": "stdout",
     "output_type": "stream",
     "text": [
      "\n",
      ";  @ In[12]:4 within `linearcombo'\n",
      "define nonnull %jl_value_t addrspace(10)* @julia_linearcombo_18676() {\n",
      "top:\n",
      "  %0 = alloca %jl_value_t addrspace(10)*, i32 2\n",
      "  %gcframe = alloca %jl_value_t addrspace(10)*, i32 4, align 16\n",
      "  %1 = bitcast %jl_value_t addrspace(10)** %gcframe to i8*\n",
      "  call void @llvm.memset.p0i8.i32(i8* align 16 %1, i8 0, i32 32, i1 false)\n",
      "  %2 = call %jl_value_t*** inttoptr (i64 4387760576 to %jl_value_t*** ()*)() #4\n",
      "  %3 = getelementptr %jl_value_t addrspace(10)*, %jl_value_t addrspace(10)** %gcframe, i32 0\n",
      "  %4 = bitcast %jl_value_t addrspace(10)** %3 to i64*\n",
      "  store i64 8, i64* %4\n",
      "  %5 = getelementptr %jl_value_t**, %jl_value_t*** %2, i32 0\n",
      "  %6 = load %jl_value_t**, %jl_value_t*** %5\n",
      "  %7 = getelementptr %jl_value_t addrspace(10)*, %jl_value_t addrspace(10)** %gcframe, i32 1\n",
      "  %8 = bitcast %jl_value_t addrspace(10)** %7 to %jl_value_t***\n",
      "  store %jl_value_t** %6, %jl_value_t*** %8\n",
      "  %9 = bitcast %jl_value_t*** %5 to %jl_value_t addrspace(10)***\n",
      "  store %jl_value_t addrspace(10)** %gcframe, %jl_value_t addrspace(10)*** %9\n",
      "  %10 = load %jl_value_t addrspace(10)*, %jl_value_t addrspace(10)** inttoptr (i64 4456507208 to %jl_value_t addrspace(10)**), align 8\n",
      "  %11 = getelementptr %jl_value_t addrspace(10)*, %jl_value_t addrspace(10)** %gcframe, i32 2\n",
      "  store %jl_value_t addrspace(10)* %10, %jl_value_t addrspace(10)** %11\n",
      "  %12 = getelementptr %jl_value_t addrspace(10)*, %jl_value_t addrspace(10)** %0, i32 0\n",
      "  store %jl_value_t addrspace(10)* addrspacecast (%jl_value_t* inttoptr (i64 4517249184 to %jl_value_t*) to %jl_value_t addrspace(10)*), %jl_value_t addrspace(10)** %12\n",
      "  %13 = getelementptr %jl_value_t addrspace(10)*, %jl_value_t addrspace(10)** %0, i32 1\n",
      "  store %jl_value_t addrspace(10)* %10, %jl_value_t addrspace(10)** %13\n",
      "  %14 = call nonnull %jl_value_t addrspace(10)* @jl_apply_generic(%jl_value_t addrspace(10)* addrspacecast (%jl_value_t* inttoptr (i64 4662434432 to %jl_value_t*) to %jl_value_t addrspace(10)*), %jl_value_t addrspace(10)** %0, i32 2)\n",
      "  %15 = load %jl_value_t addrspace(10)*, %jl_value_t addrspace(10)** inttoptr (i64 4456507928 to %jl_value_t addrspace(10)**), align 8\n",
      "  %16 = getelementptr %jl_value_t addrspace(10)*, %jl_value_t addrspace(10)** %gcframe, i32 3\n",
      "  store %jl_value_t addrspace(10)* %14, %jl_value_t addrspace(10)** %16\n",
      "  %17 = getelementptr %jl_value_t addrspace(10)*, %jl_value_t addrspace(10)** %gcframe, i32 2\n",
      "  store %jl_value_t addrspace(10)* %15, %jl_value_t addrspace(10)** %17\n",
      "  %18 = getelementptr %jl_value_t addrspace(10)*, %jl_value_t addrspace(10)** %0, i32 0\n",
      "  store %jl_value_t addrspace(10)* %14, %jl_value_t addrspace(10)** %18\n",
      "  %19 = getelementptr %jl_value_t addrspace(10)*, %jl_value_t addrspace(10)** %0, i32 1\n",
      "  store %jl_value_t addrspace(10)* %15, %jl_value_t addrspace(10)** %19\n",
      "  %20 = call nonnull %jl_value_t addrspace(10)* @jl_apply_generic(%jl_value_t addrspace(10)* addrspacecast (%jl_value_t* inttoptr (i64 4651509520 to %jl_value_t*) to %jl_value_t addrspace(10)*), %jl_value_t addrspace(10)** %0, i32 2)\n",
      "  %21 = getelementptr %jl_value_t addrspace(10)*, %jl_value_t addrspace(10)** %gcframe, i32 1\n",
      "  %22 = load %jl_value_t addrspace(10)*, %jl_value_t addrspace(10)** %21\n",
      "  %23 = getelementptr %jl_value_t**, %jl_value_t*** %2, i32 0\n",
      "  %24 = bitcast %jl_value_t*** %23 to %jl_value_t addrspace(10)**\n",
      "  store %jl_value_t addrspace(10)* %22, %jl_value_t addrspace(10)** %24\n",
      "  ret %jl_value_t addrspace(10)* %20\n",
      "}\n"
     ]
    }
   ],
   "source": [
    "@code_llvm linearcombo()"
   ]
  },
  {
   "cell_type": "code",
   "execution_count": 13,
   "metadata": {},
   "outputs": [
    {
     "name": "stderr",
     "output_type": "stream",
     "text": [
      "┌ Warning: uses global variable Main.a\n",
      "└ @ In[12]:-1\n",
      "┌ Warning: uses global variable Main.b\n",
      "└ @ In[12]:-1\n",
      "┌ Warning: dynamic dispatch to 2 * Main.a\n",
      "└ @ In[12]:-1\n",
      "┌ Warning: dynamic dispatch to 2 * Main.a + Main.b\n",
      "└ @ In[12]:-1\n",
      "┌ Warning: linearcombo returns Any\n",
      "└ @ In[12]:4\n"
     ]
    },
    {
     "data": {
      "text/plain": [
       "7.0"
      ]
     },
     "execution_count": 13,
     "metadata": {},
     "output_type": "execute_result"
    }
   ],
   "source": [
    "using Traceur\n",
    "@trace linearcombo()"
   ]
  },
  {
   "cell_type": "code",
   "execution_count": 14,
   "metadata": {},
   "outputs": [
    {
     "name": "stdout",
     "output_type": "stream",
     "text": [
      "answer = 7.0\n"
     ]
    }
   ],
   "source": [
    "function outer()\n",
    "    a=2.0; b=3.0\n",
    "    function linearcombo()\n",
    "      return 2a+b\n",
    "    end\n",
    "    return linearcombo() \n",
    "end\n",
    "\n",
    "answer = outer()\n",
    "\n",
    "@show answer;"
   ]
  },
  {
   "cell_type": "code",
   "execution_count": 15,
   "metadata": {},
   "outputs": [
    {
     "name": "stdout",
     "output_type": "stream",
     "text": [
      "\n",
      ";  @ In[14]:2 within `outer'\n",
      "define double @julia_outer_18679() {\n",
      "top:\n",
      "  ret double 7.000000e+00\n",
      "}\n"
     ]
    }
   ],
   "source": [
    "@code_llvm outer()"
   ]
  },
  {
   "cell_type": "code",
   "execution_count": 17,
   "metadata": {},
   "outputs": [
    {
     "data": {
      "text/plain": [
       "7.0"
      ]
     },
     "execution_count": 17,
     "metadata": {},
     "output_type": "execute_result"
    }
   ],
   "source": [
    "@trace outer()"
   ]
  },
  {
   "cell_type": "code",
   "execution_count": 18,
   "metadata": {},
   "outputs": [
    {
     "name": "stdout",
     "output_type": "stream",
     "text": [
      "answer = 7.0\n"
     ]
    }
   ],
   "source": [
    "const A=2.0\n",
    "const B=3.0\n",
    "\n",
    "function Linearcombo()\n",
    "  return 2A+B\n",
    "end\n",
    "answer = Linearcombo()\n",
    "\n",
    "@show answer;"
   ]
  },
  {
   "cell_type": "code",
   "execution_count": 19,
   "metadata": {},
   "outputs": [
    {
     "name": "stdout",
     "output_type": "stream",
     "text": [
      "\n",
      ";  @ In[18]:5 within `Linearcombo'\n",
      "define double @julia_Linearcombo_18770() {\n",
      "top:\n",
      "  ret double 7.000000e+00\n",
      "}\n"
     ]
    }
   ],
   "source": [
    "@code_llvm Linearcombo()"
   ]
  },
  {
   "cell_type": "code",
   "execution_count": 20,
   "metadata": {},
   "outputs": [
    {
     "data": {
      "text/plain": [
       "7.0"
      ]
     },
     "execution_count": 20,
     "metadata": {},
     "output_type": "execute_result"
    }
   ],
   "source": [
    "@trace Linearcombo()"
   ]
  },
  {
   "cell_type": "markdown",
   "metadata": {},
   "source": [
    "Take home message: Always wrap a performance critical piece of code in a self-contained function."
   ]
  },
  {
   "cell_type": "code",
   "execution_count": 25,
   "metadata": {},
   "outputs": [
    {
     "data": {
      "text/plain": [
       "g (generic function with 1 method)"
      ]
     },
     "execution_count": 25,
     "metadata": {},
     "output_type": "execute_result"
    }
   ],
   "source": [
    "function g()\n",
    "  x=1\n",
    "  for i = 1:10\n",
    "    x = x/2\n",
    "  end\n",
    "  return x\n",
    "end"
   ]
  },
  {
   "cell_type": "code",
   "execution_count": 26,
   "metadata": {},
   "outputs": [
    {
     "name": "stdout",
     "output_type": "stream",
     "text": [
      "\n",
      "define double @julia_g_18830() {\n",
      "top:\n",
      "  br label %L2\n",
      "\n",
      "L2:                                               ; preds = %top, %L29\n",
      "  %0 = phi double [ 4.940660e-324, %top ], [ %value_phi1, %L29 ]\n",
      "  %.sroa.011.0 = phi i64 [ 1, %top ], [ %4, %L29 ]\n",
      "  %tindex_phi = phi i8 [ 2, %top ], [ 1, %L29 ]\n",
      "  %value_phi = phi i64 [ 1, %top ], [ %3, %L29 ]\n",
      "  switch i8 %tindex_phi, label %L17 [\n",
      "    i8 2, label %L6\n",
      "    i8 1, label %L19\n",
      "  ]\n",
      "\n",
      "L6:                                               ; preds = %L2\n",
      "  %1 = sitofp i64 %.sroa.011.0 to double\n",
      "  br label %L19\n",
      "\n",
      "L17:                                              ; preds = %L2\n",
      "  call void @jl_throw(%jl_value_t addrspace(12)* addrspacecast (%jl_value_t* inttoptr (i64 4623525984 to %jl_value_t*) to %jl_value_t addrspace(12)*))\n",
      "  unreachable\n",
      "\n",
      "L19:                                              ; preds = %L2, %L6\n",
      "  %value_phi1.in = phi double [ %1, %L6 ], [ %0, %L2 ]\n",
      "  %value_phi1 = fmul double %value_phi1.in, 5.000000e-01\n",
      "  %2 = icmp eq i64 %value_phi, 10\n",
      "  br i1 %2, label %L25.L30_crit_edge, label %L29\n",
      "\n",
      "L25.L30_crit_edge:                                ; preds = %L19\n",
      "  ret double %value_phi1\n",
      "\n",
      "L29:                                              ; preds = %L19\n",
      "  %3 = add nuw nsw i64 %value_phi, 1\n",
      "  %4 = bitcast double %value_phi1 to i64\n",
      "  br label %L2\n",
      "}\n"
     ]
    }
   ],
   "source": [
    "@code_llvm debuginfo=:none g()"
   ]
  },
  {
   "cell_type": "code",
   "execution_count": 27,
   "metadata": {},
   "outputs": [
    {
     "data": {
      "text/plain": [
       "f (generic function with 1 method)"
      ]
     },
     "execution_count": 27,
     "metadata": {},
     "output_type": "execute_result"
    }
   ],
   "source": [
    "f() = rand([1.0, 2, \"3\"])"
   ]
  },
  {
   "cell_type": "code",
   "execution_count": 29,
   "metadata": {},
   "outputs": [
    {
     "name": "stdout",
     "output_type": "stream",
     "text": [
      "\n",
      "define nonnull %jl_value_t addrspace(10)* @julia_f_18853() {\n",
      "top:\n",
      "  %0 = alloca %jl_value_t addrspace(10)*, i32 2\n",
      "  %gcframe = alloca %jl_value_t addrspace(10)*, i32 4, align 16\n",
      "  %1 = bitcast %jl_value_t addrspace(10)** %gcframe to i8*\n",
      "  call void @llvm.memset.p0i8.i32(i8* align 16 %1, i8 0, i32 32, i1 false)\n",
      "  %2 = alloca [4 x i64], align 8\n",
      "  %3 = call %jl_value_t*** inttoptr (i64 4387760576 to %jl_value_t*** ()*)() #8\n",
      "  %4 = getelementptr %jl_value_t addrspace(10)*, %jl_value_t addrspace(10)** %gcframe, i32 0\n",
      "  %5 = bitcast %jl_value_t addrspace(10)** %4 to i64*\n",
      "  store i64 8, i64* %5\n",
      "  %6 = getelementptr %jl_value_t**, %jl_value_t*** %3, i32 0\n",
      "  %7 = load %jl_value_t**, %jl_value_t*** %6\n",
      "  %8 = getelementptr %jl_value_t addrspace(10)*, %jl_value_t addrspace(10)** %gcframe, i32 1\n",
      "  %9 = bitcast %jl_value_t addrspace(10)** %8 to %jl_value_t***\n",
      "  store %jl_value_t** %7, %jl_value_t*** %9\n",
      "  %10 = bitcast %jl_value_t*** %6 to %jl_value_t addrspace(10)***\n",
      "  store %jl_value_t addrspace(10)** %gcframe, %jl_value_t addrspace(10)*** %10\n",
      "  %11 = bitcast %jl_value_t*** %3 to i8*\n",
      "  %12 = call noalias nonnull %jl_value_t addrspace(10)* @jl_gc_pool_alloc(i8* %11, i32 1424, i32 32) #1\n",
      "  %13 = bitcast %jl_value_t addrspace(10)* %12 to %jl_value_t addrspace(10)* addrspace(10)*\n",
      "  %14 = getelementptr %jl_value_t addrspace(10)*, %jl_value_t addrspace(10)* addrspace(10)* %13, i64 -1\n",
      "  store %jl_value_t addrspace(10)* addrspacecast (%jl_value_t* inttoptr (i64 4494376832 to %jl_value_t*) to %jl_value_t addrspace(10)*), %jl_value_t addrspace(10)* addrspace(10)* %14\n",
      "  %15 = addrspacecast %jl_value_t addrspace(10)* %12 to %jl_value_t addrspace(11)*\n",
      "  %16 = bitcast %jl_value_t addrspace(10)* %12 to double addrspace(10)*\n",
      "  store double 1.000000e+00, double addrspace(10)* %16, align 8\n",
      "  %17 = bitcast %jl_value_t addrspace(11)* %15 to i8 addrspace(11)*\n",
      "  %18 = getelementptr inbounds i8, i8 addrspace(11)* %17, i64 8\n",
      "  %19 = bitcast i8 addrspace(11)* %18 to i64 addrspace(11)*\n",
      "  store i64 2, i64 addrspace(11)* %19, align 8\n",
      "  %20 = getelementptr inbounds i8, i8 addrspace(11)* %17, i64 16\n",
      "  %21 = bitcast i8 addrspace(11)* %20 to %jl_value_t addrspace(10)* addrspace(11)*\n",
      "  store %jl_value_t addrspace(10)* addrspacecast (%jl_value_t* inttoptr (i64 4467877008 to %jl_value_t*) to %jl_value_t addrspace(10)*), %jl_value_t addrspace(10)* addrspace(11)* %21, align 8\n",
      "  %22 = getelementptr %jl_value_t addrspace(10)*, %jl_value_t addrspace(10)** %gcframe, i32 2\n",
      "  store %jl_value_t addrspace(10)* %12, %jl_value_t addrspace(10)** %22\n",
      "  %23 = call %jl_value_t addrspace(10)* inttoptr (i64 4387631360 to %jl_value_t addrspace(10)* (%jl_value_t addrspace(10)*, i64)*)(%jl_value_t addrspace(10)* addrspacecast (%jl_value_t* inttoptr (i64 4621675136 to %jl_value_t*) to %jl_value_t addrspace(10)*), i64 3)\n",
      "  %24 = getelementptr %jl_value_t addrspace(10)*, %jl_value_t addrspace(10)** %gcframe, i32 3\n",
      "  store %jl_value_t addrspace(10)* %23, %jl_value_t addrspace(10)** %24\n",
      "  %25 = getelementptr %jl_value_t addrspace(10)*, %jl_value_t addrspace(10)** %0, i32 0\n",
      "  store %jl_value_t addrspace(10)* %23, %jl_value_t addrspace(10)** %25\n",
      "  %26 = getelementptr %jl_value_t addrspace(10)*, %jl_value_t addrspace(10)** %0, i32 1\n",
      "  store %jl_value_t addrspace(10)* %12, %jl_value_t addrspace(10)** %26\n",
      "  %27 = call nonnull %jl_value_t addrspace(10)* @\"japi1_copyto!_18854\"(%jl_value_t addrspace(10)* addrspacecast (%jl_value_t* inttoptr (i64 4676134880 to %jl_value_t*) to %jl_value_t addrspace(10)*), %jl_value_t addrspace(10)** %0, i32 2)\n",
      "  %28 = getelementptr %jl_value_t**, %jl_value_t*** %3, i64 2\n",
      "  %29 = bitcast %jl_value_t*** %28 to i16*\n",
      "  %30 = load i16, i16* %29, align 2\n",
      "  %31 = sext i16 %30 to i64\n",
      "  %32 = add nsw i64 %31, 1\n",
      "  %33 = getelementptr %jl_value_t addrspace(10)*, %jl_value_t addrspace(10)** %gcframe, i32 3\n",
      "  store %jl_value_t addrspace(10)* %27, %jl_value_t addrspace(10)** %33\n",
      "  %34 = call nonnull %jl_value_t addrspace(10)* @julia_default_rng_5388(i64 %32)\n",
      "  %35 = addrspacecast %jl_value_t addrspace(10)* %27 to %jl_value_t addrspace(11)*\n",
      "  %36 = bitcast %jl_value_t addrspace(11)* %35 to %jl_value_t addrspace(10)* addrspace(11)*\n",
      "  %37 = getelementptr inbounds %jl_value_t addrspace(10)*, %jl_value_t addrspace(10)* addrspace(11)* %36, i64 3\n",
      "  %38 = bitcast %jl_value_t addrspace(10)* addrspace(11)* %37 to i64 addrspace(11)*\n",
      "  %39 = load i64, i64 addrspace(11)* %38, align 8\n",
      "  %40 = icmp sgt i64 %39, 0\n",
      "  br i1 %40, label %L19, label %L16\n",
      "\n",
      "L16:                                              ; preds = %top\n",
      "  %41 = call noalias nonnull %jl_value_t addrspace(10)* @jl_gc_pool_alloc(i8* %11, i32 1400, i32 16) #1\n",
      "  %42 = bitcast %jl_value_t addrspace(10)* %41 to %jl_value_t addrspace(10)* addrspace(10)*\n",
      "  %43 = getelementptr %jl_value_t addrspace(10)*, %jl_value_t addrspace(10)* addrspace(10)* %42, i64 -1\n",
      "  store %jl_value_t addrspace(10)* addrspacecast (%jl_value_t* inttoptr (i64 4623407488 to %jl_value_t*) to %jl_value_t addrspace(10)*), %jl_value_t addrspace(10)* addrspace(10)* %43\n",
      "  %44 = bitcast %jl_value_t addrspace(10)* %41 to %jl_value_t addrspace(10)* addrspace(10)*\n",
      "  store %jl_value_t addrspace(10)* addrspacecast (%jl_value_t* inttoptr (i64 4642077120 to %jl_value_t*) to %jl_value_t addrspace(10)*), %jl_value_t addrspace(10)* addrspace(10)* %44, align 8\n",
      "  %45 = addrspacecast %jl_value_t addrspace(10)* %41 to %jl_value_t addrspace(12)*\n",
      "  %46 = getelementptr %jl_value_t addrspace(10)*, %jl_value_t addrspace(10)** %gcframe, i32 2\n",
      "  store %jl_value_t addrspace(10)* %41, %jl_value_t addrspace(10)** %46\n",
      "  call void @jl_throw(%jl_value_t addrspace(12)* %45)\n",
      "  unreachable\n",
      "\n",
      "L19:                                              ; preds = %top\n",
      "  %47 = add i64 %39, -1\n",
      "  %48 = call i64 @llvm.ctlz.i64(i64 %47, i1 false)\n",
      "  %49 = sub nsw i64 64, %48\n",
      "  %50 = icmp ugt i64 %49, 63\n",
      "  %notmask = shl nsw i64 -1, %49\n",
      "  %.op = xor i64 %notmask, -1\n",
      "  %51 = select i1 %50, i64 -1, i64 %.op\n",
      "  %52 = getelementptr inbounds [4 x i64], [4 x i64]* %2, i64 0, i64 0\n",
      "  store i64 1, i64* %52, align 8\n",
      "  %53 = getelementptr inbounds [4 x i64], [4 x i64]* %2, i64 0, i64 1\n",
      "  store i64 %49, i64* %53, align 8\n",
      "  %54 = getelementptr inbounds [4 x i64], [4 x i64]* %2, i64 0, i64 2\n",
      "  store i64 %47, i64* %54, align 8\n",
      "  %55 = getelementptr inbounds [4 x i64], [4 x i64]* %2, i64 0, i64 3\n",
      "  store i64 %51, i64* %55, align 8\n",
      "  %56 = addrspacecast [4 x i64]* %2 to [4 x i64] addrspace(11)*\n",
      "  %57 = getelementptr %jl_value_t addrspace(10)*, %jl_value_t addrspace(10)** %gcframe, i32 2\n",
      "  store %jl_value_t addrspace(10)* %34, %jl_value_t addrspace(10)** %57\n",
      "  %58 = call i64 @julia_rand_526(%jl_value_t addrspace(10)* nonnull %34, [4 x i64] addrspace(11)* nocapture readonly %56)\n",
      "  %59 = add i64 %58, -1\n",
      "  %60 = bitcast %jl_value_t addrspace(11)* %35 to %jl_value_t addrspace(10)* addrspace(13)* addrspace(11)*\n",
      "  %61 = load %jl_value_t addrspace(10)* addrspace(13)*, %jl_value_t addrspace(10)* addrspace(13)* addrspace(11)* %60, align 8\n",
      "  %62 = getelementptr inbounds %jl_value_t addrspace(10)*, %jl_value_t addrspace(10)* addrspace(13)* %61, i64 %59\n",
      "  %63 = load %jl_value_t addrspace(10)*, %jl_value_t addrspace(10)* addrspace(13)* %62, align 8\n",
      "  %64 = icmp eq %jl_value_t addrspace(10)* %63, null\n",
      "  br i1 %64, label %fail, label %pass\n",
      "\n",
      "fail:                                             ; preds = %L19\n",
      "  call void @jl_throw(%jl_value_t addrspace(12)* addrspacecast (%jl_value_t* inttoptr (i64 4624323408 to %jl_value_t*) to %jl_value_t addrspace(12)*))\n",
      "  unreachable\n",
      "\n",
      "pass:                                             ; preds = %L19\n",
      "  %65 = getelementptr %jl_value_t addrspace(10)*, %jl_value_t addrspace(10)** %gcframe, i32 1\n",
      "  %66 = load %jl_value_t addrspace(10)*, %jl_value_t addrspace(10)** %65\n",
      "  %67 = getelementptr %jl_value_t**, %jl_value_t*** %3, i32 0\n",
      "  %68 = bitcast %jl_value_t*** %67 to %jl_value_t addrspace(10)**\n",
      "  store %jl_value_t addrspace(10)* %66, %jl_value_t addrspace(10)** %68\n",
      "  ret %jl_value_t addrspace(10)* %63\n",
      "}\n"
     ]
    }
   ],
   "source": [
    "@code_llvm debuginfo=:none f()"
   ]
  },
  {
   "cell_type": "code",
   "execution_count": 30,
   "metadata": {},
   "outputs": [
    {
     "name": "stdout",
     "output_type": "stream",
     "text": [
      "\n",
      "define double @julia_h_18856() {\n",
      "top:\n",
      "  ret double 0x3F50000000000000\n",
      "}\n"
     ]
    }
   ],
   "source": [
    "function h()\n",
    "  x=1.0\n",
    "  for i = 1:10\n",
    "    x = x/2\n",
    "  end\n",
    "  return x\n",
    "end\n",
    "@code_llvm debuginfo=:none h()"
   ]
  },
  {
   "cell_type": "code",
   "execution_count": 31,
   "metadata": {},
   "outputs": [
    {
     "name": "stdout",
     "output_type": "stream",
     "text": [
      "Variables\n",
      "  #self#\u001b[36m::Core.Compiler.Const(g, false)\u001b[39m\n",
      "  x\u001b[91m\u001b[1m::Union{Float64, Int64}\u001b[22m\u001b[39m\n",
      "  @_3\u001b[33m\u001b[1m::Union{Nothing, Tuple{Int64,Int64}}\u001b[22m\u001b[39m\n",
      "  i\u001b[36m::Int64\u001b[39m\n",
      "\n",
      "Body\u001b[36m::Float64\u001b[39m\n",
      "\u001b[90m1 ─\u001b[39m       (x = 1)\n",
      "\u001b[90m│  \u001b[39m %2  = (1:10)\u001b[36m::Core.Compiler.Const(1:10, false)\u001b[39m\n",
      "\u001b[90m│  \u001b[39m       (@_3 = Base.iterate(%2))\n",
      "\u001b[90m│  \u001b[39m %4  = (@_3::Core.Compiler.Const((1, 1), false) === nothing)\u001b[36m::Core.Compiler.Const(false, false)\u001b[39m\n",
      "\u001b[90m│  \u001b[39m %5  = Base.not_int(%4)\u001b[36m::Core.Compiler.Const(true, false)\u001b[39m\n",
      "\u001b[90m└──\u001b[39m       goto #4 if not %5\n",
      "\u001b[90m2 ┄\u001b[39m %7  = @_3::Tuple{Int64,Int64}\u001b[36m::Tuple{Int64,Int64}\u001b[39m\n",
      "\u001b[90m│  \u001b[39m       (i = Core.getfield(%7, 1))\n",
      "\u001b[90m│  \u001b[39m %9  = Core.getfield(%7, 2)\u001b[36m::Int64\u001b[39m\n",
      "\u001b[90m│  \u001b[39m       (x = x / 2)\n",
      "\u001b[90m│  \u001b[39m       (@_3 = Base.iterate(%2, %9))\n",
      "\u001b[90m│  \u001b[39m %12 = (@_3 === nothing)\u001b[36m::Bool\u001b[39m\n",
      "\u001b[90m│  \u001b[39m %13 = Base.not_int(%12)\u001b[36m::Bool\u001b[39m\n",
      "\u001b[90m└──\u001b[39m       goto #4 if not %13\n",
      "\u001b[90m3 ─\u001b[39m       goto #2\n",
      "\u001b[90m4 ┄\u001b[39m       return x::Float64\n"
     ]
    }
   ],
   "source": [
    "@code_warntype g()"
   ]
  },
  {
   "cell_type": "code",
   "execution_count": 32,
   "metadata": {},
   "outputs": [
    {
     "name": "stdout",
     "output_type": "stream",
     "text": [
      "Variables\n",
      "  #self#\u001b[36m::Core.Compiler.Const(h, false)\u001b[39m\n",
      "  x\u001b[36m::Float64\u001b[39m\n",
      "  @_3\u001b[33m\u001b[1m::Union{Nothing, Tuple{Int64,Int64}}\u001b[22m\u001b[39m\n",
      "  i\u001b[36m::Int64\u001b[39m\n",
      "\n",
      "Body\u001b[36m::Float64\u001b[39m\n",
      "\u001b[90m1 ─\u001b[39m       (x = 1.0)\n",
      "\u001b[90m│  \u001b[39m %2  = (1:10)\u001b[36m::Core.Compiler.Const(1:10, false)\u001b[39m\n",
      "\u001b[90m│  \u001b[39m       (@_3 = Base.iterate(%2))\n",
      "\u001b[90m│  \u001b[39m %4  = (@_3::Core.Compiler.Const((1, 1), false) === nothing)\u001b[36m::Core.Compiler.Const(false, false)\u001b[39m\n",
      "\u001b[90m│  \u001b[39m %5  = Base.not_int(%4)\u001b[36m::Core.Compiler.Const(true, false)\u001b[39m\n",
      "\u001b[90m└──\u001b[39m       goto #4 if not %5\n",
      "\u001b[90m2 ┄\u001b[39m %7  = @_3::Tuple{Int64,Int64}\u001b[36m::Tuple{Int64,Int64}\u001b[39m\n",
      "\u001b[90m│  \u001b[39m       (i = Core.getfield(%7, 1))\n",
      "\u001b[90m│  \u001b[39m %9  = Core.getfield(%7, 2)\u001b[36m::Int64\u001b[39m\n",
      "\u001b[90m│  \u001b[39m       (x = x / 2)\n",
      "\u001b[90m│  \u001b[39m       (@_3 = Base.iterate(%2, %9))\n",
      "\u001b[90m│  \u001b[39m %12 = (@_3 === nothing)\u001b[36m::Bool\u001b[39m\n",
      "\u001b[90m│  \u001b[39m %13 = Base.not_int(%12)\u001b[36m::Bool\u001b[39m\n",
      "\u001b[90m└──\u001b[39m       goto #4 if not %13\n",
      "\u001b[90m3 ─\u001b[39m       goto #2\n",
      "\u001b[90m4 ┄\u001b[39m       return x\n"
     ]
    }
   ],
   "source": [
    "@code_warntype h()"
   ]
  },
  {
   "cell_type": "code",
   "execution_count": 34,
   "metadata": {},
   "outputs": [
    {
     "ename": "InexactError",
     "evalue": "InexactError: Int64(0.5)",
     "output_type": "error",
     "traceback": [
      "InexactError: Int64(0.5)",
      "",
      "Stacktrace:",
      " [1] Int64 at ./float.jl:710 [inlined]",
      " [2] convert(::Type{Int64}, ::Float64) at ./number.jl:7",
      " [3] g2() at ./In[34]:4",
      " [4] top-level scope at In[34]:8"
     ]
    }
   ],
   "source": [
    "function g2()\n",
    "  x::Int64 = 1\n",
    "  for i = 1:10\n",
    "    x = x/2\n",
    "  end\n",
    "  return x\n",
    "end\n",
    "g2()"
   ]
  },
  {
   "cell_type": "code",
   "execution_count": 35,
   "metadata": {},
   "outputs": [
    {
     "data": {
      "text/plain": [
       "g3 (generic function with 1 method)"
      ]
     },
     "execution_count": 35,
     "metadata": {},
     "output_type": "execute_result"
    }
   ],
   "source": [
    "function g3()\n",
    "  x::Float64 = 1 # triggers an implicit conversion to Float64\n",
    "  for i = 1:10\n",
    "    x = x/2\n",
    "  end\n",
    "  return x\n",
    "end"
   ]
  },
  {
   "cell_type": "code",
   "execution_count": 36,
   "metadata": {},
   "outputs": [
    {
     "name": "stdout",
     "output_type": "stream",
     "text": [
      "\n",
      "define double @julia_g3_18996() {\n",
      "top:\n",
      "  ret double 0x3F50000000000000\n",
      "}\n"
     ]
    }
   ],
   "source": [
    "@code_llvm debuginfo=:none g3()"
   ]
  },
  {
   "cell_type": "code",
   "execution_count": 37,
   "metadata": {},
   "outputs": [],
   "source": [
    "using BenchmarkTools, LinearAlgebra\n",
    "\n",
    "M = rand(3,3);\n",
    "x = rand(3);"
   ]
  },
  {
   "cell_type": "code",
   "execution_count": 38,
   "metadata": {},
   "outputs": [
    {
     "name": "stdout",
     "output_type": "stream",
     "text": [
      "  56.292 ns (1 allocation: 112 bytes)\n"
     ]
    }
   ],
   "source": [
    "f(x,M) = dot(M[1:3,1], x)\n",
    "@btime f($x,$M);"
   ]
  },
  {
   "cell_type": "code",
   "execution_count": 39,
   "metadata": {},
   "outputs": [
    {
     "name": "stdout",
     "output_type": "stream",
     "text": [
      "  23.573 ns (1 allocation: 64 bytes)\n"
     ]
    }
   ],
   "source": [
    "g(x,M) = dot(view(M, 1:3,1), x)\n",
    "@btime g($x, $M);"
   ]
  },
  {
   "cell_type": "code",
   "execution_count": 40,
   "metadata": {},
   "outputs": [
    {
     "name": "stdout",
     "output_type": "stream",
     "text": [
      "  23.466 ns (1 allocation: 64 bytes)\n"
     ]
    }
   ],
   "source": [
    "g(x,M) = @views dot(M[1:3,1], x)\n",
    "@btime g($x, $M);"
   ]
  },
  {
   "cell_type": "markdown",
   "metadata": {},
   "source": [
    "views is fast!"
   ]
  },
  {
   "cell_type": "code",
   "execution_count": 50,
   "metadata": {},
   "outputs": [
    {
     "name": "stdout",
     "output_type": "stream",
     "text": [
      "  7.816 ms (200001 allocations: 21.36 MiB)\n"
     ]
    }
   ],
   "source": [
    "# Original, slow\n",
    "function f()\n",
    "  x = [1;5;6]\n",
    "  for i in 1:100000\n",
    "    x = x + 2*x\n",
    "  end\n",
    "  return x\n",
    "end\n",
    "\n",
    "@btime f();"
   ]
  },
  {
   "cell_type": "code",
   "execution_count": 53,
   "metadata": {},
   "outputs": [
    {
     "name": "stdout",
     "output_type": "stream",
     "text": [
      "  111.425 μs (1 allocation: 112 bytes)\n"
     ]
    }
   ],
   "source": [
    "# more explicitly\n",
    "function f()\n",
    "    x = [1;5;6]\n",
    "    for i in 1:100_000    \n",
    "        for k in 1:3\n",
    "            x[k] = x[k] + 2 * x[k]\n",
    "        end\n",
    "    end\n",
    "    return x\n",
    "end\n",
    "@btime f();"
   ]
  },
  {
   "cell_type": "code",
   "execution_count": 54,
   "metadata": {},
   "outputs": [
    {
     "name": "stdout",
     "output_type": "stream",
     "text": [
      "  3.514 ms (100001 allocations: 10.68 MiB)\n"
     ]
    }
   ],
   "source": [
    "# more dots\n",
    "function f()\n",
    "    x = [1;5;6]\n",
    "    for i in 1:100_000\n",
    "        x = x .+ 2 .* x\n",
    "    end\n",
    "    return x\n",
    "end\n",
    "@btime f();"
   ]
  },
  {
   "cell_type": "code",
   "execution_count": 55,
   "metadata": {},
   "outputs": [
    {
     "name": "stdout",
     "output_type": "stream",
     "text": [
      "  222.806 μs (1 allocation: 112 bytes)\n"
     ]
    }
   ],
   "source": [
    "# more dots 2\n",
    "function f()\n",
    "    x = [1;5;6]\n",
    "    for i in 1:100_000\n",
    "        @. x = x + 2*x\n",
    "    end\n",
    "    return x\n",
    "end\n",
    "@btime f();"
   ]
  },
  {
   "cell_type": "code",
   "execution_count": 60,
   "metadata": {},
   "outputs": [
    {
     "name": "stdout",
     "output_type": "stream",
     "text": [
      "  83.582 μs (1 allocation: 112 bytes)\n"
     ]
    }
   ],
   "source": [
    "# @inbounds: 配列の境界チェック(要素数がはみ出ないか)を省略\n",
    "# @simd: ベクトル計算\n",
    "function f()\n",
    "    x = [1;5;6]\n",
    "    @inbounds for i in 1:100_000    \n",
    "        @simd for k in 1:3\n",
    "            x[k] = x[k] + 2*x[k]\n",
    "        end\n",
    "    end\n",
    "    return x\n",
    "end\n",
    "@btime f();"
   ]
  },
  {
   "cell_type": "code",
   "execution_count": null,
   "metadata": {},
   "outputs": [],
   "source": []
  },
  {
   "cell_type": "code",
   "execution_count": 61,
   "metadata": {},
   "outputs": [
    {
     "data": {
      "text/plain": [
       "f (generic function with 3 methods)"
      ]
     },
     "execution_count": 61,
     "metadata": {},
     "output_type": "execute_result"
    }
   ],
   "source": [
    "struct MyType\n",
    "    x::AbstractFloat\n",
    "    y::AbstractString\n",
    "end\n",
    "\n",
    "f(a::MyType) = a.x^2 + sqrt(a.x)"
   ]
  },
  {
   "cell_type": "code",
   "execution_count": 62,
   "metadata": {},
   "outputs": [
    {
     "name": "stdout",
     "output_type": "stream",
     "text": [
      "  86.705 ns (3 allocations: 48 bytes)\n"
     ]
    }
   ],
   "source": [
    "a = MyType(3.0, \"test\")\n",
    "\n",
    "@btime f($a);"
   ]
  },
  {
   "cell_type": "code",
   "execution_count": 63,
   "metadata": {},
   "outputs": [
    {
     "data": {
      "text/plain": [
       "f (generic function with 4 methods)"
      ]
     },
     "execution_count": 63,
     "metadata": {},
     "output_type": "execute_result"
    }
   ],
   "source": [
    "struct MyTypeConcrete\n",
    "    x::Float64 # make variable concrete\n",
    "    y::String\n",
    "end\n",
    "\n",
    "f(b::MyTypeConcrete) = b.x^2 + sqrt(b.x)"
   ]
  },
  {
   "cell_type": "code",
   "execution_count": 64,
   "metadata": {},
   "outputs": [
    {
     "name": "stdout",
     "output_type": "stream",
     "text": [
      "  1.697 ns (0 allocations: 0 bytes)\n"
     ]
    }
   ],
   "source": [
    "b = MyTypeConcrete(3.0, \"test\")\n",
    "\n",
    "@btime f($b);"
   ]
  },
  {
   "cell_type": "code",
   "execution_count": 65,
   "metadata": {},
   "outputs": [
    {
     "data": {
      "text/plain": [
       "f (generic function with 5 methods)"
      ]
     },
     "execution_count": 65,
     "metadata": {},
     "output_type": "execute_result"
    }
   ],
   "source": [
    "struct MyTypeParametric{A<:AbstractFloat, B<:AbstractString} # use type parameters, it's OK\n",
    "    x::A\n",
    "    y::B\n",
    "end\n",
    "\n",
    "f(c::MyTypeParametric) = c.x^2 + sqrt(c.x)"
   ]
  },
  {
   "cell_type": "code",
   "execution_count": 67,
   "metadata": {},
   "outputs": [
    {
     "name": "stdout",
     "output_type": "stream",
     "text": [
      "  1.696 ns (0 allocations: 0 bytes)\n"
     ]
    }
   ],
   "source": [
    "c = MyTypeParametric(3.0, \"test\")\n",
    "@btime f($c);"
   ]
  },
  {
   "cell_type": "code",
   "execution_count": null,
   "metadata": {},
   "outputs": [],
   "source": []
  },
  {
   "cell_type": "code",
   "execution_count": 69,
   "metadata": {},
   "outputs": [],
   "source": [
    "# Try this in the Julia REPL\n",
    "a = 0\n",
    "for i in 1:10\n",
    "    a += i\n",
    "end"
   ]
  },
  {
   "cell_type": "code",
   "execution_count": 72,
   "metadata": {},
   "outputs": [
    {
     "name": "stdout",
     "output_type": "stream",
     "text": [
      "  562.743 μs (0 allocations: 0 bytes)\n",
      "  1.715 ms (0 allocations: 0 bytes)\n"
     ]
    }
   ],
   "source": [
    "M = rand(1000,1000);\n",
    "\n",
    "function fcol(M)\n",
    "    for col in 1:size(M, 2)\n",
    "        for row in 1:size(M, 1)\n",
    "            M[row, col] = 42\n",
    "        end\n",
    "    end\n",
    "    nothing\n",
    "end\n",
    "\n",
    "function frow(M)\n",
    "    for row in 1:size(M, 1)\n",
    "        for col in 1:size(M, 2)\n",
    "            M[row, col] = 42\n",
    "        end\n",
    "    end\n",
    "    nothing\n",
    "end\n",
    "\n",
    "@btime fcol($M)\n",
    "@btime frow($M)"
   ]
  },
  {
   "cell_type": "markdown",
   "metadata": {},
   "source": [
    "Take home message: fastest varying index goes first!"
   ]
  },
  {
   "cell_type": "code",
   "execution_count": null,
   "metadata": {},
   "outputs": [],
   "source": []
  },
  {
   "cell_type": "code",
   "execution_count": 73,
   "metadata": {},
   "outputs": [
    {
     "data": {
      "text/plain": [
       "2×2 Array{Int64,2}:\n",
       " 4   5\n",
       " 5  10"
      ]
     },
     "execution_count": 73,
     "metadata": {},
     "output_type": "execute_result"
    }
   ],
   "source": [
    "M = [1 2; 3 4]\n",
    "M + (M' + 2*I)"
   ]
  },
  {
   "cell_type": "code",
   "execution_count": 74,
   "metadata": {},
   "outputs": [
    {
     "data": {
      "text/plain": [
       "false"
      ]
     },
     "execution_count": 74,
     "metadata": {},
     "output_type": "execute_result"
    }
   ],
   "source": [
    "function calc(M)\n",
    "    X = M'\n",
    "    X[1,1] += 2\n",
    "    X[2,2] += 2\n",
    "    M + X\n",
    "end\n",
    "\n",
    "calc([1 2; 3 4]) == M + (M' + 2*I)"
   ]
  },
  {
   "cell_type": "code",
   "execution_count": 75,
   "metadata": {},
   "outputs": [
    {
     "data": {
      "text/plain": [
       "true"
      ]
     },
     "execution_count": 75,
     "metadata": {},
     "output_type": "execute_result"
    }
   ],
   "source": [
    "function calc_corrected(M)\n",
    "    X = copy(M')\n",
    "    X[diagind(X)] .+= 2\n",
    "    M + X\n",
    "end\n",
    "\n",
    "calc_corrected([1 2; 3 4]) == M + (M' + 2*I)"
   ]
  },
  {
   "cell_type": "code",
   "execution_count": 77,
   "metadata": {},
   "outputs": [
    {
     "name": "stdout",
     "output_type": "stream",
     "text": [
      "  63.427 ns (2 allocations: 128 bytes)\n",
      "  207.859 ns (5 allocations: 400 bytes)\n",
      "  113.625 ns (3 allocations: 240 bytes)\n"
     ]
    }
   ],
   "source": [
    "function calc_straightforward(A)\n",
    "    A + (A' + 2*I)\n",
    "end\n",
    "\n",
    "@btime calc($[1 2; 3 4]);\n",
    "@btime calc_corrected($[1 2; 3 4]);\n",
    "@btime calc_straightforward($[1 2; 3 4]); # straitforward is fast!"
   ]
  },
  {
   "cell_type": "code",
   "execution_count": 82,
   "metadata": {},
   "outputs": [
    {
     "name": "stdout",
     "output_type": "stream",
     "text": [
      "  47.254 ns (1 allocation: 160 bytes)\n",
      "  1.420 ns (0 allocations: 0 bytes)\n"
     ]
    }
   ],
   "source": [
    "@btime sum([k for k in 1:10]);\n",
    "@btime sum(k for k in 1:10); # fast!"
   ]
  },
  {
   "cell_type": "code",
   "execution_count": null,
   "metadata": {},
   "outputs": [],
   "source": []
  }
 ],
 "metadata": {
  "kernelspec": {
   "display_name": "Julia 1.4.0",
   "language": "julia",
   "name": "julia-1.4"
  },
  "language_info": {
   "file_extension": ".jl",
   "mimetype": "application/julia",
   "name": "julia",
   "version": "1.4.0"
  }
 },
 "nbformat": 4,
 "nbformat_minor": 2
}
