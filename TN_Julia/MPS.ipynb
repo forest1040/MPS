{
 "cells": [
  {
   "cell_type": "code",
   "execution_count": 1,
   "metadata": {},
   "outputs": [],
   "source": [
    "using LinearAlgebra\n",
    "\n",
    "include(\"./MPS.jl\")\n",
    "using .MPSforQuantum"
   ]
  },
  {
   "cell_type": "markdown",
   "metadata": {},
   "source": [
    "# MPS"
   ]
  },
  {
   "cell_type": "markdown",
   "metadata": {},
   "source": [
    "### Left normalized"
   ]
  },
  {
   "cell_type": "code",
   "execution_count": 6,
   "metadata": {},
   "outputs": [
    {
     "name": "stdout",
     "output_type": "stream",
     "text": [
      "array 1's size: (1, 1)\n",
      "array 2's size: (1, 1)\n",
      "array 3's size: (1, 1)\n",
      "array 4's size: (1, 1)\n",
      "array 5's size: (1, 1)\n",
      "array 6's size: (1, 1)\n",
      "array 7's size: (1, 1)\n",
      "array 8's size: (1, 1)\n",
      "array 9's size: (1, 1)\n",
      "array 10's size: (1, 1)\n",
      "array 11's size: (1, 1)\n",
      "array 12's size: (1, 1)\n",
      "array 13's size: (1, 1)\n",
      "array 14's size: (1, 1)\n",
      "array 15's size: (1, 1)\n",
      "array 16's size: (1, 1)\n",
      "array 17's size: (1, 1)\n",
      "array 18's size: (1, 1)\n",
      "array 19's size: (1, 1)\n",
      "array 20's size: (1, 1)\n",
      "Num of parameters: 40\n",
      "2^N: 1048576\n",
      "Restore from MPS: 1.0 + 0.0im\n",
      "Original state: 1.0 + 0.0im\n"
     ]
    }
   ],
   "source": [
    "N = 20\n",
    "#C0 = normalize!(rand(ComplexF64, 2^N))\n",
    "C0 = zeros(ComplexF64, 2^N)\n",
    "C0[1] = 1 # '000'\n",
    "\n",
    "#D = 10\n",
    "eps = 1e-3\n",
    "mps = MPS(C0, eps) # convert to MPS\n",
    "mps_size(mps) # print the size of MPS\n",
    "\n",
    "n = 0 # check the state |bin(n)>\n",
    "println(\"Restore from MPS: \", restore(mps, n))\n",
    "println(\"Original state: \", C0[n + 1])"
   ]
  },
  {
   "cell_type": "markdown",
   "metadata": {},
   "source": [
    "### Inner product between same states is Identity matrix"
   ]
  },
  {
   "cell_type": "code",
   "execution_count": 3,
   "metadata": {},
   "outputs": [
    {
     "data": {
      "text/plain": [
       "8-element Array{Complex{Float64},1}:\n",
       " 0.9999999999999998 + 0.0im\n",
       " 0.9999999999999996 + 0.0im\n",
       " 0.9999999999999998 + 0.0im\n",
       " 0.9999999999999999 + 0.0im\n",
       " 0.9999999999999993 + 0.0im\n",
       " 0.9999999999999998 + 0.0im\n",
       " 0.9999999999999991 + 0.0im\n",
       " 0.9999999999999991 + 0.0im"
      ]
     },
     "execution_count": 3,
     "metadata": {},
     "output_type": "execute_result"
    }
   ],
   "source": [
    "I_ = mps[3][1]' * mps[3][1] + mps[3][2]' * mps[3][2]\n",
    "diag(I_)"
   ]
  },
  {
   "cell_type": "markdown",
   "metadata": {},
   "source": [
    "## 簡単な例"
   ]
  },
  {
   "cell_type": "code",
   "execution_count": 4,
   "metadata": {},
   "outputs": [
    {
     "name": "stdout",
     "output_type": "stream",
     "text": [
      "[1.0000000000000007 3.0 5.000000000000002 7.000000000000001]\n",
      "[2.000000000000006 4.0000000000000036 6.000000000000005 8.000000000000007]\n"
     ]
    }
   ],
   "source": [
    "tmp = svd(reshape([1, 2, 3, 4, 5, 6, 7, 8], 2, 4))\n",
    "A1 = tmp.U\n",
    "C1 = diagm(tmp.S) * tmp.Vt\n",
    "println(transpose(tmp.U[1, :]) * diagm(tmp.S) * tmp.Vt)\n",
    "println(transpose(tmp.U[2, :]) * diagm(tmp.S) * tmp.Vt)"
   ]
  },
  {
   "cell_type": "code",
   "execution_count": 5,
   "metadata": {},
   "outputs": [
    {
     "data": {
      "text/plain": [
       "2×2 Array{Float64,2}:\n",
       "  5.3519   13.1824\n",
       " -1.16498   0.472968"
      ]
     },
     "execution_count": 5,
     "metadata": {},
     "output_type": "execute_result"
    }
   ],
   "source": [
    "tmp = svd(reshape(C1, 4, 2))\n",
    "A2 = tmp.U\n",
    "A3 = diagm(tmp.S) * tmp.Vt"
   ]
  },
  {
   "cell_type": "code",
   "execution_count": 6,
   "metadata": {},
   "outputs": [
    {
     "name": "stdout",
     "output_type": "stream",
     "text": [
      "[-0.6414230279950722 -0.7671873950721774; -0.7671873950721774 0.6414230279950723]\n",
      "[-0.5661645853690824 -0.7332805685413178; 0.014454499999906334 -0.3762291024141132; -0.8241208487575695 0.49992875081918764; -0.00857649967705636 -0.2661249976998753]\n",
      "[5.351898726900281 13.182423969136662; -1.1649806938328169 0.4729675442683846]\n"
     ]
    }
   ],
   "source": [
    "println(A1)\n",
    "println(A2)\n",
    "println(A3)"
   ]
  },
  {
   "cell_type": "code",
   "execution_count": 7,
   "metadata": {},
   "outputs": [
    {
     "data": {
      "text/plain": [
       "1.0000000000000002"
      ]
     },
     "execution_count": 7,
     "metadata": {},
     "output_type": "execute_result"
    }
   ],
   "source": [
    "transpose(A1[1, :]) * A2[1:2, :] * transpose(A3)[1, :] # '000'"
   ]
  },
  {
   "cell_type": "markdown",
   "metadata": {},
   "source": [
    "# MPO"
   ]
  },
  {
   "cell_type": "markdown",
   "metadata": {},
   "source": [
    "### $Z_1 Z_2 + Z_2 Z_3$"
   ]
  },
  {
   "cell_type": "code",
   "execution_count": 8,
   "metadata": {},
   "outputs": [
    {
     "data": {
      "text/plain": [
       "ddstack (generic function with 1 method)"
      ]
     },
     "execution_count": 8,
     "metadata": {},
     "output_type": "execute_result"
    }
   ],
   "source": [
    "function dstack(A::Array{ComplexF64,2}, B::Array{ComplexF64,2})\n",
    "    return cat(A, B, dims = 3)\n",
    "end\n",
    "\n",
    "function ddstack(A::Array{ComplexF64,2}, B::Array{ComplexF64,2}, \n",
    "                C::Array{ComplexF64,2}, D::Array{ComplexF64,2})\n",
    "    AC = cat(A, C, dims = 3)\n",
    "    BD = cat(B, D, dims = 3)\n",
    "    return cat(AC, BD, dims = 4)\n",
    "end"
   ]
  },
  {
   "cell_type": "code",
   "execution_count": 300,
   "metadata": {},
   "outputs": [
    {
     "data": {
      "text/plain": [
       "2×2 Array{Complex{Float64},2}:\n",
       " 1.0+0.0im  0.0+0.0im\n",
       " 0.0+0.0im  1.0+0.0im"
      ]
     },
     "execution_count": 300,
     "metadata": {},
     "output_type": "execute_result"
    }
   ],
   "source": [
    "pauliZ = convert(Array{ComplexF64,2}, [1 0; 0 -1])\n",
    "pauliI = convert(Array{ComplexF64,2}, [1 0; 0 1])\n",
    "zero = convert(Array{ComplexF64,2}, [0 0; 0 0])\n",
    "\n",
    "O = []\n",
    "push!(O, dstack(pauliZ, pauliI))\n",
    "push!(O, ddstack(pauliZ, zero, zero, pauliZ))\n",
    "push!(O, dstack(pauliI, pauliZ))\n",
    "#O = [[pauliZ pauliI] [pauliZ zero;pauliZ zero] [pauliI pauliZ]]\n",
    "\n",
    "O[1][:, :, 2] # [site], [phys1, phys2, i, j]"
   ]
  },
  {
   "cell_type": "markdown",
   "metadata": {},
   "source": [
    "# General inner products"
   ]
  },
  {
   "cell_type": "code",
   "execution_count": 14,
   "metadata": {},
   "outputs": [
    {
     "data": {
      "text/plain": [
       "2×2 Array{Complex{Float64},2}:\n",
       " 0.0+0.0im  1.0+0.0im\n",
       " 1.0+0.0im  0.0+0.0im"
      ]
     },
     "execution_count": 14,
     "metadata": {},
     "output_type": "execute_result"
    }
   ],
   "source": [
    "Hadamard = convert(Array{ComplexF64,2}, [1 1; 1 -1] ./ sqrt(2))\n",
    "pauliX = convert(Array{ComplexF64,2}, [0 1; 1 0])"
   ]
  },
  {
   "cell_type": "code",
   "execution_count": 323,
   "metadata": {},
   "outputs": [
    {
     "name": "stdout",
     "output_type": "stream",
     "text": [
      "array 1's size: (1, 1)(1, 1)\n",
      "array 2's size: (1, 1)(1, 1)\n",
      "array 3's size: (1, 1)(1, 1)\n",
      "Num of parameters: 3\n",
      "2^N: 8\n",
      "array 1's size: (1, 1)(1, 1)\n",
      "array 2's size: (1, 1)(1, 1)\n",
      "array 3's size: (1, 1)(1, 1)\n",
      "Num of parameters: 3\n",
      "2^N: 8\n"
     ]
    },
    {
     "data": {
      "text/plain": [
       "3-element Array{Any,1}:\n",
       " Array{Complex{Float64},2}[[0.7071067811865475 + 0.0im], [0.7071067811865475 + 0.0im]]\n",
       " Array{Complex{Float64},2}[[0.7071067811865475 + 0.0im], [0.7071067811865475 + 0.0im]]\n",
       " Array{Complex{Float64},2}[[0.7071067811865475 + 0.0im], [0.7071067811865475 + 0.0im]]"
      ]
     },
     "execution_count": 323,
     "metadata": {},
     "output_type": "execute_result"
    }
   ],
   "source": [
    "N = 3\n",
    "C0 = zeros(ComplexF64, 2^N)\n",
    "C0[1] = 1 # '000'\n",
    "# C0[8] = 1 # '111'\n",
    "\n",
    "D = 10\n",
    "eps = 1e-3\n",
    "mps1 = MPS(C0, eps)\n",
    "mps1 = OneQubitGate(mps1, Hadamard, 0)\n",
    "mps1 = OneQubitGate(mps1, Hadamard, 1)\n",
    "mps1 = OneQubitGate(mps1, Hadamard, 2)\n",
    "\n",
    "mps2 = MPS(C0, eps)\n",
    "mps2 = OneQubitGate(mps2, pauliX, 0)\n",
    "mps1"
   ]
  },
  {
   "cell_type": "code",
   "execution_count": 10,
   "metadata": {},
   "outputs": [
    {
     "data": {
      "text/plain": [
       "inner_product (generic function with 1 method)"
      ]
     },
     "execution_count": 10,
     "metadata": {},
     "output_type": "execute_result"
    }
   ],
   "source": [
    "function inner_product(arrs1::Array{Any, 1}, arrs2::Array{Any, 1})\n",
    "    N = Int64(size(arrs1)[1])\n",
    "    ip = arrs1[1][1]' * arrs2[1][1] + arrs1[1][2]' * arrs2[1][2]\n",
    "    for i = 2:N\n",
    "        phys0 = arrs1[i][1]' * ip * arrs2[i][1]\n",
    "        phys1 = arrs1[i][2]' * ip * arrs2[i][2]\n",
    "        ip = phys0 + phys1\n",
    "    end\n",
    "    return ip\n",
    "end"
   ]
  },
  {
   "cell_type": "code",
   "execution_count": 43,
   "metadata": {},
   "outputs": [
    {
     "data": {
      "text/plain": [
       "1×1 Array{Complex{Float64},2}:\n",
       " 0.3535533905932737 + 0.0im"
      ]
     },
     "execution_count": 43,
     "metadata": {},
     "output_type": "execute_result"
    }
   ],
   "source": [
    "inner_product(mps1, mps2)"
   ]
  },
  {
   "cell_type": "markdown",
   "metadata": {},
   "source": [
    "# CNOT"
   ]
  },
  {
   "cell_type": "markdown",
   "metadata": {},
   "source": [
    "### Bell state"
   ]
  },
  {
   "cell_type": "code",
   "execution_count": 29,
   "metadata": {},
   "outputs": [
    {
     "data": {
      "text/plain": [
       "20-element Array{Any,1}:\n",
       " Array{Complex{Float64},2}[[1.0 + 0.0im 0.0 + 0.0im], [0.0 + 0.0im 1.0 + 0.0im]]\n",
       " Array{Complex{Float64},2}[[0.7071067811865475 + 0.0im; 0.0 + 0.0im], [0.0 + 0.0im; 0.7071067811865475 + 0.0im]]\n",
       " Array{Complex{Float64},2}[[1.0 + 0.0im], [0.0 + 0.0im]]\n",
       " Array{Complex{Float64},2}[[1.0 + 0.0im], [0.0 + 0.0im]]\n",
       " Array{Complex{Float64},2}[[1.0 + 0.0im], [0.0 + 0.0im]]\n",
       " Array{Complex{Float64},2}[[1.0 + 0.0im], [0.0 + 0.0im]]\n",
       " Array{Complex{Float64},2}[[1.0 + 0.0im], [0.0 + 0.0im]]\n",
       " Array{Complex{Float64},2}[[1.0 + 0.0im], [0.0 + 0.0im]]\n",
       " Array{Complex{Float64},2}[[1.0 + 0.0im], [0.0 + 0.0im]]\n",
       " Array{Complex{Float64},2}[[1.0 + 0.0im], [0.0 + 0.0im]]\n",
       " Array{Complex{Float64},2}[[1.0 + 0.0im], [0.0 + 0.0im]]\n",
       " Array{Complex{Float64},2}[[1.0 + 0.0im], [0.0 + 0.0im]]\n",
       " Array{Complex{Float64},2}[[1.0 + 0.0im], [0.0 + 0.0im]]\n",
       " Array{Complex{Float64},2}[[1.0 + 0.0im], [0.0 + 0.0im]]\n",
       " Array{Complex{Float64},2}[[1.0 + 0.0im], [0.0 + 0.0im]]\n",
       " Array{Complex{Float64},2}[[1.0 + 0.0im], [0.0 + 0.0im]]\n",
       " Array{Complex{Float64},2}[[1.0 + 0.0im], [0.0 + 0.0im]]\n",
       " Array{Complex{Float64},2}[[1.0 + 0.0im], [0.0 + 0.0im]]\n",
       " Array{Complex{Float64},2}[[1.0 + 0.0im], [0.0 + 0.0im]]\n",
       " Array{Complex{Float64},2}[[1.0 + 0.0im], [0.0 + 0.0im]]"
      ]
     },
     "execution_count": 29,
     "metadata": {},
     "output_type": "execute_result"
    }
   ],
   "source": [
    "mps1"
   ]
  },
  {
   "cell_type": "code",
   "execution_count": 35,
   "metadata": {},
   "outputs": [
    {
     "name": "stdout",
     "output_type": "stream",
     "text": [
      "Initial MPS\n",
      "array 1's size: (1, 1)\n",
      "array 2's size: (1, 1)\n",
      "array 3's size: (1, 1)\n",
      "array 4's size: (1, 1)\n",
      "array 5's size: (1, 1)\n",
      "array 6's size: (1, 1)\n",
      "array 7's size: (1, 1)\n",
      "array 8's size: (1, 1)\n",
      "array 9's size: (1, 1)\n",
      "array 10's size: (1, 1)\n",
      "array 11's size: (1, 1)\n",
      "array 12's size: (1, 1)\n",
      "array 13's size: (1, 1)\n",
      "array 14's size: (1, 1)\n",
      "array 15's size: (1, 1)\n",
      "array 16's size: (1, 1)\n",
      "array 17's size: (1, 1)\n",
      "array 18's size: (1, 1)\n",
      "array 19's size: (1, 1)\n",
      "array 20's size: (1, 1)\n",
      "Num of parameters: 40\n",
      "2^N: 1048576\n",
      "\n",
      "Bell state MPS\n",
      "array 1's size: (1, 2)\n",
      "array 2's size: (2, 1)\n",
      "array 3's size: (1, 1)\n",
      "array 4's size: (1, 1)\n",
      "array 5's size: (1, 1)\n",
      "array 6's size: (1, 1)\n",
      "array 7's size: (1, 1)\n",
      "array 8's size: (1, 1)\n",
      "array 9's size: (1, 1)\n",
      "array 10's size: (1, 1)\n",
      "array 11's size: (1, 1)\n",
      "array 12's size: (1, 1)\n",
      "array 13's size: (1, 1)\n",
      "array 14's size: (1, 1)\n",
      "array 15's size: (1, 1)\n",
      "array 16's size: (1, 1)\n",
      "array 17's size: (1, 1)\n",
      "array 18's size: (1, 1)\n",
      "array 19's size: (1, 1)\n",
      "array 20's size: (1, 1)\n",
      "Num of parameters: 44\n",
      "2^N: 1048576\n",
      "\n",
      "|00>: 0.7071067811865475 + 0.0im\n",
      "|01>: 0.0 + 0.0im\n",
      "|10>: 0.0 + 0.0im\n",
      "|11>: 0.7071067811865475 + 0.0im\n"
     ]
    }
   ],
   "source": [
    "Hadamard = convert(Array{ComplexF64,2}, [1 1; 1 -1] ./ sqrt(2))\n",
    "\n",
    "N = 20\n",
    "C0 = zeros(ComplexF64, 2^N)\n",
    "C0[1] = 1 # '000'\n",
    "\n",
    "D = 10\n",
    "eps = 1e-3\n",
    "\n",
    "mps1 = MPS(C0, eps)\n",
    "println(\"Initial MPS\")\n",
    "mps1 = OneQubitGate(mps1, Hadamard, 0) # -> '001' & '000'\n",
    "mps_size(mps1)\n",
    "\n",
    "arr = CX(mps1, 0, eps)\n",
    "println(\"\\nBell state MPS\")\n",
    "mps_size(arr)\n",
    "println()\n",
    "for i=0:3\n",
    "    res = restore(arr, i)\n",
    "    println(\"|\", bitstring(i)[end - 1:end], \">: \",  res)\n",
    "end"
   ]
  },
  {
   "cell_type": "code",
   "execution_count": 21,
   "metadata": {},
   "outputs": [
    {
     "name": "stdout",
     "output_type": "stream",
     "text": [
      "array 1's size: (1, 2)\n",
      "array 2's size: (2, 1)\n",
      "Num of parameters: 8\n",
      "2^N: 4\n",
      "|00>: 0.7071067811865475 + 0.0im\n",
      "|01>: 0.0 + 0.0im\n",
      "|10>: 0.0 + 0.0im\n",
      "|11>: 0.7071067811865475 + 0.0im\n"
     ]
    }
   ],
   "source": [
    "N = 2\n",
    "C0 = zeros(ComplexF64, 2^N)\n",
    "C0[1] = 0.7071067811865475\n",
    "C0[4] = 0.7071067811865475\n",
    "\n",
    "eps = 1e-3\n",
    "\n",
    "mps1 = MPS(C0, eps)\n",
    "mps_size(mps1)\n",
    "for i=0:3\n",
    "    res = restore(mps1, i)\n",
    "    println(\"|\", bitstring(i)[end - 1:end], \">: \",  res)\n",
    "end"
   ]
  },
  {
   "cell_type": "markdown",
   "metadata": {},
   "source": [
    "# Expectation value"
   ]
  },
  {
   "cell_type": "code",
   "execution_count": 298,
   "metadata": {},
   "outputs": [
    {
     "name": "stdout",
     "output_type": "stream",
     "text": [
      "array 1's size: (1, 1)(1, 1)\n",
      "array 2's size: (1, 1)(1, 1)\n",
      "array 3's size: (1, 1)(1, 1)\n",
      "Num of parameters: 3\n",
      "2^N: 8\n",
      "000: Complex{Float64}[0.4999999999999999 + 0.0im]\n",
      "001: Complex{Float64}[0.0 + 0.0im]\n",
      "010: Complex{Float64}[0.0 + 0.0im]\n",
      "011: Complex{Float64}[0.4999999999999999 + 0.0im]\n",
      "100: Complex{Float64}[0.4999999999999999 + 0.0im]\n",
      "101: Complex{Float64}[0.0 + 0.0im]\n",
      "110: Complex{Float64}[0.0 + 0.0im]\n",
      "111: Complex{Float64}[0.4999999999999999 + 0.0im]\n"
     ]
    }
   ],
   "source": [
    "# prepare bell state\n",
    "N = 3\n",
    "C0 = zeros(ComplexF64, 2^N)\n",
    "C0[1] = 1 # '000'\n",
    "\n",
    "D = 10\n",
    "eps = 1e-3\n",
    "\n",
    "mps0 = MPS(C0, eps)\n",
    "mps = OneQubitGate(mps0, Hadamard, 0) # -> '001' & '000'\n",
    "#mps = OneQubitGate(mps, Hadamard, 1)\n",
    "mps = OneQubitGate(mps, Hadamard, 2)\n",
    "\n",
    "mps = CX(mps, 0, eps)\n",
    "\n",
    "for i=1:2, j=1:2, k=1:2\n",
    "    println(\"$(i-1)$(j-1)$(k-1): \", mps[1][k] * mps[2][j] * mps[3][i]) # 後ろが最上位bit\n",
    "end"
   ]
  },
  {
   "cell_type": "code",
   "execution_count": 299,
   "metadata": {},
   "outputs": [
    {
     "name": "stdout",
     "output_type": "stream",
     "text": [
      "Complex{Float64}[1.0 + 0.0im 1.0 + 0.0im; 0.0 + 0.0im 0.0 + 0.0im]\n",
      "\n",
      "Complex{Float64}[0.0 + 0.0im 0.0 + 0.0im; -1.0 + 0.0im 1.0 + 0.0im]\n",
      "Complex{Float64}[0.9999999999999998 + 0.0im 0.0 + 0.0im]\n",
      "Complex{Float64}[0.9999999999999997 + 0.0im]\n"
     ]
    }
   ],
   "source": [
    "# First step\n",
    "aa0 = size(mps[1][1])[2]\n",
    "ss = 2\n",
    "bb0 = size(O[1][1, 1, :])[1]\n",
    "arr0_0 = zeros(ComplexF64, ss, bb0, aa0)\n",
    "for sigma1=1:ss, a2=1:aa0, b = 1:bb0\n",
    "    for sigma2=1:ss\n",
    "        arr0_0[sigma1, b, a2] += O[1][sigma1, sigma2, b] * mps[1][sigma2][1, a2]\n",
    "    end\n",
    "end\n",
    "arr0_1 = zeros(ComplexF64, aa0, bb0, aa0)\n",
    "for a1=1:aa0, a2=1:aa0, b = 1:bb0\n",
    "    for sigma1=1:ss\n",
    "        arr0_1[a1, b, a2] += mps[1][sigma1]'[a1, 1] * arr0_0[sigma1, b, a2]\n",
    "    end\n",
    "end\n",
    "println(arr0_1)\n",
    "\n",
    "# Sencond step\n",
    "aa1 = size(mps[2][1])[2]\n",
    "ss = 2\n",
    "bb1_0, bb1_1 = size(O[2][1, 1, :, :])\n",
    "arr1_0 = zeros(ComplexF64, ss, aa0, bb1_0, aa1)\n",
    "for sigma2 = 1:ss, a0_1 = 1:aa0, b1 = 1:bb1_0, a1_0=1:aa1\n",
    "    for a0_0 = 1:aa0\n",
    "        arr1_0[sigma2, a0_1, b1, a1_0] += arr0_1[a0_1, b1, a0_0] * mps[2][sigma2][a0_0, a1_0]\n",
    "    end\n",
    "end\n",
    "\n",
    "arr1_1 = zeros(ComplexF64, ss, bb1_1, aa0, aa1)\n",
    "for sigma1 = 1:ss, b2 = 1:bb1_1, a0_1 = 1:aa0, a1_0=1:aa1\n",
    "    for sigma2=1:ss, b1 = 1:bb1_0\n",
    "        arr1_1[sigma1, b2, a0_1, a1_0] += O[2][sigma1, sigma2, b1, b2] * arr1_0[sigma2, a0_1, b1, a1_0]\n",
    "    end\n",
    "end\n",
    "\n",
    "arr1_2 = zeros(ComplexF64, aa1, bb1_1, aa1)\n",
    "for a1_1=1:aa1, b2 = 1:bb1_1, a1_0=1:aa1\n",
    "    for sigma1 = 1:ss, a0_1 = 1:aa0\n",
    "        arr1_2[a1_1, b2, a1_0] += mps[2][sigma1]'[a1_1, a0_1] * arr1_1[sigma1, b2, a0_1, a1_0]\n",
    "    end\n",
    "end\n",
    "println(arr1_2)\n",
    "    \n",
    "\n",
    "# Third step\n",
    "aa2 = size(mps[3][1])[2]\n",
    "ss = 2\n",
    "bb2_0 = size(O[3][1, 1, :])\n",
    "arr2_0 = zeros(ComplexF64, ss, aa1, bb1_1, aa2)\n",
    "for sigma2 = 1:ss, a1_1=1:aa1, b2 = 1:bb1_1, a2_0 = 1:aa2\n",
    "    for a1_0=1:aa1\n",
    "        arr2_0[sigma2, a1_1, b2, a2_0] += arr1_2[a1_1, b2, a1_0] * mps[3][sigma2][a1_0, a2_0]\n",
    "    end\n",
    "end\n",
    "\n",
    "arr2_1 = zeros(ComplexF64, ss, aa1, aa2)\n",
    "for sigma1 = 1:ss, a1_1=1:aa1, a2_0 = 1:aa2\n",
    "    for sigma2 = 1:ss, b2 = 1:bb1_1\n",
    "        arr2_1[sigma1, a1_1, a2_0] += O[3][sigma1, sigma2, b2] * arr2_0[sigma2, a1_1, b2, a2_0]\n",
    "    end\n",
    "end\n",
    "\n",
    "arr2_2 = zeros(ComplexF64, aa2, aa2)\n",
    "for a2_1 = 1:aa2, a2_0 = 1:aa2\n",
    "    for sigma1 = 1:ss, a1_1=1:aa1\n",
    "        arr2_2[a2_1, a2_0] += mps[3][sigma1]'[a2_1, a1_1] * arr2_1[sigma1, a1_1, a2_0]\n",
    "    end\n",
    "end\n",
    "println(arr2_2)"
   ]
  },
  {
   "cell_type": "code",
   "execution_count": 245,
   "metadata": {},
   "outputs": [
    {
     "name": "stdout",
     "output_type": "stream",
     "text": [
      "(2,)\n",
      "(2, 2)\n",
      "(2,)\n"
     ]
    }
   ],
   "source": [
    "println(size(O[1][1, 1, :]))\n",
    "println(size(O[2][1, 1, :, :]))\n",
    "println(size(O[3][1, 1, :]))"
   ]
  },
  {
   "cell_type": "code",
   "execution_count": 289,
   "metadata": {},
   "outputs": [
    {
     "data": {
      "text/plain": [
       "1×1 Array{Complex{Float64},2}:\n",
       " 0.7071067811865475 + 0.0im"
      ]
     },
     "execution_count": 289,
     "metadata": {},
     "output_type": "execute_result"
    }
   ],
   "source": [
    "mps[3][1]"
   ]
  },
  {
   "cell_type": "code",
   "execution_count": 303,
   "metadata": {},
   "outputs": [
    {
     "data": {
      "text/plain": [
       "\"0010\""
      ]
     },
     "execution_count": 303,
     "metadata": {},
     "output_type": "execute_result"
    }
   ],
   "source": [
    "s = bitstring(2)[end - (3):end]"
   ]
  },
  {
   "cell_type": "code",
   "execution_count": null,
   "metadata": {},
   "outputs": [],
   "source": []
  }
 ],
 "metadata": {
  "@webio": {
   "lastCommId": null,
   "lastKernelId": null
  },
  "kernelspec": {
   "display_name": "Julia 1.4.0",
   "language": "julia",
   "name": "julia-1.4"
  },
  "language_info": {
   "file_extension": ".jl",
   "mimetype": "application/julia",
   "name": "julia",
   "version": "1.4.0"
  }
 },
 "nbformat": 4,
 "nbformat_minor": 2
}
