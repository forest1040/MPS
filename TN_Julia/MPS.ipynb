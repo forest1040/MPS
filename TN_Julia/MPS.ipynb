{
 "cells": [
  {
   "cell_type": "code",
   "execution_count": 1,
   "metadata": {},
   "outputs": [],
   "source": [
    "using LinearAlgebra\n",
    "\n",
    "include(\"./MPS.jl\")\n",
    "using .MPSforQuantum"
   ]
  },
  {
   "cell_type": "markdown",
   "metadata": {},
   "source": [
    "# MPS"
   ]
  },
  {
   "cell_type": "markdown",
   "metadata": {},
   "source": [
    "### Left normalized\n",
    "\n",
    "```mps = MPS(C0, eps)```  \n",
    "C0: state vector  \n",
    "eps: allowed error  \n",
    "\n",
    "return: mps\\[site\\]\\[physical\\]"
   ]
  },
  {
   "cell_type": "code",
   "execution_count": 4,
   "metadata": {},
   "outputs": [
    {
     "name": "stdout",
     "output_type": "stream",
     "text": [
      "array 1's size: (1, 2)\n",
      "array 2's size: (2, 4)\n",
      "array 3's size: (4, 8)\n",
      "array 4's size: (8, 10)\n",
      "array 5's size: (10, 10)\n",
      "array 6's size: (10, 10)\n",
      "array 7's size: (10, 10)\n",
      "array 8's size: (10, 10)\n",
      "array 9's size: (10, 10)\n",
      "array 10's size: (10, 10)\n",
      "array 11's size: (10, 10)\n",
      "array 12's size: (10, 10)\n",
      "array 13's size: (10, 10)\n",
      "array 14's size: (10, 10)\n",
      "array 15's size: (10, 10)\n",
      "array 16's size: (10, 10)\n",
      "array 17's size: (10, 8)\n",
      "array 18's size: (8, 4)\n",
      "array 19's size: (4, 2)\n",
      "array 20's size: (2, 1)\n",
      "Num of parameters: 2888\n",
      "2^N: 1048576\n",
      "Restore from MPS: 1.0 + 0.0im\n",
      "Original state: 1.0 + 0.0im\n"
     ]
    }
   ],
   "source": [
    "N = 20\n",
    "C0 = normalize!(rand(ComplexF64, 2^N))\n",
    "C0 = zeros(ComplexF64, 2^N)\n",
    "C0[1] = 1 # '000'\n",
    "\n",
    "D = 10\n",
    "eps = 1e-3\n",
    "mps = MPS(C0, D) # convert to MPS\n",
    "mps_size(mps) # print the size of MPS\n",
    "\n",
    "n = 0 # check the state |bin(n)>\n",
    "println(\"Restore from MPS: \", restore(mps, n))\n",
    "println(\"Original state: \", C0[n + 1])"
   ]
  },
  {
   "cell_type": "code",
   "execution_count": 6,
   "metadata": {},
   "outputs": [
    {
     "data": {
      "text/plain": [
       "2×1 Array{Complex{Float64},2}:\n",
       " 1.0 + 0.0im\n",
       " 0.0 + 0.0im"
      ]
     },
     "execution_count": 6,
     "metadata": {},
     "output_type": "execute_result"
    }
   ],
   "source": [
    "mps[20][1] # size (1,1,2)"
   ]
  },
  {
   "cell_type": "markdown",
   "metadata": {},
   "source": [
    "### Right Normalized"
   ]
  },
  {
   "cell_type": "code",
   "execution_count": 5,
   "metadata": {},
   "outputs": [
    {
     "name": "stdout",
     "output_type": "stream",
     "text": [
      "array 1's size: (1, 2)\n",
      "array 2's size: (2, 4)\n",
      "array 3's size: (4, 8)\n",
      "array 4's size: (8, 10)\n",
      "array 5's size: (10, 10)\n",
      "array 6's size: (10, 10)\n",
      "array 7's size: (10, 10)\n",
      "array 8's size: (10, 10)\n",
      "array 9's size: (10, 10)\n",
      "array 10's size: (10, 10)\n",
      "array 11's size: (10, 10)\n",
      "array 12's size: (10, 10)\n",
      "array 13's size: (10, 10)\n",
      "array 14's size: (10, 10)\n",
      "array 15's size: (10, 10)\n",
      "array 16's size: (10, 10)\n",
      "array 17's size: (10, 8)\n",
      "array 18's size: (8, 4)\n",
      "array 19's size: (4, 2)\n",
      "array 20's size: (2, 1)\n",
      "Num of parameters: 2888\n",
      "2^N: 1048576\n",
      "Restore from MPS: 1.0 + 0.0im\n",
      "Original state: 1.0 + 0.0im\n"
     ]
    }
   ],
   "source": [
    "N = 20\n",
    "C0 = normalize!(rand(ComplexF64, 2^N))\n",
    "C0 = zeros(ComplexF64, 2^N)\n",
    "C0[1] = 1 # '010'\n",
    "\n",
    "D = 10\n",
    "eps = 1e-3\n",
    "mps = MPS(C0, D, 'r') # convert to MPS\n",
    "mps_size(mps) # print the size of MPS\n",
    "\n",
    "n = 0 # check the state |bin(n)>\n",
    "println(\"Restore from MPS: \", restore(mps, n))\n",
    "println(\"Original state: \", C0[n + 1])"
   ]
  },
  {
   "cell_type": "code",
   "execution_count": 45,
   "metadata": {},
   "outputs": [
    {
     "data": {
      "text/plain": [
       "Char"
      ]
     },
     "execution_count": 45,
     "metadata": {},
     "output_type": "execute_result"
    }
   ],
   "source": [
    "typeof('l')"
   ]
  },
  {
   "cell_type": "markdown",
   "metadata": {},
   "source": [
    "### Inner product between same states is Identity matrix\n",
    "each site is normalized,  \n",
    "$\\sum_{i}A_{i}^{\\dagger} A_{i} = I$"
   ]
  },
  {
   "cell_type": "code",
   "execution_count": 87,
   "metadata": {},
   "outputs": [
    {
     "data": {
      "text/plain": [
       "1-element Array{Complex{Float64},1}:\n",
       " 1.0 + 0.0im"
      ]
     },
     "execution_count": 87,
     "metadata": {},
     "output_type": "execute_result"
    }
   ],
   "source": [
    "I_ = mps[3][1]' * mps[3][1] + mps[3][2]' * mps[3][2]\n",
    "diag(I_)"
   ]
  },
  {
   "cell_type": "markdown",
   "metadata": {},
   "source": [
    "## 簡単な例\n",
    "行列```tmp```を特異値分解により3つの行列に分ける。  \n",
    "3つの行列をさらに2つの行列に分けて(=physical index)、physical indexで指定された片割れ同士で3つの行列をかけると分解前の行列の要素が計算できることを示す。"
   ]
  },
  {
   "cell_type": "code",
   "execution_count": 3,
   "metadata": {},
   "outputs": [
    {
     "name": "stdout",
     "output_type": "stream",
     "text": [
      "[1.0000000000000007 3.0 5.000000000000002 7.000000000000001]\n",
      "[2.000000000000006 4.0000000000000036 6.000000000000005 8.000000000000007]\n"
     ]
    }
   ],
   "source": [
    "tmp = svd(reshape([1, 2, 3, 4, 5, 6, 7, 8], 2, 4))\n",
    "A1 = tmp.U\n",
    "C1 = diagm(tmp.S) * tmp.Vt\n",
    "println(transpose(tmp.U[1, :]) * diagm(tmp.S) * tmp.Vt)\n",
    "println(transpose(tmp.U[2, :]) * diagm(tmp.S) * tmp.Vt)"
   ]
  },
  {
   "cell_type": "code",
   "execution_count": 4,
   "metadata": {},
   "outputs": [
    {
     "data": {
      "text/plain": [
       "2×2 Array{Float64,2}:\n",
       "  5.3519   13.1824\n",
       " -1.16498   0.472968"
      ]
     },
     "execution_count": 4,
     "metadata": {},
     "output_type": "execute_result"
    }
   ],
   "source": [
    "tmp = svd(reshape(C1, 4, 2))\n",
    "A2 = tmp.U\n",
    "A3 = diagm(tmp.S) * tmp.Vt"
   ]
  },
  {
   "cell_type": "code",
   "execution_count": 5,
   "metadata": {},
   "outputs": [
    {
     "name": "stdout",
     "output_type": "stream",
     "text": [
      "[-0.6414230279950722 -0.7671873950721774; -0.7671873950721774 0.6414230279950723]\n",
      "[-0.5661645853690824 -0.7332805685413178; 0.014454499999906334 -0.3762291024141132; -0.8241208487575695 0.49992875081918764; -0.00857649967705636 -0.2661249976998753]\n",
      "[5.351898726900281 13.182423969136662; -1.1649806938328169 0.4729675442683846]\n"
     ]
    }
   ],
   "source": [
    "println(A1)\n",
    "println(A2)\n",
    "println(A3)"
   ]
  },
  {
   "cell_type": "code",
   "execution_count": 91,
   "metadata": {},
   "outputs": [
    {
     "data": {
      "text/plain": [
       "1.0000000000000002"
      ]
     },
     "execution_count": 91,
     "metadata": {},
     "output_type": "execute_result"
    }
   ],
   "source": [
    "transpose(A1[1, :]) * A2[1:2, :] * transpose(A3)[1, :] # '000'"
   ]
  },
  {
   "cell_type": "markdown",
   "metadata": {},
   "source": [
    "# MPO"
   ]
  },
  {
   "cell_type": "markdown",
   "metadata": {},
   "source": [
    "期待値を求めたいハミルトニアン  \n",
    "簡単のため、3 siteの系を考える  \n",
    "$Z_1 Z_2 + Z_2 Z_3$"
   ]
  },
  {
   "cell_type": "markdown",
   "metadata": {},
   "source": [
    "MPOは下記のように組む。  \n",
    "site数と同じ3つの行列をする。  \n",
    "行列同士の積を計算すると、上記のハミルトニアンになるように要素を決めている。\n",
    "\n",
    "$$\n",
    "\\left[\\begin{array}{c}\n",
    "    Z_1 & I_1\\\\\n",
    "\\end{array}\\right]\n",
    "\\left[\\begin{array}{c}\n",
    "    Z_2 & 0\\\\\n",
    "    0 & Z_2\\\\\n",
    "\\end{array}\\right]\n",
    "\\left[\\begin{array}{c}\n",
    "    I_3\\\\\n",
    "    Z_3\n",
    "\\end{array}\\right] \\quad\n",
    "$$"
   ]
  },
  {
   "cell_type": "code",
   "execution_count": 92,
   "metadata": {},
   "outputs": [
    {
     "data": {
      "text/plain": [
       "ddstack (generic function with 1 method)"
      ]
     },
     "execution_count": 92,
     "metadata": {},
     "output_type": "execute_result"
    }
   ],
   "source": [
    "function dstack(A::Array{ComplexF64,2}, B::Array{ComplexF64,2})\n",
    "    return cat(A, B, dims = 3)\n",
    "end\n",
    "\n",
    "function ddstack(A::Array{ComplexF64,2}, B::Array{ComplexF64,2}, \n",
    "                C::Array{ComplexF64,2}, D::Array{ComplexF64,2})\n",
    "    AC = cat(A, C, dims = 3)\n",
    "    BD = cat(B, D, dims = 3)\n",
    "    return cat(AC, BD, dims = 4)\n",
    "end"
   ]
  },
  {
   "cell_type": "code",
   "execution_count": 93,
   "metadata": {},
   "outputs": [
    {
     "data": {
      "text/plain": [
       "2×2×2 Array{Complex{Float64},3}:\n",
       "[:, :, 1] =\n",
       " 1.0+0.0im   0.0+0.0im\n",
       " 0.0+0.0im  -1.0+0.0im\n",
       "\n",
       "[:, :, 2] =\n",
       " 1.0+0.0im  0.0+0.0im\n",
       " 0.0+0.0im  1.0+0.0im"
      ]
     },
     "execution_count": 93,
     "metadata": {},
     "output_type": "execute_result"
    }
   ],
   "source": [
    "pauliZ = convert(Array{ComplexF64,2}, [1 0; 0 -1])\n",
    "pauliI = convert(Array{ComplexF64,2}, [1 0; 0 1])\n",
    "zero = convert(Array{ComplexF64,2}, [0 0; 0 0])\n",
    "\n",
    "O = []\n",
    "push!(O, dstack(pauliZ, pauliI))\n",
    "push!(O, ddstack(pauliZ, zero, zero, pauliZ))\n",
    "push!(O, dstack(pauliI, pauliZ))\n",
    "#O = [[pauliZ pauliI] [pauliZ zero;pauliZ zero] [pauliI pauliZ]]\n",
    "# O[site], [phys1, phys2, i, j]\n",
    "\n",
    "O[1]"
   ]
  },
  {
   "cell_type": "markdown",
   "metadata": {},
   "source": [
    "# General inner products\n",
    "2つのMPSにそれぞれ異なる量子ゲートをかけてから内積を計算する"
   ]
  },
  {
   "cell_type": "code",
   "execution_count": 7,
   "metadata": {},
   "outputs": [
    {
     "data": {
      "text/plain": [
       "2×2 Array{Complex{Float64},2}:\n",
       " 0.0+0.0im  1.0+0.0im\n",
       " 1.0+0.0im  0.0+0.0im"
      ]
     },
     "execution_count": 7,
     "metadata": {},
     "output_type": "execute_result"
    }
   ],
   "source": [
    "Hadamard = convert(Array{ComplexF64,2}, [1 1; 1 -1] ./ sqrt(2))\n",
    "pauliX = convert(Array{ComplexF64,2}, [0 1; 1 0])"
   ]
  },
  {
   "cell_type": "code",
   "execution_count": 95,
   "metadata": {},
   "outputs": [
    {
     "data": {
      "text/plain": [
       "3-element Array{Any,1}:\n",
       " Array{Complex{Float64},2}[[0.7071067811865475 + 0.0im], [0.7071067811865475 + 0.0im]]\n",
       " Array{Complex{Float64},2}[[0.7071067811865475 + 0.0im], [0.7071067811865475 + 0.0im]]\n",
       " Array{Complex{Float64},2}[[0.7071067811865475 + 0.0im], [0.7071067811865475 + 0.0im]]"
      ]
     },
     "execution_count": 95,
     "metadata": {},
     "output_type": "execute_result"
    }
   ],
   "source": [
    "N = 3\n",
    "C0 = zeros(ComplexF64, 2^N)\n",
    "C0[1] = 1 # '000'\n",
    "# C0[8] = 1 # '111'\n",
    "\n",
    "D = 10\n",
    "eps = 1e-3\n",
    "mps1 = MPS(C0, eps)\n",
    "mps1 = OneQubitGate(mps1, Hadamard, 0)\n",
    "mps1 = OneQubitGate(mps1, Hadamard, 1)\n",
    "mps1 = OneQubitGate(mps1, Hadamard, 2)\n",
    "\n",
    "mps2 = MPS(C0, eps)\n",
    "mps2 = OneQubitGate(mps2, pauliX, 0)\n",
    "mps1"
   ]
  },
  {
   "cell_type": "code",
   "execution_count": 96,
   "metadata": {},
   "outputs": [
    {
     "data": {
      "text/plain": [
       "inner_product (generic function with 1 method)"
      ]
     },
     "execution_count": 96,
     "metadata": {},
     "output_type": "execute_result"
    }
   ],
   "source": [
    "function inner_product(arrs1::Array{Any, 1}, arrs2::Array{Any, 1})\n",
    "    N = Int64(size(arrs1)[1])\n",
    "    ip = arrs1[1][1]' * arrs2[1][1] + arrs1[1][2]' * arrs2[1][2]\n",
    "    for i = 2:N\n",
    "        phys0 = arrs1[i][1]' * ip * arrs2[i][1]\n",
    "        phys1 = arrs1[i][2]' * ip * arrs2[i][2]\n",
    "        ip = phys0 + phys1\n",
    "    end\n",
    "    return ip\n",
    "end"
   ]
  },
  {
   "cell_type": "code",
   "execution_count": 97,
   "metadata": {},
   "outputs": [
    {
     "data": {
      "text/plain": [
       "1×1 Array{Complex{Float64},2}:\n",
       " 0.3535533905932737 + 0.0im"
      ]
     },
     "execution_count": 97,
     "metadata": {},
     "output_type": "execute_result"
    }
   ],
   "source": [
    "inner_product(mps1, mps2)"
   ]
  },
  {
   "cell_type": "markdown",
   "metadata": {},
   "source": [
    "### Bell state"
   ]
  },
  {
   "cell_type": "code",
   "execution_count": 98,
   "metadata": {},
   "outputs": [
    {
     "name": "stdout",
     "output_type": "stream",
     "text": [
      "Initial MPS\n",
      "array 1's size: (1, 1)\n",
      "array 2's size: (1, 1)\n",
      "array 3's size: (1, 1)\n",
      "array 4's size: (1, 1)\n",
      "array 5's size: (1, 1)\n",
      "array 6's size: (1, 1)\n",
      "array 7's size: (1, 1)\n",
      "array 8's size: (1, 1)\n",
      "array 9's size: (1, 1)\n",
      "array 10's size: (1, 1)\n",
      "array 11's size: (1, 1)\n",
      "array 12's size: (1, 1)\n",
      "array 13's size: (1, 1)\n",
      "array 14's size: (1, 1)\n",
      "array 15's size: (1, 1)\n",
      "array 16's size: (1, 1)\n",
      "array 17's size: (1, 1)\n",
      "array 18's size: (1, 1)\n",
      "array 19's size: (1, 1)\n",
      "array 20's size: (1, 1)\n",
      "Num of parameters: 40\n",
      "2^N: 1048576\n",
      "\n",
      "Bell state MPS\n",
      "array 1's size: (1, 2)\n",
      "array 2's size: (2, 1)\n",
      "array 3's size: (1, 1)\n",
      "array 4's size: (1, 1)\n",
      "array 5's size: (1, 1)\n",
      "array 6's size: (1, 1)\n",
      "array 7's size: (1, 1)\n",
      "array 8's size: (1, 1)\n",
      "array 9's size: (1, 1)\n",
      "array 10's size: (1, 1)\n",
      "array 11's size: (1, 1)\n",
      "array 12's size: (1, 1)\n",
      "array 13's size: (1, 1)\n",
      "array 14's size: (1, 1)\n",
      "array 15's size: (1, 1)\n",
      "array 16's size: (1, 1)\n",
      "array 17's size: (1, 1)\n",
      "array 18's size: (1, 1)\n",
      "array 19's size: (1, 1)\n",
      "array 20's size: (1, 1)\n",
      "Num of parameters: 44\n",
      "2^N: 1048576\n",
      "\n",
      "|00>: 0.7071067811865475 + 0.0im\n",
      "|01>: 0.0 + 0.0im\n",
      "|10>: 0.0 + 0.0im\n",
      "|11>: 0.7071067811865475 + 0.0im\n"
     ]
    }
   ],
   "source": [
    "Hadamard = convert(Array{ComplexF64,2}, [1 1; 1 -1] ./ sqrt(2))\n",
    "\n",
    "N = 20\n",
    "C0 = zeros(ComplexF64, 2^N)\n",
    "C0[1] = 1 # '000'\n",
    "\n",
    "D = 10\n",
    "eps = 1e-3\n",
    "\n",
    "mps1 = MPS(C0, eps)\n",
    "println(\"Initial MPS\")\n",
    "mps1 = OneQubitGate(mps1, Hadamard, 0) # -> '001' & '000'\n",
    "mps_size(mps1)\n",
    "\n",
    "arr = CX(mps1, 0, eps) # 今の所、i と i+1の間での計算のみ。 多分swapゲートが必要\n",
    "println(\"\\nBell state MPS\")\n",
    "mps_size(arr)\n",
    "println()\n",
    "for i=0:3\n",
    "    res = restore(arr, i) # MPS で表された状態から、| bin(i) > の係数を計算する関数\n",
    "    println(\"|\", bitstring(i)[end - 1:end], \">: \",  res)\n",
    "end"
   ]
  },
  {
   "cell_type": "markdown",
   "metadata": {},
   "source": [
    "## 確認\n",
    "状態ベクトルでBell state作ってからMPSに変換して同じになってるか確認してみた。"
   ]
  },
  {
   "cell_type": "code",
   "execution_count": 99,
   "metadata": {},
   "outputs": [
    {
     "name": "stdout",
     "output_type": "stream",
     "text": [
      "array 1's size: (1, 2)\n",
      "array 2's size: (2, 1)\n",
      "Num of parameters: 8\n",
      "2^N: 4\n",
      "|00>: 0.7071067811865475 + 0.0im\n",
      "|01>: 0.0 + 0.0im\n",
      "|10>: 0.0 + 0.0im\n",
      "|11>: 0.7071067811865475 + 0.0im\n"
     ]
    }
   ],
   "source": [
    "N = 2\n",
    "C0 = zeros(ComplexF64, 2^N)\n",
    "C0[1] = 0.7071067811865475\n",
    "C0[4] = 0.7071067811865475\n",
    "\n",
    "eps = 1e-3\n",
    "\n",
    "mps1 = MPS(C0, eps)\n",
    "mps_size(mps1)\n",
    "for i=0:3\n",
    "    res = restore(mps1, i)\n",
    "    println(\"|\", bitstring(i)[end - 1:end], \">: \",  res)\n",
    "end"
   ]
  },
  {
   "cell_type": "markdown",
   "metadata": {},
   "source": [
    "# Expectation value"
   ]
  },
  {
   "cell_type": "code",
   "execution_count": 8,
   "metadata": {},
   "outputs": [
    {
     "name": "stdout",
     "output_type": "stream",
     "text": [
      "000: Complex{Float64}[0.4999999999999999 + 0.0im]\n",
      "001: Complex{Float64}[0.0 + 0.0im]\n",
      "010: Complex{Float64}[0.0 + 0.0im]\n",
      "011: Complex{Float64}[0.4999999999999999 + 0.0im]\n",
      "100: Complex{Float64}[0.4999999999999999 + 0.0im]\n",
      "101: Complex{Float64}[0.0 + 0.0im]\n",
      "110: Complex{Float64}[0.0 + 0.0im]\n",
      "111: Complex{Float64}[0.4999999999999999 + 0.0im]\n"
     ]
    }
   ],
   "source": [
    "# prepare bell state\n",
    "N = 3\n",
    "C0 = zeros(ComplexF64, 2^N)\n",
    "C0[1] = 1 # '000'\n",
    "\n",
    "D = 10\n",
    "eps = 1e-3\n",
    "\n",
    "mps0 = MPS(C0, eps)\n",
    "mps = OneQubitGate(mps0, Hadamard, 0) # -> '001' & '000'　: indexは後ろから数える\n",
    "#mps = OneQubitGate(mps, Hadamard, 1)\n",
    "mps = OneQubitGate(mps, Hadamard, 2)\n",
    "\n",
    "mps = CX(mps, 0, eps)\n",
    "\n",
    "for i=1:2, j=1:2, k=1:2\n",
    "    println(\"$(i-1)$(j-1)$(k-1): \", mps[1][k] * mps[2][j] * mps[3][i])\n",
    "end"
   ]
  },
  {
   "cell_type": "markdown",
   "metadata": {},
   "source": [
    "$$\n",
    "\\left[\\begin{array}{c}\n",
    "    Z_1 & I_1\\\\\n",
    "\\end{array}\\right]\n",
    "\\left[\\begin{array}{c}\n",
    "    Z_2 & 0\\\\\n",
    "    0 & Z_2\\\\\n",
    "\\end{array}\\right]\n",
    "\\left[\\begin{array}{c}\n",
    "    I_3\\\\\n",
    "    Z_3\n",
    "\\end{array}\\right] \\quad\n",
    "$$"
   ]
  },
  {
   "cell_type": "code",
   "execution_count": 114,
   "metadata": {},
   "outputs": [
    {
     "data": {
      "text/plain": [
       "2-element Array{Array{Complex{Float64},2},1}:\n",
       " [0.7071067811865475 + 0.0im; 0.0 + 0.0im]\n",
       " [0.0 + 0.0im; 0.7071067811865475 + 0.0im]"
      ]
     },
     "execution_count": 114,
     "metadata": {},
     "output_type": "execute_result"
    }
   ],
   "source": [
    "mps[2] # mps [site][physical]"
   ]
  },
  {
   "cell_type": "markdown",
   "metadata": {},
   "source": [
    "各siteでまずMPSx2,MPOをcontructする。  \n",
    "\n",
    "$$\n",
    "F^{[i]}_{a_i,b_i,a'_i} = \\sum_{\\sigma_{i},a_{i-1}}(A^{[i]\\sigma_i\\dagger})_{a_i,a_{i-1}}\n",
    "\\biggl(\\sum_{\\sigma'_{i},b_{i-1}}W^{[i]\\sigma_i \\sigma'_i}_{b_{i-1},b_i} \n",
    "\\biggl(\\sum_{a'_{i-1}}F^{[i-1]}_{a_{i-1},b_{i-1},a'_{i-1}} A^{[i]\\sigma'_i}_{a'_{i-1},a'_i} \\biggr) \\biggr)\n",
    "$$"
   ]
  },
  {
   "cell_type": "code",
   "execution_count": 6,
   "metadata": {},
   "outputs": [],
   "source": [
    "using TensorOperations"
   ]
  },
  {
   "cell_type": "code",
   "execution_count": 118,
   "metadata": {},
   "outputs": [
    {
     "name": "stdout",
     "output_type": "stream",
     "text": [
      "(1, 1)\n"
     ]
    },
    {
     "data": {
      "text/plain": [
       "1.0 + 0.0im"
      ]
     },
     "execution_count": 118,
     "metadata": {},
     "output_type": "execute_result"
    }
   ],
   "source": [
    "C0 = zeros(ComplexF64, 2^N)\n",
    "C0[1] = 1 # '010'\n",
    "mps = MPS(C0, eps)\n",
    "println(size(mps[3][1]))\n",
    "# AA = cat(mps[1][1][1], mps[1][2][1], dims=2)\n",
    "#  AA_dag = cat(mps[1][1]'[1], mps[1][2]'[1], dims=2)\n",
    "mps[3][1][1]"
   ]
  },
  {
   "cell_type": "code",
   "execution_count": 151,
   "metadata": {},
   "outputs": [
    {
     "data": {
      "text/plain": [
       "expectation_ (generic function with 1 method)"
      ]
     },
     "execution_count": 151,
     "metadata": {},
     "output_type": "execute_result"
    }
   ],
   "source": [
    "function expectation_(mps::Array{Any,1}, O::Array{Any,1})\n",
    "    N_site = size(mps)[1]\n",
    "    contracted_sites = []\n",
    "    n_phys = 2 #ss\n",
    "    for i=1:N_site\n",
    "        if i==1\n",
    "            # first step\n",
    "            tmp_mps = cat(mps[i][1][1], mps[i][2][1], dims=2)\n",
    "            tmp_mps_dag = cat(mps[i][1]'[1], mps[i][2]'[1], dims=2)\n",
    "            tmp_O = O[i]\n",
    "            a_len = size(mps[i][1])[2]\n",
    "            b_len = size(O[i][1, 1, :])[1] # bb0\n",
    "            arr_0 = zeros(ComplexF64, n_phys, b_len, a_len)\n",
    "            @tensor begin\n",
    "                arr_0[sigma1, b, a_] = tmp_O[sigma1, sigma2, b] * tmp_mps[a_, sigma2]\n",
    "            end\n",
    "            arr = zeros(ComplexF64, a_len, b_len, a_len)\n",
    "            @tensor begin\n",
    "                arr[a, b, a_] = tmp_mps_dag[a, sigma1] * arr_0[sigma1, b, a_]\n",
    "            end\n",
    "\n",
    "        elseif i==N_site\n",
    "            # last step\n",
    "            tmp_mps = cat(mps[i][1][1], mps[i][2][1], dims=3)\n",
    "            tmp_mps_dag = cat(mps[i][1]'[1], mps[i][2]'[1], dims=3)\n",
    "            tmp_O = O[i]\n",
    "            tmp_site = contracted_sites[i-1]\n",
    "            a_len1 = size(mps[i-1][1])[2]\n",
    "            a_len2 = size(mps[i][1])[2]\n",
    "            b_len2 = size(O[i][1, 1, :])[1]\n",
    "            arr_0 = zeros(ComplexF64, n_phys, a_len1, b_len2, a_len2)\n",
    "            @tensor begin\n",
    "                arr_0[sigma2, a1, b2, a2] = tmp_site[a1, b2, a1_0] * tmp_mps[a1_0, a2, sigma2]\n",
    "            end\n",
    "            arr_1 = zeros(ComplexF64, n_phys, a_len1, a_len2)\n",
    "            @tensor begin\n",
    "                arr_1[sigma1, a1, a2] = tmp_O[sigma1, sigma2, b2] * arr_0[sigma2, a1, b2, a2]\n",
    "            end\n",
    "\n",
    "            @tensor begin\n",
    "                arr = tmp_mps_dag[a2, a1, sigma1] * arr_1[sigma1, a1, a2]\n",
    "            end\n",
    "\n",
    "        else\n",
    "            # Middle step\n",
    "            tmp_mps = cat(mps[i][1], mps[i][2], dims=3)\n",
    "            tmp_mps_dag = cat(mps[i][1]', mps[i][2]', dims=3)\n",
    "            tmp_O = O[i]\n",
    "            tmp_site = contracted_sites[i-1]\n",
    "            a_len1 = size(mps[i-1][1])[2]\n",
    "            a_len2 = size(mps[i][1])[2]\n",
    "            b_len1, b_len2 = size(O[i][1, 1, :, :])\n",
    "            arr_0 = zeros(ComplexF64, n_phys, a_len1, b_len1, a_len2)\n",
    "            @tensor begin\n",
    "                arr_0[sigma2, a1, b1, a2] = tmp_site[a1, b1, a0_0] * tmp_mps[a0_0, a2, sigma2]\n",
    "            end\n",
    "\n",
    "            arr_1 = zeros(ComplexF64, n_phys, b_len2, a_len1, a_len2)\n",
    "            @tensor begin\n",
    "                arr_1[sigma1, b2, a1, a2] = tmp_O[sigma1, sigma2, b1, b2] * arr_0[sigma2, a1, b1, a2]\n",
    "            end\n",
    "\n",
    "            arr = zeros(ComplexF64, a_len2, b_len2, a_len2)\n",
    "            @tensor begin\n",
    "                arr[a2, b2, a2_] = tmp_mps_dag[a2, a1, sigma1] * arr_1[sigma1, b2, a1, a2_]\n",
    "            end\n",
    "        end\n",
    "        push!(contracted_sites, arr)\n",
    "    end\n",
    "    return contracted_sites[N_site]\n",
    "end\n"
   ]
  },
  {
   "cell_type": "markdown",
   "metadata": {},
   "source": [
    "$Z_1 Z_2 + Z_2 Z_3$"
   ]
  },
  {
   "cell_type": "code",
   "execution_count": 152,
   "metadata": {},
   "outputs": [
    {
     "data": {
      "text/plain": [
       "3-element Array{Any,1}:\n",
       " Complex{Float64}[1.0 + 0.0im 0.0 + 0.0im; 0.0 + 0.0im -1.0 + 0.0im]\n",
       "\n",
       "Complex{Float64}[1.0 + 0.0im 0.0 + 0.0im; 0.0 + 0.0im 1.0 + 0.0im]\n",
       " Complex{Float64}[1.0 + 0.0im 0.0 + 0.0im; 0.0 + 0.0im -1.0 + 0.0im]\n",
       "\n",
       "Complex{Float64}[0.0 + 0.0im 0.0 + 0.0im; 0.0 + 0.0im 0.0 + 0.0im]\n",
       "\n",
       "Complex{Float64}[0.0 + 0.0im 0.0 + 0.0im; 0.0 + 0.0im 0.0 + 0.0im]\n",
       "\n",
       "Complex{Float64}[1.0 + 0.0im 0.0 + 0.0im; 0.0 + 0.0im -1.0 + 0.0im]\n",
       " Complex{Float64}[1.0 + 0.0im 0.0 + 0.0im; 0.0 + 0.0im 1.0 + 0.0im]\n",
       "\n",
       "Complex{Float64}[1.0 + 0.0im 0.0 + 0.0im; 0.0 + 0.0im -1.0 + 0.0im]"
      ]
     },
     "execution_count": 152,
     "metadata": {},
     "output_type": "execute_result"
    }
   ],
   "source": [
    "pauliZ = convert(Array{ComplexF64,2}, [1 0; 0 -1])\n",
    "pauliI = convert(Array{ComplexF64,2}, [1 0; 0 1])\n",
    "zero = convert(Array{ComplexF64,2}, [0 0; 0 0])\n",
    "\n",
    "O = []\n",
    "push!(O, dstack((pauliZ, pauliI)))\n",
    "push!(O, ddstack([(pauliZ, zero), (zero, pauliZ)]))\n",
    "push!(O, dstack((pauliI, pauliZ)))"
   ]
  },
  {
   "cell_type": "code",
   "execution_count": 153,
   "metadata": {},
   "outputs": [
    {
     "name": "stdout",
     "output_type": "stream",
     "text": [
      "2.0 + 0.0im\n",
      "0.0 + 0.0im\n",
      "-2.0 + 0.0im\n",
      "0.0 + 0.0im\n",
      "0.0 + 0.0im\n",
      "-2.0 + 0.0im\n",
      "0.0 + 0.0im\n",
      "2.0 + 0.0im\n"
     ]
    }
   ],
   "source": [
    "N = 3\n",
    "eps = 1e-3\n",
    "D = 10\n",
    "\n",
    "for i in 1:8\n",
    "    C0 = zeros(ComplexF64, 2^N)\n",
    "    C0[i] = 1 # '010'\n",
    "    mps = MPS(C0, eps)\n",
    "    expc = expectation_(mps, O)\n",
    "    println(expc)\n",
    "end"
   ]
  },
  {
   "cell_type": "code",
   "execution_count": 303,
   "metadata": {},
   "outputs": [
    {
     "data": {
      "text/plain": [
       "\"0010\""
      ]
     },
     "execution_count": 303,
     "metadata": {},
     "output_type": "execute_result"
    }
   ],
   "source": [
    "s = bitstring(2)[end - (3):end]"
   ]
  },
  {
   "cell_type": "code",
   "execution_count": null,
   "metadata": {},
   "outputs": [],
   "source": []
  }
 ],
 "metadata": {
  "@webio": {
   "lastCommId": null,
   "lastKernelId": null
  },
  "kernelspec": {
   "display_name": "Julia 1.4.0",
   "language": "julia",
   "name": "julia-1.4"
  },
  "language_info": {
   "file_extension": ".jl",
   "mimetype": "application/julia",
   "name": "julia",
   "version": "1.4.0"
  }
 },
 "nbformat": 4,
 "nbformat_minor": 2
}
