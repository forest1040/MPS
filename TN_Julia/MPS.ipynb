{
 "cells": [
  {
   "cell_type": "code",
   "execution_count": 1,
   "metadata": {},
   "outputs": [],
   "source": [
    "using LinearAlgebra\n",
    "\n",
    "include(\"./MPS.jl\")\n",
    "using .MPSforQuantum"
   ]
  },
  {
   "cell_type": "markdown",
   "metadata": {},
   "source": [
    "# MPS"
   ]
  },
  {
   "cell_type": "markdown",
   "metadata": {},
   "source": [
    "```mps = MPS(C0, eps, normalize='l')```  \n",
    "C0: state vector  \n",
    "eps: allowed error  \n",
    "normalize: 'l' for left normalize (default), 'r' for right normalized\n",
    "\n",
    "return: mps\\[site index\\]\\[physical index\\]\\[2x2 array\\]"
   ]
  },
  {
   "cell_type": "markdown",
   "metadata": {},
   "source": [
    "### Left normalized"
   ]
  },
  {
   "cell_type": "code",
   "execution_count": 2,
   "metadata": {},
   "outputs": [
    {
     "name": "stdout",
     "output_type": "stream",
     "text": [
      "array 1's size: (1, 2)\n",
      "array 2's size: (2, 4)\n",
      "array 3's size: (4, 8)\n",
      "array 4's size: (8, 10)\n",
      "array 5's size: (10, 10)\n",
      "array 6's size: (10, 10)\n",
      "array 7's size: (10, 10)\n",
      "array 8's size: (10, 10)\n",
      "array 9's size: (10, 10)\n",
      "array 10's size: (10, 10)\n",
      "array 11's size: (10, 10)\n",
      "array 12's size: (10, 10)\n",
      "array 13's size: (10, 10)\n",
      "array 14's size: (10, 10)\n",
      "array 15's size: (10, 10)\n",
      "array 16's size: (10, 10)\n",
      "array 17's size: (10, 8)\n",
      "array 18's size: (8, 4)\n",
      "array 19's size: (4, 2)\n",
      "array 20's size: (2, 1)\n",
      "Num of parameters: 2888\n",
      "2^N: 1048576\n",
      "Restore from MPS: 1.0 + 0.0im\n",
      "Original state: 1.0 + 0.0im\n"
     ]
    }
   ],
   "source": [
    "N = 20\n",
    "C0 = normalize!(rand(ComplexF64, 2^N))\n",
    "C0 = zeros(ComplexF64, 2^N)\n",
    "C0[1] = 1 # '000'\n",
    "\n",
    "D = 10\n",
    "eps = 1e-3\n",
    "mps = MPS(C0, D) # convert to MPS\n",
    "mps_size(mps) # print the size of MPS\n",
    "\n",
    "n = 0 # check the state |bin(n)>\n",
    "println(\"Restore from MPS: \", restore(mps, n))\n",
    "println(\"Original state: \", C0[n + 1])"
   ]
  },
  {
   "cell_type": "code",
   "execution_count": 3,
   "metadata": {},
   "outputs": [
    {
     "data": {
      "text/plain": [
       "2×1 Array{Complex{Float64},2}:\n",
       " 1.0 + 0.0im\n",
       " 0.0 + 0.0im"
      ]
     },
     "execution_count": 3,
     "metadata": {},
     "output_type": "execute_result"
    }
   ],
   "source": [
    "mps[20][1] # size (1,1,2)"
   ]
  },
  {
   "cell_type": "markdown",
   "metadata": {},
   "source": [
    "### Inner product between same states become Identity matrix for each site\n",
    "each site is normalized,  \n",
    "$\\sum_{i}A_{i}^{\\dagger} A_{i} = I$"
   ]
  },
  {
   "cell_type": "code",
   "execution_count": 4,
   "metadata": {},
   "outputs": [
    {
     "data": {
      "text/plain": [
       "10-element Array{Complex{Float64},1}:\n",
       " 1.0 + 0.0im\n",
       " 1.0 + 0.0im\n",
       " 1.0 + 0.0im\n",
       " 1.0 + 0.0im\n",
       " 1.0 + 0.0im\n",
       " 1.0 + 0.0im\n",
       " 1.0 + 0.0im\n",
       " 1.0 + 0.0im\n",
       " 1.0 + 0.0im\n",
       " 1.0 + 0.0im"
      ]
     },
     "execution_count": 4,
     "metadata": {},
     "output_type": "execute_result"
    }
   ],
   "source": [
    "site = 7\n",
    "I_ = mps[site][1]' * mps[site][1] + mps[site][2]' * mps[site][2]\n",
    "diag(I_)"
   ]
  },
  {
   "cell_type": "markdown",
   "metadata": {},
   "source": [
    "### Right Normalized"
   ]
  },
  {
   "cell_type": "code",
   "execution_count": 11,
   "metadata": {},
   "outputs": [
    {
     "name": "stdout",
     "output_type": "stream",
     "text": [
      "array 1's size: (1, 2)\n",
      "array 2's size: (2, 4)\n",
      "array 3's size: (4, 8)\n",
      "array 4's size: (8, 10)\n",
      "array 5's size: (10, 10)\n",
      "array 6's size: (10, 10)\n",
      "array 7's size: (10, 10)\n",
      "array 8's size: (10, 10)\n",
      "array 9's size: (10, 10)\n",
      "array 10's size: (10, 10)\n",
      "array 11's size: (10, 10)\n",
      "array 12's size: (10, 10)\n",
      "array 13's size: (10, 10)\n",
      "array 14's size: (10, 10)\n",
      "array 15's size: (10, 10)\n",
      "array 16's size: (10, 10)\n",
      "array 17's size: (10, 8)\n",
      "array 18's size: (8, 4)\n",
      "array 19's size: (4, 2)\n",
      "array 20's size: (2, 1)\n",
      "Num of parameters: 2888\n",
      "2^N: 1048576\n",
      "Restore from MPS: 1.0 + 0.0im\n",
      "Original state: 1.0 + 0.0im\n"
     ]
    }
   ],
   "source": [
    "N = 20\n",
    "C0 = normalize!(rand(ComplexF64, 2^N))\n",
    "C0 = zeros(ComplexF64, 2^N)\n",
    "C0[1] = 1 # '010'\n",
    "\n",
    "D = 10\n",
    "eps = 1e-3\n",
    "mps = MPS(C0, D, 'r') # convert to MPS\n",
    "mps_size(mps) # print the size of MPS\n",
    "\n",
    "n = 0 # check the state |bin(n)>\n",
    "println(\"Restore from MPS: \", restore(mps, n))\n",
    "println(\"Original state: \", C0[n + 1])"
   ]
  },
  {
   "cell_type": "code",
   "execution_count": 26,
   "metadata": {},
   "outputs": [
    {
     "name": "stdout",
     "output_type": "stream",
     "text": [
      "Complex{Float64}[0.1343376505913656 + 0.01774765179570367im]\n",
      "Complex{Float64}[0.011740178782516058 + 0.003983272029447662im, 0.13433765059136568 + 0.017747651795703732im, 0.08611102076840618 + 0.2385299811327732im, 0.1712517998216532 + 0.24101229937136617im, 0.23458608960616237 + 0.09360925889589386im, 0.2631730486470682 + 0.2582093308282593im, 0.010045474074949774 + 0.22645099352827477im, 0.13768451079774333 + 0.0023690937291059467im, 0.14186504624813817 + 0.3082128462107923im, 0.2669604798382588 + 0.1060518353446732im, 0.03357332877822472 + 0.1935553461919171im, 0.06888535767042009 + 0.2684970815396278im, 0.04306551923498472 + 0.08644639868993309im, 0.1741213989188889 + 0.06161857309341674im, 0.30527252710661856 + 0.05121449971407059im, 0.07813235428177782 + 0.3182229114165836im]\n"
     ]
    }
   ],
   "source": [
    "C0 = normalize!(rand(ComplexF64, 16))\n",
    "D = 10\n",
    "mps = MPS(C0, D, 'r') # convert to MPS\n",
    "println(mps[1][2] * mps[2][1] * mps[3][1] * mps[4][1])\n",
    "println(C0)"
   ]
  },
  {
   "cell_type": "markdown",
   "metadata": {},
   "source": [
    "## SVDを用いたMPS作成の簡単な例\n",
    "行列```tmp```を特異値分解により3つの行列に分ける。  \n",
    "3つの行列をさらに2つの行列に分ける(=physical index 0 & 1)。  \n",
    "分解前の行列の特定のインデックス番号をバイナリ値で表し、それに対応したphysical indexを持つ各siteの行列同士をかけることで、分解前の行列要素を復元できる。"
   ]
  },
  {
   "cell_type": "markdown",
   "metadata": {},
   "source": [
    "### Left normalized"
   ]
  },
  {
   "cell_type": "code",
   "execution_count": 53,
   "metadata": {},
   "outputs": [
    {
     "name": "stdout",
     "output_type": "stream",
     "text": [
      "[1.0000000000000007 3.0 5.000000000000002 7.000000000000001]\n",
      "[2.000000000000006 4.0000000000000036 6.000000000000005 8.000000000000007]\n"
     ]
    }
   ],
   "source": [
    "tmp = svd(reshape([1, 2, 3, 4, 5, 6, 7, 8], 2, 4))\n",
    "A1 = tmp.U\n",
    "C1 = diagm(tmp.S) * tmp.Vt\n",
    "println(transpose(tmp.U[1, :]) * diagm(tmp.S) * tmp.Vt)\n",
    "println(transpose(tmp.U[2, :]) * diagm(tmp.S) * tmp.Vt)"
   ]
  },
  {
   "cell_type": "code",
   "execution_count": 54,
   "metadata": {},
   "outputs": [
    {
     "data": {
      "text/plain": [
       "2×2 Array{Float64,2}:\n",
       "  5.3519   13.1824\n",
       " -1.16498   0.472968"
      ]
     },
     "execution_count": 54,
     "metadata": {},
     "output_type": "execute_result"
    }
   ],
   "source": [
    "tmp = svd(reshape(C1, 4, 2))\n",
    "A2 = tmp.U\n",
    "A3 = diagm(tmp.S) * tmp.Vt"
   ]
  },
  {
   "cell_type": "code",
   "execution_count": 55,
   "metadata": {},
   "outputs": [
    {
     "data": {
      "text/plain": [
       "2.0000000000000058"
      ]
     },
     "execution_count": 55,
     "metadata": {},
     "output_type": "execute_result"
    }
   ],
   "source": [
    "transpose(A1[2, :]) * A2[1:2, :] * transpose(A3)[1, :] # '001"
   ]
  },
  {
   "cell_type": "markdown",
   "metadata": {},
   "source": [
    "### Right normalized"
   ]
  },
  {
   "cell_type": "code",
   "execution_count": 12,
   "metadata": {},
   "outputs": [
    {
     "name": "stdout",
     "output_type": "stream",
     "text": [
      "(2, 2)(2, 8)(4, 4)(2, 2)\n"
     ]
    },
    {
     "data": {
      "text/plain": [
       "2.0000000000000053"
      ]
     },
     "execution_count": 12,
     "metadata": {},
     "output_type": "execute_result"
    }
   ],
   "source": [
    "tmp = svd(reshape([i for i in 1:16], 8, 2))\n",
    "A1 = tmp.U * diagm(tmp.S)\n",
    "C1 = tmp.Vt\n",
    "arr = cat(A1[1:4, :], A1[5:8, :], dims=2)\n",
    "tmp2 = svd(arr)\n",
    "A2 = tmp2.U * diagm(tmp2.S)\n",
    "C2 = tmp2.Vt\n",
    "arr = cat(A2[1:2, :], A2[3:4, :], dims=2)\n",
    "tmp3 = svd(arr)\n",
    "C4 = tmp3.U * diagm(tmp3.S)\n",
    "C3 = tmp3.Vt\n",
    "println(size(C4), size(C3), size(C2), size(C1))\n",
    "transpose(C4[2,:]) * C3[:, 1:4] * C2[:, 1:2] * C1[:, 1] # '0001'  -> 2nd element"
   ]
  },
  {
   "cell_type": "markdown",
   "metadata": {},
   "source": [
    "# MPO"
   ]
  },
  {
   "cell_type": "markdown",
   "metadata": {},
   "source": [
    "期待値を求めたいハミルトニアン  \n",
    "簡単のため、3 siteの系を考える  \n",
    "\n",
    "$Z_1 Z_2 + Z_2 Z_3$"
   ]
  },
  {
   "cell_type": "markdown",
   "metadata": {},
   "source": [
    "MPOは下記のように組む。  \n",
    "site数と同じ3つの行列をする。  \n",
    "行列同士の積を計算すると、上記のハミルトニアンになるように要素を決めている。\n"
   ]
  },
  {
   "cell_type": "markdown",
   "metadata": {},
   "source": [
    "$$\n",
    "\\left[\\begin{array}{c}\n",
    "    Z_1 & I_1\\\\\n",
    "\\end{array}\\right]\n",
    "\\left[\\begin{array}{c}\n",
    "    Z_2 & 0\\\\\n",
    "    0 & Z_2\\\\\n",
    "\\end{array}\\right]\n",
    "\\left[\\begin{array}{c}\n",
    "    I_3 \\\\\n",
    "    Z_3 \\\\\n",
    "\\end{array}\\right] \\quad\n",
    "$$"
   ]
  },
  {
   "cell_type": "code",
   "execution_count": 12,
   "metadata": {},
   "outputs": [
    {
     "data": {
      "text/plain": [
       "2×2×2 Array{Complex{Float64},3}:\n",
       "[:, :, 1] =\n",
       " 1.0+0.0im   0.0+0.0im\n",
       " 0.0+0.0im  -1.0+0.0im\n",
       "\n",
       "[:, :, 2] =\n",
       " 1.0+0.0im  0.0+0.0im\n",
       " 0.0+0.0im  1.0+0.0im"
      ]
     },
     "execution_count": 12,
     "metadata": {},
     "output_type": "execute_result"
    }
   ],
   "source": [
    "pauliZ = convert(Array{ComplexF64,2}, [1 0; 0 -1])\n",
    "pauliI = convert(Array{ComplexF64,2}, [1 0; 0 1])\n",
    "zero = convert(Array{ComplexF64,2}, [0 0; 0 0])\n",
    "\n",
    "O = []\n",
    "push!(O, dstack((pauliZ, pauliI)))\n",
    "push!(O, ddstack([(pauliZ, zero), (zero, pauliZ)]))\n",
    "push!(O, dstack((pauliI, pauliZ)))\n",
    "\n",
    "# O[site], [phys1, phys2, i, j]\n",
    "\n",
    "O[1]"
   ]
  },
  {
   "cell_type": "markdown",
   "metadata": {},
   "source": [
    "# General inner products\n",
    "2つのMPSにそれぞれ異なる量子ゲートをかけてから内積を計算する"
   ]
  },
  {
   "cell_type": "code",
   "execution_count": 13,
   "metadata": {},
   "outputs": [
    {
     "data": {
      "text/plain": [
       "2×2 Array{Complex{Float64},2}:\n",
       " 0.0+0.0im  1.0+0.0im\n",
       " 1.0+0.0im  0.0+0.0im"
      ]
     },
     "execution_count": 13,
     "metadata": {},
     "output_type": "execute_result"
    }
   ],
   "source": [
    "Hadamard = convert(Array{ComplexF64,2}, [1 1; 1 -1] ./ sqrt(2))\n",
    "pauliX = convert(Array{ComplexF64,2}, [0 1; 1 0])"
   ]
  },
  {
   "cell_type": "code",
   "execution_count": 14,
   "metadata": {},
   "outputs": [
    {
     "data": {
      "text/plain": [
       "3-element Array{Any,1}:\n",
       " Array{Complex{Float64},2}[[0.7071067811865475 + 0.0im], [0.7071067811865475 + 0.0im]]\n",
       " Array{Complex{Float64},2}[[0.7071067811865475 + 0.0im], [0.7071067811865475 + 0.0im]]\n",
       " Array{Complex{Float64},2}[[0.7071067811865475 + 0.0im], [0.7071067811865475 + 0.0im]]"
      ]
     },
     "execution_count": 14,
     "metadata": {},
     "output_type": "execute_result"
    }
   ],
   "source": [
    "N = 3\n",
    "C0 = zeros(ComplexF64, 2^N)\n",
    "C0[1] = 1 # '000'\n",
    "# C0[8] = 1 # '111'\n",
    "\n",
    "D = 10\n",
    "eps = 1e-3\n",
    "mps1 = MPS(C0, eps)\n",
    "mps1 = OneQubitGate(mps1, Hadamard, 0)\n",
    "mps1 = OneQubitGate(mps1, Hadamard, 1)\n",
    "mps1 = OneQubitGate(mps1, Hadamard, 2)\n",
    "\n",
    "mps2 = MPS(C0, eps)\n",
    "mps2 = OneQubitGate(mps2, pauliX, 0)\n",
    "mps1"
   ]
  },
  {
   "cell_type": "code",
   "execution_count": 16,
   "metadata": {},
   "outputs": [
    {
     "data": {
      "text/plain": [
       "1×1 Array{Complex{Float64},2}:\n",
       " 0.3535533905932737 + 0.0im"
      ]
     },
     "execution_count": 16,
     "metadata": {},
     "output_type": "execute_result"
    }
   ],
   "source": [
    "inner_product(mps1, mps2)"
   ]
  },
  {
   "cell_type": "markdown",
   "metadata": {},
   "source": [
    "### Bell state"
   ]
  },
  {
   "cell_type": "code",
   "execution_count": 17,
   "metadata": {},
   "outputs": [
    {
     "name": "stdout",
     "output_type": "stream",
     "text": [
      "Initial MPS\n",
      "array 1's size: (1, 1)\n",
      "array 2's size: (1, 1)\n",
      "array 3's size: (1, 1)\n",
      "array 4's size: (1, 1)\n",
      "array 5's size: (1, 1)\n",
      "array 6's size: (1, 1)\n",
      "array 7's size: (1, 1)\n",
      "array 8's size: (1, 1)\n",
      "array 9's size: (1, 1)\n",
      "array 10's size: (1, 1)\n",
      "array 11's size: (1, 1)\n",
      "array 12's size: (1, 1)\n",
      "array 13's size: (1, 1)\n",
      "array 14's size: (1, 1)\n",
      "array 15's size: (1, 1)\n",
      "array 16's size: (1, 1)\n",
      "array 17's size: (1, 1)\n",
      "array 18's size: (1, 1)\n",
      "array 19's size: (1, 1)\n",
      "array 20's size: (1, 1)\n",
      "Num of parameters: 40\n",
      "2^N: 1048576\n",
      "\n",
      "Bell state MPS\n",
      "array 1's size: (1, 2)\n",
      "array 2's size: (2, 1)\n",
      "array 3's size: (1, 1)\n",
      "array 4's size: (1, 1)\n",
      "array 5's size: (1, 1)\n",
      "array 6's size: (1, 1)\n",
      "array 7's size: (1, 1)\n",
      "array 8's size: (1, 1)\n",
      "array 9's size: (1, 1)\n",
      "array 10's size: (1, 1)\n",
      "array 11's size: (1, 1)\n",
      "array 12's size: (1, 1)\n",
      "array 13's size: (1, 1)\n",
      "array 14's size: (1, 1)\n",
      "array 15's size: (1, 1)\n",
      "array 16's size: (1, 1)\n",
      "array 17's size: (1, 1)\n",
      "array 18's size: (1, 1)\n",
      "array 19's size: (1, 1)\n",
      "array 20's size: (1, 1)\n",
      "Num of parameters: 44\n",
      "2^N: 1048576\n",
      "\n",
      "|00>: 0.7071067811865475 + 0.0im\n",
      "|01>: 0.0 + 0.0im\n",
      "|10>: 0.0 + 0.0im\n",
      "|11>: 0.7071067811865475 + 0.0im\n"
     ]
    }
   ],
   "source": [
    "Hadamard = convert(Array{ComplexF64,2}, [1 1; 1 -1] ./ sqrt(2))\n",
    "\n",
    "N = 20\n",
    "C0 = zeros(ComplexF64, 2^N)\n",
    "C0[1] = 1 # '000'\n",
    "\n",
    "D = 10\n",
    "eps = 1e-3\n",
    "\n",
    "mps1 = MPS(C0, eps)\n",
    "println(\"Initial MPS\")\n",
    "mps1 = OneQubitGate(mps1, Hadamard, 0) # -> '001' & '000'\n",
    "mps_size(mps1)\n",
    "\n",
    "arr = CX(mps1, 0, eps) # 今の所、i と i+1の間での計算のみ。 多分swapゲートが必要\n",
    "println(\"\\nBell state MPS\")\n",
    "mps_size(arr)\n",
    "println()\n",
    "for i=0:3\n",
    "    res = restore(arr, i) # MPS で表された状態から、| bin(i) > の係数を計算する関数\n",
    "    println(\"|\", bitstring(i)[end - 1:end], \">: \",  res)\n",
    "end"
   ]
  },
  {
   "cell_type": "markdown",
   "metadata": {},
   "source": [
    "## 確認\n",
    "状態ベクトルでBell state作ってからMPSに変換して同じになってるか確認してみた。"
   ]
  },
  {
   "cell_type": "code",
   "execution_count": 18,
   "metadata": {},
   "outputs": [
    {
     "name": "stdout",
     "output_type": "stream",
     "text": [
      "array 1's size: (1, 2)\n",
      "array 2's size: (2, 1)\n",
      "Num of parameters: 8\n",
      "2^N: 4\n",
      "|00>: 0.7071067811865475 + 0.0im\n",
      "|01>: 0.0 + 0.0im\n",
      "|10>: 0.0 + 0.0im\n",
      "|11>: 0.7071067811865475 + 0.0im\n"
     ]
    }
   ],
   "source": [
    "N = 2\n",
    "C0 = zeros(ComplexF64, 2^N)\n",
    "C0[1] = 0.7071067811865475\n",
    "C0[4] = 0.7071067811865475\n",
    "\n",
    "eps = 1e-3\n",
    "\n",
    "mps1 = MPS(C0, eps)\n",
    "mps_size(mps1)\n",
    "for i=0:3\n",
    "    res = restore(mps1, i)\n",
    "    println(\"|\", bitstring(i)[end - 1:end], \">: \",  res)\n",
    "end"
   ]
  },
  {
   "cell_type": "markdown",
   "metadata": {},
   "source": [
    "# Expectation value"
   ]
  },
  {
   "cell_type": "markdown",
   "metadata": {},
   "source": [
    "### 3量子ビットハイゼンベルグモデル\n",
    "\n",
    "$Z_1 Z_2 + Z_2 Z_3$"
   ]
  },
  {
   "cell_type": "markdown",
   "metadata": {},
   "source": [
    "MPO表現は\n",
    "\n",
    "$$\n",
    "\\left[\\begin{array}{c}\n",
    "    Z_1 & I_1\\\\\n",
    "\\end{array}\\right]\n",
    "\\left[\\begin{array}{c}\n",
    "    Z_2 & 0\\\\\n",
    "    0 & Z_2\\\\\n",
    "\\end{array}\\right]\n",
    "\\left[\\begin{array}{c}\n",
    "    I_3\\\\\n",
    "    Z_3\n",
    "\\end{array}\\right] \\quad\n",
    "$$"
   ]
  },
  {
   "cell_type": "markdown",
   "metadata": {},
   "source": [
    "具体的な計算は、各siteでまずMPSx2,MPOをcontructしてから、site同士でcontract。  \n",
    "\n",
    "$$\n",
    "F^{[i]}_{a_i,b_i,a'_i} = \\sum_{\\sigma_{i},a_{i-1}}(A^{[i]\\sigma_i\\dagger})_{a_i,a_{i-1}}\n",
    "\\biggl(\\sum_{\\sigma'_{i},b_{i-1}}W^{[i]\\sigma_i \\sigma'_i}_{b_{i-1},b_i} \n",
    "\\biggl(\\sum_{a'_{i-1}}F^{[i-1]}_{a_{i-1},b_{i-1},a'_{i-1}} A^{[i]\\sigma'_i}_{a'_{i-1},a'_i} \\biggr) \\biggr)\n",
    "$$"
   ]
  },
  {
   "cell_type": "markdown",
   "metadata": {},
   "source": [
    "上記MPOの説明と全く同じようにMPO \"O\" を用意"
   ]
  },
  {
   "cell_type": "code",
   "execution_count": 21,
   "metadata": {},
   "outputs": [
    {
     "data": {
      "text/plain": [
       "3-element Array{Any,1}:\n",
       " Complex{Float64}[1.0 + 0.0im 0.0 + 0.0im; 0.0 + 0.0im -1.0 + 0.0im]\n",
       "\n",
       "Complex{Float64}[1.0 + 0.0im 0.0 + 0.0im; 0.0 + 0.0im 1.0 + 0.0im]\n",
       " Complex{Float64}[1.0 + 0.0im 0.0 + 0.0im; 0.0 + 0.0im -1.0 + 0.0im]\n",
       "\n",
       "Complex{Float64}[0.0 + 0.0im 0.0 + 0.0im; 0.0 + 0.0im 0.0 + 0.0im]\n",
       "\n",
       "Complex{Float64}[0.0 + 0.0im 0.0 + 0.0im; 0.0 + 0.0im 0.0 + 0.0im]\n",
       "\n",
       "Complex{Float64}[1.0 + 0.0im 0.0 + 0.0im; 0.0 + 0.0im -1.0 + 0.0im]\n",
       " Complex{Float64}[1.0 + 0.0im 0.0 + 0.0im; 0.0 + 0.0im 1.0 + 0.0im]\n",
       "\n",
       "Complex{Float64}[1.0 + 0.0im 0.0 + 0.0im; 0.0 + 0.0im -1.0 + 0.0im]"
      ]
     },
     "execution_count": 21,
     "metadata": {},
     "output_type": "execute_result"
    }
   ],
   "source": [
    "pauliZ = convert(Array{ComplexF64,2}, [1 0; 0 -1])\n",
    "pauliI = convert(Array{ComplexF64,2}, [1 0; 0 1])\n",
    "zero = convert(Array{ComplexF64,2}, [0 0; 0 0])\n",
    "\n",
    "O = []\n",
    "push!(O, dstack((pauliZ, pauliI)))\n",
    "push!(O, ddstack([(pauliZ, zero), (zero, pauliZ)]))\n",
    "push!(O, dstack((pauliI, pauliZ)))"
   ]
  },
  {
   "cell_type": "markdown",
   "metadata": {},
   "source": [
    "### 3量子ビットの計算基底8通りについて、ハミルトニアンの期待値を計算"
   ]
  },
  {
   "cell_type": "code",
   "execution_count": 22,
   "metadata": {},
   "outputs": [
    {
     "name": "stdout",
     "output_type": "stream",
     "text": [
      "2.0 + 0.0im\n",
      "0.0 + 0.0im\n",
      "-2.0 + 0.0im\n",
      "0.0 + 0.0im\n",
      "0.0 + 0.0im\n",
      "-2.0 + 0.0im\n",
      "0.0 + 0.0im\n",
      "2.0 + 0.0im\n"
     ]
    }
   ],
   "source": [
    "N = 3\n",
    "eps = 1e-3\n",
    "D = 10\n",
    "\n",
    "for i in 1:8\n",
    "    C0 = zeros(ComplexF64, 2^N)\n",
    "    C0[i] = 1\n",
    "    mps = MPS(C0, eps)\n",
    "    expc = expectation(mps, O)\n",
    "    println(expc)\n",
    "end"
   ]
  },
  {
   "cell_type": "markdown",
   "metadata": {},
   "source": [
    "### 通常の量子状態ベクトルを用いた期待値計算"
   ]
  },
  {
   "cell_type": "code",
   "execution_count": 47,
   "metadata": {},
   "outputs": [
    {
     "data": {
      "text/plain": [
       "tensordot (generic function with 1 method)"
      ]
     },
     "execution_count": 47,
     "metadata": {},
     "output_type": "execute_result"
    }
   ],
   "source": [
    "function tensordot(x::Array, y::Array)\n",
    "    lx = size(x)\n",
    "    ly = size(y)\n",
    "    res = zeros(lx[1] * ly[1], lx[2] * ly[2])\n",
    "    for i in 1:lx[1]\n",
    "        for j in 1:lx[2]\n",
    "            res[ (1+(i-1)*ly[1]):(ly[1]+(i-1)*ly[1]), (1+(j-1)*ly[2]):(ly[2]+(j-1)*ly[2]) ] = x[i,j] * y\n",
    "        end\n",
    "    end\n",
    "    return res\n",
    "end"
   ]
  },
  {
   "cell_type": "code",
   "execution_count": 51,
   "metadata": {},
   "outputs": [
    {
     "name": "stdout",
     "output_type": "stream",
     "text": [
      "2.0\n",
      "0.0\n",
      "-2.0\n",
      "0.0\n",
      "0.0\n",
      "-2.0\n",
      "0.0\n",
      "2.0\n"
     ]
    }
   ],
   "source": [
    "# Hamiltonian\n",
    "H = tensordot(tensordot(pauliZ, pauliZ), pauliI) + tensordot(tensordot(pauliI, pauliZ), pauliZ)\n",
    "\n",
    "for i in 1:8\n",
    "    vec = zeros(8)\n",
    "    vec[i] = 1\n",
    "    expc = transpose(vec) * H * vec\n",
    "    println(expc)\n",
    "end"
   ]
  },
  {
   "cell_type": "markdown",
   "metadata": {},
   "source": [
    "### 4量子ビット ハイゼンベルグモデルの場合"
   ]
  },
  {
   "cell_type": "markdown",
   "metadata": {},
   "source": [
    "$Z_1 Z_2 + Z_2 Z_3 + Z_3 Z_4$"
   ]
  },
  {
   "cell_type": "code",
   "execution_count": 8,
   "metadata": {},
   "outputs": [
    {
     "data": {
      "text/plain": [
       "2×2×3 Array{Complex{Float64},3}:\n",
       "[:, :, 1] =\n",
       " 1.0+0.0im  0.0+0.0im\n",
       " 0.0+0.0im  1.0+0.0im\n",
       "\n",
       "[:, :, 2] =\n",
       " 1.0+0.0im  0.0+0.0im\n",
       " 0.0+0.0im  1.0+0.0im\n",
       "\n",
       "[:, :, 3] =\n",
       " 1.0+0.0im   0.0+0.0im\n",
       " 0.0+0.0im  -1.0+0.0im"
      ]
     },
     "execution_count": 8,
     "metadata": {},
     "output_type": "execute_result"
    }
   ],
   "source": [
    "pauliZ = convert(Array{ComplexF64,2}, [1 0; 0 -1])\n",
    "pauliI = convert(Array{ComplexF64,2}, [1 0; 0 1])\n",
    "zero = convert(Array{ComplexF64,2}, [0 0; 0 0])\n",
    "\n",
    "O = []\n",
    "push!(O, dstack((pauliZ, pauliI, pauliI)) )\n",
    "push!(O, ddstack( [(pauliZ, zero, zero), (zero, pauliZ, zero), (zero, zero, pauliI)] ))\n",
    "push!(O, ddstack( [(pauliI, zero, zero), (zero, pauliZ, zero), (zero, zero, pauliZ)] ))\n",
    "push!(O, dstack((pauliI, pauliI, pauliZ)))\n",
    "O[4]"
   ]
  },
  {
   "cell_type": "markdown",
   "metadata": {},
   "source": [
    "### 計算基底16通りについて期待値を計算\n",
    "\n",
    "### Left normalized"
   ]
  },
  {
   "cell_type": "code",
   "execution_count": 31,
   "metadata": {},
   "outputs": [
    {
     "name": "stdout",
     "output_type": "stream",
     "text": [
      "3.0 + 0.0im\n",
      "1.0 + 0.0im\n",
      "-1.0 + 0.0im\n",
      "1.0 + 0.0im\n",
      "-1.0 + 0.0im\n",
      "-3.0 + 0.0im\n",
      "-1.0 + 0.0im\n",
      "1.0 + 0.0im\n",
      "1.0 + 0.0im\n",
      "-1.0 + 0.0im\n",
      "-3.0 + 0.0im\n",
      "-1.0 + 0.0im\n",
      "1.0 + 0.0im\n",
      "-1.0 + 0.0im\n",
      "1.0 + 0.0im\n",
      "3.0 + 0.0im\n"
     ]
    }
   ],
   "source": [
    "N = 4\n",
    "eps = 1e-3\n",
    "D = 10\n",
    "\n",
    "for i in 1:16\n",
    "    C0 = zeros(ComplexF64, 2^N)\n",
    "    C0[i] = 1 # computational basis\n",
    "    #C0 = normalize!(rand(ComplexF64, 2^N))\n",
    "    mps = MPS(C0, D)\n",
    "    # println(restore(mps, 4))\n",
    "    expc = expectation(mps, O)\n",
    "    println(expc)\n",
    "end"
   ]
  },
  {
   "cell_type": "markdown",
   "metadata": {},
   "source": [
    "### Right normalized\n",
    "\n",
    "Normalizeの違いによって期待値は変わらないため、Left normalizedと同じ結果となるのが正しい"
   ]
  },
  {
   "cell_type": "code",
   "execution_count": 30,
   "metadata": {},
   "outputs": [
    {
     "name": "stdout",
     "output_type": "stream",
     "text": [
      "3.0 + 0.0im\n",
      "1.0 + 0.0im\n",
      "-1.0 + 0.0im\n",
      "1.0 + 0.0im\n",
      "-1.0 + 0.0im\n",
      "-3.0 + 0.0im\n",
      "-1.0 + 0.0im\n",
      "1.0 + 0.0im\n",
      "1.0 + 0.0im\n",
      "-1.0 + 0.0im\n",
      "-3.0 + 0.0im\n",
      "-1.0 + 0.0im\n",
      "1.0 + 0.0im\n",
      "-1.0 + 0.0im\n",
      "1.0 + 0.0im\n",
      "3.0 + 0.0im\n"
     ]
    }
   ],
   "source": [
    "N=4\n",
    "for i in 1:16\n",
    "    C0 = zeros(ComplexF64, 2^N)\n",
    "    C0[i] = 1 # computational basis\n",
    "    #C0 = normalize!(rand(ComplexF64, 2^N))\n",
    "    mps = MPS(C0, D, 'r')\n",
    "    # println(restore(mps, 4))\n",
    "    expc = expectation(mps, O)\n",
    "    println(expc)\n",
    "end"
   ]
  },
  {
   "cell_type": "code",
   "execution_count": null,
   "metadata": {},
   "outputs": [],
   "source": []
  }
 ],
 "metadata": {
  "@webio": {
   "lastCommId": null,
   "lastKernelId": null
  },
  "kernelspec": {
   "display_name": "Julia 1.4.0",
   "language": "julia",
   "name": "julia-1.4"
  },
  "language_info": {
   "file_extension": ".jl",
   "mimetype": "application/julia",
   "name": "julia",
   "version": "1.4.0"
  }
 },
 "nbformat": 4,
 "nbformat_minor": 2
}
