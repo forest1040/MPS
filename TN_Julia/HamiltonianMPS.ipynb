{
 "cells": [
  {
   "cell_type": "code",
   "execution_count": 1,
   "metadata": {},
   "outputs": [
    {
     "data": {
      "text/plain": [
       "PyObject <module 'sympy' from '/Users/ryunagai/.julia/conda/3/lib/python3.7/site-packages/sympy/__init__.py'>"
      ]
     },
     "execution_count": 1,
     "metadata": {},
     "output_type": "execute_result"
    }
   ],
   "source": [
    "include(\"./MPS.jl\")\n",
    "using .MPSforQuantum\n",
    "using TensorOperations\n",
    "using LinearAlgebra\n",
    "using Plots\n",
    "\n",
    "using PyCall\n",
    "sympy = pyimport(\"sympy\")"
   ]
  },
  {
   "cell_type": "markdown",
   "metadata": {},
   "source": [
    "### Ising 相互作用(全結合) + 横磁場"
   ]
  },
  {
   "cell_type": "markdown",
   "metadata": {},
   "source": [
    "シンボル変数の用意"
   ]
  },
  {
   "cell_type": "code",
   "execution_count": 2,
   "metadata": {},
   "outputs": [
    {
     "data": {
      "text/latex": [
       "$\\displaystyle J_{14}$"
      ],
      "text/plain": [
       "PyObject J14"
      ]
     },
     "execution_count": 2,
     "metadata": {},
     "output_type": "execute_result"
    }
   ],
   "source": [
    "N = 4\n",
    "ops = [\"X\", \"Y\", \"Z\", \"I\"]\n",
    "a = \" \"\n",
    "for j = 1:4\n",
    "    op = ops[j]\n",
    "    for i = 1:N\n",
    "        a = string(op, i)\n",
    "        prog = string(op, \"_ = sympy.Symbol(a)\")\n",
    "        prog = replace(prog, \"_\" => \"$i\")\n",
    "        ex1 = Meta.parse(prog)\n",
    "        #a = string(op, string(i))\n",
    "        eval(ex1)\n",
    "    end\n",
    "end\n",
    "J12 = sympy.Symbol(\"J12\")\n",
    "J23 = sympy.Symbol(\"J23\")\n",
    "J34 = sympy.Symbol(\"J34\")\n",
    "J13 = sympy.Symbol(\"J13\")\n",
    "J24 = sympy.Symbol(\"J24\")\n",
    "J14 = sympy.Symbol(\"J14\")"
   ]
  },
  {
   "cell_type": "code",
   "execution_count": 3,
   "metadata": {},
   "outputs": [
    {
     "data": {
      "text/latex": [
       "$\\displaystyle \\left[\\begin{matrix}I_{1} I_{2} I_{3} X_{4} h + I_{1} I_{2} I_{4} X_{3} h + I_{1} I_{2} J_{34} Z_{3} Z_{4} + I_{1} I_{3} I_{4} X_{2} h + I_{1} I_{3} J_{24} Z_{2} Z_{4} + I_{1} I_{4} J_{23} Z_{2} Z_{3} + I_{2} I_{3} I_{4} X_{1} h + I_{2} I_{3} J_{14} Z_{1} Z_{4} + I_{2} I_{4} J_{13} Z_{1} Z_{3} + I_{3} I_{4} J_{12} Z_{1} Z_{2}\\end{matrix}\\right]$"
      ],
      "text/plain": [
       "PyObject Matrix([[I1*I2*I3*X4*h + I1*I2*I4*X3*h + I1*I2*J34*Z3*Z4 + I1*I3*I4*X2*h + I1*I3*J24*Z2*Z4 + I1*I4*J23*Z2*Z3 + I2*I3*I4*X1*h + I2*I3*J14*Z1*Z4 + I2*I4*J13*Z1*Z3 + I3*I4*J12*Z1*Z2]])"
      ]
     },
     "execution_count": 3,
     "metadata": {},
     "output_type": "execute_result"
    }
   ],
   "source": [
    "h = sympy.Symbol(\"h\")\n",
    "\n",
    "W1 = sympy.Matrix([[h*X1, J12*Z1, J13*Z1, J14*Z1, I1]])\n",
    "W2 = sympy.Matrix([\n",
    "        [I2, 0, 0, 0, 0],\n",
    "        [Z2, 0, 0, 0, 0],\n",
    "        [0, I2, 0, 0, 0],\n",
    "        [0, 0, I2, 0, 0],\n",
    "        [h*X2, J23*Z2, J24*Z2, 0, I2],\n",
    "        ])\n",
    "W3 = sympy.Matrix([\n",
    "        [I3, 0, 0, 0, 0],\n",
    "        [Z3, 0, 0, 0, 0],\n",
    "        [0, I3, 0, 0, 0],\n",
    "        [0, 0, I3, 0, 0],\n",
    "        [h*X3, J34*Z3, 0, 0, I3],\n",
    "        ])\n",
    "W4 = sympy.Matrix([I4, Z4, 0, 0, h*X4])\n",
    "sympy.expand(W1*W2*W3*W4)"
   ]
  },
  {
   "cell_type": "markdown",
   "metadata": {},
   "source": [
    "### Ising 相互作用項(NN, 一様)+横磁場"
   ]
  },
  {
   "cell_type": "code",
   "execution_count": 4,
   "metadata": {},
   "outputs": [
    {
     "data": {
      "text/latex": [
       "$\\displaystyle \\left[\\begin{matrix}I_{1} I_{2} I_{3} X_{4} h + I_{1} I_{2} I_{4} X_{3} h + I_{1} I_{2} J Z_{3} Z_{4} + I_{1} I_{3} I_{4} X_{2} h + I_{1} I_{4} J Z_{2} Z_{3} + I_{2} I_{3} I_{4} X_{1} h + I_{3} I_{4} J Z_{1} Z_{2}\\end{matrix}\\right]$"
      ],
      "text/plain": [
       "PyObject Matrix([[I1*I2*I3*X4*h + I1*I2*I4*X3*h + I1*I2*J*Z3*Z4 + I1*I3*I4*X2*h + I1*I4*J*Z2*Z3 + I2*I3*I4*X1*h + I3*I4*J*Z1*Z2]])"
      ]
     },
     "execution_count": 4,
     "metadata": {},
     "output_type": "execute_result"
    }
   ],
   "source": [
    "J = sympy.Symbol(\"J\")\n",
    "\n",
    "W1 = sympy.Matrix([[h*X1, J*Z1, I1]])\n",
    "W2 = sympy.Matrix([\n",
    "        [I2, 0, 0],\n",
    "        [Z2, 0, 0],\n",
    "        [h*X2, J*Z2, I2],\n",
    "        ])\n",
    "W3 = sympy.Matrix([\n",
    "        [I3, 0, 0],\n",
    "        [Z3, 0, 0],\n",
    "        [h*X3, J*Z3, I3],\n",
    "        ])\n",
    "W4 = sympy.Matrix([I4, Z4, h*X4])\n",
    "sympy.expand(W1*W2*W3*W4)"
   ]
  },
  {
   "cell_type": "code",
   "execution_count": 5,
   "metadata": {},
   "outputs": [
    {
     "data": {
      "text/plain": [
       "Ising_NN_Hamiltonian_MPO (generic function with 1 method)"
      ]
     },
     "execution_count": 5,
     "metadata": {},
     "output_type": "execute_result"
    }
   ],
   "source": [
    "pauliX = convert(Array{ComplexF64,2}, [0 1; 1 0])\n",
    "pauliY = convert(Array{ComplexF64,2}, [0 -1*im; 1*im 0])\n",
    "pauliZ = convert(Array{ComplexF64,2}, [1 0; 0 -1])\n",
    "pauliI = convert(Array{ComplexF64,2}, [1 0; 0 1])\n",
    "zero = convert(Array{ComplexF64,2}, [0 0; 0 0])\n",
    "\n",
    "function Ising_NN_Hamiltonian_MPO(N_sites::Int64, h::Float64, J::Float64)\n",
    "    if N_sites < 2\n",
    "        error(\"N_sites must be larger than 1\")\n",
    "    end\n",
    "    O = []\n",
    "    push!(O, dstack((h*pauliX, J*pauliZ, pauliI)) )\n",
    "    for i = 1:(N_sites-2)\n",
    "        push!(O, ddstack( [(pauliI, zero, zero), (pauliZ, zero, zero), (h*pauliX, J*pauliZ, pauliI)] ))\n",
    "    end\n",
    "    push!(O, dstack((pauliI, pauliZ, h*pauliX)))\n",
    "    return O\n",
    "end"
   ]
  },
  {
   "cell_type": "markdown",
   "metadata": {},
   "source": [
    "4 site で計算"
   ]
  },
  {
   "cell_type": "code",
   "execution_count": 6,
   "metadata": {},
   "outputs": [
    {
     "data": {
      "text/plain": [
       "(Any[Array{Complex{Float64},2}[[0.5024911015464757 + 2.508861712867713e-17im -0.49749646079489473 - 2.5090165261169178e-17im], [0.5024968957765388 + 0.0im 0.4974905366920113 - 2.509199787946071e-19im]], Array{Complex{Float64},2}[[0.5011380204459124 - 7.537561530224585e-11im 0.4988535110191089 - 7.504713995849303e-11im 3.1021936831079643e-6 - 4.333683853266967e-16im -3.0841577070304733e-6 + 4.076943340119018e-16im; -0.49864339440584265 + 7.537659896871264e-11im -0.5013587779064287 + 7.504610997656417e-11im 3.149055092229989e-6 + 2.1868732379748495e-17im -3.1622106691459468e-6 + 1.0632939226526989e-15im], [0.5014335669048589 - 1.796614449067776e-13im -0.49856818686139576 - 5.807555726929505e-13im -3.1003642473696062e-6 + 1.0837038214034266e-13im -3.085922635176418e-6 + 1.0897419363625045e-13im; 0.4989286742294857 + 1.9721192457158449e-13im -0.501063188653254 - 2.0552517566934313e-13im 3.147253492316214e-6 - 1.104927756483854e-13im 3.1640760383733493e-6 - 1.1111946225724091e-13im]], Array{Complex{Float64},2}[[0.5035915356665912 + 0.0im -0.4960898289274288 - 3.7418514931502293e-13im; 0.501396151479544 + 0.0im -0.4988911164986015 + 3.7598345620169016e-13im; 0.49889115264245315 + 0.0im 0.5013961881699515 - 8.761914406120471e-11im; -0.4960897925794799 + 0.0im -0.5035914991361315 - 8.811375731590767e-11im], [0.5038801327935971 - 7.560571093756466e-11im 0.4963821699211464 - 7.48546048927771e-11im; -0.5011009391319952 + 7.593675421188437e-11im -0.49860545721172544 + 7.518236337263475e-11im; -0.4986054210465716 - 1.734965658622029e-8im 0.5011009024205583 + 1.7524159645072764e-8im; -0.4963822062482801 - 1.7447628033229406e-8im 0.5038801693025459 + 1.76231164950739e-8im]], Array{Complex{Float64},2}[[0.7071086183943683 + 0.0im; -0.7071049439739532 + 0.0im], [0.7071049439739532 - 2.3959557431621064e-14im; 0.7071086183943683 - 2.3959681935752615e-14im]]], Any[-0.15074819102547574 - 1.734723475976807e-18im, -3.0001500112490374 + 1.3715157666743342e-17im, -3.0001500112490387 - 3.2444271309929774e-26im, -3.000150011249039 - 1.2931007958382826e-26im])"
      ]
     },
     "execution_count": 6,
     "metadata": {},
     "output_type": "execute_result"
    }
   ],
   "source": [
    "D = 10\n",
    "N = 4\n",
    "C0 = zeros(ComplexF64, 2^N)\n",
    "C0 = normalize!(rand(ComplexF64, 2^N))\n",
    "mps = MPS(C0, D, 'r') # convert to MPS\n",
    "O = Ising_NN_Hamiltonian_MPO(N, -0.01, -1.0)\n",
    "\n",
    "(opt_mps, hist) = iterative_ground_state_search(mps, O, D, 1)"
   ]
  },
  {
   "cell_type": "code",
   "execution_count": 7,
   "metadata": {},
   "outputs": [
    {
     "data": {
      "text/plain": [
       "4-element Array{Any,1}:\n",
       " -0.15074819102547574 - 1.734723475976807e-18im\n",
       "  -3.0001500112490374 + 1.3715157666743342e-17im\n",
       "  -3.0001500112490387 - 3.2444271309929774e-26im\n",
       "   -3.000150011249039 - 1.2931007958382826e-26im"
      ]
     },
     "execution_count": 7,
     "metadata": {},
     "output_type": "execute_result"
    }
   ],
   "source": [
    "hist"
   ]
  },
  {
   "cell_type": "code",
   "execution_count": 8,
   "metadata": {},
   "outputs": [
    {
     "data": {
      "text/plain": [
       "0.9998749903162423 + 0.0im"
      ]
     },
     "execution_count": 8,
     "metadata": {},
     "output_type": "execute_result"
    }
   ],
   "source": [
    "O_Z = []\n",
    "\n",
    "# H = Z1 Z2 Z3 Z4 の期待値をとる\n",
    "function pauliZ_measurement_MPO(N_sites::Int64)\n",
    "    if N_sites < 2\n",
    "        error(\"N_sites must be larger than 1\")\n",
    "    end\n",
    "    O_Z = []\n",
    "    push!(O_Z, dstack((pauliZ,)))\n",
    "    for i = 1:(N_sites-2)\n",
    "        push!(O_Z, ddstack( [(pauliZ,)] ) )\n",
    "    end\n",
    "    push!(O_Z, dstack( (pauliZ,) ))\n",
    "    return O_Z\n",
    "end\n",
    "\n",
    "# H = Z1 + Z2 + Z3 + Z4\n",
    "# 個々の量子ビットをpuli Z測定した値の和: magnetization に対応?\n",
    "# Ising model では常にゼロ\n",
    "function pauliZ_measurement_MPO_2(N_sites::Int64)\n",
    "    if N_sites < 2\n",
    "        error(\"N_sites must be larger than 1\")\n",
    "    end\n",
    "    O_Z = []\n",
    "    push!(O_Z, dstack((pauliZ, pauliI)))\n",
    "    for i = 1:(N_sites-2)\n",
    "        push!(O_Z, ddstack( [(pauliI, zero), (pauliZ, pauliI)] ) )\n",
    "    end\n",
    "    push!(O_Z, dstack( (pauliI, pauliZ) ))\n",
    "    return O_Z\n",
    "end\n",
    "\n",
    "O_Z = pauliZ_measurement_MPO(N)\n",
    "expectation(opt_mps, O_Z)"
   ]
  },
  {
   "cell_type": "markdown",
   "metadata": {},
   "source": [
    "$h<<J$ レジームで計算した基底状態は$\\frac{1}{\\sqrt{2}} (|0000\\rangle + |1111\\rangle)$"
   ]
  },
  {
   "cell_type": "code",
   "execution_count": 9,
   "metadata": {},
   "outputs": [
    {
     "name": "stdout",
     "output_type": "stream",
     "text": [
      "0.7070847045350944 - 1.0636252816410481e-10im\n",
      "0.7070846541360519 - 1.0636251256481518e-10im"
     ]
    }
   ],
   "source": [
    "print(restore(opt_mps, 0), '\\n', restore(opt_mps, 15))"
   ]
  },
  {
   "cell_type": "markdown",
   "metadata": {},
   "source": [
    "pauli Z測定の期待値を通して相転移を見る"
   ]
  },
  {
   "cell_type": "code",
   "execution_count": 10,
   "metadata": {},
   "outputs": [
    {
     "data": {
      "text/plain": [
       "Ising_phase_transition (generic function with 1 method)"
      ]
     },
     "execution_count": 10,
     "metadata": {},
     "output_type": "execute_result"
    }
   ],
   "source": [
    "function Ising_phase_transition(N_sites::Int64, D::Int64, h::Float64, J::Float64)\n",
    "    C0 = zeros(ComplexF64, 2^N_sites)\n",
    "    C0 = normalize!(rand(ComplexF64, 2^N_sites))\n",
    "    mps = MPS(C0, D, 'r') # convert to MPS\n",
    "    O = Ising_NN_Hamiltonian_MPO(N_sites, h, J)\n",
    "    (opt_mps, hist) = iterative_ground_state_search(mps, O, D, 1)\n",
    "    O_Z = pauliZ_measurement_MPO(N_sites)\n",
    "    mag_z = expectation(opt_mps, O_Z)\n",
    "    return mag_z\n",
    "end"
   ]
  },
  {
   "cell_type": "code",
   "execution_count": 11,
   "metadata": {},
   "outputs": [
    {
     "data": {
      "image/svg+xml": [
       "<?xml version=\"1.0\" encoding=\"utf-8\"?>\n",
       "<svg xmlns=\"http://www.w3.org/2000/svg\" xmlns:xlink=\"http://www.w3.org/1999/xlink\" width=\"600\" height=\"400\" viewBox=\"0 0 2400 1600\">\n",
       "<defs>\n",
       "  <clipPath id=\"clip720\">\n",
       "    <rect x=\"0\" y=\"0\" width=\"2400\" height=\"1600\"/>\n",
       "  </clipPath>\n",
       "</defs>\n",
       "<path clip-path=\"url(#clip720)\" d=\"\n",
       "M0 1600 L2400 1600 L2400 0 L0 0  Z\n",
       "  \" fill=\"#ffffff\" fill-rule=\"evenodd\" fill-opacity=\"1\"/>\n",
       "<defs>\n",
       "  <clipPath id=\"clip721\">\n",
       "    <rect x=\"480\" y=\"0\" width=\"1681\" height=\"1600\"/>\n",
       "  </clipPath>\n",
       "</defs>\n",
       "<path clip-path=\"url(#clip720)\" d=\"\n",
       "M148.334 1486.45 L2352.76 1486.45 L2352.76 47.2441 L148.334 47.2441  Z\n",
       "  \" fill=\"#ffffff\" fill-rule=\"evenodd\" fill-opacity=\"1\"/>\n",
       "<defs>\n",
       "  <clipPath id=\"clip722\">\n",
       "    <rect x=\"148\" y=\"47\" width=\"2205\" height=\"1440\"/>\n",
       "  </clipPath>\n",
       "</defs>\n",
       "<polyline clip-path=\"url(#clip722)\" style=\"stroke:#000000; stroke-width:2; stroke-opacity:0.1; fill:none\" points=\"\n",
       "  359.27,1486.45 359.27,47.2441 \n",
       "  \"/>\n",
       "<polyline clip-path=\"url(#clip722)\" style=\"stroke:#000000; stroke-width:2; stroke-opacity:0.1; fill:none\" points=\"\n",
       "  656.361,1486.45 656.361,47.2441 \n",
       "  \"/>\n",
       "<polyline clip-path=\"url(#clip722)\" style=\"stroke:#000000; stroke-width:2; stroke-opacity:0.1; fill:none\" points=\"\n",
       "  953.453,1486.45 953.453,47.2441 \n",
       "  \"/>\n",
       "<polyline clip-path=\"url(#clip722)\" style=\"stroke:#000000; stroke-width:2; stroke-opacity:0.1; fill:none\" points=\"\n",
       "  1250.55,1486.45 1250.55,47.2441 \n",
       "  \"/>\n",
       "<polyline clip-path=\"url(#clip722)\" style=\"stroke:#000000; stroke-width:2; stroke-opacity:0.1; fill:none\" points=\"\n",
       "  1547.64,1486.45 1547.64,47.2441 \n",
       "  \"/>\n",
       "<polyline clip-path=\"url(#clip722)\" style=\"stroke:#000000; stroke-width:2; stroke-opacity:0.1; fill:none\" points=\"\n",
       "  1844.73,1486.45 1844.73,47.2441 \n",
       "  \"/>\n",
       "<polyline clip-path=\"url(#clip722)\" style=\"stroke:#000000; stroke-width:2; stroke-opacity:0.1; fill:none\" points=\"\n",
       "  2141.82,1486.45 2141.82,47.2441 \n",
       "  \"/>\n",
       "<polyline clip-path=\"url(#clip722)\" style=\"stroke:#000000; stroke-width:2; stroke-opacity:0.1; fill:none\" points=\"\n",
       "  148.334,1313.41 2352.76,1313.41 \n",
       "  \"/>\n",
       "<polyline clip-path=\"url(#clip722)\" style=\"stroke:#000000; stroke-width:2; stroke-opacity:0.1; fill:none\" points=\"\n",
       "  148.334,1002.15 2352.76,1002.15 \n",
       "  \"/>\n",
       "<polyline clip-path=\"url(#clip722)\" style=\"stroke:#000000; stroke-width:2; stroke-opacity:0.1; fill:none\" points=\"\n",
       "  148.334,690.895 2352.76,690.895 \n",
       "  \"/>\n",
       "<polyline clip-path=\"url(#clip722)\" style=\"stroke:#000000; stroke-width:2; stroke-opacity:0.1; fill:none\" points=\"\n",
       "  148.334,379.636 2352.76,379.636 \n",
       "  \"/>\n",
       "<polyline clip-path=\"url(#clip722)\" style=\"stroke:#000000; stroke-width:2; stroke-opacity:0.1; fill:none\" points=\"\n",
       "  148.334,68.3777 2352.76,68.3777 \n",
       "  \"/>\n",
       "<polyline clip-path=\"url(#clip720)\" style=\"stroke:#000000; stroke-width:4; stroke-opacity:1; fill:none\" points=\"\n",
       "  148.334,1486.45 2352.76,1486.45 \n",
       "  \"/>\n",
       "<polyline clip-path=\"url(#clip720)\" style=\"stroke:#000000; stroke-width:4; stroke-opacity:1; fill:none\" points=\"\n",
       "  148.334,1486.45 148.334,47.2441 \n",
       "  \"/>\n",
       "<polyline clip-path=\"url(#clip720)\" style=\"stroke:#000000; stroke-width:4; stroke-opacity:1; fill:none\" points=\"\n",
       "  359.27,1486.45 359.27,1469.18 \n",
       "  \"/>\n",
       "<polyline clip-path=\"url(#clip720)\" style=\"stroke:#000000; stroke-width:4; stroke-opacity:1; fill:none\" points=\"\n",
       "  656.361,1486.45 656.361,1469.18 \n",
       "  \"/>\n",
       "<polyline clip-path=\"url(#clip720)\" style=\"stroke:#000000; stroke-width:4; stroke-opacity:1; fill:none\" points=\"\n",
       "  953.453,1486.45 953.453,1469.18 \n",
       "  \"/>\n",
       "<polyline clip-path=\"url(#clip720)\" style=\"stroke:#000000; stroke-width:4; stroke-opacity:1; fill:none\" points=\"\n",
       "  1250.55,1486.45 1250.55,1469.18 \n",
       "  \"/>\n",
       "<polyline clip-path=\"url(#clip720)\" style=\"stroke:#000000; stroke-width:4; stroke-opacity:1; fill:none\" points=\"\n",
       "  1547.64,1486.45 1547.64,1469.18 \n",
       "  \"/>\n",
       "<polyline clip-path=\"url(#clip720)\" style=\"stroke:#000000; stroke-width:4; stroke-opacity:1; fill:none\" points=\"\n",
       "  1844.73,1486.45 1844.73,1469.18 \n",
       "  \"/>\n",
       "<polyline clip-path=\"url(#clip720)\" style=\"stroke:#000000; stroke-width:4; stroke-opacity:1; fill:none\" points=\"\n",
       "  2141.82,1486.45 2141.82,1469.18 \n",
       "  \"/>\n",
       "<polyline clip-path=\"url(#clip720)\" style=\"stroke:#000000; stroke-width:4; stroke-opacity:1; fill:none\" points=\"\n",
       "  148.334,1313.41 174.787,1313.41 \n",
       "  \"/>\n",
       "<polyline clip-path=\"url(#clip720)\" style=\"stroke:#000000; stroke-width:4; stroke-opacity:1; fill:none\" points=\"\n",
       "  148.334,1002.15 174.787,1002.15 \n",
       "  \"/>\n",
       "<polyline clip-path=\"url(#clip720)\" style=\"stroke:#000000; stroke-width:4; stroke-opacity:1; fill:none\" points=\"\n",
       "  148.334,690.895 174.787,690.895 \n",
       "  \"/>\n",
       "<polyline clip-path=\"url(#clip720)\" style=\"stroke:#000000; stroke-width:4; stroke-opacity:1; fill:none\" points=\"\n",
       "  148.334,379.636 174.787,379.636 \n",
       "  \"/>\n",
       "<polyline clip-path=\"url(#clip720)\" style=\"stroke:#000000; stroke-width:4; stroke-opacity:1; fill:none\" points=\"\n",
       "  148.334,68.3777 174.787,68.3777 \n",
       "  \"/>\n",
       "<path clip-path=\"url(#clip720)\" d=\"M 0 0 M341.585 1508.44 Q337.973 1508.44 336.145 1512 Q334.339 1515.55 334.339 1522.67 Q334.339 1529.78 336.145 1533.35 Q337.973 1536.89 341.585 1536.89 Q345.219 1536.89 347.024 1533.35 Q348.853 1529.78 348.853 1522.67 Q348.853 1515.55 347.024 1512 Q345.219 1508.44 341.585 1508.44 M341.585 1504.73 Q347.395 1504.73 350.45 1509.34 Q353.529 1513.92 353.529 1522.67 Q353.529 1531.4 350.45 1536.01 Q347.395 1540.59 341.585 1540.59 Q335.774 1540.59 332.696 1536.01 Q329.64 1531.4 329.64 1522.67 Q329.64 1513.92 332.696 1509.34 Q335.774 1504.73 341.585 1504.73 Z\" fill=\"#000000\" fill-rule=\"evenodd\" fill-opacity=\"1\" /><path clip-path=\"url(#clip720)\" d=\"M 0 0 M358.598 1534.04 L363.483 1534.04 L363.483 1539.92 L358.598 1539.92 L358.598 1534.04 Z\" fill=\"#000000\" fill-rule=\"evenodd\" fill-opacity=\"1\" /><path clip-path=\"url(#clip720)\" d=\"M 0 0 M372.58 1535.98 L388.899 1535.98 L388.899 1539.92 L366.955 1539.92 L366.955 1535.98 Q369.617 1533.23 374.2 1528.6 Q378.807 1523.95 379.987 1522.61 Q382.232 1520.08 383.112 1518.35 Q384.015 1516.59 384.015 1514.9 Q384.015 1512.14 382.07 1510.41 Q380.149 1508.67 377.047 1508.67 Q374.848 1508.67 372.395 1509.43 Q369.964 1510.2 367.186 1511.75 L367.186 1507.03 Q370.01 1505.89 372.464 1505.31 Q374.918 1504.73 376.955 1504.73 Q382.325 1504.73 385.519 1507.42 Q388.714 1510.11 388.714 1514.6 Q388.714 1516.73 387.904 1518.65 Q387.117 1520.54 385.01 1523.14 Q384.432 1523.81 381.33 1527.03 Q378.228 1530.22 372.58 1535.98 Z\" fill=\"#000000\" fill-rule=\"evenodd\" fill-opacity=\"1\" /><path clip-path=\"url(#clip720)\" d=\"M 0 0 M637.635 1508.44 Q634.024 1508.44 632.195 1512 Q630.389 1515.55 630.389 1522.67 Q630.389 1529.78 632.195 1533.35 Q634.024 1536.89 637.635 1536.89 Q641.269 1536.89 643.074 1533.35 Q644.903 1529.78 644.903 1522.67 Q644.903 1515.55 643.074 1512 Q641.269 1508.44 637.635 1508.44 M637.635 1504.73 Q643.445 1504.73 646.5 1509.34 Q649.579 1513.92 649.579 1522.67 Q649.579 1531.4 646.5 1536.01 Q643.445 1540.59 637.635 1540.59 Q631.825 1540.59 628.746 1536.01 Q625.69 1531.4 625.69 1522.67 Q625.69 1513.92 628.746 1509.34 Q631.825 1504.73 637.635 1504.73 Z\" fill=\"#000000\" fill-rule=\"evenodd\" fill-opacity=\"1\" /><path clip-path=\"url(#clip720)\" d=\"M 0 0 M654.648 1534.04 L659.533 1534.04 L659.533 1539.92 L654.648 1539.92 L654.648 1534.04 Z\" fill=\"#000000\" fill-rule=\"evenodd\" fill-opacity=\"1\" /><path clip-path=\"url(#clip720)\" d=\"M 0 0 M677.449 1509.43 L665.644 1527.88 L677.449 1527.88 L677.449 1509.43 M676.222 1505.36 L682.102 1505.36 L682.102 1527.88 L687.033 1527.88 L687.033 1531.77 L682.102 1531.77 L682.102 1539.92 L677.449 1539.92 L677.449 1531.77 L661.848 1531.77 L661.848 1527.26 L676.222 1505.36 Z\" fill=\"#000000\" fill-rule=\"evenodd\" fill-opacity=\"1\" /><path clip-path=\"url(#clip720)\" d=\"M 0 0 M934.889 1508.44 Q931.277 1508.44 929.449 1512 Q927.643 1515.55 927.643 1522.67 Q927.643 1529.78 929.449 1533.35 Q931.277 1536.89 934.889 1536.89 Q938.523 1536.89 940.328 1533.35 Q942.157 1529.78 942.157 1522.67 Q942.157 1515.55 940.328 1512 Q938.523 1508.44 934.889 1508.44 M934.889 1504.73 Q940.699 1504.73 943.754 1509.34 Q946.833 1513.92 946.833 1522.67 Q946.833 1531.4 943.754 1536.01 Q940.699 1540.59 934.889 1540.59 Q929.078 1540.59 926 1536.01 Q922.944 1531.4 922.944 1522.67 Q922.944 1513.92 926 1509.34 Q929.078 1504.73 934.889 1504.73 Z\" fill=\"#000000\" fill-rule=\"evenodd\" fill-opacity=\"1\" /><path clip-path=\"url(#clip720)\" d=\"M 0 0 M951.902 1534.04 L956.787 1534.04 L956.787 1539.92 L951.902 1539.92 L951.902 1534.04 Z\" fill=\"#000000\" fill-rule=\"evenodd\" fill-opacity=\"1\" /><path clip-path=\"url(#clip720)\" d=\"M 0 0 M972.435 1520.78 Q969.287 1520.78 967.435 1522.93 Q965.606 1525.08 965.606 1528.83 Q965.606 1532.56 967.435 1534.73 Q969.287 1536.89 972.435 1536.89 Q975.583 1536.89 977.412 1534.73 Q979.263 1532.56 979.263 1528.83 Q979.263 1525.08 977.412 1522.93 Q975.583 1520.78 972.435 1520.78 M981.717 1506.12 L981.717 1510.38 Q979.958 1509.55 978.152 1509.11 Q976.37 1508.67 974.611 1508.67 Q969.981 1508.67 967.527 1511.8 Q965.097 1514.92 964.75 1521.24 Q966.115 1519.23 968.175 1518.16 Q970.236 1517.07 972.712 1517.07 Q977.921 1517.07 980.93 1520.24 Q983.962 1523.39 983.962 1528.83 Q983.962 1534.16 980.814 1537.37 Q977.666 1540.59 972.435 1540.59 Q966.439 1540.59 963.268 1536.01 Q960.097 1531.4 960.097 1522.67 Q960.097 1514.48 963.986 1509.62 Q967.875 1504.73 974.425 1504.73 Q976.185 1504.73 977.967 1505.08 Q979.773 1505.43 981.717 1506.12 Z\" fill=\"#000000\" fill-rule=\"evenodd\" fill-opacity=\"1\" /><path clip-path=\"url(#clip720)\" d=\"M 0 0 M1232.11 1508.44 Q1228.5 1508.44 1226.67 1512 Q1224.86 1515.55 1224.86 1522.67 Q1224.86 1529.78 1226.67 1533.35 Q1228.5 1536.89 1232.11 1536.89 Q1235.74 1536.89 1237.55 1533.35 Q1239.38 1529.78 1239.38 1522.67 Q1239.38 1515.55 1237.55 1512 Q1235.74 1508.44 1232.11 1508.44 M1232.11 1504.73 Q1237.92 1504.73 1240.97 1509.34 Q1244.05 1513.92 1244.05 1522.67 Q1244.05 1531.4 1240.97 1536.01 Q1237.92 1540.59 1232.11 1540.59 Q1226.3 1540.59 1223.22 1536.01 Q1220.16 1531.4 1220.16 1522.67 Q1220.16 1513.92 1223.22 1509.34 Q1226.3 1504.73 1232.11 1504.73 Z\" fill=\"#000000\" fill-rule=\"evenodd\" fill-opacity=\"1\" /><path clip-path=\"url(#clip720)\" d=\"M 0 0 M1249.12 1534.04 L1254.01 1534.04 L1254.01 1539.92 L1249.12 1539.92 L1249.12 1534.04 Z\" fill=\"#000000\" fill-rule=\"evenodd\" fill-opacity=\"1\" /><path clip-path=\"url(#clip720)\" d=\"M 0 0 M1269.08 1523.51 Q1265.74 1523.51 1263.82 1525.29 Q1261.92 1527.07 1261.92 1530.2 Q1261.92 1533.32 1263.82 1535.11 Q1265.74 1536.89 1269.08 1536.89 Q1272.41 1536.89 1274.33 1535.11 Q1276.25 1533.3 1276.25 1530.2 Q1276.25 1527.07 1274.33 1525.29 Q1272.43 1523.51 1269.08 1523.51 M1264.4 1521.52 Q1261.39 1520.78 1259.7 1518.72 Q1258.03 1516.66 1258.03 1513.69 Q1258.03 1509.55 1260.97 1507.14 Q1263.94 1504.73 1269.08 1504.73 Q1274.24 1504.73 1277.18 1507.14 Q1280.12 1509.55 1280.12 1513.69 Q1280.12 1516.66 1278.43 1518.72 Q1276.76 1520.78 1273.77 1521.52 Q1277.15 1522.3 1279.03 1524.6 Q1280.93 1526.89 1280.93 1530.2 Q1280.93 1535.22 1277.85 1537.91 Q1274.79 1540.59 1269.08 1540.59 Q1263.36 1540.59 1260.28 1537.91 Q1257.22 1535.22 1257.22 1530.2 Q1257.22 1526.89 1259.12 1524.6 Q1261.02 1522.3 1264.4 1521.52 M1262.69 1514.13 Q1262.69 1516.82 1264.35 1518.32 Q1266.04 1519.83 1269.08 1519.83 Q1272.08 1519.83 1273.77 1518.32 Q1275.49 1516.82 1275.49 1514.13 Q1275.49 1511.45 1273.77 1509.94 Q1272.08 1508.44 1269.08 1508.44 Q1266.04 1508.44 1264.35 1509.94 Q1262.69 1511.45 1262.69 1514.13 Z\" fill=\"#000000\" fill-rule=\"evenodd\" fill-opacity=\"1\" /><path clip-path=\"url(#clip720)\" d=\"M 0 0 M1519.54 1535.98 L1527.17 1535.98 L1527.17 1509.62 L1518.86 1511.29 L1518.86 1507.03 L1527.13 1505.36 L1531.8 1505.36 L1531.8 1535.98 L1539.44 1535.98 L1539.44 1539.92 L1519.54 1539.92 L1519.54 1535.98 Z\" fill=\"#000000\" fill-rule=\"evenodd\" fill-opacity=\"1\" /><path clip-path=\"url(#clip720)\" d=\"M 0 0 M1544.51 1534.04 L1549.4 1534.04 L1549.4 1539.92 L1544.51 1539.92 L1544.51 1534.04 Z\" fill=\"#000000\" fill-rule=\"evenodd\" fill-opacity=\"1\" /><path clip-path=\"url(#clip720)\" d=\"M 0 0 M1564.47 1508.44 Q1560.85 1508.44 1559.03 1512 Q1557.22 1515.55 1557.22 1522.67 Q1557.22 1529.78 1559.03 1533.35 Q1560.85 1536.89 1564.47 1536.89 Q1568.1 1536.89 1569.91 1533.35 Q1571.73 1529.78 1571.73 1522.67 Q1571.73 1515.55 1569.91 1512 Q1568.1 1508.44 1564.47 1508.44 M1564.47 1504.73 Q1570.28 1504.73 1573.33 1509.34 Q1576.41 1513.92 1576.41 1522.67 Q1576.41 1531.4 1573.33 1536.01 Q1570.28 1540.59 1564.47 1540.59 Q1558.66 1540.59 1555.58 1536.01 Q1552.52 1531.4 1552.52 1522.67 Q1552.52 1513.92 1555.58 1509.34 Q1558.66 1504.73 1564.47 1504.73 Z\" fill=\"#000000\" fill-rule=\"evenodd\" fill-opacity=\"1\" /><path clip-path=\"url(#clip720)\" d=\"M 0 0 M1817.43 1535.98 L1825.06 1535.98 L1825.06 1509.62 L1816.75 1511.29 L1816.75 1507.03 L1825.02 1505.36 L1829.69 1505.36 L1829.69 1535.98 L1837.33 1535.98 L1837.33 1539.92 L1817.43 1539.92 L1817.43 1535.98 Z\" fill=\"#000000\" fill-rule=\"evenodd\" fill-opacity=\"1\" /><path clip-path=\"url(#clip720)\" d=\"M 0 0 M1842.4 1534.04 L1847.29 1534.04 L1847.29 1539.92 L1842.4 1539.92 L1842.4 1534.04 Z\" fill=\"#000000\" fill-rule=\"evenodd\" fill-opacity=\"1\" /><path clip-path=\"url(#clip720)\" d=\"M 0 0 M1856.38 1535.98 L1872.7 1535.98 L1872.7 1539.92 L1850.76 1539.92 L1850.76 1535.98 Q1853.42 1533.23 1858 1528.6 Q1862.61 1523.95 1863.79 1522.61 Q1866.04 1520.08 1866.92 1518.35 Q1867.82 1516.59 1867.82 1514.9 Q1867.82 1512.14 1865.87 1510.41 Q1863.95 1508.67 1860.85 1508.67 Q1858.65 1508.67 1856.2 1509.43 Q1853.77 1510.2 1850.99 1511.75 L1850.99 1507.03 Q1853.81 1505.89 1856.27 1505.31 Q1858.72 1504.73 1860.76 1504.73 Q1866.13 1504.73 1869.32 1507.42 Q1872.52 1510.11 1872.52 1514.6 Q1872.52 1516.73 1871.71 1518.65 Q1870.92 1520.54 1868.81 1523.14 Q1868.24 1523.81 1865.13 1527.03 Q1862.03 1530.22 1856.38 1535.98 Z\" fill=\"#000000\" fill-rule=\"evenodd\" fill-opacity=\"1\" /><path clip-path=\"url(#clip720)\" d=\"M 0 0 M2113.48 1535.98 L2121.11 1535.98 L2121.11 1509.62 L2112.8 1511.29 L2112.8 1507.03 L2121.07 1505.36 L2125.74 1505.36 L2125.74 1535.98 L2133.38 1535.98 L2133.38 1539.92 L2113.48 1539.92 L2113.48 1535.98 Z\" fill=\"#000000\" fill-rule=\"evenodd\" fill-opacity=\"1\" /><path clip-path=\"url(#clip720)\" d=\"M 0 0 M2138.45 1534.04 L2143.34 1534.04 L2143.34 1539.92 L2138.45 1539.92 L2138.45 1534.04 Z\" fill=\"#000000\" fill-rule=\"evenodd\" fill-opacity=\"1\" /><path clip-path=\"url(#clip720)\" d=\"M 0 0 M2161.25 1509.43 L2149.45 1527.88 L2161.25 1527.88 L2161.25 1509.43 M2160.03 1505.36 L2165.91 1505.36 L2165.91 1527.88 L2170.84 1527.88 L2170.84 1531.77 L2165.91 1531.77 L2165.91 1539.92 L2161.25 1539.92 L2161.25 1531.77 L2145.65 1531.77 L2145.65 1527.26 L2160.03 1505.36 Z\" fill=\"#000000\" fill-rule=\"evenodd\" fill-opacity=\"1\" /><path clip-path=\"url(#clip720)\" d=\"M 0 0 M77.0198 1299.21 Q73.4087 1299.21 71.58 1302.77 Q69.7745 1306.32 69.7745 1313.45 Q69.7745 1320.55 71.58 1324.12 Q73.4087 1327.66 77.0198 1327.66 Q80.6541 1327.66 82.4596 1324.12 Q84.2883 1320.55 84.2883 1313.45 Q84.2883 1306.32 82.4596 1302.77 Q80.6541 1299.21 77.0198 1299.21 M77.0198 1295.51 Q82.83 1295.51 85.8855 1300.11 Q88.9642 1304.7 88.9642 1313.45 Q88.9642 1322.17 85.8855 1326.78 Q82.83 1331.36 77.0198 1331.36 Q71.2097 1331.36 68.131 1326.78 Q65.0754 1322.17 65.0754 1313.45 Q65.0754 1304.7 68.131 1300.11 Q71.2097 1295.51 77.0198 1295.51 Z\" fill=\"#000000\" fill-rule=\"evenodd\" fill-opacity=\"1\" /><path clip-path=\"url(#clip720)\" d=\"M 0 0 M94.0336 1324.81 L98.9179 1324.81 L98.9179 1330.69 L94.0336 1330.69 L94.0336 1324.81 Z\" fill=\"#000000\" fill-rule=\"evenodd\" fill-opacity=\"1\" /><path clip-path=\"url(#clip720)\" d=\"M 0 0 M108.015 1326.76 L124.334 1326.76 L124.334 1330.69 L102.39 1330.69 L102.39 1326.76 Q105.052 1324 109.635 1319.37 Q114.242 1314.72 115.422 1313.38 Q117.668 1310.85 118.547 1309.12 Q119.45 1307.36 119.45 1305.67 Q119.45 1302.91 117.506 1301.18 Q115.584 1299.44 112.483 1299.44 Q110.284 1299.44 107.83 1300.21 Q105.399 1300.97 102.622 1302.52 L102.622 1297.8 Q105.446 1296.66 107.899 1296.09 Q110.353 1295.51 112.39 1295.51 Q117.76 1295.51 120.955 1298.19 Q124.149 1300.88 124.149 1305.37 Q124.149 1307.5 123.339 1309.42 Q122.552 1311.32 120.446 1313.91 Q119.867 1314.58 116.765 1317.8 Q113.663 1320.99 108.015 1326.76 Z\" fill=\"#000000\" fill-rule=\"evenodd\" fill-opacity=\"1\" /><path clip-path=\"url(#clip720)\" d=\"M 0 0 M74.9365 987.952 Q71.3254 987.952 69.4967 991.516 Q67.6912 995.058 67.6912 1002.19 Q67.6912 1009.29 69.4967 1012.86 Q71.3254 1016.4 74.9365 1016.4 Q78.5707 1016.4 80.3763 1012.86 Q82.205 1009.29 82.205 1002.19 Q82.205 995.058 80.3763 991.516 Q78.5707 987.952 74.9365 987.952 M74.9365 984.248 Q80.7467 984.248 83.8022 988.854 Q86.8809 993.438 86.8809 1002.19 Q86.8809 1010.91 83.8022 1015.52 Q80.7467 1020.1 74.9365 1020.1 Q69.1264 1020.1 66.0477 1015.52 Q62.9921 1010.91 62.9921 1002.19 Q62.9921 993.438 66.0477 988.854 Q69.1264 984.248 74.9365 984.248 Z\" fill=\"#000000\" fill-rule=\"evenodd\" fill-opacity=\"1\" /><path clip-path=\"url(#clip720)\" d=\"M 0 0 M91.9503 1013.55 L96.8345 1013.55 L96.8345 1019.43 L91.9503 1019.43 L91.9503 1013.55 Z\" fill=\"#000000\" fill-rule=\"evenodd\" fill-opacity=\"1\" /><path clip-path=\"url(#clip720)\" d=\"M 0 0 M114.751 988.947 L102.946 1007.4 L114.751 1007.4 L114.751 988.947 M113.524 984.873 L119.404 984.873 L119.404 1007.4 L124.334 1007.4 L124.334 1011.28 L119.404 1011.28 L119.404 1019.43 L114.751 1019.43 L114.751 1011.28 L99.1493 1011.28 L99.1493 1006.77 L113.524 984.873 Z\" fill=\"#000000\" fill-rule=\"evenodd\" fill-opacity=\"1\" /><path clip-path=\"url(#clip720)\" d=\"M 0 0 M75.2606 676.693 Q71.6495 676.693 69.8208 680.258 Q68.0152 683.8 68.0152 690.929 Q68.0152 698.036 69.8208 701.6 Q71.6495 705.142 75.2606 705.142 Q78.8948 705.142 80.7004 701.6 Q82.5291 698.036 82.5291 690.929 Q82.5291 683.8 80.7004 680.258 Q78.8948 676.693 75.2606 676.693 M75.2606 672.99 Q81.0707 672.99 84.1263 677.596 Q87.205 682.179 87.205 690.929 Q87.205 699.656 84.1263 704.263 Q81.0707 708.846 75.2606 708.846 Q69.4504 708.846 66.3717 704.263 Q63.3162 699.656 63.3162 690.929 Q63.3162 682.179 66.3717 677.596 Q69.4504 672.99 75.2606 672.99 Z\" fill=\"#000000\" fill-rule=\"evenodd\" fill-opacity=\"1\" /><path clip-path=\"url(#clip720)\" d=\"M 0 0 M92.2744 702.295 L97.1586 702.295 L97.1586 708.175 L92.2744 708.175 L92.2744 702.295 Z\" fill=\"#000000\" fill-rule=\"evenodd\" fill-opacity=\"1\" /><path clip-path=\"url(#clip720)\" d=\"M 0 0 M112.807 689.031 Q109.659 689.031 107.807 691.184 Q105.978 693.337 105.978 697.087 Q105.978 700.813 107.807 702.989 Q109.659 705.142 112.807 705.142 Q115.955 705.142 117.783 702.989 Q119.635 700.813 119.635 697.087 Q119.635 693.337 117.783 691.184 Q115.955 689.031 112.807 689.031 M122.089 674.378 L122.089 678.638 Q120.33 677.804 118.524 677.365 Q116.742 676.925 114.983 676.925 Q110.353 676.925 107.899 680.05 Q105.469 683.175 105.122 689.494 Q106.487 687.48 108.547 686.415 Q110.608 685.327 113.084 685.327 Q118.293 685.327 121.302 688.499 Q124.334 691.647 124.334 697.087 Q124.334 702.411 121.186 705.628 Q118.038 708.846 112.807 708.846 Q106.811 708.846 103.64 704.263 Q100.469 699.656 100.469 690.929 Q100.469 682.735 104.358 677.874 Q108.247 672.99 114.797 672.99 Q116.557 672.99 118.339 673.337 Q120.145 673.684 122.089 674.378 Z\" fill=\"#000000\" fill-rule=\"evenodd\" fill-opacity=\"1\" /><path clip-path=\"url(#clip720)\" d=\"M 0 0 M75.5152 365.435 Q71.9041 365.435 70.0754 369 Q68.2699 372.541 68.2699 379.671 Q68.2699 386.777 70.0754 390.342 Q71.9041 393.884 75.5152 393.884 Q79.1494 393.884 80.955 390.342 Q82.7837 386.777 82.7837 379.671 Q82.7837 372.541 80.955 369 Q79.1494 365.435 75.5152 365.435 M75.5152 361.731 Q81.3254 361.731 84.3809 366.338 Q87.4596 370.921 87.4596 379.671 Q87.4596 388.398 84.3809 393.004 Q81.3254 397.587 75.5152 397.587 Q69.7051 397.587 66.6264 393.004 Q63.5708 388.398 63.5708 379.671 Q63.5708 370.921 66.6264 366.338 Q69.7051 361.731 75.5152 361.731 Z\" fill=\"#000000\" fill-rule=\"evenodd\" fill-opacity=\"1\" /><path clip-path=\"url(#clip720)\" d=\"M 0 0 M92.529 391.037 L97.4132 391.037 L97.4132 396.916 L92.529 396.916 L92.529 391.037 Z\" fill=\"#000000\" fill-rule=\"evenodd\" fill-opacity=\"1\" /><path clip-path=\"url(#clip720)\" d=\"M 0 0 M112.483 380.504 Q109.149 380.504 107.228 382.287 Q105.33 384.069 105.33 387.194 Q105.33 390.319 107.228 392.101 Q109.149 393.884 112.483 393.884 Q115.816 393.884 117.737 392.101 Q119.658 390.296 119.658 387.194 Q119.658 384.069 117.737 382.287 Q115.839 380.504 112.483 380.504 M107.807 378.513 Q104.797 377.773 103.108 375.713 Q101.441 373.652 101.441 370.689 Q101.441 366.546 104.381 364.139 Q107.344 361.731 112.483 361.731 Q117.645 361.731 120.584 364.139 Q123.524 366.546 123.524 370.689 Q123.524 373.652 121.834 375.713 Q120.168 377.773 117.182 378.513 Q120.561 379.3 122.436 381.592 Q124.334 383.884 124.334 387.194 Q124.334 392.217 121.256 394.902 Q118.2 397.587 112.483 397.587 Q106.765 397.587 103.686 394.902 Q100.631 392.217 100.631 387.194 Q100.631 383.884 102.529 381.592 Q104.427 379.3 107.807 378.513 M106.094 371.129 Q106.094 373.814 107.76 375.319 Q109.45 376.824 112.483 376.824 Q115.492 376.824 117.182 375.319 Q118.895 373.814 118.895 371.129 Q118.895 368.444 117.182 366.939 Q115.492 365.435 112.483 365.435 Q109.45 365.435 107.76 366.939 Q106.094 368.444 106.094 371.129 Z\" fill=\"#000000\" fill-rule=\"evenodd\" fill-opacity=\"1\" /><path clip-path=\"url(#clip720)\" d=\"M 0 0 M67.4597 81.7226 L75.0985 81.7226 L75.0985 55.357 L66.7884 57.0236 L66.7884 52.7644 L75.0522 51.0977 L79.7281 51.0977 L79.7281 81.7226 L87.367 81.7226 L87.367 85.6577 L67.4597 85.6577 L67.4597 81.7226 Z\" fill=\"#000000\" fill-rule=\"evenodd\" fill-opacity=\"1\" /><path clip-path=\"url(#clip720)\" d=\"M 0 0 M92.4364 79.7781 L97.3206 79.7781 L97.3206 85.6577 L92.4364 85.6577 L92.4364 79.7781 Z\" fill=\"#000000\" fill-rule=\"evenodd\" fill-opacity=\"1\" /><path clip-path=\"url(#clip720)\" d=\"M 0 0 M112.39 54.1764 Q108.779 54.1764 106.95 57.7412 Q105.145 61.2828 105.145 68.4124 Q105.145 75.5189 106.95 79.0837 Q108.779 82.6253 112.39 82.6253 Q116.024 82.6253 117.83 79.0837 Q119.658 75.5189 119.658 68.4124 Q119.658 61.2828 117.83 57.7412 Q116.024 54.1764 112.39 54.1764 M112.39 50.4727 Q118.2 50.4727 121.256 55.0792 Q124.334 59.6625 124.334 68.4124 Q124.334 77.1392 121.256 81.7457 Q118.2 86.329 112.39 86.329 Q106.58 86.329 103.501 81.7457 Q100.446 77.1392 100.446 68.4124 Q100.446 59.6625 103.501 55.0792 Q106.58 50.4727 112.39 50.4727 Z\" fill=\"#000000\" fill-rule=\"evenodd\" fill-opacity=\"1\" /><polyline clip-path=\"url(#clip722)\" style=\"stroke:#009af9; stroke-width:4; stroke-opacity:1; fill:none\" points=\"\n",
       "  210.724,87.9763 359.27,148.225 507.816,251.333 656.361,394.421 804.907,564.074 953.453,738.653 1102,898.4 1250.55,1033 1399.09,1141.09 1547.64,1226.02 \n",
       "  1696.18,1292.41 1844.73,1344.53 1993.27,1385.82 2141.82,1418.91 2290.37,1445.72 \n",
       "  \"/>\n",
       "<path clip-path=\"url(#clip720)\" d=\"\n",
       "M1989.74 251.724 L2280.76 251.724 L2280.76 130.764 L1989.74 130.764  Z\n",
       "  \" fill=\"#ffffff\" fill-rule=\"evenodd\" fill-opacity=\"1\"/>\n",
       "<polyline clip-path=\"url(#clip720)\" style=\"stroke:#000000; stroke-width:4; stroke-opacity:1; fill:none\" points=\"\n",
       "  1989.74,251.724 2280.76,251.724 2280.76,130.764 1989.74,130.764 1989.74,251.724 \n",
       "  \"/>\n",
       "<polyline clip-path=\"url(#clip720)\" style=\"stroke:#009af9; stroke-width:4; stroke-opacity:1; fill:none\" points=\"\n",
       "  2013.74,191.244 2157.74,191.244 \n",
       "  \"/>\n",
       "<path clip-path=\"url(#clip720)\" d=\"M 0 0 M2195.58 210.931 Q2193.77 215.561 2192.06 216.973 Q2190.35 218.385 2187.48 218.385 L2184.08 218.385 L2184.08 214.82 L2186.58 214.82 Q2188.33 214.82 2189.31 213.987 Q2190.28 213.154 2191.46 210.052 L2192.22 208.107 L2181.74 182.598 L2186.25 182.598 L2194.35 202.876 L2202.46 182.598 L2206.97 182.598 L2195.58 210.931 Z\" fill=\"#000000\" fill-rule=\"evenodd\" fill-opacity=\"1\" /><path clip-path=\"url(#clip720)\" d=\"M 0 0 M2212.85 204.589 L2220.49 204.589 L2220.49 178.223 L2212.18 179.89 L2212.18 175.631 L2220.44 173.964 L2225.12 173.964 L2225.12 204.589 L2232.76 204.589 L2232.76 208.524 L2212.85 208.524 L2212.85 204.589 Z\" fill=\"#000000\" fill-rule=\"evenodd\" fill-opacity=\"1\" /></svg>\n"
      ]
     },
     "execution_count": 11,
     "metadata": {},
     "output_type": "execute_result"
    }
   ],
   "source": [
    "N = 4\n",
    "D = 30\n",
    "J = -1.0\n",
    "measZ_list_MPS = []\n",
    "h_list = []\n",
    "for h = -0.1:-0.1:-1.5\n",
    "    meas_z = Ising_phase_transition(N, D, h, J)\n",
    "    push!(measZ_list_MPS, meas_z.re)\n",
    "    push!(h_list, -h)\n",
    "end\n",
    "\n",
    "plot(h_list, measZ_list_MPS)"
   ]
  },
  {
   "cell_type": "markdown",
   "metadata": {},
   "source": [
    "同様の相転移を古典計算で確認"
   ]
  },
  {
   "cell_type": "code",
   "execution_count": 12,
   "metadata": {},
   "outputs": [
    {
     "data": {
      "text/plain": [
       "pauliZ_measure (generic function with 1 method)"
      ]
     },
     "execution_count": 12,
     "metadata": {},
     "output_type": "execute_result"
    }
   ],
   "source": [
    "function td(x::Array, y::Array)\n",
    "    lx = size(x)\n",
    "    ly = size(y)\n",
    "    res = zeros(lx[1] * ly[1], lx[2] * ly[2])\n",
    "    for i in 1:lx[1]\n",
    "        for j in 1:lx[2]\n",
    "            res[ (1+(i-1)*ly[1]):(ly[1]+(i-1)*ly[1]), (1+(j-1)*ly[2]):(ly[2]+(j-1)*ly[2]) ] = x[i,j] * y\n",
    "        end\n",
    "    end\n",
    "    return res\n",
    "end\n",
    "\n",
    "function Ising_NN_Hamiltonian(h, J)\n",
    "    H = J*(td(td(td(pauliZ, pauliZ), pauliI), pauliI) + td(td(td(pauliI, pauliZ), pauliZ), pauliI) + td(td(td(pauliI, pauliI), pauliZ), pauliZ))\n",
    "    H += h*(td(td(td(pauliX, pauliI), pauliI), pauliI) + td(td(td(pauliI, pauliX), pauliI), pauliI))\n",
    "    H += h*(td(td(td(pauliI, pauliI), pauliX), pauliI) + td(td(td(pauliI, pauliI), pauliI), pauliX))\n",
    "    return H\n",
    "end\n",
    "\n",
    "function pauliZ_measure()\n",
    "    measZ = td(td(td(pauliZ, pauliZ), pauliZ), pauliZ)\n",
    "    return measZ\n",
    "end"
   ]
  },
  {
   "cell_type": "code",
   "execution_count": 13,
   "metadata": {},
   "outputs": [
    {
     "data": {
      "image/svg+xml": [
       "<?xml version=\"1.0\" encoding=\"utf-8\"?>\n",
       "<svg xmlns=\"http://www.w3.org/2000/svg\" xmlns:xlink=\"http://www.w3.org/1999/xlink\" width=\"600\" height=\"400\" viewBox=\"0 0 2400 1600\">\n",
       "<defs>\n",
       "  <clipPath id=\"clip760\">\n",
       "    <rect x=\"0\" y=\"0\" width=\"2400\" height=\"1600\"/>\n",
       "  </clipPath>\n",
       "</defs>\n",
       "<path clip-path=\"url(#clip760)\" d=\"\n",
       "M0 1600 L2400 1600 L2400 0 L0 0  Z\n",
       "  \" fill=\"#ffffff\" fill-rule=\"evenodd\" fill-opacity=\"1\"/>\n",
       "<defs>\n",
       "  <clipPath id=\"clip761\">\n",
       "    <rect x=\"480\" y=\"0\" width=\"1681\" height=\"1600\"/>\n",
       "  </clipPath>\n",
       "</defs>\n",
       "<path clip-path=\"url(#clip760)\" d=\"\n",
       "M211.602 1423.18 L2352.76 1423.18 L2352.76 47.2441 L211.602 47.2441  Z\n",
       "  \" fill=\"#ffffff\" fill-rule=\"evenodd\" fill-opacity=\"1\"/>\n",
       "<defs>\n",
       "  <clipPath id=\"clip762\">\n",
       "    <rect x=\"211\" y=\"47\" width=\"2142\" height=\"1377\"/>\n",
       "  </clipPath>\n",
       "</defs>\n",
       "<polyline clip-path=\"url(#clip762)\" style=\"stroke:#000000; stroke-width:2; stroke-opacity:0.1; fill:none\" points=\"\n",
       "  416.484,1423.18 416.484,47.2441 \n",
       "  \"/>\n",
       "<polyline clip-path=\"url(#clip762)\" style=\"stroke:#000000; stroke-width:2; stroke-opacity:0.1; fill:none\" points=\"\n",
       "  705.049,1423.18 705.049,47.2441 \n",
       "  \"/>\n",
       "<polyline clip-path=\"url(#clip762)\" style=\"stroke:#000000; stroke-width:2; stroke-opacity:0.1; fill:none\" points=\"\n",
       "  993.614,1423.18 993.614,47.2441 \n",
       "  \"/>\n",
       "<polyline clip-path=\"url(#clip762)\" style=\"stroke:#000000; stroke-width:2; stroke-opacity:0.1; fill:none\" points=\"\n",
       "  1282.18,1423.18 1282.18,47.2441 \n",
       "  \"/>\n",
       "<polyline clip-path=\"url(#clip762)\" style=\"stroke:#000000; stroke-width:2; stroke-opacity:0.1; fill:none\" points=\"\n",
       "  1570.74,1423.18 1570.74,47.2441 \n",
       "  \"/>\n",
       "<polyline clip-path=\"url(#clip762)\" style=\"stroke:#000000; stroke-width:2; stroke-opacity:0.1; fill:none\" points=\"\n",
       "  1859.31,1423.18 1859.31,47.2441 \n",
       "  \"/>\n",
       "<polyline clip-path=\"url(#clip762)\" style=\"stroke:#000000; stroke-width:2; stroke-opacity:0.1; fill:none\" points=\"\n",
       "  2147.87,1423.18 2147.87,47.2441 \n",
       "  \"/>\n",
       "<polyline clip-path=\"url(#clip762)\" style=\"stroke:#000000; stroke-width:2; stroke-opacity:0.1; fill:none\" points=\"\n",
       "  211.602,1257.75 2352.76,1257.75 \n",
       "  \"/>\n",
       "<polyline clip-path=\"url(#clip762)\" style=\"stroke:#000000; stroke-width:2; stroke-opacity:0.1; fill:none\" points=\"\n",
       "  211.602,960.175 2352.76,960.175 \n",
       "  \"/>\n",
       "<polyline clip-path=\"url(#clip762)\" style=\"stroke:#000000; stroke-width:2; stroke-opacity:0.1; fill:none\" points=\"\n",
       "  211.602,662.599 2352.76,662.599 \n",
       "  \"/>\n",
       "<polyline clip-path=\"url(#clip762)\" style=\"stroke:#000000; stroke-width:2; stroke-opacity:0.1; fill:none\" points=\"\n",
       "  211.602,365.024 2352.76,365.024 \n",
       "  \"/>\n",
       "<polyline clip-path=\"url(#clip762)\" style=\"stroke:#000000; stroke-width:2; stroke-opacity:0.1; fill:none\" points=\"\n",
       "  211.602,67.4487 2352.76,67.4487 \n",
       "  \"/>\n",
       "<polyline clip-path=\"url(#clip760)\" style=\"stroke:#000000; stroke-width:4; stroke-opacity:1; fill:none\" points=\"\n",
       "  211.602,1423.18 2352.76,1423.18 \n",
       "  \"/>\n",
       "<polyline clip-path=\"url(#clip760)\" style=\"stroke:#000000; stroke-width:4; stroke-opacity:1; fill:none\" points=\"\n",
       "  211.602,1423.18 211.602,47.2441 \n",
       "  \"/>\n",
       "<polyline clip-path=\"url(#clip760)\" style=\"stroke:#000000; stroke-width:4; stroke-opacity:1; fill:none\" points=\"\n",
       "  416.484,1423.18 416.484,1406.67 \n",
       "  \"/>\n",
       "<polyline clip-path=\"url(#clip760)\" style=\"stroke:#000000; stroke-width:4; stroke-opacity:1; fill:none\" points=\"\n",
       "  705.049,1423.18 705.049,1406.67 \n",
       "  \"/>\n",
       "<polyline clip-path=\"url(#clip760)\" style=\"stroke:#000000; stroke-width:4; stroke-opacity:1; fill:none\" points=\"\n",
       "  993.614,1423.18 993.614,1406.67 \n",
       "  \"/>\n",
       "<polyline clip-path=\"url(#clip760)\" style=\"stroke:#000000; stroke-width:4; stroke-opacity:1; fill:none\" points=\"\n",
       "  1282.18,1423.18 1282.18,1406.67 \n",
       "  \"/>\n",
       "<polyline clip-path=\"url(#clip760)\" style=\"stroke:#000000; stroke-width:4; stroke-opacity:1; fill:none\" points=\"\n",
       "  1570.74,1423.18 1570.74,1406.67 \n",
       "  \"/>\n",
       "<polyline clip-path=\"url(#clip760)\" style=\"stroke:#000000; stroke-width:4; stroke-opacity:1; fill:none\" points=\"\n",
       "  1859.31,1423.18 1859.31,1406.67 \n",
       "  \"/>\n",
       "<polyline clip-path=\"url(#clip760)\" style=\"stroke:#000000; stroke-width:4; stroke-opacity:1; fill:none\" points=\"\n",
       "  2147.87,1423.18 2147.87,1406.67 \n",
       "  \"/>\n",
       "<polyline clip-path=\"url(#clip760)\" style=\"stroke:#000000; stroke-width:4; stroke-opacity:1; fill:none\" points=\"\n",
       "  211.602,1257.75 237.296,1257.75 \n",
       "  \"/>\n",
       "<polyline clip-path=\"url(#clip760)\" style=\"stroke:#000000; stroke-width:4; stroke-opacity:1; fill:none\" points=\"\n",
       "  211.602,960.175 237.296,960.175 \n",
       "  \"/>\n",
       "<polyline clip-path=\"url(#clip760)\" style=\"stroke:#000000; stroke-width:4; stroke-opacity:1; fill:none\" points=\"\n",
       "  211.602,662.599 237.296,662.599 \n",
       "  \"/>\n",
       "<polyline clip-path=\"url(#clip760)\" style=\"stroke:#000000; stroke-width:4; stroke-opacity:1; fill:none\" points=\"\n",
       "  211.602,365.024 237.296,365.024 \n",
       "  \"/>\n",
       "<polyline clip-path=\"url(#clip760)\" style=\"stroke:#000000; stroke-width:4; stroke-opacity:1; fill:none\" points=\"\n",
       "  211.602,67.4487 237.296,67.4487 \n",
       "  \"/>\n",
       "<path clip-path=\"url(#clip760)\" d=\"M 0 0 M398.799 1445.17 Q395.188 1445.17 393.359 1448.74 Q391.553 1452.28 391.553 1459.41 Q391.553 1466.51 393.359 1470.08 Q395.188 1473.62 398.799 1473.62 Q402.433 1473.62 404.238 1470.08 Q406.067 1466.51 406.067 1459.41 Q406.067 1452.28 404.238 1448.74 Q402.433 1445.17 398.799 1445.17 M398.799 1441.47 Q404.609 1441.47 407.664 1446.07 Q410.743 1450.66 410.743 1459.41 Q410.743 1468.13 407.664 1472.74 Q404.609 1477.32 398.799 1477.32 Q392.988 1477.32 389.91 1472.74 Q386.854 1468.13 386.854 1459.41 Q386.854 1450.66 389.91 1446.07 Q392.988 1441.47 398.799 1441.47 Z\" fill=\"#000000\" fill-rule=\"evenodd\" fill-opacity=\"1\" /><path clip-path=\"url(#clip760)\" d=\"M 0 0 M415.812 1470.77 L420.697 1470.77 L420.697 1476.65 L415.812 1476.65 L415.812 1470.77 Z\" fill=\"#000000\" fill-rule=\"evenodd\" fill-opacity=\"1\" /><path clip-path=\"url(#clip760)\" d=\"M 0 0 M429.794 1472.72 L446.113 1472.72 L446.113 1476.65 L424.169 1476.65 L424.169 1472.72 Q426.831 1469.96 431.414 1465.33 Q436.021 1460.68 437.201 1459.34 Q439.447 1456.81 440.326 1455.08 Q441.229 1453.32 441.229 1451.63 Q441.229 1448.87 439.284 1447.14 Q437.363 1445.4 434.261 1445.4 Q432.062 1445.4 429.609 1446.17 Q427.178 1446.93 424.4 1448.48 L424.4 1443.76 Q427.224 1442.62 429.678 1442.05 Q432.132 1441.47 434.169 1441.47 Q439.539 1441.47 442.734 1444.15 Q445.928 1446.84 445.928 1451.33 Q445.928 1453.46 445.118 1455.38 Q444.331 1457.28 442.224 1459.87 Q441.646 1460.54 438.544 1463.76 Q435.442 1466.95 429.794 1472.72 Z\" fill=\"#000000\" fill-rule=\"evenodd\" fill-opacity=\"1\" /><path clip-path=\"url(#clip760)\" d=\"M 0 0 M686.322 1445.17 Q682.711 1445.17 680.882 1448.74 Q679.077 1452.28 679.077 1459.41 Q679.077 1466.51 680.882 1470.08 Q682.711 1473.62 686.322 1473.62 Q689.956 1473.62 691.762 1470.08 Q693.591 1466.51 693.591 1459.41 Q693.591 1452.28 691.762 1448.74 Q689.956 1445.17 686.322 1445.17 M686.322 1441.47 Q692.132 1441.47 695.188 1446.07 Q698.266 1450.66 698.266 1459.41 Q698.266 1468.13 695.188 1472.74 Q692.132 1477.32 686.322 1477.32 Q680.512 1477.32 677.433 1472.74 Q674.378 1468.13 674.378 1459.41 Q674.378 1450.66 677.433 1446.07 Q680.512 1441.47 686.322 1441.47 Z\" fill=\"#000000\" fill-rule=\"evenodd\" fill-opacity=\"1\" /><path clip-path=\"url(#clip760)\" d=\"M 0 0 M703.336 1470.77 L708.22 1470.77 L708.22 1476.65 L703.336 1476.65 L703.336 1470.77 Z\" fill=\"#000000\" fill-rule=\"evenodd\" fill-opacity=\"1\" /><path clip-path=\"url(#clip760)\" d=\"M 0 0 M726.137 1446.17 L714.331 1464.61 L726.137 1464.61 L726.137 1446.17 M724.91 1442.09 L730.789 1442.09 L730.789 1464.61 L735.72 1464.61 L735.72 1468.5 L730.789 1468.5 L730.789 1476.65 L726.137 1476.65 L726.137 1468.5 L710.535 1468.5 L710.535 1463.99 L724.91 1442.09 Z\" fill=\"#000000\" fill-rule=\"evenodd\" fill-opacity=\"1\" /><path clip-path=\"url(#clip760)\" d=\"M 0 0 M975.049 1445.17 Q971.438 1445.17 969.61 1448.74 Q967.804 1452.28 967.804 1459.41 Q967.804 1466.51 969.61 1470.08 Q971.438 1473.62 975.049 1473.62 Q978.684 1473.62 980.489 1470.08 Q982.318 1466.51 982.318 1459.41 Q982.318 1452.28 980.489 1448.74 Q978.684 1445.17 975.049 1445.17 M975.049 1441.47 Q980.859 1441.47 983.915 1446.07 Q986.994 1450.66 986.994 1459.41 Q986.994 1468.13 983.915 1472.74 Q980.859 1477.32 975.049 1477.32 Q969.239 1477.32 966.16 1472.74 Q963.105 1468.13 963.105 1459.41 Q963.105 1450.66 966.16 1446.07 Q969.239 1441.47 975.049 1441.47 Z\" fill=\"#000000\" fill-rule=\"evenodd\" fill-opacity=\"1\" /><path clip-path=\"url(#clip760)\" d=\"M 0 0 M992.063 1470.77 L996.947 1470.77 L996.947 1476.65 L992.063 1476.65 L992.063 1470.77 Z\" fill=\"#000000\" fill-rule=\"evenodd\" fill-opacity=\"1\" /><path clip-path=\"url(#clip760)\" d=\"M 0 0 M1012.6 1457.51 Q1009.45 1457.51 1007.6 1459.66 Q1005.77 1461.81 1005.77 1465.56 Q1005.77 1469.29 1007.6 1471.47 Q1009.45 1473.62 1012.6 1473.62 Q1015.74 1473.62 1017.57 1471.47 Q1019.42 1469.29 1019.42 1465.56 Q1019.42 1461.81 1017.57 1459.66 Q1015.74 1457.51 1012.6 1457.51 M1021.88 1442.86 L1021.88 1447.11 Q1020.12 1446.28 1018.31 1445.84 Q1016.53 1445.4 1014.77 1445.4 Q1010.14 1445.4 1007.69 1448.53 Q1005.26 1451.65 1004.91 1457.97 Q1006.28 1455.96 1008.34 1454.89 Q1010.4 1453.8 1012.87 1453.8 Q1018.08 1453.8 1021.09 1456.98 Q1024.12 1460.12 1024.12 1465.56 Q1024.12 1470.89 1020.97 1474.11 Q1017.83 1477.32 1012.6 1477.32 Q1006.6 1477.32 1003.43 1472.74 Q1000.26 1468.13 1000.26 1459.41 Q1000.26 1451.21 1004.15 1446.35 Q1008.04 1441.47 1014.59 1441.47 Q1016.35 1441.47 1018.13 1441.81 Q1019.93 1442.16 1021.88 1442.86 Z\" fill=\"#000000\" fill-rule=\"evenodd\" fill-opacity=\"1\" /><path clip-path=\"url(#clip760)\" d=\"M 0 0 M1263.74 1445.17 Q1260.13 1445.17 1258.3 1448.74 Q1256.5 1452.28 1256.5 1459.41 Q1256.5 1466.51 1258.3 1470.08 Q1260.13 1473.62 1263.74 1473.62 Q1267.38 1473.62 1269.18 1470.08 Q1271.01 1466.51 1271.01 1459.41 Q1271.01 1452.28 1269.18 1448.74 Q1267.38 1445.17 1263.74 1445.17 M1263.74 1441.47 Q1269.55 1441.47 1272.61 1446.07 Q1275.69 1450.66 1275.69 1459.41 Q1275.69 1468.13 1272.61 1472.74 Q1269.55 1477.32 1263.74 1477.32 Q1257.93 1477.32 1254.85 1472.74 Q1251.8 1468.13 1251.8 1459.41 Q1251.8 1450.66 1254.85 1446.07 Q1257.93 1441.47 1263.74 1441.47 Z\" fill=\"#000000\" fill-rule=\"evenodd\" fill-opacity=\"1\" /><path clip-path=\"url(#clip760)\" d=\"M 0 0 M1280.76 1470.77 L1285.64 1470.77 L1285.64 1476.65 L1280.76 1476.65 L1280.76 1470.77 Z\" fill=\"#000000\" fill-rule=\"evenodd\" fill-opacity=\"1\" /><path clip-path=\"url(#clip760)\" d=\"M 0 0 M1300.71 1460.24 Q1297.38 1460.24 1295.45 1462.02 Q1293.56 1463.8 1293.56 1466.93 Q1293.56 1470.05 1295.45 1471.84 Q1297.38 1473.62 1300.71 1473.62 Q1304.04 1473.62 1305.96 1471.84 Q1307.89 1470.03 1307.89 1466.93 Q1307.89 1463.8 1305.96 1462.02 Q1304.07 1460.24 1300.71 1460.24 M1296.03 1458.25 Q1293.02 1457.51 1291.33 1455.45 Q1289.67 1453.39 1289.67 1450.43 Q1289.67 1446.28 1292.61 1443.87 Q1295.57 1441.47 1300.71 1441.47 Q1305.87 1441.47 1308.81 1443.87 Q1311.75 1446.28 1311.75 1450.43 Q1311.75 1453.39 1310.06 1455.45 Q1308.39 1457.51 1305.41 1458.25 Q1308.79 1459.04 1310.66 1461.33 Q1312.56 1463.62 1312.56 1466.93 Q1312.56 1471.95 1309.48 1474.64 Q1306.43 1477.32 1300.71 1477.32 Q1294.99 1477.32 1291.91 1474.64 Q1288.86 1471.95 1288.86 1466.93 Q1288.86 1463.62 1290.76 1461.33 Q1292.65 1459.04 1296.03 1458.25 M1294.32 1450.86 Q1294.32 1453.55 1295.99 1455.05 Q1297.68 1456.56 1300.71 1456.56 Q1303.72 1456.56 1305.41 1455.05 Q1307.12 1453.55 1307.12 1450.86 Q1307.12 1448.18 1305.41 1446.68 Q1303.72 1445.17 1300.71 1445.17 Q1297.68 1445.17 1295.99 1446.68 Q1294.32 1448.18 1294.32 1450.86 Z\" fill=\"#000000\" fill-rule=\"evenodd\" fill-opacity=\"1\" /><path clip-path=\"url(#clip760)\" d=\"M 0 0 M1542.64 1472.72 L1550.28 1472.72 L1550.28 1446.35 L1541.97 1448.02 L1541.97 1443.76 L1550.24 1442.09 L1554.91 1442.09 L1554.91 1472.72 L1562.55 1472.72 L1562.55 1476.65 L1542.64 1476.65 L1542.64 1472.72 Z\" fill=\"#000000\" fill-rule=\"evenodd\" fill-opacity=\"1\" /><path clip-path=\"url(#clip760)\" d=\"M 0 0 M1567.62 1470.77 L1572.5 1470.77 L1572.5 1476.65 L1567.62 1476.65 L1567.62 1470.77 Z\" fill=\"#000000\" fill-rule=\"evenodd\" fill-opacity=\"1\" /><path clip-path=\"url(#clip760)\" d=\"M 0 0 M1587.57 1445.17 Q1583.96 1445.17 1582.13 1448.74 Q1580.33 1452.28 1580.33 1459.41 Q1580.33 1466.51 1582.13 1470.08 Q1583.96 1473.62 1587.57 1473.62 Q1591.21 1473.62 1593.01 1470.08 Q1594.84 1466.51 1594.84 1459.41 Q1594.84 1452.28 1593.01 1448.74 Q1591.21 1445.17 1587.57 1445.17 M1587.57 1441.47 Q1593.38 1441.47 1596.44 1446.07 Q1599.52 1450.66 1599.52 1459.41 Q1599.52 1468.13 1596.44 1472.74 Q1593.38 1477.32 1587.57 1477.32 Q1581.76 1477.32 1578.68 1472.74 Q1575.63 1468.13 1575.63 1459.41 Q1575.63 1450.66 1578.68 1446.07 Q1581.76 1441.47 1587.57 1441.47 Z\" fill=\"#000000\" fill-rule=\"evenodd\" fill-opacity=\"1\" /><path clip-path=\"url(#clip760)\" d=\"M 0 0 M1832.01 1472.72 L1839.65 1472.72 L1839.65 1446.35 L1831.34 1448.02 L1831.34 1443.76 L1839.6 1442.09 L1844.27 1442.09 L1844.27 1472.72 L1851.91 1472.72 L1851.91 1476.65 L1832.01 1476.65 L1832.01 1472.72 Z\" fill=\"#000000\" fill-rule=\"evenodd\" fill-opacity=\"1\" /><path clip-path=\"url(#clip760)\" d=\"M 0 0 M1856.98 1470.77 L1861.87 1470.77 L1861.87 1476.65 L1856.98 1476.65 L1856.98 1470.77 Z\" fill=\"#000000\" fill-rule=\"evenodd\" fill-opacity=\"1\" /><path clip-path=\"url(#clip760)\" d=\"M 0 0 M1870.96 1472.72 L1887.28 1472.72 L1887.28 1476.65 L1865.34 1476.65 L1865.34 1472.72 Q1868 1469.96 1872.58 1465.33 Q1877.19 1460.68 1878.37 1459.34 Q1880.62 1456.81 1881.5 1455.08 Q1882.4 1453.32 1882.4 1451.63 Q1882.4 1448.87 1880.46 1447.14 Q1878.53 1445.4 1875.43 1445.4 Q1873.23 1445.4 1870.78 1446.17 Q1868.35 1446.93 1865.57 1448.48 L1865.57 1443.76 Q1868.4 1442.62 1870.85 1442.05 Q1873.3 1441.47 1875.34 1441.47 Q1880.71 1441.47 1883.9 1444.15 Q1887.1 1446.84 1887.1 1451.33 Q1887.1 1453.46 1886.29 1455.38 Q1885.5 1457.28 1883.4 1459.87 Q1882.82 1460.54 1879.71 1463.76 Q1876.61 1466.95 1870.96 1472.72 Z\" fill=\"#000000\" fill-rule=\"evenodd\" fill-opacity=\"1\" /><path clip-path=\"url(#clip760)\" d=\"M 0 0 M2119.53 1472.72 L2127.17 1472.72 L2127.17 1446.35 L2118.86 1448.02 L2118.86 1443.76 L2127.12 1442.09 L2131.8 1442.09 L2131.8 1472.72 L2139.44 1472.72 L2139.44 1476.65 L2119.53 1476.65 L2119.53 1472.72 Z\" fill=\"#000000\" fill-rule=\"evenodd\" fill-opacity=\"1\" /><path clip-path=\"url(#clip760)\" d=\"M 0 0 M2144.51 1470.77 L2149.39 1470.77 L2149.39 1476.65 L2144.51 1476.65 L2144.51 1470.77 Z\" fill=\"#000000\" fill-rule=\"evenodd\" fill-opacity=\"1\" /><path clip-path=\"url(#clip760)\" d=\"M 0 0 M2167.31 1446.17 L2155.5 1464.61 L2167.31 1464.61 L2167.31 1446.17 M2166.08 1442.09 L2171.96 1442.09 L2171.96 1464.61 L2176.89 1464.61 L2176.89 1468.5 L2171.96 1468.5 L2171.96 1476.65 L2167.31 1476.65 L2167.31 1468.5 L2151.71 1468.5 L2151.71 1463.99 L2166.08 1442.09 Z\" fill=\"#000000\" fill-rule=\"evenodd\" fill-opacity=\"1\" /><path clip-path=\"url(#clip760)\" d=\"M 0 0 M140.288 1243.55 Q136.677 1243.55 134.848 1247.11 Q133.043 1250.66 133.043 1257.78 Q133.043 1264.89 134.848 1268.46 Q136.677 1272 140.288 1272 Q143.922 1272 145.728 1268.46 Q147.556 1264.89 147.556 1257.78 Q147.556 1250.66 145.728 1247.11 Q143.922 1243.55 140.288 1243.55 M140.288 1239.85 Q146.098 1239.85 149.154 1244.45 Q152.232 1249.03 152.232 1257.78 Q152.232 1266.51 149.154 1271.12 Q146.098 1275.7 140.288 1275.7 Q134.478 1275.7 131.399 1271.12 Q128.343 1266.51 128.343 1257.78 Q128.343 1249.03 131.399 1244.45 Q134.478 1239.85 140.288 1239.85 Z\" fill=\"#000000\" fill-rule=\"evenodd\" fill-opacity=\"1\" /><path clip-path=\"url(#clip760)\" d=\"M 0 0 M157.302 1269.15 L162.186 1269.15 L162.186 1275.03 L157.302 1275.03 L157.302 1269.15 Z\" fill=\"#000000\" fill-rule=\"evenodd\" fill-opacity=\"1\" /><path clip-path=\"url(#clip760)\" d=\"M 0 0 M171.283 1271.09 L187.602 1271.09 L187.602 1275.03 L165.658 1275.03 L165.658 1271.09 Q168.32 1268.34 172.903 1263.71 Q177.51 1259.06 178.69 1257.72 Q180.936 1255.19 181.815 1253.46 Q182.718 1251.7 182.718 1250.01 Q182.718 1247.25 180.774 1245.52 Q178.852 1243.78 175.751 1243.78 Q173.552 1243.78 171.098 1244.54 Q168.667 1245.31 165.89 1246.86 L165.89 1242.14 Q168.714 1241 171.167 1240.42 Q173.621 1239.85 175.658 1239.85 Q181.028 1239.85 184.223 1242.53 Q187.417 1245.22 187.417 1249.71 Q187.417 1251.84 186.607 1253.76 Q185.82 1255.66 183.714 1258.25 Q183.135 1258.92 180.033 1262.14 Q176.931 1265.33 171.283 1271.09 Z\" fill=\"#000000\" fill-rule=\"evenodd\" fill-opacity=\"1\" /><path clip-path=\"url(#clip760)\" d=\"M 0 0 M138.205 945.973 Q134.593 945.973 132.765 949.538 Q130.959 953.08 130.959 960.209 Q130.959 967.316 132.765 970.881 Q134.593 974.422 138.205 974.422 Q141.839 974.422 143.644 970.881 Q145.473 967.316 145.473 960.209 Q145.473 953.08 143.644 949.538 Q141.839 945.973 138.205 945.973 M138.205 942.27 Q144.015 942.27 147.07 946.876 Q150.149 951.459 150.149 960.209 Q150.149 968.936 147.07 973.543 Q144.015 978.126 138.205 978.126 Q132.394 978.126 129.316 973.543 Q126.26 968.936 126.26 960.209 Q126.26 951.459 129.316 946.876 Q132.394 942.27 138.205 942.27 Z\" fill=\"#000000\" fill-rule=\"evenodd\" fill-opacity=\"1\" /><path clip-path=\"url(#clip760)\" d=\"M 0 0 M155.218 971.575 L160.103 971.575 L160.103 977.455 L155.218 977.455 L155.218 971.575 Z\" fill=\"#000000\" fill-rule=\"evenodd\" fill-opacity=\"1\" /><path clip-path=\"url(#clip760)\" d=\"M 0 0 M178.019 946.969 L166.214 965.418 L178.019 965.418 L178.019 946.969 M176.792 942.895 L182.672 942.895 L182.672 965.418 L187.602 965.418 L187.602 969.307 L182.672 969.307 L182.672 977.455 L178.019 977.455 L178.019 969.307 L162.417 969.307 L162.417 964.793 L176.792 942.895 Z\" fill=\"#000000\" fill-rule=\"evenodd\" fill-opacity=\"1\" /><path clip-path=\"url(#clip760)\" d=\"M 0 0 M138.529 648.398 Q134.918 648.398 133.089 651.963 Q131.283 655.505 131.283 662.634 Q131.283 669.741 133.089 673.305 Q134.918 676.847 138.529 676.847 Q142.163 676.847 143.968 673.305 Q145.797 669.741 145.797 662.634 Q145.797 655.505 143.968 651.963 Q142.163 648.398 138.529 648.398 M138.529 644.694 Q144.339 644.694 147.394 649.301 Q150.473 653.884 150.473 662.634 Q150.473 671.361 147.394 675.967 Q144.339 680.551 138.529 680.551 Q132.718 680.551 129.64 675.967 Q126.584 671.361 126.584 662.634 Q126.584 653.884 129.64 649.301 Q132.718 644.694 138.529 644.694 Z\" fill=\"#000000\" fill-rule=\"evenodd\" fill-opacity=\"1\" /><path clip-path=\"url(#clip760)\" d=\"M 0 0 M155.542 674 L160.427 674 L160.427 679.879 L155.542 679.879 L155.542 674 Z\" fill=\"#000000\" fill-rule=\"evenodd\" fill-opacity=\"1\" /><path clip-path=\"url(#clip760)\" d=\"M 0 0 M176.075 660.736 Q172.927 660.736 171.075 662.889 Q169.246 665.041 169.246 668.791 Q169.246 672.518 171.075 674.694 Q172.927 676.847 176.075 676.847 Q179.223 676.847 181.052 674.694 Q182.903 672.518 182.903 668.791 Q182.903 665.041 181.052 662.889 Q179.223 660.736 176.075 660.736 M185.357 646.083 L185.357 650.342 Q183.598 649.509 181.792 649.069 Q180.01 648.63 178.251 648.63 Q173.621 648.63 171.167 651.755 Q168.737 654.88 168.39 661.199 Q169.755 659.185 171.815 658.12 Q173.876 657.032 176.352 657.032 Q181.561 657.032 184.57 660.204 Q187.602 663.352 187.602 668.791 Q187.602 674.116 184.454 677.333 Q181.306 680.551 176.075 680.551 Q170.079 680.551 166.908 675.967 Q163.737 671.361 163.737 662.634 Q163.737 654.44 167.626 649.579 Q171.515 644.694 178.065 644.694 Q179.825 644.694 181.607 645.042 Q183.413 645.389 185.357 646.083 Z\" fill=\"#000000\" fill-rule=\"evenodd\" fill-opacity=\"1\" /><path clip-path=\"url(#clip760)\" d=\"M 0 0 M138.783 350.823 Q135.172 350.823 133.343 354.388 Q131.538 357.929 131.538 365.059 Q131.538 372.165 133.343 375.73 Q135.172 379.272 138.783 379.272 Q142.417 379.272 144.223 375.73 Q146.052 372.165 146.052 365.059 Q146.052 357.929 144.223 354.388 Q142.417 350.823 138.783 350.823 M138.783 347.119 Q144.593 347.119 147.649 351.725 Q150.728 356.309 150.728 365.059 Q150.728 373.786 147.649 378.392 Q144.593 382.975 138.783 382.975 Q132.973 382.975 129.894 378.392 Q126.839 373.786 126.839 365.059 Q126.839 356.309 129.894 351.725 Q132.973 347.119 138.783 347.119 Z\" fill=\"#000000\" fill-rule=\"evenodd\" fill-opacity=\"1\" /><path clip-path=\"url(#clip760)\" d=\"M 0 0 M155.797 376.424 L160.681 376.424 L160.681 382.304 L155.797 382.304 L155.797 376.424 Z\" fill=\"#000000\" fill-rule=\"evenodd\" fill-opacity=\"1\" /><path clip-path=\"url(#clip760)\" d=\"M 0 0 M175.751 365.892 Q172.417 365.892 170.496 367.674 Q168.598 369.457 168.598 372.582 Q168.598 375.707 170.496 377.489 Q172.417 379.272 175.751 379.272 Q179.084 379.272 181.005 377.489 Q182.927 375.684 182.927 372.582 Q182.927 369.457 181.005 367.674 Q179.107 365.892 175.751 365.892 M171.075 363.901 Q168.065 363.161 166.376 361.1 Q164.709 359.04 164.709 356.077 Q164.709 351.934 167.649 349.526 Q170.612 347.119 175.751 347.119 Q180.913 347.119 183.852 349.526 Q186.792 351.934 186.792 356.077 Q186.792 359.04 185.102 361.1 Q183.436 363.161 180.45 363.901 Q183.829 364.688 185.704 366.98 Q187.602 369.272 187.602 372.582 Q187.602 377.605 184.524 380.29 Q181.468 382.975 175.751 382.975 Q170.033 382.975 166.954 380.29 Q163.899 377.605 163.899 372.582 Q163.899 369.272 165.797 366.98 Q167.695 364.688 171.075 363.901 M169.362 356.517 Q169.362 359.202 171.028 360.707 Q172.718 362.212 175.751 362.212 Q178.76 362.212 180.45 360.707 Q182.163 359.202 182.163 356.517 Q182.163 353.832 180.45 352.327 Q178.76 350.823 175.751 350.823 Q172.718 350.823 171.028 352.327 Q169.362 353.832 169.362 356.517 Z\" fill=\"#000000\" fill-rule=\"evenodd\" fill-opacity=\"1\" /><path clip-path=\"url(#clip760)\" d=\"M 0 0 M130.728 80.7935 L138.367 80.7935 L138.367 54.4279 L130.056 56.0946 L130.056 51.8353 L138.32 50.1687 L142.996 50.1687 L142.996 80.7935 L150.635 80.7935 L150.635 84.7287 L130.728 84.7287 L130.728 80.7935 Z\" fill=\"#000000\" fill-rule=\"evenodd\" fill-opacity=\"1\" /><path clip-path=\"url(#clip760)\" d=\"M 0 0 M155.704 78.8491 L160.589 78.8491 L160.589 84.7287 L155.704 84.7287 L155.704 78.8491 Z\" fill=\"#000000\" fill-rule=\"evenodd\" fill-opacity=\"1\" /><path clip-path=\"url(#clip760)\" d=\"M 0 0 M175.658 53.2474 Q172.047 53.2474 170.218 56.8122 Q168.413 60.3538 168.413 67.4834 Q168.413 74.5898 170.218 78.1546 Q172.047 81.6963 175.658 81.6963 Q179.292 81.6963 181.098 78.1546 Q182.927 74.5898 182.927 67.4834 Q182.927 60.3538 181.098 56.8122 Q179.292 53.2474 175.658 53.2474 M175.658 49.5437 Q181.468 49.5437 184.524 54.1501 Q187.602 58.7334 187.602 67.4834 Q187.602 76.2102 184.524 80.8167 Q181.468 85.4 175.658 85.4 Q169.848 85.4 166.769 80.8167 Q163.714 76.2102 163.714 67.4834 Q163.714 58.7334 166.769 54.1501 Q169.848 49.5437 175.658 49.5437 Z\" fill=\"#000000\" fill-rule=\"evenodd\" fill-opacity=\"1\" /><path clip-path=\"url(#clip760)\" d=\"M 0 0 M1162.85 1534.53 L1162.85 1556.04 L1157 1556.04 L1157 1534.72 Q1157 1529.66 1155.02 1527.14 Q1153.05 1524.63 1149.1 1524.63 Q1144.36 1524.63 1141.62 1527.65 Q1138.89 1530.68 1138.89 1535.9 L1138.89 1556.04 L1133 1556.04 L1133 1506.52 L1138.89 1506.52 L1138.89 1525.93 Q1140.99 1522.72 1143.82 1521.13 Q1146.69 1519.54 1150.41 1519.54 Q1156.55 1519.54 1159.7 1523.36 Q1162.85 1527.14 1162.85 1534.53 Z\" fill=\"#000000\" fill-rule=\"evenodd\" fill-opacity=\"1\" /><path clip-path=\"url(#clip760)\" d=\"M 0 0 M1212.44 1521.45 L1212.44 1526.98 Q1209.96 1525.71 1207.29 1525.07 Q1204.61 1524.44 1201.75 1524.44 Q1197.39 1524.44 1195.19 1525.77 Q1193.03 1527.11 1193.03 1529.79 Q1193.03 1531.82 1194.59 1533 Q1196.15 1534.15 1200.86 1535.2 L1202.86 1535.64 Q1209.1 1536.98 1211.71 1539.43 Q1214.35 1541.85 1214.35 1546.21 Q1214.35 1551.17 1210.41 1554.07 Q1206.49 1556.97 1199.62 1556.97 Q1196.75 1556.97 1193.63 1556.39 Q1190.54 1555.85 1187.11 1554.74 L1187.11 1548.69 Q1190.35 1550.38 1193.5 1551.24 Q1196.66 1552.07 1199.74 1552.07 Q1203.88 1552.07 1206.11 1550.66 Q1208.34 1549.23 1208.34 1546.65 Q1208.34 1544.27 1206.71 1542.99 Q1205.12 1541.72 1199.68 1540.54 L1197.64 1540.07 Q1192.2 1538.92 1189.78 1536.56 Q1187.36 1534.18 1187.36 1530.04 Q1187.36 1525.01 1190.93 1522.27 Q1194.49 1519.54 1201.05 1519.54 Q1204.29 1519.54 1207.16 1520.01 Q1210.02 1520.49 1212.44 1521.45 Z\" fill=\"#000000\" fill-rule=\"evenodd\" fill-opacity=\"1\" /><path clip-path=\"url(#clip760)\" d=\"M 0 0 M1226.29 1510.27 L1226.29 1520.4 L1238.35 1520.4 L1238.35 1524.95 L1226.29 1524.95 L1226.29 1544.3 Q1226.29 1548.66 1227.47 1549.9 Q1228.68 1551.14 1232.34 1551.14 L1238.35 1551.14 L1238.35 1556.04 L1232.34 1556.04 Q1225.56 1556.04 1222.98 1553.53 Q1220.4 1550.98 1220.4 1544.3 L1220.4 1524.95 L1216.1 1524.95 L1216.1 1520.4 L1220.4 1520.4 L1220.4 1510.27 L1226.29 1510.27 Z\" fill=\"#000000\" fill-rule=\"evenodd\" fill-opacity=\"1\" /><path clip-path=\"url(#clip760)\" d=\"M 0 0 M1265.15 1525.87 Q1264.16 1525.3 1262.99 1525.04 Q1261.84 1524.76 1260.44 1524.76 Q1255.48 1524.76 1252.8 1528 Q1250.16 1531.22 1250.16 1537.27 L1250.16 1556.04 L1244.27 1556.04 L1244.27 1520.4 L1250.16 1520.4 L1250.16 1525.93 Q1252.01 1522.69 1254.97 1521.13 Q1257.93 1519.54 1262.16 1519.54 Q1262.76 1519.54 1263.5 1519.63 Q1264.23 1519.7 1265.12 1519.85 L1265.15 1525.87 Z\" fill=\"#000000\" fill-rule=\"evenodd\" fill-opacity=\"1\" /><path clip-path=\"url(#clip760)\" d=\"M 0 0 M1300.35 1536.76 L1300.35 1539.62 L1273.43 1539.62 Q1273.81 1545.67 1277.05 1548.85 Q1280.33 1552 1286.16 1552 Q1289.53 1552 1292.68 1551.17 Q1295.87 1550.35 1298.98 1548.69 L1298.98 1554.23 Q1295.83 1555.57 1292.52 1556.27 Q1289.21 1556.97 1285.81 1556.97 Q1277.28 1556.97 1272.28 1552 Q1267.32 1547.04 1267.32 1538.57 Q1267.32 1529.82 1272.03 1524.69 Q1276.77 1519.54 1284.79 1519.54 Q1291.98 1519.54 1296.15 1524.18 Q1300.35 1528.8 1300.35 1536.76 M1294.5 1535.04 Q1294.43 1530.23 1291.79 1527.37 Q1289.18 1524.5 1284.85 1524.5 Q1279.95 1524.5 1276.99 1527.27 Q1274.06 1530.04 1273.62 1535.07 L1294.5 1535.04 Z\" fill=\"#000000\" fill-rule=\"evenodd\" fill-opacity=\"1\" /><path clip-path=\"url(#clip760)\" d=\"M 0 0 M1336.13 1534.53 L1336.13 1556.04 L1330.27 1556.04 L1330.27 1534.72 Q1330.27 1529.66 1328.3 1527.14 Q1326.33 1524.63 1322.38 1524.63 Q1317.64 1524.63 1314.9 1527.65 Q1312.16 1530.68 1312.16 1535.9 L1312.16 1556.04 L1306.27 1556.04 L1306.27 1520.4 L1312.16 1520.4 L1312.16 1525.93 Q1314.26 1522.72 1317.1 1521.13 Q1319.96 1519.54 1323.68 1519.54 Q1329.83 1519.54 1332.98 1523.36 Q1336.13 1527.14 1336.13 1534.53 Z\" fill=\"#000000\" fill-rule=\"evenodd\" fill-opacity=\"1\" /><path clip-path=\"url(#clip760)\" d=\"M 0 0 M1365.73 1537.81 Q1365.73 1531.44 1363.09 1527.94 Q1360.48 1524.44 1355.73 1524.44 Q1351.02 1524.44 1348.38 1527.94 Q1345.77 1531.44 1345.77 1537.81 Q1345.77 1544.14 1348.38 1547.64 Q1351.02 1551.14 1355.73 1551.14 Q1360.48 1551.14 1363.09 1547.64 Q1365.73 1544.14 1365.73 1537.81 M1371.59 1551.62 Q1371.59 1560.72 1367.54 1565.15 Q1363.5 1569.6 1355.16 1569.6 Q1352.07 1569.6 1349.34 1569.13 Q1346.6 1568.68 1344.02 1567.72 L1344.02 1562.03 Q1346.6 1563.43 1349.11 1564.1 Q1351.63 1564.76 1354.24 1564.76 Q1360 1564.76 1362.86 1561.74 Q1365.73 1558.75 1365.73 1552.67 L1365.73 1549.77 Q1363.91 1552.92 1361.08 1554.48 Q1358.25 1556.04 1354.3 1556.04 Q1347.75 1556.04 1343.74 1551.05 Q1339.73 1546.05 1339.73 1537.81 Q1339.73 1529.53 1343.74 1524.53 Q1347.75 1519.54 1354.3 1519.54 Q1358.25 1519.54 1361.08 1521.1 Q1363.91 1522.66 1365.73 1525.81 L1365.73 1520.4 L1371.59 1520.4 L1371.59 1551.62 Z\" fill=\"#000000\" fill-rule=\"evenodd\" fill-opacity=\"1\" /><path clip-path=\"url(#clip760)\" d=\"M 0 0 M1383.52 1510.27 L1383.52 1520.4 L1395.58 1520.4 L1395.58 1524.95 L1383.52 1524.95 L1383.52 1544.3 Q1383.52 1548.66 1384.7 1549.9 Q1385.91 1551.14 1389.57 1551.14 L1395.58 1551.14 L1395.58 1556.04 L1389.57 1556.04 Q1382.79 1556.04 1380.21 1553.53 Q1377.63 1550.98 1377.63 1544.3 L1377.63 1524.95 L1373.34 1524.95 L1373.34 1520.4 L1377.63 1520.4 L1377.63 1510.27 L1383.52 1510.27 Z\" fill=\"#000000\" fill-rule=\"evenodd\" fill-opacity=\"1\" /><path clip-path=\"url(#clip760)\" d=\"M 0 0 M1431.36 1534.53 L1431.36 1556.04 L1425.5 1556.04 L1425.5 1534.72 Q1425.5 1529.66 1423.53 1527.14 Q1421.56 1524.63 1417.61 1524.63 Q1412.87 1524.63 1410.13 1527.65 Q1407.39 1530.68 1407.39 1535.9 L1407.39 1556.04 L1401.5 1556.04 L1401.5 1506.52 L1407.39 1506.52 L1407.39 1525.93 Q1409.49 1522.72 1412.33 1521.13 Q1415.19 1519.54 1418.91 1519.54 Q1425.06 1519.54 1428.21 1523.36 Q1431.36 1527.14 1431.36 1534.53 Z\" fill=\"#000000\" fill-rule=\"evenodd\" fill-opacity=\"1\" /><path clip-path=\"url(#clip760)\" d=\"M 0 0 M40.4842 1279.96 L40.4842 1249.91 L45.895 1249.91 L45.895 1273.53 L59.9632 1273.53 L59.9632 1250.9 L65.3741 1250.9 L65.3741 1273.53 L82.5933 1273.53 L82.5933 1249.34 L88.0042 1249.34 L88.0042 1279.96 L40.4842 1279.96 Z\" fill=\"#000000\" fill-rule=\"evenodd\" fill-opacity=\"1\" /><path clip-path=\"url(#clip760)\" d=\"M 0 0 M52.3562 1213.56 L69.7028 1226.45 L88.0042 1212.89 L88.0042 1219.8 L73.9996 1230.18 L88.0042 1240.55 L88.0042 1247.46 L69.3526 1233.61 L52.3562 1246.28 L52.3562 1239.38 L65.0558 1229.92 L52.3562 1220.47 L52.3562 1213.56 Z\" fill=\"#000000\" fill-rule=\"evenodd\" fill-opacity=\"1\" /><path clip-path=\"url(#clip760)\" d=\"M 0 0 M82.657 1201.09 L101.563 1201.09 L101.563 1206.97 L52.3562 1206.97 L52.3562 1201.09 L57.7671 1201.09 Q54.5842 1199.24 53.0564 1196.44 Q51.4968 1193.61 51.4968 1189.69 Q51.4968 1183.2 56.6531 1179.16 Q61.8093 1175.08 70.212 1175.08 Q78.6147 1175.08 83.771 1179.16 Q88.9272 1183.2 88.9272 1189.69 Q88.9272 1193.61 87.3994 1196.44 Q85.8398 1199.24 82.657 1201.09 M70.212 1181.16 Q63.7508 1181.16 60.0905 1183.84 Q56.3984 1186.48 56.3984 1191.12 Q56.3984 1195.77 60.0905 1198.44 Q63.7508 1201.09 70.212 1201.09 Q76.6732 1201.09 80.3653 1198.44 Q84.0256 1195.77 84.0256 1191.12 Q84.0256 1186.48 80.3653 1183.84 Q76.6732 1181.16 70.212 1181.16 Z\" fill=\"#000000\" fill-rule=\"evenodd\" fill-opacity=\"1\" /><path clip-path=\"url(#clip760)\" d=\"M 0 0 M68.7161 1138.45 L71.5806 1138.45 L71.5806 1165.37 Q77.6281 1164.99 80.8109 1161.75 Q83.9619 1158.47 83.9619 1152.64 Q83.9619 1149.27 83.1344 1146.12 Q82.3069 1142.94 80.6518 1139.82 L86.1899 1139.82 Q87.5267 1142.97 88.227 1146.28 Q88.9272 1149.59 88.9272 1152.99 Q88.9272 1161.52 83.9619 1166.52 Q78.9967 1171.49 70.5303 1171.49 Q61.7774 1171.49 56.6531 1166.78 Q51.4968 1162.03 51.4968 1154.01 Q51.4968 1146.82 56.1438 1142.65 Q60.7589 1138.45 68.7161 1138.45 M66.9973 1144.3 Q62.1912 1144.37 59.3266 1147.01 Q56.4621 1149.62 56.4621 1153.95 Q56.4621 1158.85 59.2312 1161.81 Q62.0002 1164.74 67.0292 1165.18 L66.9973 1144.3 Z\" fill=\"#000000\" fill-rule=\"evenodd\" fill-opacity=\"1\" /><path clip-path=\"url(#clip760)\" d=\"M 0 0 M53.7248 1106.65 L59.1993 1106.65 Q57.8307 1109.13 57.1623 1111.65 Q56.4621 1114.13 56.4621 1116.68 Q56.4621 1122.37 60.0905 1125.53 Q63.6872 1128.68 70.212 1128.68 Q76.7369 1128.68 80.3653 1125.53 Q83.9619 1122.37 83.9619 1116.68 Q83.9619 1114.13 83.2935 1111.65 Q82.5933 1109.13 81.2247 1106.65 L86.6355 1106.65 Q87.7814 1109.1 88.3543 1111.74 Q88.9272 1114.35 88.9272 1117.31 Q88.9272 1125.37 83.8664 1130.11 Q78.8057 1134.85 70.212 1134.85 Q61.491 1134.85 56.4939 1130.08 Q51.4968 1125.27 51.4968 1116.93 Q51.4968 1114.23 52.0697 1111.65 Q52.6108 1109.07 53.7248 1106.65 Z\" fill=\"#000000\" fill-rule=\"evenodd\" fill-opacity=\"1\" /><path clip-path=\"url(#clip760)\" d=\"M 0 0 M42.2347 1094.72 L52.3562 1094.72 L52.3562 1082.65 L56.9077 1082.65 L56.9077 1094.72 L76.2594 1094.72 Q80.6199 1094.72 81.8613 1093.54 Q83.1026 1092.33 83.1026 1088.67 L83.1026 1082.65 L88.0042 1082.65 L88.0042 1088.67 Q88.0042 1095.45 85.4897 1098.03 Q82.9434 1100.6 76.2594 1100.6 L56.9077 1100.6 L56.9077 1104.9 L52.3562 1104.9 L52.3562 1100.6 L42.2347 1100.6 L42.2347 1094.72 Z\" fill=\"#000000\" fill-rule=\"evenodd\" fill-opacity=\"1\" /><path clip-path=\"url(#clip760)\" d=\"M 0 0 M70.0847 1060.31 Q70.0847 1067.41 71.7079 1070.14 Q73.3312 1072.88 77.2461 1072.88 Q80.3653 1072.88 82.2114 1070.84 Q84.0256 1068.77 84.0256 1065.24 Q84.0256 1060.37 80.5881 1057.44 Q77.1188 1054.48 71.3897 1054.48 L70.0847 1054.48 L70.0847 1060.31 M67.6657 1048.63 L88.0042 1048.63 L88.0042 1054.48 L82.5933 1054.48 Q85.8398 1056.49 87.3994 1059.48 Q88.9272 1062.47 88.9272 1066.8 Q88.9272 1072.28 85.8716 1075.52 Q82.7843 1078.74 77.6281 1078.74 Q71.6125 1078.74 68.5569 1074.73 Q65.5014 1070.68 65.5014 1062.7 L65.5014 1054.48 L64.9285 1054.48 Q60.8862 1054.48 58.6901 1057.16 Q56.4621 1059.8 56.4621 1064.61 Q56.4621 1067.66 57.1941 1070.56 Q57.9262 1073.45 59.3903 1076.13 L53.9795 1076.13 Q52.7381 1072.91 52.1334 1069.89 Q51.4968 1066.87 51.4968 1064 Q51.4968 1056.27 55.5072 1052.45 Q59.5176 1048.63 67.6657 1048.63 Z\" fill=\"#000000\" fill-rule=\"evenodd\" fill-opacity=\"1\" /><path clip-path=\"url(#clip760)\" d=\"M 0 0 M42.2347 1036.69 L52.3562 1036.69 L52.3562 1024.63 L56.9077 1024.63 L56.9077 1036.69 L76.2594 1036.69 Q80.6199 1036.69 81.8613 1035.51 Q83.1026 1034.3 83.1026 1030.64 L83.1026 1024.63 L88.0042 1024.63 L88.0042 1030.64 Q88.0042 1037.42 85.4897 1040 Q82.9434 1042.58 76.2594 1042.58 L56.9077 1042.58 L56.9077 1046.88 L52.3562 1046.88 L52.3562 1042.58 L42.2347 1042.58 L42.2347 1036.69 Z\" fill=\"#000000\" fill-rule=\"evenodd\" fill-opacity=\"1\" /><path clip-path=\"url(#clip760)\" d=\"M 0 0 M52.3562 1018.49 L52.3562 1012.63 L88.0042 1012.63 L88.0042 1018.49 L52.3562 1018.49 M38.479 1018.49 L38.479 1012.63 L45.895 1012.63 L45.895 1018.49 L38.479 1018.49 Z\" fill=\"#000000\" fill-rule=\"evenodd\" fill-opacity=\"1\" /><path clip-path=\"url(#clip760)\" d=\"M 0 0 M56.4621 992.673 Q56.4621 997.384 60.1542 1000.12 Q63.8145 1002.86 70.212 1002.86 Q76.6095 1002.86 80.3017 1000.15 Q83.9619 997.415 83.9619 992.673 Q83.9619 987.994 80.2698 985.257 Q76.5777 982.52 70.212 982.52 Q63.8781 982.52 60.186 985.257 Q56.4621 987.994 56.4621 992.673 M51.4968 992.673 Q51.4968 985.034 56.4621 980.674 Q61.4273 976.313 70.212 976.313 Q78.9649 976.313 83.9619 980.674 Q88.9272 985.034 88.9272 992.673 Q88.9272 1000.34 83.9619 1004.7 Q78.9649 1009.03 70.212 1009.03 Q61.4273 1009.03 56.4621 1004.7 Q51.4968 1000.34 51.4968 992.673 Z\" fill=\"#000000\" fill-rule=\"evenodd\" fill-opacity=\"1\" /><path clip-path=\"url(#clip760)\" d=\"M 0 0 M66.4881 940.538 L88.0042 940.538 L88.0042 946.394 L66.679 946.394 Q61.6183 946.394 59.1038 948.368 Q56.5894 950.341 56.5894 954.288 Q56.5894 959.03 59.6131 961.767 Q62.6368 964.505 67.8567 964.505 L88.0042 964.505 L88.0042 970.393 L52.3562 970.393 L52.3562 964.505 L57.8944 964.505 Q54.6797 962.404 53.0883 959.571 Q51.4968 956.707 51.4968 952.983 Q51.4968 946.84 55.3163 943.689 Q59.1038 940.538 66.4881 940.538 Z\" fill=\"#000000\" fill-rule=\"evenodd\" fill-opacity=\"1\" /><path clip-path=\"url(#clip760)\" d=\"M 0 0 M52.3562 917.876 L52.3562 911.669 L82.275 900.529 L52.3562 889.389 L52.3562 883.183 L88.0042 896.551 L88.0042 904.508 L52.3562 917.876 Z\" fill=\"#000000\" fill-rule=\"evenodd\" fill-opacity=\"1\" /><path clip-path=\"url(#clip760)\" d=\"M 0 0 M70.0847 860.839 Q70.0847 867.937 71.7079 870.674 Q73.3312 873.411 77.2461 873.411 Q80.3653 873.411 82.2114 871.374 Q84.0256 869.306 84.0256 865.773 Q84.0256 860.903 80.5881 857.975 Q77.1188 855.015 71.3897 855.015 L70.0847 855.015 L70.0847 860.839 M67.6657 849.158 L88.0042 849.158 L88.0042 855.015 L82.5933 855.015 Q85.8398 857.02 87.3994 860.012 Q88.9272 863.004 88.9272 867.332 Q88.9272 872.807 85.8716 876.053 Q82.7843 879.268 77.6281 879.268 Q71.6125 879.268 68.5569 875.258 Q65.5014 871.215 65.5014 863.226 L65.5014 855.015 L64.9285 855.015 Q60.8862 855.015 58.6901 857.688 Q56.4621 860.33 56.4621 865.136 Q56.4621 868.192 57.1941 871.088 Q57.9262 873.984 59.3903 876.658 L53.9795 876.658 Q52.7381 873.443 52.1334 870.42 Q51.4968 867.396 51.4968 864.531 Q51.4968 856.797 55.5072 852.978 Q59.5176 849.158 67.6657 849.158 Z\" fill=\"#000000\" fill-rule=\"evenodd\" fill-opacity=\"1\" /><path clip-path=\"url(#clip760)\" d=\"M 0 0 M38.479 843.015 L38.479 837.159 L88.0042 837.159 L88.0042 843.015 L38.479 843.015 Z\" fill=\"#000000\" fill-rule=\"evenodd\" fill-opacity=\"1\" /><path clip-path=\"url(#clip760)\" d=\"M 0 0 M73.9359 831.621 L52.3562 831.621 L52.3562 825.764 L73.7131 825.764 Q78.7739 825.764 81.3202 823.791 Q83.8346 821.817 83.8346 817.871 Q83.8346 813.128 80.8109 810.391 Q77.7872 807.622 72.5673 807.622 L52.3562 807.622 L52.3562 801.765 L88.0042 801.765 L88.0042 807.622 L82.5296 807.622 Q85.7762 809.754 87.3676 812.587 Q88.9272 815.388 88.9272 819.112 Q88.9272 825.255 85.1078 828.438 Q81.2883 831.621 73.9359 831.621 M51.4968 816.884 L51.4968 816.884 Z\" fill=\"#000000\" fill-rule=\"evenodd\" fill-opacity=\"1\" /><path clip-path=\"url(#clip760)\" d=\"M 0 0 M68.7161 765.131 L71.5806 765.131 L71.5806 792.058 Q77.6281 791.676 80.8109 788.429 Q83.9619 785.151 83.9619 779.326 Q83.9619 775.952 83.1344 772.801 Q82.3069 769.619 80.6518 766.499 L86.1899 766.499 Q87.5267 769.65 88.227 772.961 Q88.9272 776.271 88.9272 779.676 Q88.9272 788.206 83.9619 793.204 Q78.9967 798.169 70.5303 798.169 Q61.7774 798.169 56.6531 793.458 Q51.4968 788.716 51.4968 780.695 Q51.4968 773.502 56.1438 769.332 Q60.7589 765.131 68.7161 765.131 M66.9973 770.987 Q62.1912 771.051 59.3266 773.693 Q56.4621 776.303 56.4621 780.631 Q56.4621 785.533 59.2312 788.493 Q62.0002 791.421 67.0292 791.867 L66.9973 770.987 Z\" fill=\"#000000\" fill-rule=\"evenodd\" fill-opacity=\"1\" /><path clip-path=\"url(#clip760)\" d=\"M 0 0 M56.4621 724.454 Q56.4621 729.165 60.1542 731.902 Q63.8145 734.639 70.212 734.639 Q76.6095 734.639 80.3017 731.934 Q83.9619 729.196 83.9619 724.454 Q83.9619 719.775 80.2698 717.038 Q76.5777 714.301 70.212 714.301 Q63.8781 714.301 60.186 717.038 Q56.4621 719.775 56.4621 724.454 M51.4968 724.454 Q51.4968 716.815 56.4621 712.455 Q61.4273 708.094 70.212 708.094 Q78.9649 708.094 83.9619 712.455 Q88.9272 716.815 88.9272 724.454 Q88.9272 732.125 83.9619 736.485 Q78.9649 740.814 70.212 740.814 Q61.4273 740.814 56.4621 736.485 Q51.4968 732.125 51.4968 724.454 Z\" fill=\"#000000\" fill-rule=\"evenodd\" fill-opacity=\"1\" /><path clip-path=\"url(#clip760)\" d=\"M 0 0 M38.479 683.904 L43.3487 683.904 L43.3487 689.506 Q43.3487 692.657 44.6219 693.899 Q45.895 695.108 49.2052 695.108 L52.3562 695.108 L52.3562 685.464 L56.9077 685.464 L56.9077 695.108 L88.0042 695.108 L88.0042 700.996 L56.9077 700.996 L56.9077 706.598 L52.3562 706.598 L52.3562 700.996 L49.8736 700.996 Q43.9216 700.996 41.2162 698.227 Q38.479 695.458 38.479 689.443 L38.479 683.904 Z\" fill=\"#000000\" fill-rule=\"evenodd\" fill-opacity=\"1\" /><path clip-path=\"url(#clip760)\" d=\"M 0 0 M82.657 651.376 L101.563 651.376 L101.563 657.264 L52.3562 657.264 L52.3562 651.376 L57.7671 651.376 Q54.5842 649.53 53.0564 646.729 Q51.4968 643.896 51.4968 639.981 Q51.4968 633.488 56.6531 629.446 Q61.8093 625.372 70.212 625.372 Q78.6147 625.372 83.771 629.446 Q88.9272 633.488 88.9272 639.981 Q88.9272 643.896 87.3994 646.729 Q85.8398 649.53 82.657 651.376 M70.212 631.451 Q63.7508 631.451 60.0905 634.125 Q56.3984 636.766 56.3984 641.413 Q56.3984 646.06 60.0905 648.734 Q63.7508 651.376 70.212 651.376 Q76.6732 651.376 80.3653 648.734 Q84.0256 646.06 84.0256 641.413 Q84.0256 636.766 80.3653 634.125 Q76.6732 631.451 70.212 631.451 Z\" fill=\"#000000\" fill-rule=\"evenodd\" fill-opacity=\"1\" /><path clip-path=\"url(#clip760)\" d=\"M 0 0 M70.0847 603.028 Q70.0847 610.126 71.7079 612.863 Q73.3312 615.6 77.2461 615.6 Q80.3653 615.6 82.2114 613.563 Q84.0256 611.494 84.0256 607.961 Q84.0256 603.092 80.5881 600.164 Q77.1188 597.203 71.3897 597.203 L70.0847 597.203 L70.0847 603.028 M67.6657 591.347 L88.0042 591.347 L88.0042 597.203 L82.5933 597.203 Q85.8398 599.209 87.3994 602.201 Q88.9272 605.192 88.9272 609.521 Q88.9272 614.996 85.8716 618.242 Q82.7843 621.457 77.6281 621.457 Q71.6125 621.457 68.5569 617.446 Q65.5014 613.404 65.5014 605.415 L65.5014 597.203 L64.9285 597.203 Q60.8862 597.203 58.6901 599.877 Q56.4621 602.519 56.4621 607.325 Q56.4621 610.38 57.1941 613.277 Q57.9262 616.173 59.3903 618.847 L53.9795 618.847 Q52.7381 615.632 52.1334 612.608 Q51.4968 609.585 51.4968 606.72 Q51.4968 598.986 55.5072 595.166 Q59.5176 591.347 67.6657 591.347 Z\" fill=\"#000000\" fill-rule=\"evenodd\" fill-opacity=\"1\" /><path clip-path=\"url(#clip760)\" d=\"M 0 0 M73.9359 585.809 L52.3562 585.809 L52.3562 579.952 L73.7131 579.952 Q78.7739 579.952 81.3202 577.979 Q83.8346 576.006 83.8346 572.059 Q83.8346 567.316 80.8109 564.579 Q77.7872 561.81 72.5673 561.81 L52.3562 561.81 L52.3562 555.954 L88.0042 555.954 L88.0042 561.81 L82.5296 561.81 Q85.7762 563.943 87.3676 566.775 Q88.9272 569.576 88.9272 573.3 Q88.9272 579.443 85.1078 582.626 Q81.2883 585.809 73.9359 585.809 M51.4968 571.072 L51.4968 571.072 Z\" fill=\"#000000\" fill-rule=\"evenodd\" fill-opacity=\"1\" /><path clip-path=\"url(#clip760)\" d=\"M 0 0 M38.479 549.811 L38.479 543.954 L88.0042 543.954 L88.0042 549.811 L38.479 549.811 Z\" fill=\"#000000\" fill-rule=\"evenodd\" fill-opacity=\"1\" /><path clip-path=\"url(#clip760)\" d=\"M 0 0 M52.3562 537.811 L52.3562 531.955 L88.0042 531.955 L88.0042 537.811 L52.3562 537.811 M38.479 537.811 L38.479 531.955 L45.895 531.955 L45.895 537.811 L38.479 537.811 Z\" fill=\"#000000\" fill-rule=\"evenodd\" fill-opacity=\"1\" /><path clip-path=\"url(#clip760)\" d=\"M 0 0 M67.5384 528.772 L67.5384 511.617 L72.7583 511.617 L72.7583 528.772 L67.5384 528.772 Z\" fill=\"#000000\" fill-rule=\"evenodd\" fill-opacity=\"1\" /><path clip-path=\"url(#clip760)\" d=\"M 0 0 M40.4842 507.956 L40.4842 470.621 L45.3858 470.621 L82.5933 500.668 L82.5933 469.889 L88.0042 469.889 L88.0042 508.688 L83.1026 508.688 L45.895 478.642 L45.895 507.956 L40.4842 507.956 Z\" fill=\"#000000\" fill-rule=\"evenodd\" fill-opacity=\"1\" /><path clip-path=\"url(#clip760)\" d=\"M 0 0 M56.4621 429.212 Q56.4621 433.923 60.1542 436.66 Q63.8145 439.398 70.212 439.398 Q76.6095 439.398 80.3017 436.692 Q83.9619 433.955 83.9619 429.212 Q83.9619 424.534 80.2698 421.796 Q76.5777 419.059 70.212 419.059 Q63.8781 419.059 60.186 421.796 Q56.4621 424.534 56.4621 429.212 M51.4968 429.212 Q51.4968 421.574 56.4621 417.213 Q61.4273 412.853 70.212 412.853 Q78.9649 412.853 83.9619 417.213 Q88.9272 421.574 88.9272 429.212 Q88.9272 436.883 83.9619 441.244 Q78.9649 445.572 70.212 445.572 Q61.4273 445.572 56.4621 441.244 Q51.4968 436.883 51.4968 429.212 Z\" fill=\"#000000\" fill-rule=\"evenodd\" fill-opacity=\"1\" /><path clip-path=\"url(#clip760)\" d=\"M 0 0 M82.657 401.044 L101.563 401.044 L101.563 406.932 L52.3562 406.932 L52.3562 401.044 L57.7671 401.044 Q54.5842 399.198 53.0564 396.397 Q51.4968 393.564 51.4968 389.65 Q51.4968 383.157 56.6531 379.114 Q61.8093 375.04 70.212 375.04 Q78.6147 375.04 83.771 379.114 Q88.9272 383.157 88.9272 389.65 Q88.9272 393.564 87.3994 396.397 Q85.8398 399.198 82.657 401.044 M70.212 381.12 Q63.7508 381.12 60.0905 383.793 Q56.3984 386.435 56.3984 391.082 Q56.3984 395.729 60.0905 398.402 Q63.7508 401.044 70.212 401.044 Q76.6732 401.044 80.3653 398.402 Q84.0256 395.729 84.0256 391.082 Q84.0256 386.435 80.3653 383.793 Q76.6732 381.12 70.212 381.12 Z\" fill=\"#000000\" fill-rule=\"evenodd\" fill-opacity=\"1\" /><path clip-path=\"url(#clip760)\" d=\"M 0 0 M68.7161 338.406 L71.5806 338.406 L71.5806 365.333 Q77.6281 364.951 80.8109 361.704 Q83.9619 358.426 83.9619 352.601 Q83.9619 349.227 83.1344 346.076 Q82.3069 342.893 80.6518 339.774 L86.1899 339.774 Q87.5267 342.925 88.227 346.235 Q88.9272 349.546 88.9272 352.951 Q88.9272 361.481 83.9619 366.478 Q78.9967 371.444 70.5303 371.444 Q61.7774 371.444 56.6531 366.733 Q51.4968 361.991 51.4968 353.97 Q51.4968 346.777 56.1438 342.607 Q60.7589 338.406 68.7161 338.406 M66.9973 344.262 Q62.1912 344.326 59.3266 346.968 Q56.4621 349.577 56.4621 353.906 Q56.4621 358.808 59.2312 361.768 Q62.0002 364.696 67.0292 365.142 L66.9973 344.262 Z\" fill=\"#000000\" fill-rule=\"evenodd\" fill-opacity=\"1\" /><path clip-path=\"url(#clip760)\" d=\"M 0 0 M57.8307 311.606 Q57.2578 312.593 57.0032 313.77 Q56.7167 314.916 56.7167 316.317 Q56.7167 321.282 59.9632 323.955 Q63.1779 326.597 69.2253 326.597 L88.0042 326.597 L88.0042 332.486 L52.3562 332.486 L52.3562 326.597 L57.8944 326.597 Q54.6479 324.751 53.0883 321.791 Q51.4968 318.831 51.4968 314.598 Q51.4968 313.993 51.5923 313.261 Q51.656 312.529 51.8151 311.638 L57.8307 311.606 Z\" fill=\"#000000\" fill-rule=\"evenodd\" fill-opacity=\"1\" /><path clip-path=\"url(#clip760)\" d=\"M 0 0 M70.0847 289.262 Q70.0847 296.36 71.7079 299.097 Q73.3312 301.835 77.2461 301.835 Q80.3653 301.835 82.2114 299.798 Q84.0256 297.729 84.0256 294.196 Q84.0256 289.326 80.5881 286.398 Q77.1188 283.438 71.3897 283.438 L70.0847 283.438 L70.0847 289.262 M67.6657 277.581 L88.0042 277.581 L88.0042 283.438 L82.5933 283.438 Q85.8398 285.443 87.3994 288.435 Q88.9272 291.427 88.9272 295.755 Q88.9272 301.23 85.8716 304.476 Q82.7843 307.691 77.6281 307.691 Q71.6125 307.691 68.5569 303.681 Q65.5014 299.638 65.5014 291.65 L65.5014 283.438 L64.9285 283.438 Q60.8862 283.438 58.6901 286.111 Q56.4621 288.753 56.4621 293.559 Q56.4621 296.615 57.1941 299.511 Q57.9262 302.408 59.3903 305.081 L53.9795 305.081 Q52.7381 301.866 52.1334 298.843 Q51.4968 295.819 51.4968 292.955 Q51.4968 285.22 55.5072 281.401 Q59.5176 277.581 67.6657 277.581 Z\" fill=\"#000000\" fill-rule=\"evenodd\" fill-opacity=\"1\" /><path clip-path=\"url(#clip760)\" d=\"M 0 0 M42.2347 265.646 L52.3562 265.646 L52.3562 253.583 L56.9077 253.583 L56.9077 265.646 L76.2594 265.646 Q80.6199 265.646 81.8613 264.468 Q83.1026 263.258 83.1026 259.598 L83.1026 253.583 L88.0042 253.583 L88.0042 259.598 Q88.0042 266.378 85.4897 268.956 Q82.9434 271.534 76.2594 271.534 L56.9077 271.534 L56.9077 275.831 L52.3562 275.831 L52.3562 271.534 L42.2347 271.534 L42.2347 265.646 Z\" fill=\"#000000\" fill-rule=\"evenodd\" fill-opacity=\"1\" /><path clip-path=\"url(#clip760)\" d=\"M 0 0 M56.4621 233.626 Q56.4621 238.337 60.1542 241.074 Q63.8145 243.811 70.212 243.811 Q76.6095 243.811 80.3017 241.106 Q83.9619 238.369 83.9619 233.626 Q83.9619 228.947 80.2698 226.21 Q76.5777 223.473 70.212 223.473 Q63.8781 223.473 60.186 226.21 Q56.4621 228.947 56.4621 233.626 M51.4968 233.626 Q51.4968 225.987 56.4621 221.627 Q61.4273 217.266 70.212 217.266 Q78.9649 217.266 83.9619 221.627 Q88.9272 225.987 88.9272 233.626 Q88.9272 241.297 83.9619 245.657 Q78.9649 249.986 70.212 249.986 Q61.4273 249.986 56.4621 245.657 Q51.4968 241.297 51.4968 233.626 Z\" fill=\"#000000\" fill-rule=\"evenodd\" fill-opacity=\"1\" /><path clip-path=\"url(#clip760)\" d=\"M 0 0 M57.8307 190.467 Q57.2578 191.453 57.0032 192.631 Q56.7167 193.777 56.7167 195.177 Q56.7167 200.142 59.9632 202.816 Q63.1779 205.458 69.2253 205.458 L88.0042 205.458 L88.0042 211.346 L52.3562 211.346 L52.3562 205.458 L57.8944 205.458 Q54.6479 203.612 53.0883 200.652 Q51.4968 197.692 51.4968 193.459 Q51.4968 192.854 51.5923 192.122 Q51.656 191.39 51.8151 190.498 L57.8307 190.467 Z\" fill=\"#000000\" fill-rule=\"evenodd\" fill-opacity=\"1\" /><polyline clip-path=\"url(#clip762)\" style=\"stroke:#009af9; stroke-width:4; stroke-opacity:1; fill:none\" points=\"\n",
       "  272.201,86.1857 416.484,143.786 560.766,242.361 705.049,379.159 849.331,541.354 993.614,708.258 1137.9,860.983 1282.18,989.664 1426.46,1093 1570.74,1174.2 \n",
       "  1715.03,1237.67 1859.31,1287.5 2003.59,1326.98 2147.87,1358.61 2292.16,1384.24 \n",
       "  \"/>\n",
       "<polyline clip-path=\"url(#clip762)\" style=\"stroke:#e26f46; stroke-width:4; stroke-opacity:1; fill:none\" points=\"\n",
       "  272.201,86.1857 416.484,143.786 560.766,242.361 705.049,379.159 849.331,541.354 993.614,708.258 1137.9,860.983 1282.18,989.664 1426.46,1093 1570.74,1174.2 \n",
       "  1715.03,1237.67 1859.31,1287.5 2003.59,1326.98 2147.87,1358.61 2292.16,1384.24 \n",
       "  \"/>\n",
       "<path clip-path=\"url(#clip760)\" d=\"\n",
       "M1989.74 312.204 L2280.76 312.204 L2280.76 130.764 L1989.74 130.764  Z\n",
       "  \" fill=\"#ffffff\" fill-rule=\"evenodd\" fill-opacity=\"1\"/>\n",
       "<polyline clip-path=\"url(#clip760)\" style=\"stroke:#000000; stroke-width:4; stroke-opacity:1; fill:none\" points=\"\n",
       "  1989.74,312.204 2280.76,312.204 2280.76,130.764 1989.74,130.764 1989.74,312.204 \n",
       "  \"/>\n",
       "<polyline clip-path=\"url(#clip760)\" style=\"stroke:#009af9; stroke-width:4; stroke-opacity:1; fill:none\" points=\"\n",
       "  2013.74,191.244 2157.74,191.244 \n",
       "  \"/>\n",
       "<path clip-path=\"url(#clip760)\" d=\"M 0 0 M2195.58 210.931 Q2193.77 215.561 2192.06 216.973 Q2190.35 218.385 2187.48 218.385 L2184.08 218.385 L2184.08 214.82 L2186.58 214.82 Q2188.33 214.82 2189.31 213.987 Q2190.28 213.154 2191.46 210.052 L2192.22 208.107 L2181.74 182.598 L2186.25 182.598 L2194.35 202.876 L2202.46 182.598 L2206.97 182.598 L2195.58 210.931 Z\" fill=\"#000000\" fill-rule=\"evenodd\" fill-opacity=\"1\" /><path clip-path=\"url(#clip760)\" d=\"M 0 0 M2212.85 204.589 L2220.49 204.589 L2220.49 178.223 L2212.18 179.89 L2212.18 175.631 L2220.44 173.964 L2225.12 173.964 L2225.12 204.589 L2232.76 204.589 L2232.76 208.524 L2212.85 208.524 L2212.85 204.589 Z\" fill=\"#000000\" fill-rule=\"evenodd\" fill-opacity=\"1\" /><polyline clip-path=\"url(#clip760)\" style=\"stroke:#e26f46; stroke-width:4; stroke-opacity:1; fill:none\" points=\"\n",
       "  2013.74,251.724 2157.74,251.724 \n",
       "  \"/>\n",
       "<path clip-path=\"url(#clip760)\" d=\"M 0 0 M2195.58 271.411 Q2193.77 276.041 2192.06 277.453 Q2190.35 278.865 2187.48 278.865 L2184.08 278.865 L2184.08 275.3 L2186.58 275.3 Q2188.33 275.3 2189.31 274.467 Q2190.28 273.634 2191.46 270.532 L2192.22 268.587 L2181.74 243.078 L2186.25 243.078 L2194.35 263.356 L2202.46 243.078 L2206.97 243.078 L2195.58 271.411 Z\" fill=\"#000000\" fill-rule=\"evenodd\" fill-opacity=\"1\" /><path clip-path=\"url(#clip760)\" d=\"M 0 0 M2216.07 265.069 L2232.39 265.069 L2232.39 269.004 L2210.44 269.004 L2210.44 265.069 Q2213.1 262.314 2217.69 257.685 Q2222.29 253.032 2223.47 251.689 Q2225.72 249.166 2226.6 247.43 Q2227.5 245.671 2227.5 243.981 Q2227.5 241.226 2225.56 239.49 Q2223.64 237.754 2220.53 237.754 Q2218.33 237.754 2215.88 238.518 Q2213.45 239.282 2210.67 240.833 L2210.67 236.111 Q2213.5 234.976 2215.95 234.398 Q2218.4 233.819 2220.44 233.819 Q2225.81 233.819 2229.01 236.504 Q2232.2 239.189 2232.2 243.68 Q2232.2 245.81 2231.39 247.731 Q2230.6 249.629 2228.5 252.222 Q2227.92 252.893 2224.82 256.111 Q2221.71 259.305 2216.07 265.069 Z\" fill=\"#000000\" fill-rule=\"evenodd\" fill-opacity=\"1\" /></svg>\n"
      ]
     },
     "execution_count": 13,
     "metadata": {},
     "output_type": "execute_result"
    }
   ],
   "source": [
    "expc_list = []\n",
    "h_list = []\n",
    "for h = -0.1:-0.1:-1.5\n",
    "    H = Ising_NN_Hamiltonian(h, -1.0)\n",
    "    vec = eigvecs(H)[:, 1]\n",
    "    measZ = pauliZ_measure()\n",
    "    expc = transpose(vec) * measZ * vec\n",
    "    push!(expc_list, expc)\n",
    "    push!(h_list, -h)\n",
    "end\n",
    "plot!(h_list, expc_list)\n",
    "xlabel!(\"h strength\")\n",
    "ylabel!(\"Expectation value of pauli-Z operator\")"
   ]
  },
  {
   "cell_type": "markdown",
   "metadata": {},
   "source": [
    "もっと大きな規模で"
   ]
  },
  {
   "cell_type": "code",
   "execution_count": null,
   "metadata": {},
   "outputs": [],
   "source": [
    "D = 10\n",
    "N = 50\n",
    "mps = init_MPS(N, D, 'r') # convert to MPS\n",
    "O = Ising_NN_Hamiltonian_MPO(N, -0.001, -1.0)\n",
    "\n",
    "(opt_mps, hist) = iterative_ground_state_search(mps, O, D, 1)"
   ]
  },
  {
   "cell_type": "code",
   "execution_count": 15,
   "metadata": {},
   "outputs": [
    {
     "data": {
      "text/plain": [
       "50-element Array{Any,1}:\n",
       " -0.6032421605400494 - 2.7755575615628914e-17im\n",
       " -49.001300008263755 + 2.4619187244317582e-14im\n",
       " -49.001300008263755 + 2.4591428199072067e-14im\n",
       " -49.001300008263755 + 2.0872185139637147e-14im\n",
       " -49.001300008263726 + 2.076115995861496e-14im\n",
       " -49.001300008263726 + 1.726395327204209e-14im\n",
       "  -49.00130000826375 + 1.5598622083861237e-14im\n",
       " -49.001300008263776 + 1.9040313236496493e-14im\n",
       "  -49.00130000826378 + 1.376675342523483e-14im\n",
       "  -49.00130000826382 + 1.0713651328476489e-14im\n",
       "  -49.00130000826379 + 9.159322696295703e-15im\n",
       "   -49.0013000082638 + 9.936478881305377e-15im\n",
       " -49.001300008263776 + 1.1712828337591379e-14im\n",
       "                     ⋮\n",
       "  -49.00130000826411 + 3.885865129897228e-15im\n",
       " -49.001300008264096 + 2.664592634777753e-15im\n",
       " -49.001300008264124 + 2.5605176776129405e-15im\n",
       " -49.001300008264145 + 2.3037728442001434e-15im\n",
       "  -49.00130000826419 + 2.1649961403388893e-15im\n",
       "   -49.0013000082642 + 2.4425554314439216e-15im\n",
       "  -49.00130000826423 + 6.106380759903186e-16im\n",
       "  -49.00130000826421 + 4.1633363423702117e-17im\n",
       "  -49.00130000843822 - 9.367407705137427e-26im\n",
       "  -49.00130000843823 - 1.38776142030353e-17im\n",
       "   -49.0013000084382 + 7.489563763304069e-26im\n",
       "  -49.00130000843823 - 1.3877614221113231e-17im"
      ]
     },
     "execution_count": 15,
     "metadata": {},
     "output_type": "execute_result"
    }
   ],
   "source": [
    "hist"
   ]
  },
  {
   "cell_type": "markdown",
   "metadata": {},
   "source": [
    "### 1-D J1J2 model"
   ]
  },
  {
   "cell_type": "markdown",
   "metadata": {},
   "source": [
    "$H = \\sum_{<i,j>} J_1 (\\sigma^x_i \\sigma^x_{j}+\\sigma^y_i \\sigma^y_{j}+\\sigma^z_i \\sigma^z_{j}) + \\sum_{<<i,j>>} J_2 (\\sigma^x_i \\sigma^x_{j}+\\sigma^y_i \\sigma^y_{j}+\\sigma^z_i \\sigma^z_{j})$"
   ]
  },
  {
   "cell_type": "code",
   "execution_count": 36,
   "metadata": {},
   "outputs": [
    {
     "data": {
      "text/plain": [
       "5-element Array{Any,1}:\n",
       " Complex{Float64}[0.0 + 0.0im 0.0 + 0.0im; 0.0 + 0.0im 0.0 + 0.0im]\n",
       "\n",
       "Complex{Float64}[0.0 + 0.0im 1.0 + 0.0im; 1.0 + 0.0im 0.0 + 0.0im]\n",
       "\n",
       "Complex{Float64}[0.0 + 0.0im 0.5 + 0.0im; 0.5 + 0.0im 0.0 + 0.0im]\n",
       "\n",
       "...\n",
       "\n",
       "Complex{Float64}[1.0 + 0.0im 0.0 + 0.0im; 0.0 + 0.0im -1.0 + 0.0im]\n",
       "\n",
       "Complex{Float64}[0.5 + 0.0im 0.0 + 0.0im; 0.0 + 0.0im -0.5 + 0.0im]\n",
       "\n",
       "Complex{Float64}[1.0 + 0.0im 0.0 + 0.0im; 0.0 + 0.0im 1.0 + 0.0im]\n",
       " Complex{Float64}[1.0 + 0.0im 0.0 + 0.0im; 0.0 + 0.0im 1.0 + 0.0im]\n",
       "\n",
       "Complex{Float64}[0.0 + 0.0im 1.0 + 0.0im; 1.0 + 0.0im 0.0 + 0.0im]\n",
       "\n",
       "Complex{Float64}[0.0 + 0.0im 0.0 + 0.0im; 0.0 + 0.0im 0.0 + 0.0im]\n",
       "\n",
       "...\n",
       "\n",
       "Complex{Float64}[0.0 + 0.0im 0.0 + 0.0im; 0.0 + 0.0im 0.0 + 0.0im]\n",
       "\n",
       "Complex{Float64}[0.0 + 0.0im 0.0 + 0.0im; 0.0 + 0.0im 0.0 + 0.0im]\n",
       "\n",
       "Complex{Float64}[0.0 + 0.0im 0.0 + 0.0im; 0.0 + 0.0im 0.0 + 0.0im]\n",
       "\n",
       "Complex{Float64}[0.0 + 0.0im 0.0 + 0.0im; 0.0 + 0.0im 0.0 + 0.0im]\n",
       "\n",
       "Complex{Float64}[0.0 + 0.0im 0.0 + 0.0im; 0.0 + 0.0im 0.0 + 0.0im]\n",
       "\n",
       "Complex{Float64}[1.0 + 0.0im 0.0 + 0.0im; 0.0 + 0.0im 1.0 + 0.0im]\n",
       "\n",
       "...\n",
       "\n",
       "Complex{Float64}[0.0 + 0.0im 0.0 + 0.0im; 0.0 + 0.0im 0.0 + 0.0im]\n",
       "\n",
       "Complex{Float64}[0.0 + 0.0im 0.0 + 0.0im; 0.0 + 0.0im 0.0 + 0.0im]\n",
       "\n",
       "Complex{Float64}[0.0 + 0.0im 0.0 + 0.0im; 0.0 + 0.0im 0.0 + 0.0im]\n",
       "\n",
       "Complex{Float64}[0.0 + 0.0im 0.0 + 0.0im; 0.0 + 0.0im 0.0 + 0.0im]\n",
       "\n",
       "Complex{Float64}[0.0 + 0.0im 0.0 + 0.0im; 0.0 + 0.0im 0.0 + 0.0im]\n",
       "\n",
       "Complex{Float64}[0.0 + 0.0im 0.0 + 0.0im; 0.0 + 0.0im 0.0 + 0.0im]\n",
       "\n",
       "...\n",
       "\n",
       "Complex{Float64}[0.0 + 0.0im 0.0 + 0.0im; 0.0 + 0.0im 0.0 + 0.0im]\n",
       "\n",
       "Complex{Float64}[0.0 + 0.0im 0.0 + 0.0im; 0.0 + 0.0im 0.0 + 0.0im]\n",
       "\n",
       "Complex{Float64}[0.0 + 0.0im 0.0 + 0.0im; 0.0 + 0.0im 0.0 + 0.0im]\n",
       "\n",
       "...\n",
       "\n",
       "Complex{Float64}[0.0 + 0.0im 0.0 + 0.0im; 0.0 + 0.0im 0.0 + 0.0im]\n",
       "\n",
       "Complex{Float64}[0.0 + 0.0im 0.0 + 0.0im; 0.0 + 0.0im 0.0 + 0.0im]\n",
       "\n",
       "Complex{Float64}[0.0 + 0.0im 0.0 + 0.0im; 0.0 + 0.0im 0.0 + 0.0im]\n",
       "\n",
       "...\n",
       "\n",
       "Complex{Float64}[0.0 + 0.0im 0.0 + 0.0im; 0.0 + 0.0im 0.0 + 0.0im]\n",
       "\n",
       "Complex{Float64}[1.0 + 0.0im 0.0 + 0.0im; 0.0 + 0.0im 1.0 + 0.0im]\n",
       "\n",
       "Complex{Float64}[1.0 + 0.0im 0.0 + 0.0im; 0.0 + 0.0im -1.0 + 0.0im]\n",
       "\n",
       "Complex{Float64}[0.0 + 0.0im 0.0 + 0.0im; 0.0 + 0.0im 0.0 + 0.0im]\n",
       "\n",
       "Complex{Float64}[0.0 + 0.0im 0.0 + 0.0im; 0.0 + 0.0im 0.0 + 0.0im]\n",
       "\n",
       "Complex{Float64}[0.0 + 0.0im 0.0 + 0.0im; 0.0 + 0.0im 0.0 + 0.0im]\n",
       "\n",
       "...\n",
       "\n",
       "Complex{Float64}[0.0 + 0.0im 0.0 + 0.0im; 0.0 + 0.0im 0.0 + 0.0im]\n",
       "\n",
       "Complex{Float64}[0.0 + 0.0im 0.0 + 0.0im; 0.0 + 0.0im 0.0 + 0.0im]\n",
       "\n",
       "Complex{Float64}[0.5 + 0.0im 0.0 + 0.0im; 0.0 + 0.0im -0.5 + 0.0im]\n",
       "\n",
       "Complex{Float64}[0.0 + 0.0im 0.0 + 0.0im; 0.0 + 0.0im 0.0 + 0.0im]\n",
       "\n",
       "Complex{Float64}[0.0 + 0.0im 0.0 + 0.0im; 0.0 + 0.0im 0.0 + 0.0im]\n",
       "\n",
       "Complex{Float64}[0.0 + 0.0im 0.0 + 0.0im; 0.0 + 0.0im 0.0 + 0.0im]\n",
       "\n",
       "...\n",
       "\n",
       "Complex{Float64}[0.0 + 0.0im 0.0 + 0.0im; 0.0 + 0.0im 0.0 + 0.0im]\n",
       "\n",
       "Complex{Float64}[0.0 + 0.0im 0.0 + 0.0im; 0.0 + 0.0im 0.0 + 0.0im]\n",
       "\n",
       "Complex{Float64}[1.0 + 0.0im 0.0 + 0.0im; 0.0 + 0.0im 1.0 + 0.0im]\n",
       " Complex{Float64}[1.0 + 0.0im 0.0 + 0.0im; 0.0 + 0.0im 1.0 + 0.0im]\n",
       "\n",
       "Complex{Float64}[0.0 + 0.0im 1.0 + 0.0im; 1.0 + 0.0im 0.0 + 0.0im]\n",
       "\n",
       "Complex{Float64}[0.0 + 0.0im 0.0 + 0.0im; 0.0 + 0.0im 0.0 + 0.0im]\n",
       "\n",
       "...\n",
       "\n",
       "Complex{Float64}[0.0 + 0.0im 0.0 + 0.0im; 0.0 + 0.0im 0.0 + 0.0im]\n",
       "\n",
       "Complex{Float64}[0.0 + 0.0im 0.0 + 0.0im; 0.0 + 0.0im 0.0 + 0.0im]\n",
       "\n",
       "Complex{Float64}[0.0 + 0.0im 0.0 + 0.0im; 0.0 + 0.0im 0.0 + 0.0im]\n",
       "\n",
       "Complex{Float64}[0.0 + 0.0im 0.0 + 0.0im; 0.0 + 0.0im 0.0 + 0.0im]\n",
       "\n",
       "Complex{Float64}[0.0 + 0.0im 0.0 + 0.0im; 0.0 + 0.0im 0.0 + 0.0im]\n",
       "\n",
       "Complex{Float64}[1.0 + 0.0im 0.0 + 0.0im; 0.0 + 0.0im 1.0 + 0.0im]\n",
       "\n",
       "...\n",
       "\n",
       "Complex{Float64}[0.0 + 0.0im 0.0 + 0.0im; 0.0 + 0.0im 0.0 + 0.0im]\n",
       "\n",
       "Complex{Float64}[0.0 + 0.0im 0.0 + 0.0im; 0.0 + 0.0im 0.0 + 0.0im]\n",
       "\n",
       "Complex{Float64}[0.0 + 0.0im 0.0 + 0.0im; 0.0 + 0.0im 0.0 + 0.0im]\n",
       "\n",
       "Complex{Float64}[0.0 + 0.0im 0.0 + 0.0im; 0.0 + 0.0im 0.0 + 0.0im]\n",
       "\n",
       "Complex{Float64}[0.0 + 0.0im 0.0 + 0.0im; 0.0 + 0.0im 0.0 + 0.0im]\n",
       "\n",
       "Complex{Float64}[0.0 + 0.0im 0.0 + 0.0im; 0.0 + 0.0im 0.0 + 0.0im]\n",
       "\n",
       "...\n",
       "\n",
       "Complex{Float64}[0.0 + 0.0im 0.0 + 0.0im; 0.0 + 0.0im 0.0 + 0.0im]\n",
       "\n",
       "Complex{Float64}[0.0 + 0.0im 0.0 + 0.0im; 0.0 + 0.0im 0.0 + 0.0im]\n",
       "\n",
       "Complex{Float64}[0.0 + 0.0im 0.0 + 0.0im; 0.0 + 0.0im 0.0 + 0.0im]\n",
       "\n",
       "...\n",
       "\n",
       "Complex{Float64}[0.0 + 0.0im 0.0 + 0.0im; 0.0 + 0.0im 0.0 + 0.0im]\n",
       "\n",
       "Complex{Float64}[0.0 + 0.0im 0.0 + 0.0im; 0.0 + 0.0im 0.0 + 0.0im]\n",
       "\n",
       "Complex{Float64}[0.0 + 0.0im 0.0 + 0.0im; 0.0 + 0.0im 0.0 + 0.0im]\n",
       "\n",
       "...\n",
       "\n",
       "Complex{Float64}[0.0 + 0.0im 0.0 + 0.0im; 0.0 + 0.0im 0.0 + 0.0im]\n",
       "\n",
       "Complex{Float64}[1.0 + 0.0im 0.0 + 0.0im; 0.0 + 0.0im 1.0 + 0.0im]\n",
       "\n",
       "Complex{Float64}[1.0 + 0.0im 0.0 + 0.0im; 0.0 + 0.0im -1.0 + 0.0im]\n",
       "\n",
       "Complex{Float64}[0.0 + 0.0im 0.0 + 0.0im; 0.0 + 0.0im 0.0 + 0.0im]\n",
       "\n",
       "Complex{Float64}[0.0 + 0.0im 0.0 + 0.0im; 0.0 + 0.0im 0.0 + 0.0im]\n",
       "\n",
       "Complex{Float64}[0.0 + 0.0im 0.0 + 0.0im; 0.0 + 0.0im 0.0 + 0.0im]\n",
       "\n",
       "...\n",
       "\n",
       "Complex{Float64}[0.0 + 0.0im 0.0 + 0.0im; 0.0 + 0.0im 0.0 + 0.0im]\n",
       "\n",
       "Complex{Float64}[0.0 + 0.0im 0.0 + 0.0im; 0.0 + 0.0im 0.0 + 0.0im]\n",
       "\n",
       "Complex{Float64}[0.5 + 0.0im 0.0 + 0.0im; 0.0 + 0.0im -0.5 + 0.0im]\n",
       "\n",
       "Complex{Float64}[0.0 + 0.0im 0.0 + 0.0im; 0.0 + 0.0im 0.0 + 0.0im]\n",
       "\n",
       "Complex{Float64}[0.0 + 0.0im 0.0 + 0.0im; 0.0 + 0.0im 0.0 + 0.0im]\n",
       "\n",
       "Complex{Float64}[0.0 + 0.0im 0.0 + 0.0im; 0.0 + 0.0im 0.0 + 0.0im]\n",
       "\n",
       "...\n",
       "\n",
       "Complex{Float64}[0.0 + 0.0im 0.0 + 0.0im; 0.0 + 0.0im 0.0 + 0.0im]\n",
       "\n",
       "Complex{Float64}[0.0 + 0.0im 0.0 + 0.0im; 0.0 + 0.0im 0.0 + 0.0im]\n",
       "\n",
       "Complex{Float64}[1.0 + 0.0im 0.0 + 0.0im; 0.0 + 0.0im 1.0 + 0.0im]\n",
       " Complex{Float64}[1.0 + 0.0im 0.0 + 0.0im; 0.0 + 0.0im 1.0 + 0.0im]\n",
       "\n",
       "Complex{Float64}[0.0 + 0.0im 1.0 + 0.0im; 1.0 + 0.0im 0.0 + 0.0im]\n",
       "\n",
       "Complex{Float64}[0.0 + 0.0im 0.0 + 0.0im; 0.0 + 0.0im 0.0 + 0.0im]\n",
       "\n",
       "...\n",
       "\n",
       "Complex{Float64}[0.0 + 0.0im 0.0 + 0.0im; 0.0 + 0.0im 0.0 + 0.0im]\n",
       "\n",
       "Complex{Float64}[0.0 + 0.0im 0.0 + 0.0im; 0.0 + 0.0im 0.0 + 0.0im]\n",
       "\n",
       "Complex{Float64}[0.0 + 0.0im 0.0 + 0.0im; 0.0 + 0.0im 0.0 + 0.0im]\n",
       "\n",
       "Complex{Float64}[0.0 + 0.0im 0.0 + 0.0im; 0.0 + 0.0im 0.0 + 0.0im]\n",
       "\n",
       "Complex{Float64}[0.0 + 0.0im 0.0 + 0.0im; 0.0 + 0.0im 0.0 + 0.0im]\n",
       "\n",
       "Complex{Float64}[1.0 + 0.0im 0.0 + 0.0im; 0.0 + 0.0im 1.0 + 0.0im]\n",
       "\n",
       "...\n",
       "\n",
       "Complex{Float64}[0.0 + 0.0im 0.0 + 0.0im; 0.0 + 0.0im 0.0 + 0.0im]\n",
       "\n",
       "Complex{Float64}[0.0 + 0.0im 0.0 + 0.0im; 0.0 + 0.0im 0.0 + 0.0im]\n",
       "\n",
       "Complex{Float64}[0.0 + 0.0im 0.0 + 0.0im; 0.0 + 0.0im 0.0 + 0.0im]\n",
       "\n",
       "Complex{Float64}[0.0 + 0.0im 0.0 + 0.0im; 0.0 + 0.0im 0.0 + 0.0im]\n",
       "\n",
       "Complex{Float64}[0.0 + 0.0im 0.0 + 0.0im; 0.0 + 0.0im 0.0 + 0.0im]\n",
       "\n",
       "Complex{Float64}[0.0 + 0.0im 0.0 + 0.0im; 0.0 + 0.0im 0.0 + 0.0im]\n",
       "\n",
       "...\n",
       "\n",
       "Complex{Float64}[0.0 + 0.0im 0.0 + 0.0im; 0.0 + 0.0im 0.0 + 0.0im]\n",
       "\n",
       "Complex{Float64}[0.0 + 0.0im 0.0 + 0.0im; 0.0 + 0.0im 0.0 + 0.0im]\n",
       "\n",
       "Complex{Float64}[0.0 + 0.0im 0.0 + 0.0im; 0.0 + 0.0im 0.0 + 0.0im]\n",
       "\n",
       "...\n",
       "\n",
       "Complex{Float64}[0.0 + 0.0im 0.0 + 0.0im; 0.0 + 0.0im 0.0 + 0.0im]\n",
       "\n",
       "Complex{Float64}[0.0 + 0.0im 0.0 + 0.0im; 0.0 + 0.0im 0.0 + 0.0im]\n",
       "\n",
       "Complex{Float64}[0.0 + 0.0im 0.0 + 0.0im; 0.0 + 0.0im 0.0 + 0.0im]\n",
       "\n",
       "...\n",
       "\n",
       "Complex{Float64}[0.0 + 0.0im 0.0 + 0.0im; 0.0 + 0.0im 0.0 + 0.0im]\n",
       "\n",
       "Complex{Float64}[1.0 + 0.0im 0.0 + 0.0im; 0.0 + 0.0im 1.0 + 0.0im]\n",
       "\n",
       "Complex{Float64}[1.0 + 0.0im 0.0 + 0.0im; 0.0 + 0.0im -1.0 + 0.0im]\n",
       "\n",
       "Complex{Float64}[0.0 + 0.0im 0.0 + 0.0im; 0.0 + 0.0im 0.0 + 0.0im]\n",
       "\n",
       "Complex{Float64}[0.0 + 0.0im 0.0 + 0.0im; 0.0 + 0.0im 0.0 + 0.0im]\n",
       "\n",
       "Complex{Float64}[0.0 + 0.0im 0.0 + 0.0im; 0.0 + 0.0im 0.0 + 0.0im]\n",
       "\n",
       "...\n",
       "\n",
       "Complex{Float64}[0.0 + 0.0im 0.0 + 0.0im; 0.0 + 0.0im 0.0 + 0.0im]\n",
       "\n",
       "Complex{Float64}[0.0 + 0.0im 0.0 + 0.0im; 0.0 + 0.0im 0.0 + 0.0im]\n",
       "\n",
       "Complex{Float64}[0.5 + 0.0im 0.0 + 0.0im; 0.0 + 0.0im -0.5 + 0.0im]\n",
       "\n",
       "Complex{Float64}[0.0 + 0.0im 0.0 + 0.0im; 0.0 + 0.0im 0.0 + 0.0im]\n",
       "\n",
       "Complex{Float64}[0.0 + 0.0im 0.0 + 0.0im; 0.0 + 0.0im 0.0 + 0.0im]\n",
       "\n",
       "Complex{Float64}[0.0 + 0.0im 0.0 + 0.0im; 0.0 + 0.0im 0.0 + 0.0im]\n",
       "\n",
       "...\n",
       "\n",
       "Complex{Float64}[0.0 + 0.0im 0.0 + 0.0im; 0.0 + 0.0im 0.0 + 0.0im]\n",
       "\n",
       "Complex{Float64}[0.0 + 0.0im 0.0 + 0.0im; 0.0 + 0.0im 0.0 + 0.0im]\n",
       "\n",
       "Complex{Float64}[1.0 + 0.0im 0.0 + 0.0im; 0.0 + 0.0im 1.0 + 0.0im]\n",
       " Complex{Float64}[1.0 + 0.0im 0.0 + 0.0im; 0.0 + 0.0im 1.0 + 0.0im]\n",
       "\n",
       "Complex{Float64}[0.0 + 0.0im 1.0 + 0.0im; 1.0 + 0.0im 0.0 + 0.0im]\n",
       "\n",
       "Complex{Float64}[0.0 + 0.0im 0.0 + 0.0im; 0.0 + 0.0im 0.0 + 0.0im]\n",
       "\n",
       "...\n",
       "\n",
       "Complex{Float64}[1.0 + 0.0im 0.0 + 0.0im; 0.0 + 0.0im -1.0 + 0.0im]\n",
       "\n",
       "Complex{Float64}[0.0 + 0.0im 0.0 + 0.0im; 0.0 + 0.0im 0.0 + 0.0im]\n",
       "\n",
       "Complex{Float64}[0.0 + 0.0im 0.0 + 0.0im; 0.0 + 0.0im 0.0 + 0.0im]"
      ]
     },
     "execution_count": 36,
     "metadata": {},
     "output_type": "execute_result"
    }
   ],
   "source": [
    "j1 = 1\n",
    "j2 = 0.5\n",
    "N = 5\n",
    "\n",
    "O = []\n",
    "mid_MPO = [(pauliI, zero, zero, zero, zero, zero, zero, zero, zero, zero, zero, zero),\n",
    "    (pauliX, zero, zero, zero, zero, zero, zero, zero, zero, zero, zero, zero), \n",
    "    (zero, pauliI, zero, zero, zero, zero, zero, zero, zero, zero, zero, zero), \n",
    "    (zero, j1*pauliX, j2*pauliX, pauliI, zero, zero, zero, zero, zero, zero, zero, zero),\n",
    "    (zero, zero, zero, zero, pauliI, zero, zero, zero, zero, zero, zero, zero),\n",
    "    (zero, zero, zero, zero, pauliY, zero, zero, zero, zero, zero, zero, zero),\n",
    "    (zero, zero, zero, zero, zero, pauliI, zero, zero, zero, zero, zero, zero),\n",
    "    (zero, zero, zero, zero, zero, j1*pauliY, j2*pauliY, pauliI, zero, zero, zero, zero),\n",
    "    (zero, zero, zero, zero, zero, zero, zero, zero, pauliI, zero, zero, zero),\n",
    "    (zero, zero, zero, zero, zero, zero, zero, zero, pauliZ, zero, zero, zero),\n",
    "    (zero, zero, zero, zero, zero, zero, zero, zero, zero, pauliI, zero, zero),\n",
    "    (zero, zero, zero, zero, zero, zero, zero, zero, zero, j1*pauliZ, j2*pauliZ, pauliI)] \n",
    "\n",
    "push!(O, dstack((zero, j1*pauliX, j2*pauliX, pauliI, zero, j1*pauliY, j2*pauliY, pauliI, zero, j1*pauliZ, j2*pauliZ, pauliI)) )\n",
    "for i = 1:N-2\n",
    "    push!(O, ddstack(mid_MPO))\n",
    "end\n",
    "push!(O, dstack((pauliI, pauliX, zero, zero, pauliI, pauliY, zero, zero, pauliI, pauliZ, zero, zero)))"
   ]
  },
  {
   "cell_type": "code",
   "execution_count": 41,
   "metadata": {},
   "outputs": [
    {
     "data": {
      "text/plain": [
       "(Any[Array{Complex{Float64},2}[[0.02695038404993947 + 0.016086614651361023im -0.4701157208004061 - 0.2806108598693105im], [0.8359671738876949 + 0.0im 0.020555685115332963 + 0.0im]], Array{Complex{Float64},2}[[0.3222261831752922 + 0.8857242247609809im -0.004881041715452988 - 0.01125294307884915im -0.02982677958366048 - 0.051308780621374395im 1.6284716630732277e-16 + 9.150666335777657e-17im; 0.012692192669086947 + 0.034887861692574115im 2.4836361266211693e-16 + 2.167862243884766e-16im 0.002488575973353273 + 0.004280911330647174im -0.05873500327610394 - 0.0011249565804398356im], [-0.02743220594652914 - 0.022353843744149664im -0.26524790816469557 - 0.19072641518931963im 0.0019489135431753248 + 0.0010801613527799308im -2.3107058801097313e-18 + 4.1565600787663026e-17im; 0.7665379229791712 + 0.6246332864241047im 5.997806418189811e-16 + 5.273559366969494e-16im 0.11535440846133933 + 0.0639337616228039im 0.0019151800315657965 - 0.0010939775877965im]], Array{Complex{Float64},2}[[0.005216923900185806 - 0.009288746653100184im -0.09203256707398534 - 0.09148361887671529im 0.1445558996567344 + 0.13765393638480558im -0.04418432545961192 - 0.14229467992046008im; 0.8425532361163113 + 0.493107550057822im -0.0023623099354459793 - 0.0006024622533857549im 0.1531900278056289 + 0.0907447121066091im -0.001494947288210157 - 0.00129899338430096im; -0.05202649144131314 - 0.06630125643365115im -0.15833295941431824 - 0.22126101364943837im 0.2277020618700727 + 0.3175808235739319im -0.03296239712041253 - 0.2903173844674777im; -0.0018896892238764549 + 0.004425386526355847im -0.00694796143610071 + 0.015314639360855756im 0.010188598447872902 - 0.023860265340978546im -0.016107109041128363 + 0.013004325498211056im], [0.920188437005864 - 0.06301327301827342im -0.12962899085540036 + 0.007425968642086589im 0.18344725566437606 - 0.014801843511265837im 0.12701827002756882 + 0.05848357486241032im; -0.022260884304655327 - 0.004305624964711867im -0.06225122061551505 + 0.018469967973715407im -0.0842751567290009 + 0.024942150322006106im -0.05192285572094486 - 0.009300530052806753im; -0.32596807274044665 - 0.03480881809763621im -0.5210331959943723 - 0.06589710224894677im 0.005168481826803656 - 0.003821768343299732im 0.449144744568333 + 0.3094154734146337im; 0.01719421682426005 + 0.1270067662550603im 0.05016170539808532 + 0.44509954805786545im -0.0927057045331229 - 0.6847797644109779im -0.1908498887191041 + 0.5172957025509689im]], Array{Complex{Float64},2}[[0.5733827320546064 + 0.0im -0.40680053211782186 - 1.3632932895876128e-15im; -0.7183466801809916 + 0.0im -5.384581669432009e-15 + 3.338047906188208e-15im; -0.39396737130699533 + 0.0im -0.5920601996382717 - 1.980742756714927e-15im; 6.994953996329021e-15 + 0.0im -0.6070381728664097 + 0.3398274617448647im], [0.3956506816808298 - 0.4404495636065455im 0.26327298999807003 - 0.2930829616201306im; 0.4648992894917346 - 0.5175390784308262im 7.771561172376096e-16 - 6.203371150093062e-15im; -0.2718488895873847 + 0.30262989634445514im 0.383169260389449 - 0.4265548913223226im; 5.10702591327572e-15 - 5.162537064506978e-15im -0.15783211564386743 + 0.7007931051304902im]], Array{Complex{Float64},2}[[0.7183466801809864 + 0.0im; 0.69568530750114 + 0.0im], [-0.4648992894917332 + 0.5175390784308345im; 0.48004299878697476 - 0.5343974852510563im]]], Any[4.53564159467768 - 2.220446049250313e-16im, -0.324148481609576 + 2.3245294578089215e-16im, -5.823706043321047 + 1.1102230246251565e-16im, -6.709049769721576 + 1.1102230246251565e-16im, -6.709049769721587 - 4.440892098500626e-16im, -6.709049769721581 - 4.440892098500626e-16im, -6.709049769721577 + 4.440892098500626e-16im, -6.709049769721576 + 0.0im, -6.709049769721576 + 0.0im, -6.709049769721569 - 4.440892098500626e-16im])"
      ]
     },
     "execution_count": 41,
     "metadata": {},
     "output_type": "execute_result"
    }
   ],
   "source": [
    "D = 20\n",
    "C0 = zeros(ComplexF64, 2^N)\n",
    "#C0[2] = 1 # computational basis\n",
    "C0 = normalize!(rand(ComplexF64, 2^N))\n",
    "mps = MPS(C0, D, 'r') # convert to MPS\n",
    "\n",
    "(opt_mps, hist) = iterative_ground_state_search(mps, O, D)"
   ]
  },
  {
   "cell_type": "code",
   "execution_count": 42,
   "metadata": {},
   "outputs": [
    {
     "data": {
      "text/plain": [
       "10-element Array{Any,1}:\n",
       "   4.53564159467768 - 2.220446049250313e-16im\n",
       " -0.324148481609576 + 2.3245294578089215e-16im\n",
       " -5.823706043321047 + 1.1102230246251565e-16im\n",
       " -6.709049769721576 + 1.1102230246251565e-16im\n",
       " -6.709049769721587 - 4.440892098500626e-16im\n",
       " -6.709049769721581 - 4.440892098500626e-16im\n",
       " -6.709049769721577 + 4.440892098500626e-16im\n",
       " -6.709049769721576 + 0.0im\n",
       " -6.709049769721576 + 0.0im\n",
       " -6.709049769721569 - 4.440892098500626e-16im"
      ]
     },
     "execution_count": 42,
     "metadata": {},
     "output_type": "execute_result"
    }
   ],
   "source": [
    "hist"
   ]
  },
  {
   "cell_type": "code",
   "execution_count": null,
   "metadata": {},
   "outputs": [],
   "source": []
  }
 ],
 "metadata": {
  "@webio": {
   "lastCommId": null,
   "lastKernelId": null
  },
  "kernelspec": {
   "display_name": "Julia 1.4.0",
   "language": "julia",
   "name": "julia-1.4"
  },
  "language_info": {
   "file_extension": ".jl",
   "mimetype": "application/julia",
   "name": "julia",
   "version": "1.4.0"
  }
 },
 "nbformat": 4,
 "nbformat_minor": 2
}
