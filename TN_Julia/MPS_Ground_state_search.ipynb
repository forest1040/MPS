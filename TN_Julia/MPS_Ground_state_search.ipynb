{
 "cells": [
  {
   "cell_type": "code",
   "execution_count": 1,
   "metadata": {},
   "outputs": [],
   "source": [
    "include(\"./MPS.jl\")\n",
    "using .MPSforQuantum\n",
    "using TensorOperations\n",
    "using LinearAlgebra"
   ]
  },
  {
   "cell_type": "markdown",
   "metadata": {},
   "source": [
    "## MPOの用意"
   ]
  },
  {
   "cell_type": "markdown",
   "metadata": {},
   "source": [
    "$Z_1 Z_2 + Z_2 Z_3 + Z_3 Z_4$"
   ]
  },
  {
   "cell_type": "markdown",
   "metadata": {},
   "source": [
    "$$\n",
    "\\left[\\begin{array}{c}\n",
    "    Z_1 & I_1 & I_1\\\\\n",
    "\\end{array}\\right]\n",
    "\\left[\\begin{array}{c}\n",
    "    Z_2 & 0 & 0\\\\\n",
    "    0 & Z_2 & 0\\\\\n",
    "    0 & 0 & I_2\\\\\n",
    "\\end{array}\\right]\n",
    "\\left[\\begin{array}{c}\n",
    "    I_3 & 0 & 0\\\\\n",
    "    0 & Z_3 & 0\\\\\n",
    "    0 & 0 & Z_3\\\\\n",
    "\\end{array}\\right]\n",
    "\\left[\\begin{array}{c}\n",
    "    I_4\\\\\n",
    "    I_4\\\\\n",
    "    Z_4\n",
    "\\end{array}\\right] \\quad\n",
    "$$"
   ]
  },
  {
   "cell_type": "code",
   "execution_count": 2,
   "metadata": {},
   "outputs": [
    {
     "data": {
      "text/plain": [
       "2×2×3 Array{Complex{Float64},3}:\n",
       "[:, :, 1] =\n",
       " 1.0+0.0im  0.0+0.0im\n",
       " 0.0+0.0im  1.0+0.0im\n",
       "\n",
       "[:, :, 2] =\n",
       " 1.0+0.0im  0.0+0.0im\n",
       " 0.0+0.0im  1.0+0.0im\n",
       "\n",
       "[:, :, 3] =\n",
       " 1.0+0.0im   0.0+0.0im\n",
       " 0.0+0.0im  -1.0+0.0im"
      ]
     },
     "execution_count": 2,
     "metadata": {},
     "output_type": "execute_result"
    }
   ],
   "source": [
    "pauliZ = convert(Array{ComplexF64,2}, [1 0; 0 -1])\n",
    "pauliI = convert(Array{ComplexF64,2}, [1 0; 0 1])\n",
    "zero = convert(Array{ComplexF64,2}, [0 0; 0 0])\n",
    "\n",
    "O = []\n",
    "push!(O, dstack((pauliZ, pauliI, pauliI)) )\n",
    "push!(O, ddstack( [(pauliZ, zero, zero), (zero, pauliZ, zero), (zero, zero, pauliI)] ))\n",
    "push!(O, ddstack( [(pauliI, zero, zero), (zero, pauliZ, zero), (zero, zero, pauliZ)] ))\n",
    "push!(O, dstack((pauliI, pauliI, pauliZ)))\n",
    "O[4]"
   ]
  },
  {
   "cell_type": "code",
   "execution_count": 3,
   "metadata": {},
   "outputs": [
    {
     "name": "stdout",
     "output_type": "stream",
     "text": [
      "3.0 + 0.0im\n",
      "1.0 + 0.0im\n",
      "-1.0 + 0.0im\n",
      "1.0 + 0.0im\n",
      "-1.0 + 0.0im\n",
      "-3.0 + 0.0im\n",
      "-1.0 + 0.0im\n",
      "1.0 + 0.0im\n",
      "1.0 + 0.0im\n",
      "-1.0 + 0.0im\n",
      "-3.0 + 0.0im\n",
      "-1.0 + 0.0im\n",
      "1.0 + 0.0im\n",
      "-1.0 + 0.0im\n",
      "1.0 + 0.0im\n",
      "3.0 + 0.0im\n"
     ]
    }
   ],
   "source": [
    "N = 4\n",
    "eps = 1e-3\n",
    "D = 10\n",
    "\n",
    "for i in 1:16\n",
    "C0 = zeros(ComplexF64, 2^N)\n",
    "C0[i] = 1 # '0001'\n",
    "#C0 = normalize!(rand(ComplexF64, 2^N))\n",
    "mps = MPS(C0, D)\n",
    "# println(restore(mps, 4))\n",
    "expc = expectation(mps, O)\n",
    "println(expc)\n",
    "end"
   ]
  },
  {
   "cell_type": "markdown",
   "metadata": {},
   "source": [
    "## Right Normalize"
   ]
  },
  {
   "cell_type": "code",
   "execution_count": 4,
   "metadata": {},
   "outputs": [
    {
     "name": "stdout",
     "output_type": "stream",
     "text": [
      "array 1's size: (1, 2)\n",
      "array 2's size: (2, 4)\n",
      "array 3's size: (4, 2)\n",
      "array 4's size: (2, 1)\n",
      "Num of parameters: 40\n",
      "2^N: 16\n",
      "Initial Expectation Value: -0.24536168433391928 + 8.673617379884035e-18im\n"
     ]
    }
   ],
   "source": [
    "N = 4\n",
    "C0 = normalize!(rand(ComplexF64, 2^N))\n",
    "\n",
    "D = 20\n",
    "mps = MPS(C0, D, 'r') # convert to MPS\n",
    "mps_size(mps) # print the size of MPS\n",
    "\n",
    "expc = expectation(mps, O)\n",
    "println(\"Initial Expectation Value: \", expc)"
   ]
  },
  {
   "cell_type": "code",
   "execution_count": 5,
   "metadata": {},
   "outputs": [
    {
     "data": {
      "text/plain": [
       "4-element Array{Any,1}:\n",
       " Complex{Float64}[1.0 + 0.0im 0.0 + 0.0im; 0.0 + 0.0im -1.0 + 0.0im]\n",
       "\n",
       "Complex{Float64}[1.0 + 0.0im 0.0 + 0.0im; 0.0 + 0.0im 1.0 + 0.0im]\n",
       "\n",
       "Complex{Float64}[1.0 + 0.0im 0.0 + 0.0im; 0.0 + 0.0im 1.0 + 0.0im]\n",
       " Complex{Float64}[1.0 + 0.0im 0.0 + 0.0im; 0.0 + 0.0im -1.0 + 0.0im]\n",
       "\n",
       "Complex{Float64}[0.0 + 0.0im 0.0 + 0.0im; 0.0 + 0.0im 0.0 + 0.0im]\n",
       "\n",
       "Complex{Float64}[0.0 + 0.0im 0.0 + 0.0im; 0.0 + 0.0im 0.0 + 0.0im]\n",
       "\n",
       "Complex{Float64}[0.0 + 0.0im 0.0 + 0.0im; 0.0 + 0.0im 0.0 + 0.0im]\n",
       "\n",
       "Complex{Float64}[1.0 + 0.0im 0.0 + 0.0im; 0.0 + 0.0im -1.0 + 0.0im]\n",
       "\n",
       "Complex{Float64}[0.0 + 0.0im 0.0 + 0.0im; 0.0 + 0.0im 0.0 + 0.0im]\n",
       "\n",
       "Complex{Float64}[0.0 + 0.0im 0.0 + 0.0im; 0.0 + 0.0im 0.0 + 0.0im]\n",
       "\n",
       "Complex{Float64}[0.0 + 0.0im 0.0 + 0.0im; 0.0 + 0.0im 0.0 + 0.0im]\n",
       "\n",
       "Complex{Float64}[1.0 + 0.0im 0.0 + 0.0im; 0.0 + 0.0im 1.0 + 0.0im]\n",
       " Complex{Float64}[1.0 + 0.0im 0.0 + 0.0im; 0.0 + 0.0im 1.0 + 0.0im]\n",
       "\n",
       "Complex{Float64}[0.0 + 0.0im 0.0 + 0.0im; 0.0 + 0.0im 0.0 + 0.0im]\n",
       "\n",
       "Complex{Float64}[0.0 + 0.0im 0.0 + 0.0im; 0.0 + 0.0im 0.0 + 0.0im]\n",
       "\n",
       "Complex{Float64}[0.0 + 0.0im 0.0 + 0.0im; 0.0 + 0.0im 0.0 + 0.0im]\n",
       "\n",
       "Complex{Float64}[1.0 + 0.0im 0.0 + 0.0im; 0.0 + 0.0im -1.0 + 0.0im]\n",
       "\n",
       "Complex{Float64}[0.0 + 0.0im 0.0 + 0.0im; 0.0 + 0.0im 0.0 + 0.0im]\n",
       "\n",
       "Complex{Float64}[0.0 + 0.0im 0.0 + 0.0im; 0.0 + 0.0im 0.0 + 0.0im]\n",
       "\n",
       "Complex{Float64}[0.0 + 0.0im 0.0 + 0.0im; 0.0 + 0.0im 0.0 + 0.0im]\n",
       "\n",
       "Complex{Float64}[1.0 + 0.0im 0.0 + 0.0im; 0.0 + 0.0im -1.0 + 0.0im]\n",
       " Complex{Float64}[1.0 + 0.0im 0.0 + 0.0im; 0.0 + 0.0im 1.0 + 0.0im]\n",
       "\n",
       "Complex{Float64}[1.0 + 0.0im 0.0 + 0.0im; 0.0 + 0.0im 1.0 + 0.0im]\n",
       "\n",
       "Complex{Float64}[1.0 + 0.0im 0.0 + 0.0im; 0.0 + 0.0im -1.0 + 0.0im]"
      ]
     },
     "execution_count": 5,
     "metadata": {},
     "output_type": "execute_result"
    }
   ],
   "source": [
    "pauliZ = convert(Array{ComplexF64,2}, [1 0; 0 -1])\n",
    "pauliI = convert(Array{ComplexF64,2}, [1 0; 0 1])\n",
    "zero = convert(Array{ComplexF64,2}, [0 0; 0 0])\n",
    "\n",
    "O = []\n",
    "push!(O, dstack((pauliZ, pauliI, pauliI)) )\n",
    "push!(O, ddstack( [(pauliZ, zero, zero), (zero, pauliZ, zero), (zero, zero, pauliI)] ))\n",
    "push!(O, ddstack( [(pauliI, zero, zero), (zero, pauliZ, zero), (zero, zero, pauliZ)] ))\n",
    "push!(O, dstack((pauliI, pauliI, pauliZ)))"
   ]
  },
  {
   "cell_type": "markdown",
   "metadata": {},
   "source": [
    "### R expression が正しくできているか、期待値計算を使ってチェック"
   ]
  },
  {
   "cell_type": "code",
   "execution_count": 7,
   "metadata": {},
   "outputs": [
    {
     "ename": "UndefVarError",
     "evalue": "UndefVarError: R_expression not defined",
     "output_type": "error",
     "traceback": [
      "UndefVarError: R_expression not defined",
      "",
      "Stacktrace:",
      " [1] top-level scope at ./In[7]:10"
     ]
    }
   ],
   "source": [
    "N = 4\n",
    "D = 20\n",
    "# C0 = normalize!(rand(ComplexF64, 2^N))\n",
    "\n",
    "for i in 1:2^N\n",
    "    C0 = zeros(ComplexF64, 2^N)\n",
    "    C0[i] = 1 # computational basis\n",
    "    mps = MPS(C0, D, 'r') # convert to MPS\n",
    "    #mps_size(mps) # print the size of MPS\n",
    "    R = R_expression(mps, O, 1)\n",
    "\n",
    "    tmp_mps_cat = cat(mps[1][1], mps[1][2], dims=3)\n",
    "    tmp_mps_dag_cat = cat(mps[1][1]', mps[1][2]', dims=3)\n",
    "    tmp_O = O[1]\n",
    "    res = zeros(ComplexF64, 1, 1)\n",
    "    @tensor begin\n",
    "        res[a0, a0_] = R[a1, b1, a1_] * tmp_mps_cat[a0_, a1_, sigma2] * tmp_O[sigma1, sigma2, b1] * tmp_mps_dag_cat[a1, a0, sigma1]\n",
    "    end\n",
    "    println(res, \": \", expectation(MPS(C0, D), O))\n",
    "    \n",
    "end"
   ]
  },
  {
   "cell_type": "markdown",
   "metadata": {},
   "source": [
    "### L expression が正しくできているか、期待値計算を使ってチェック"
   ]
  },
  {
   "cell_type": "code",
   "execution_count": 55,
   "metadata": {},
   "outputs": [
    {
     "data": {
      "text/plain": [
       "L_expression (generic function with 1 method)"
      ]
     },
     "execution_count": 55,
     "metadata": {},
     "output_type": "execute_result"
    }
   ],
   "source": [
    "function L_expression(mps::Array{Any,1}, O::Array{Any,1}, t::Int64)\n",
    "        # t: target site, sites 1 to t-1 are merged to L expression\n",
    "        N_site = size(mps)[1]\n",
    "        n_phys = 2\n",
    "        contracted_sites = []\n",
    "        for i = 1:t-1\n",
    "            if i==1\n",
    "                tmp_mps = cat(mps[i][1][:], mps[i][2][:], dims=2)\n",
    "                tmp_mps_dag = cat(mps[i][1]'[:], mps[i][2]'[:], dims=2)\n",
    "                tmp_O = O[i]\n",
    "                a_len = size(mps[i][1])[2]\n",
    "                b_len = size(O[i][1, 1, :, :])[1]\n",
    "                arr = zeros(ComplexF64, a_len, b_len, a_len)\n",
    "                @tensor begin\n",
    "                    arr[a0, b0, a0_] = tmp_mps_dag[a0, sigma1] * tmp_O[sigma1, sigma2, b0] * tmp_mps[a0_, sigma2]\n",
    "                end\n",
    "                push!(contracted_sites, arr)\n",
    "            else\n",
    "                tmp_mps = cat(mps[i][1], mps[i][2], dims=3)\n",
    "                tmp_mps_dag = cat(mps[i][1]', mps[i][2]', dims=3)\n",
    "                tmp_O = O[i]\n",
    "                #tmp_site = contracted_sites[i-1]\n",
    "                tmp_site = contracted_sites[1]\n",
    "                a_len0 = size(tmp_site)[1]\n",
    "                a_len1 = size(mps[i-1][1])[2]\n",
    "                a_len2 = size(mps[i][1])[2]\n",
    "                b_len = size(O[i][1, 1, :, :])[1]\n",
    "                arr_0 = zeros(ComplexF64, n_phys, a_len1, b_len, a_len2)\n",
    "                arr_1 = zeros(ComplexF64, n_phys, n_phys, a_len2, b_len, a_len2)\n",
    "                arr = zeros(ComplexF64, a_len2, b_len, a_len2)\n",
    "                @tensor begin\n",
    "                    arr_0[sigma2, a1, b1, a2_] = tmp_site[a1, b1, a1_] * tmp_mps[a1_, a2_, sigma2]\n",
    "                    arr_1[sigma1, sigma2, a2, b1, a2_] = tmp_mps_dag[a2, a1, sigma1] * arr_0[sigma2, a1, b1, a2_]\n",
    "                    arr[a2, b2, a2_] = arr_1[sigma1, sigma2, a2, b1, a2_] * tmp_O[sigma1, sigma2, b1, b2]\n",
    "                end\n",
    "                contracted_sites[1] = arr\n",
    "            end\n",
    "            #push!(contracted_sites, arr)\n",
    "        end\n",
    "        return contracted_sites[1]\n",
    "    end"
   ]
  },
  {
   "cell_type": "code",
   "execution_count": 56,
   "metadata": {},
   "outputs": [
    {
     "name": "stdout",
     "output_type": "stream",
     "text": [
      "Complex{Float64}[3.0 + 0.0im]: 3.0 + 0.0im\n",
      "Complex{Float64}[1.0 + 0.0im]: 1.0 + 0.0im\n",
      "Complex{Float64}[-1.0 + 0.0im]: -1.0 + 0.0im\n",
      "Complex{Float64}[1.0 + 0.0im]: 1.0 + 0.0im\n",
      "Complex{Float64}[-1.0 + 0.0im]: -1.0 + 0.0im\n",
      "Complex{Float64}[-3.0 + 0.0im]: -3.0 + 0.0im\n",
      "Complex{Float64}[-1.0 + 0.0im]: -1.0 + 0.0im\n",
      "Complex{Float64}[1.0 + 0.0im]: 1.0 + 0.0im\n",
      "Complex{Float64}[1.0 + 0.0im]: 1.0 + 0.0im\n",
      "Complex{Float64}[-1.0 + 0.0im]: -1.0 + 0.0im\n",
      "Complex{Float64}[-3.0 + 0.0im]: -3.0 + 0.0im\n",
      "Complex{Float64}[-1.0 + 0.0im]: -1.0 + 0.0im\n",
      "Complex{Float64}[1.0 + 0.0im]: 1.0 + 0.0im\n",
      "Complex{Float64}[-1.0 + 0.0im]: -1.0 + 0.0im\n",
      "Complex{Float64}[1.0 + 0.0im]: 1.0 + 0.0im\n",
      "Complex{Float64}[3.0 + 0.0im]: 3.0 + 0.0im\n"
     ]
    }
   ],
   "source": [
    "N = 4\n",
    "D = 20\n",
    "# C0 = normalize!(rand(ComplexF64, 2^N))\n",
    "\n",
    "for i in 1:2^N\n",
    "    C0 = zeros(ComplexF64, 2^N)\n",
    "    C0[i] = 1 # computational basis\n",
    "    mps = MPS(C0, D, 'l') # convert to MPS\n",
    "    #mps_size(mps) # print the size of MPS\n",
    "    L = L_expression(mps, O, 4)\n",
    "\n",
    "    tmp_mps_cat = cat(mps[4][1], mps[4][2], dims=3)\n",
    "    tmp_mps_dag_cat = cat(mps[4][1]', mps[4][2]', dims=3)\n",
    "    tmp_O = O[4]\n",
    "    res = zeros(ComplexF64, 1, 1)\n",
    "    @tensor begin\n",
    "        res[a1, a1_] = L[a0, b1, a0_] * tmp_mps_cat[a0_, a1_, sigma2] * tmp_O[sigma1, sigma2, b1] * tmp_mps_dag_cat[a1, a0, sigma1]\n",
    "    end\n",
    "    println(res, \": \", expectation(MPS(C0, D), O))\n",
    "    \n",
    "end"
   ]
  },
  {
   "cell_type": "code",
   "execution_count": null,
   "metadata": {},
   "outputs": [],
   "source": []
  },
  {
   "cell_type": "markdown",
   "metadata": {},
   "source": [
    "### Iterative ground state search\n",
    "\n",
    "MPSに含まれるsiteを掃引しながら各siteに注目した局所最適化を繰り返し、Hamiltonian(MPO)の期待値を最小化するようにMPSを更新する。  \n",
    "MPSの1つのsiteのみを変数としたとき、Hamiltoninaの最小化問題は変数としたsiteに含まれる要素の二次最適化問題の形式をとる。  \n",
    "よって最小化は極値を求めればよく、期待値が極値をとるようなsiteを求める問題は行列の固有値問題に帰着する。\n",
    "\n",
    "結局固有値問題に帰着するのは通常の状態ベクトルを用いた計算と同じだが、MPSのIterative ground state searchで行う固有値問題で扱う行列のサイズはbonding dimensionの大きさでリミットされる、すなわち量子ビット数に対して指数関数的に増える困難は無い。"
   ]
  },
  {
   "cell_type": "markdown",
   "metadata": {},
   "source": [
    "### step 1\n",
    "\n",
    "site 1について期待値最小化"
   ]
  },
  {
   "cell_type": "code",
   "execution_count": 138,
   "metadata": {},
   "outputs": [
    {
     "name": "stdout",
     "output_type": "stream",
     "text": [
      "1.0 + 0.0im\n",
      "-1.0 + 0.0im"
     ]
    }
   ],
   "source": [
    "C0 = zeros(ComplexF64, 2^N)\n",
    "C0[9] = 1 # computational basis\n",
    "mps = MPS(C0, D, 'r') # convert to MPS\n",
    "before = expectation(mps, O)\n",
    "\n",
    "t = 1\n",
    "\n",
    "R = R_expression(mps, O, t)\n",
    "tmp_O = O[t]\n",
    "H = zeros(ComplexF64, size(R, 1), size(R, 3), size(tmp_O, 1), size(tmp_O, 2))\n",
    "@tensor begin\n",
    "    # H[a0, a0_, sigma1, sigma2] = tmp_O[sigma1, sigma2, b0] * R[a0, b0, a0_]\n",
    "    H[sigma1, a0, sigma2, a0_] = tmp_O[sigma1, sigma2, b0] * R[a0, b0, a0_]\n",
    "end\n",
    "\n",
    "H_ = zeros(ComplexF64, size(tmp_O, 1) * size(R, 1), size(tmp_O, 2) * size(R, 3))\n",
    "for i=1:size(H, 1), j=1:size(H, 2), k=1:size(H, 3), l=1:size(H, 4)\n",
    "    H_[(i-1)*size(H, 2) + j, (k-1)*size(H, 4) + l] = H[i,j,k,l]\n",
    "end\n",
    "v = eigvecs(H_)[:, 1]\n",
    "λ = eigvals(H_)[1]\n",
    "\n",
    "d = convert(Int64, size(v, 1) / 2)\n",
    "mps[t][1][:] = v[1:d]\n",
    "mps[t][2][:] = v[d+1:2*d]\n",
    "\n",
    "after = expectation(mps, O)\n",
    "\n",
    "print(before, '\\n', after)"
   ]
  },
  {
   "cell_type": "markdown",
   "metadata": {},
   "source": [
    "### step 2-1\n",
    "\n",
    "site t, site t+1 に対しSVDを行い、site tをleft normalizeする。"
   ]
  },
  {
   "cell_type": "code",
   "execution_count": 2,
   "metadata": {},
   "outputs": [
    {
     "data": {
      "text/plain": [
       "left_norm_for_2_sites (generic function with 1 method)"
      ]
     },
     "execution_count": 2,
     "metadata": {},
     "output_type": "execute_result"
    }
   ],
   "source": [
    "function left_norm_for_2_sites(mps::Array{Any,1}, t::Int64, D::Int64)\n",
    "    # t: target, site to be left normalized\n",
    "    mps_ = copy(mps)\n",
    "    site_1 = cat(mps[t][1], mps[t][2], dims=1)\n",
    "    site_2 = cat(mps[t+1][1], mps[t+1][2], dims=2)\n",
    "    mixed_site = site_1 * site_2\n",
    "    A, M = SVD_L(mixed_site, D)\n",
    "    col = convert(Int64, size(A, 1) / 2)\n",
    "    mps_[t] = [A[1:col, :], A[(col+1):col*2, :]]\n",
    "    col2 = convert(Int64, size(M, 2) / 2)\n",
    "    mps_[t+1] = [M[:, 1:col2], M[:, (col2+1):col2*2]]\n",
    "    return mps_\n",
    "end"
   ]
  },
  {
   "cell_type": "markdown",
   "metadata": {},
   "source": [
    "操作の前後でMPSが表す状態に変化がないことを確認"
   ]
  },
  {
   "cell_type": "code",
   "execution_count": 140,
   "metadata": {},
   "outputs": [
    {
     "name": "stdout",
     "output_type": "stream",
     "text": [
      "true true true true true true true true true true true true true true true true "
     ]
    }
   ],
   "source": [
    "mps_ = left_norm_for_2_sites(mps, 1, 10)\n",
    "for i = 0:15\n",
    "    orig = restore(mps, i)\n",
    "    norm = restore(mps_, i)\n",
    "    print(orig == norm, ' ')\n",
    "end"
   ]
  },
  {
   "cell_type": "markdown",
   "metadata": {},
   "source": [
    "### step 2-2\n",
    "\n",
    "site 2(~N-1)について期待値最小化"
   ]
  },
  {
   "cell_type": "code",
   "execution_count": 141,
   "metadata": {},
   "outputs": [
    {
     "data": {
      "text/plain": [
       "-3.0 + 0.0im"
      ]
     },
     "execution_count": 141,
     "metadata": {},
     "output_type": "execute_result"
    }
   ],
   "source": [
    "t = 2\n",
    "\n",
    "R = R_expression(mps, O, t)\n",
    "L = L_expression(mps, O, t)\n",
    "tmp_O = O[t]\n",
    "\n",
    "H = zeros(ComplexF64, size(tmp_O, 1), size(L, 1), size(R, 1), size(tmp_O, 2), size(L, 3), size(R, 3))\n",
    "@tensor begin\n",
    "    H[sigma1, a0, a1, sigma2, a0_, a1_] = L[a0, b0, a0_] * tmp_O[sigma1, sigma2, b0, b1] * R[a1, b1, a1_]\n",
    "end\n",
    "\n",
    "H_ = zeros(ComplexF64, size(tmp_O, 1) * size(L, 1) * size(R, 1), size(tmp_O, 2) * size(L, 3) * size(R, 3))\n",
    "for i=1:size(H, 1), j=1:size(H, 2), k=1:size(H, 3), l=1:size(H, 4), m=1:size(H, 5), n=1:size(H, 6)\n",
    "    H_[(i-1)*size(H, 2)*size(H, 3) + (j-1)*size(H, 3) + k, (l-1)*size(H, 5)*size(H, 6) + (m-1)*size(H, 6) + n] = H[i,j,k,l,m,n]\n",
    "end\n",
    "v = eigvecs(H_)[:, 1]\n",
    "λ = eigvals(H_)[1]\n",
    "\n",
    "d = convert(Int64, size(v, 1) / 2)\n",
    "\n",
    "M_1 = transpose(reshape(v[1:d], size(transpose(mps[t][1]))))\n",
    "M_2 = transpose(reshape(v[d+1:2*d], size(transpose(mps[t][1]))))\n",
    "mps[t][1][:, :] = M_1\n",
    "mps[t][2][:, :] = M_2\n",
    "\n",
    "after = expectation(mps, O)"
   ]
  },
  {
   "cell_type": "markdown",
   "metadata": {},
   "source": [
    "### step 2-3\n",
    "\n",
    "site 4(N)について期待値最小化する"
   ]
  },
  {
   "cell_type": "code",
   "execution_count": 152,
   "metadata": {},
   "outputs": [
    {
     "data": {
      "text/plain": [
       "-3.0 + 0.0im"
      ]
     },
     "execution_count": 152,
     "metadata": {},
     "output_type": "execute_result"
    }
   ],
   "source": [
    "t = 4\n",
    "\n",
    "L = L_expression(mps, O, t)\n",
    "tmp_O = O[t]\n",
    "H = zeros(ComplexF64, size(L, 1), size(L, 3), size(tmp_O, 1), size(tmp_O, 2))\n",
    "@tensor begin\n",
    "    # H[a0, a0_, sigma1, sigma2] = tmp_O[sigma1, sigma2, b0] * R[a0, b0, a0_]\n",
    "    H[sigma1, a0, sigma2, a0_] = tmp_O[sigma1, sigma2, b0] * L[a0, b0, a0_]\n",
    "end\n",
    "\n",
    "H_ = zeros(ComplexF64, size(tmp_O, 1) * size(L, 1), size(tmp_O, 2) * size(L, 3))\n",
    "for i=1:size(H, 1), j=1:size(H, 2), k=1:size(H, 3), l=1:size(H, 4)\n",
    "    H_[(i-1)*size(H, 2) + j, (k-1)*size(H, 4) + l] = H[i,j,k,l]\n",
    "end\n",
    "v = eigvecs(H_)[:, 1]\n",
    "λ = eigvals(H_)[1]\n",
    "\n",
    "d = convert(Int64, size(v, 1) / 2)\n",
    "mps[t][1][:] = v[1:d]\n",
    "mps[t][2][:] = v[d+1:2*d]\n",
    "\n",
    "after = expectation(mps, O)"
   ]
  },
  {
   "cell_type": "markdown",
   "metadata": {},
   "source": [
    "### step 3\n",
    "\n",
    "site 1$\\to$site N の方向に 1 site ずつ更新してハミルトニアン期待値最小化"
   ]
  },
  {
   "cell_type": "code",
   "execution_count": 95,
   "metadata": {},
   "outputs": [
    {
     "data": {
      "text/plain": [
       "left_to_right_ground_state_search (generic function with 1 method)"
      ]
     },
     "execution_count": 95,
     "metadata": {},
     "output_type": "execute_result"
    }
   ],
   "source": [
    "function left_to_right_ground_state_search(mps::Array{Any,1}, O::Array{Any,1}, D::Int64)\n",
    "    hist = []\n",
    "    N = size(mps, 1)\n",
    "    mps_ = copy(mps)\n",
    "    push!(hist, expectation(mps_, O))\n",
    "    for t = 1:N\n",
    "        if t == 1\n",
    "            R = R_expression(mps_, O, t)\n",
    "            tmp_O = O[t]\n",
    "            H = zeros(ComplexF64, size(R, 1), size(R, 3), size(tmp_O, 1), size(tmp_O, 2))\n",
    "            @tensor begin\n",
    "                H[sigma1, a0, sigma2, a0_] = tmp_O[sigma1, sigma2, b0] * R[a0, b0, a0_]\n",
    "            end\n",
    "            H_ = zeros(ComplexF64, size(tmp_O, 1) * size(R, 1), size(tmp_O, 2) * size(R, 3))\n",
    "            for i=1:size(H, 1), j=1:size(H, 2), k=1:size(H, 3), l=1:size(H, 4)\n",
    "                H_[(i-1)*size(H, 2) + j, (k-1)*size(H, 4) + l] = H[i,j,k,l]\n",
    "            end\n",
    "            v = eigvecs(H_)[:, 1]\n",
    "            d = convert(Int64, size(v, 1) / 2)\n",
    "            mps_[t][1][:] = v[1:d]\n",
    "            mps_[t][2][:] = v[d+1:2*d]\n",
    "            mps_ = left_norm_for_2_sites(mps_, t, D)\n",
    "            \n",
    "        elseif t == N\n",
    "            L = L_expression(mps_, O, t)\n",
    "            tmp_O = O[t]\n",
    "            H = zeros(ComplexF64, size(L, 1), size(L, 3), size(tmp_O, 1), size(tmp_O, 2))\n",
    "            @tensor begin\n",
    "                H[sigma1, a0, sigma2, a0_] = tmp_O[sigma1, sigma2, b0] * L[a0, b0, a0_]\n",
    "            end\n",
    "            H_ = zeros(ComplexF64, size(tmp_O, 1) * size(L, 1), size(tmp_O, 2) * size(L, 3))\n",
    "            for i=1:size(H, 1), j=1:size(H, 2), k=1:size(H, 3), l=1:size(H, 4)\n",
    "                H_[(i-1)*size(H, 2) + j, (k-1)*size(H, 4) + l] = H[i,j,k,l]\n",
    "            end\n",
    "            v = eigvecs(H_)[:, 1]\n",
    "            d = convert(Int64, size(v, 1) / 2)\n",
    "            mps_[t][1][:] = v[1:d]\n",
    "            mps_[t][2][:] = v[d+1:2*d]\n",
    "\n",
    "        else\n",
    "            R = R_expression(mps_, O, t)\n",
    "            L = L_expression(mps_, O, t)\n",
    "            tmp_O = O[t]\n",
    "            H = zeros(ComplexF64, size(tmp_O, 1), size(L, 1), size(R, 1), size(tmp_O, 2), size(L, 3), size(R, 3))\n",
    "            @tensor begin\n",
    "                H[sigma1, a0, a1, sigma2, a0_, a1_] = L[a0, b0, a0_] * tmp_O[sigma1, sigma2, b0, b1] * R[a1, b1, a1_]\n",
    "            end\n",
    "            H_ = zeros(ComplexF64, size(tmp_O, 1) * size(L, 1) * size(R, 1), size(tmp_O, 2) * size(L, 3) * size(R, 3))\n",
    "            for i=1:size(H, 1), j=1:size(H, 2), k=1:size(H, 3), l=1:size(H, 4), m=1:size(H, 5), n=1:size(H, 6)\n",
    "                H_[(i-1)*size(H, 2)*size(H, 3) + (j-1)*size(H, 3) + k, (l-1)*size(H, 5)*size(H, 6) + (m-1)*size(H, 6) + n] = H[i,j,k,l,m,n]\n",
    "            end\n",
    "            v = eigvecs(H_)[:, 1]\n",
    "            d = convert(Int64, size(v, 1) / 2)\n",
    "            M_1 = transpose(reshape(v[1:d], size(transpose(mps_[t][1]))))\n",
    "            M_2 = transpose(reshape(v[d+1:2*d], size(transpose(mps_[t][1]))))\n",
    "            mps_[t][1][:, :] = M_1\n",
    "            mps_[t][2][:, :] = M_2\n",
    "            mps_ = left_norm_for_2_sites(mps_, t, D)\n",
    "        end\n",
    "        push!(hist, expectation(mps_, O))\n",
    "    end\n",
    "    return (mps_, hist)\n",
    "end"
   ]
  },
  {
   "cell_type": "code",
   "execution_count": 96,
   "metadata": {},
   "outputs": [
    {
     "data": {
      "text/plain": [
       "(Any[Array{Complex{Float64},2}[[0.0 + 0.0im -0.5607626214182947 + 0.8279766194887889im], [-0.5607626214182947 - 0.8279766194887889im 2.220446049250313e-16 + 0.0im]], Array{Complex{Float64},2}[[-0.97324245231294 + 0.2297806106178122im -1.6653345369377348e-16 + 2.220446049250313e-16im 0.0 + 0.0im 0.0 + 0.0im; 2.220446049250313e-16 + 2.3592239273284576e-16im -0.9695687216057274 - 0.2448193090502371im 0.0 + 0.0im 0.0 + 0.0im], [0.0 + 0.0im 0.0 + 0.0im 0.0 + 0.0im 1.0 + 0.0im; 0.0 + 0.0im 0.0 + 0.0im 1.0 + 0.0im 0.0 + 0.0im]], Array{Complex{Float64},2}[[-1.4513420134010444e-16 + 2.516759498469181e-18im -1.7212357401774256e-15 + 2.9847798507843105e-17im; 0.0 + 0.0im 0.0 + 0.0im; 0.9996137897257442 - 0.027789771322116696im -1.6403978869705682e-16 + 1.3877787807814457e-17im; -8.500145032286355e-17 + 1.231653667943533e-16im -0.5607626214182946 + 0.8279766194887885im], [0.0 + 0.0im 0.0 + 0.0im; 0.0 + 0.0im 0.0 + 0.0im; 0.0 + 0.0im 0.0 + 0.0im; 0.0 + 0.0im 0.0 + 0.0im]], Array{Complex{Float64},2}[[0.0 + 0.0im; 0.0 + 0.0im], [1.0 + 0.0im; 0.0 + 0.0im]]], Any[0.006968340412331166 + 1.3010426069826053e-18im, -1.0949265952403204 - 4.163336342344337e-17im, -2.999999999999999 - 4.7788047400524155e-17im, -3.0000000000000018 + 5.551115123125783e-17im, -3.0000000000000013 + 0.0im])"
      ]
     },
     "execution_count": 96,
     "metadata": {},
     "output_type": "execute_result"
    }
   ],
   "source": [
    "D = 20\n",
    "N = 4\n",
    "C0 = zeros(ComplexF64, 2^N)\n",
    "#C0[2] = 1 # computational basis\n",
    "C0 = normalize!(rand(ComplexF64, 2^N))\n",
    "mps = MPS(C0, D, 'r') # convert to MPS\n",
    "\n",
    "O = []\n",
    "push!(O, dstack((pauliZ, pauliI, pauliI)) )\n",
    "push!(O, ddstack( [(pauliZ, zero, zero), (zero, pauliZ, zero), (zero, zero, pauliI)] ))\n",
    "push!(O, ddstack( [(pauliI, zero, zero), (zero, pauliZ, zero), (zero, zero, pauliZ)] ))\n",
    "push!(O, dstack((pauliI, pauliI, pauliZ)))\n",
    "\n",
    "(opt_mps, hist) = left_to_right_ground_state_search(mps, O, D)"
   ]
  },
  {
   "cell_type": "code",
   "execution_count": 97,
   "metadata": {},
   "outputs": [
    {
     "data": {
      "text/plain": [
       "5-element Array{Any,1}:\n",
       " 0.006968340412331166 + 1.3010426069826053e-18im\n",
       "  -1.0949265952403204 - 4.163336342344337e-17im\n",
       "   -2.999999999999999 - 4.7788047400524155e-17im\n",
       "  -3.0000000000000018 + 5.551115123125783e-17im\n",
       "  -3.0000000000000013 + 0.0im"
      ]
     },
     "execution_count": 97,
     "metadata": {},
     "output_type": "execute_result"
    }
   ],
   "source": [
    "hist"
   ]
  },
  {
   "cell_type": "code",
   "execution_count": 94,
   "metadata": {},
   "outputs": [
    {
     "name": "stdout",
     "output_type": "stream",
     "text": [
      "0:0.0 + 0.0im\n",
      "1:0.0 + 0.0im\n",
      "2:0.0 + 0.0im\n",
      "3:0.0 + 0.0im\n",
      "4:0.0 + 0.0im\n",
      "5:0.0 + 0.0im\n",
      "6:0.0 + 0.0im\n",
      "7:0.0 + 0.0im\n",
      "8:8.680427074014492e-17 + 1.6361324958020246e-16im\n",
      "9:7.264213386742109e-32 - 2.828928674381776e-32im\n",
      "10:0.8760543303935484 - 0.48221241190860276im\n",
      "11:0.0 + 0.0im\n",
      "12:0.0 + 0.0im\n",
      "13:0.0 + 0.0im\n",
      "14:0.0 + 0.0im\n",
      "15:0.0 + 0.0im\n"
     ]
    }
   ],
   "source": [
    "for i in 1:2^4\n",
    "    println(i-1, ':', restore(opt_mps, i-1))\n",
    "end"
   ]
  },
  {
   "cell_type": "markdown",
   "metadata": {},
   "source": [
    "### step 4\n",
    "\n",
    "site t-1, site t に対しSVDを行い、site tをright normalizeする。"
   ]
  },
  {
   "cell_type": "code",
   "execution_count": 61,
   "metadata": {},
   "outputs": [
    {
     "data": {
      "text/plain": [
       "right_norm_for_2_sites (generic function with 1 method)"
      ]
     },
     "execution_count": 61,
     "metadata": {},
     "output_type": "execute_result"
    }
   ],
   "source": [
    "function right_norm_for_2_sites(mps::Array{Any,1}, t::Int64, D::Int64)\n",
    "    # t: target, site to be left normalized\n",
    "    mps_ = copy(mps)\n",
    "    site_1 = cat(mps[t-1][1], mps[t-1][2], dims=1)\n",
    "    site_2 = cat(mps[t][1], mps[t][2], dims=2)\n",
    "    mixed_site = site_1 * site_2\n",
    "    M, B = SVD_R(mixed_site, D)\n",
    "    col = convert(Int64, size(M, 1) / 2)\n",
    "    mps_[t-1] = [M[1:col, :], M[(col+1):col*2, :]]\n",
    "    col2 = convert(Int64, size(B, 2) / 2)\n",
    "    mps_[t] = [B[:, 1:col2], B[:, (col2+1):col2*2]]\n",
    "    return mps_\n",
    "end"
   ]
  },
  {
   "cell_type": "markdown",
   "metadata": {},
   "source": [
    "操作の前後でMPSが表す状態に変化がないことを確認"
   ]
  },
  {
   "cell_type": "code",
   "execution_count": 90,
   "metadata": {},
   "outputs": [
    {
     "name": "stdout",
     "output_type": "stream",
     "text": [
      "true true true true true true true true true true true true true true true true "
     ]
    }
   ],
   "source": [
    "t = 4\n",
    "C0 = zeros(ComplexF64, 2^N)\n",
    "C0[1] = 1 / sqrt(2) # computational basis\n",
    "C0[5] = 1 / sqrt(2) # computational basis\n",
    "mps = MPS(C0, D, 'r') # convert to MPS\n",
    "\n",
    "mps_ = right_norm_for_2_sites(mps, 2, 10)\n",
    "for i = 0:15\n",
    "    orig = restore(mps, i)\n",
    "    norm = restore(mps_, i)\n",
    "    print(orig == norm, ' ')\n",
    "end"
   ]
  },
  {
   "cell_type": "markdown",
   "metadata": {},
   "source": [
    "### step 5\n",
    "\n",
    "site N-1 $\\to$ site 1 の方向(先程とは逆)に 1 site ずつ更新してハミルトニアン期待値最小化"
   ]
  },
  {
   "cell_type": "code",
   "execution_count": 102,
   "metadata": {},
   "outputs": [
    {
     "data": {
      "text/plain": [
       "right_to_left_ground_state_search (generic function with 1 method)"
      ]
     },
     "execution_count": 102,
     "metadata": {},
     "output_type": "execute_result"
    }
   ],
   "source": [
    "function right_to_left_ground_state_search(mps::Array{Any,1}, O::Array{Any,1}, D::Int64)\n",
    "    hist = []\n",
    "    N = size(mps, 1)\n",
    "    mps_ = copy(mps)\n",
    "    push!(hist, expectation(mps_, O))\n",
    "    for t = N-1:-1:1\n",
    "        mps_ = right_norm_for_2_sites(mps_, t+1, D)\n",
    "        if t == 1\n",
    "            R = R_expression(mps_, O, t)\n",
    "            tmp_O = O[t]\n",
    "            H = zeros(ComplexF64, size(R, 1), size(R, 3), size(tmp_O, 1), size(tmp_O, 2))\n",
    "            @tensor begin\n",
    "                H[sigma1, a0, sigma2, a0_] = tmp_O[sigma1, sigma2, b0] * R[a0, b0, a0_]\n",
    "            end\n",
    "            H_ = zeros(ComplexF64, size(tmp_O, 1) * size(R, 1), size(tmp_O, 2) * size(R, 3))\n",
    "            for i=1:size(H, 1), j=1:size(H, 2), k=1:size(H, 3), l=1:size(H, 4)\n",
    "                H_[(i-1)*size(H, 2) + j, (k-1)*size(H, 4) + l] = H[i,j,k,l]\n",
    "            end\n",
    "            v = eigvecs(H_)[:, 1]\n",
    "            d = convert(Int64, size(v, 1) / 2)\n",
    "            mps_[t][1][:] = v[1:d]\n",
    "            mps_[t][2][:] = v[d+1:2*d]\n",
    "\n",
    "        else\n",
    "            R = R_expression(mps_, O, t)\n",
    "            L = L_expression(mps_, O, t)\n",
    "            tmp_O = O[t]\n",
    "            H = zeros(ComplexF64, size(tmp_O, 1), size(L, 1), size(R, 1), size(tmp_O, 2), size(L, 3), size(R, 3))\n",
    "            @tensor begin\n",
    "                H[sigma1, a0, a1, sigma2, a0_, a1_] = L[a0, b0, a0_] * tmp_O[sigma1, sigma2, b0, b1] * R[a1, b1, a1_]\n",
    "            end\n",
    "            H_ = zeros(ComplexF64, size(tmp_O, 1) * size(L, 1) * size(R, 1), size(tmp_O, 2) * size(L, 3) * size(R, 3))\n",
    "            for i=1:size(H, 1), j=1:size(H, 2), k=1:size(H, 3), l=1:size(H, 4), m=1:size(H, 5), n=1:size(H, 6)\n",
    "                H_[(i-1)*size(H, 2)*size(H, 3) + (j-1)*size(H, 3) + k, (l-1)*size(H, 5)*size(H, 6) + (m-1)*size(H, 6) + n] = H[i,j,k,l,m,n]\n",
    "            end\n",
    "            v = eigvecs(H_)[:, 1]\n",
    "            d = convert(Int64, size(v, 1) / 2)\n",
    "            M_1 = transpose(reshape(v[1:d], size(transpose(mps_[t][1]))))\n",
    "            M_2 = transpose(reshape(v[d+1:2*d], size(transpose(mps_[t][1]))))\n",
    "            mps_[t][1][:, :] = M_1\n",
    "            mps_[t][2][:, :] = M_2\n",
    "        end\n",
    "        push!(hist, expectation(mps_, O))\n",
    "    end\n",
    "    return (mps_, hist)\n",
    "end"
   ]
  },
  {
   "cell_type": "code",
   "execution_count": 109,
   "metadata": {},
   "outputs": [
    {
     "data": {
      "text/plain": [
       "(Any[Array{Complex{Float64},2}[[0.0 - 0.0im 0.0 - 0.0im], [1.0 + 0.0im -1.6820565865622263e-16 - 3.6626859291356426e-16im]], Array{Complex{Float64},2}[[-3.3856405763623705e-16 + 3.1786605777263444e-17im 3.122502256758253e-17 - 1.3877787807814457e-17im 0.7835107529064149 - 0.16737397362303652im 0.5852082781884836 - 0.12501249606870588im; -2.9375070561846326e-16 + 4.143549165033361e-17im -0.3073569134261788 - 0.006411949689282673im 0.16030019460140327 - 0.5464038681924793im -0.21461918917479506 + 0.73155716027069im], [0.0 + 0.0im 0.0 + 0.0im 0.0 + 0.0im 0.0 + 0.0im; 0.0 + 0.0im 0.0 + 0.0im 0.0 + 0.0im 0.0 + 0.0im]], Array{Complex{Float64},2}[[0.8011885838966643 + 0.0im -0.598411942589432 - 6.52323148448189e-17im; -0.598411942589432 + 0.0im -0.8011885838966643 - 8.733680302012205e-17im; 0.0 + 0.0im 0.0 + 0.0im; 0.0 + 0.0im 0.0 + 0.0im], [0.0 + 0.0im 0.0 + 0.0im; 0.0 + 0.0im 0.0 + 0.0im; 0.0 + 0.0im 1.0 + 0.0im; 1.0 + 0.0im 0.0 + 0.0im]], Array{Complex{Float64},2}[[-0.5984119425894324 + 0.0im; -0.8011885838966641 + 0.0im], [-0.8000396601347519 + 0.04289159798623582im; 0.5975538054241357 - 0.0320359588086927im]]], Any[-0.13283384523121178 - 5.551115123125783e-17im, -3.0000000000000036 + 2.7755575615628914e-17im, -3.0000000000000018 - 1.5223152443483392e-18im, -3.0000000000000004 - 1.4319233930506864e-19im])"
      ]
     },
     "execution_count": 109,
     "metadata": {},
     "output_type": "execute_result"
    }
   ],
   "source": [
    "D = 20\n",
    "N = 4\n",
    "C0 = zeros(ComplexF64, 2^N)\n",
    "#C0[2] = 1 # computational basis\n",
    "C0 = normalize!(rand(ComplexF64, 2^N))\n",
    "mps = MPS(C0, D, 'l') # convert to MPS\n",
    "\n",
    "O = []\n",
    "push!(O, dstack((pauliZ, pauliI, pauliI)) )\n",
    "push!(O, ddstack( [(pauliZ, zero, zero), (zero, pauliZ, zero), (zero, zero, pauliI)] ))\n",
    "push!(O, ddstack( [(pauliI, zero, zero), (zero, pauliZ, zero), (zero, zero, pauliZ)] ))\n",
    "push!(O, dstack((pauliI, pauliI, pauliZ)))\n",
    "\n",
    "(opt_mps, hist) = right_to_left_ground_state_search(mps, O, D)"
   ]
  },
  {
   "cell_type": "code",
   "execution_count": 110,
   "metadata": {},
   "outputs": [
    {
     "data": {
      "text/plain": [
       "4-element Array{Any,1}:\n",
       " -0.13283384523121178 - 5.551115123125783e-17im\n",
       "  -3.0000000000000036 + 2.7755575615628914e-17im\n",
       "  -3.0000000000000018 - 1.5223152443483392e-18im\n",
       "  -3.0000000000000004 - 1.4319233930506864e-19im"
      ]
     },
     "execution_count": 110,
     "metadata": {},
     "output_type": "execute_result"
    }
   ],
   "source": [
    "hist"
   ]
  },
  {
   "cell_type": "code",
   "execution_count": 111,
   "metadata": {},
   "outputs": [
    {
     "name": "stdout",
     "output_type": "stream",
     "text": [
      "0:0.0 + 0.0im\n",
      "1:8.057569884245053e-17 + 9.977592261580458e-17im\n",
      "2:0.0 + 0.0im\n",
      "3:0.0 + 0.0im\n",
      "4:0.0 + 0.0im\n",
      "5:-0.9779354931590871 + 0.2089070875286263im\n",
      "6:0.0 + 0.0im\n",
      "7:0.0 + 0.0im\n",
      "8:0.0 + 0.0im\n",
      "9:3.3637685397118943e-16 - 4.9866035960335757e-17im\n",
      "10:0.0 + 0.0im\n",
      "11:0.0 + 0.0im\n",
      "12:0.0 + 0.0im\n",
      "13:-1.9193318606758697e-16 + 1.1250151085496812e-16im\n",
      "14:0.0 + 0.0im\n",
      "15:0.0 + 0.0im\n"
     ]
    }
   ],
   "source": [
    "for i in 1:2^4\n",
    "    println(i-1, ':', restore(opt_mps, i-1))\n",
    "end"
   ]
  },
  {
   "cell_type": "markdown",
   "metadata": {},
   "source": [
    "### step 6\n",
    "\n",
    "上記の関数を統合して、site 1 $\\to$ site N $\\to$ site1 の1往復でground state searchを行う"
   ]
  },
  {
   "cell_type": "code",
   "execution_count": 112,
   "metadata": {},
   "outputs": [
    {
     "data": {
      "text/plain": [
       "right_most_site_update (generic function with 1 method)"
      ]
     },
     "execution_count": 112,
     "metadata": {},
     "output_type": "execute_result"
    }
   ],
   "source": [
    "function left_most_site_update(mps_::Array{Any,1}, O::Array{Any,1}, t::Int64)\n",
    "    R = R_expression(mps_, O, t)\n",
    "    tmp_O = O[t]\n",
    "    H = zeros(ComplexF64, size(R, 1), size(R, 3), size(tmp_O, 1), size(tmp_O, 2))\n",
    "    @tensor begin\n",
    "        H[sigma1, a0, sigma2, a0_] = tmp_O[sigma1, sigma2, b0] * R[a0, b0, a0_]\n",
    "    end\n",
    "    H_ = zeros(ComplexF64, size(tmp_O, 1) * size(R, 1), size(tmp_O, 2) * size(R, 3))\n",
    "    for i=1:size(H, 1), j=1:size(H, 2), k=1:size(H, 3), l=1:size(H, 4)\n",
    "        H_[(i-1)*size(H, 2) + j, (k-1)*size(H, 4) + l] = H[i,j,k,l]\n",
    "    end\n",
    "    v = eigvecs(H_)[:, 1]\n",
    "    d = convert(Int64, size(v, 1) / 2)\n",
    "    mps_[t][1][:] = v[1:d]\n",
    "    mps_[t][2][:] = v[d+1:2*d]\n",
    "    mps_ = left_norm_for_2_sites(mps_, t, D)\n",
    "    return mps_\n",
    "end\n",
    "\n",
    "function mid_site_update(mps_::Array{Any,1}, O::Array{Any,1}, t::Int64)\n",
    "    R = R_expression(mps_, O, t)\n",
    "    L = L_expression(mps_, O, t)\n",
    "    tmp_O = O[t]\n",
    "    H = zeros(ComplexF64, size(tmp_O, 1), size(L, 1), size(R, 1), size(tmp_O, 2), size(L, 3), size(R, 3))\n",
    "    @tensor begin\n",
    "        H[sigma1, a0, a1, sigma2, a0_, a1_] = L[a0, b0, a0_] * tmp_O[sigma1, sigma2, b0, b1] * R[a1, b1, a1_]\n",
    "    end\n",
    "    H_ = zeros(ComplexF64, size(tmp_O, 1) * size(L, 1) * size(R, 1), size(tmp_O, 2) * size(L, 3) * size(R, 3))\n",
    "    for i=1:size(H, 1), j=1:size(H, 2), k=1:size(H, 3), l=1:size(H, 4), m=1:size(H, 5), n=1:size(H, 6)\n",
    "        H_[(i-1)*size(H, 2)*size(H, 3) + (j-1)*size(H, 3) + k, (l-1)*size(H, 5)*size(H, 6) + (m-1)*size(H, 6) + n] = H[i,j,k,l,m,n]\n",
    "    end\n",
    "    v = eigvecs(H_)[:, 1]\n",
    "    d = convert(Int64, size(v, 1) / 2)\n",
    "    M_1 = transpose(reshape(v[1:d], size(transpose(mps_[t][1]))))\n",
    "    M_2 = transpose(reshape(v[d+1:2*d], size(transpose(mps_[t][1]))))\n",
    "    mps_[t][1][:, :] = M_1\n",
    "    mps_[t][2][:, :] = M_2\n",
    "    return mps_\n",
    "end\n",
    "    \n",
    "function right_most_site_update(mps_::Array{Any,1}, O::Array{Any,1}, t::Int64)\n",
    "    L = L_expression(mps_, O, t)\n",
    "    tmp_O = O[t]\n",
    "    H = zeros(ComplexF64, size(L, 1), size(L, 3), size(tmp_O, 1), size(tmp_O, 2))\n",
    "    @tensor begin\n",
    "        H[sigma1, a0, sigma2, a0_] = tmp_O[sigma1, sigma2, b0] * L[a0, b0, a0_]\n",
    "    end\n",
    "    H_ = zeros(ComplexF64, size(tmp_O, 1) * size(L, 1), size(tmp_O, 2) * size(L, 3))\n",
    "    for i=1:size(H, 1), j=1:size(H, 2), k=1:size(H, 3), l=1:size(H, 4)\n",
    "        H_[(i-1)*size(H, 2) + j, (k-1)*size(H, 4) + l] = H[i,j,k,l]\n",
    "    end\n",
    "    v = eigvecs(H_)[:, 1]\n",
    "    d = convert(Int64, size(v, 1) / 2)\n",
    "    mps_[t][1][:] = v[1:d]\n",
    "    mps_[t][2][:] = v[d+1:2*d]\n",
    "    return mps_\n",
    "end"
   ]
  },
  {
   "cell_type": "code",
   "execution_count": 126,
   "metadata": {},
   "outputs": [
    {
     "data": {
      "text/plain": [
       "iterative_ground_state_search (generic function with 1 method)"
      ]
     },
     "execution_count": 126,
     "metadata": {},
     "output_type": "execute_result"
    }
   ],
   "source": [
    "function iterative_ground_state_search(mps::Array{Any,1}, O::Array{Any,1}, D::Int64)\n",
    "    hist = []\n",
    "    N = size(mps, 1)\n",
    "    mps_ = copy(mps)\n",
    "    push!(hist, expectation(mps_, O))\n",
    "    for t = 1:N\n",
    "        if t == 1\n",
    "            mps_ = left_most_site_update(mps_, O, t)\n",
    "            mps_ = left_norm_for_2_sites(mps_, t, D)  \n",
    "        elseif t == N\n",
    "            mps_ = right_most_site_update(mps_, O, t)\n",
    "        else\n",
    "            mps_ = mid_site_update(mps_, O, t)\n",
    "            mps_ = left_norm_for_2_sites(mps_, t, D)\n",
    "        end\n",
    "        push!(hist, expectation(mps_, O))\n",
    "    end\n",
    "    \n",
    "    for t = N-1:-1:1\n",
    "        mps_ = right_norm_for_2_sites(mps_, t+1, D)\n",
    "        if t == 1\n",
    "            mps_ = left_most_site_update(mps_, O, t)\n",
    "        else\n",
    "            mps_ = mid_site_update(mps_, O, t)\n",
    "        end  \n",
    "        push!(hist, expectation(mps_, O))\n",
    "    end\n",
    "    return (mps_, hist)\n",
    "end"
   ]
  },
  {
   "cell_type": "code",
   "execution_count": 11,
   "metadata": {},
   "outputs": [
    {
     "data": {
      "text/plain": [
       "(Any[Array{Complex{Float64},2}[[0.0 + 0.0im 0.0 + 0.0im], [1.0 + 0.0im 0.0 + 0.0im]], Array{Complex{Float64},2}[[0.0 + 0.0im 0.0 + 0.0im 0.0 + 0.0im 0.0 + 0.0im; 1.0 + 0.0im 0.0 + 0.0im 0.0 + 0.0im 0.0 + 0.0im], [0.020203972330057347 - 0.009450387301157982im -2.408253154218805e-16 - 2.2089218404179512e-16im 0.0020264553518257607 - 2.8952502976456115e-10im 0.999749160120003 + 0.0im; 0.0 + 0.0im 0.0 + 0.0im 0.0 + 0.0im 0.0 + 0.0im]], Array{Complex{Float64},2}[[1.3449787562838703e-16 - 7.295598192220656e-19im 0.986935449912459 - 0.16111616192868988im … -1.2118612012662745e-15 + 4.928088509102355e-16im -6.099149198453333e-6 - 5.8532879798838705e-6im; -7.48591581876233e-27 + 6.992001794320268e-28im 4.647883664731597e-19 - 2.3211484642396814e-19im … 4.2583118208009745e-20 - 1.9957137379614044e-20im 1.834725161020029e-16 + 1.2462248542428e-16im; 3.224981229778437e-14 - 1.7493337437480885e-16im -1.691091676577086e-8 + 2.7606893436863886e-9im … 0.000373982371997314 - 5.152807586576629e-5im -0.001462449989678586 - 0.0014034975481786623im; 3.378248834083139e-11 + 2.541095000997684e-12im -8.342979550148245e-6 + 1.3619837538471912e-6im … -7.580275024332043e-7 + 1.044639926652885e-7im -0.7214979341521457 - 0.6924136208780022im], [0.0 + 0.0im 1.9599243141854104e-131 - 1.1517034080526442e-131im … -3.6425359092815364e-23 - 2.2312769702397624e-22im -4.469047510995207e-37 - 2.4494744758237286e-37im; 0.0 + 0.0im -0.22083498899153797 - 0.7307763937172167im … -0.06413616572585912 - 0.1153095368186387im -2.0217842112272324e-16 + 6.842158902361783e-18im; 0.0 + 0.0im 4.6994936503668294e-129 - 2.7615468689660942e-129im … -8.734048683924009e-21 - 5.3501412671691204e-20im -1.0715852775079576e-34 - 5.873333813226143e-35im; 0.0 + 0.0im -5.1561369214568045e-17 + 3.0298835313700733e-17im … -5.733134172107737e-17 + 3.3811935020647927e-17im 1.1822362078676062e-32 + 1.2165097132651654e-32im]], Array{Complex{Float64},2}[[0.0 + 0.0im 0.0 + 0.0im … 0.0 + 0.0im 0.0 + 0.0im; 0.0 + 0.0im 1.0 + 0.0im … 0.0 + 0.0im 0.0 + 0.0im; … ; 0.0 + 0.0im 0.0 + 0.0im … 0.0 + 0.0im 0.0 + 0.0im; 1.0 + 0.0im 0.0 + 0.0im … 0.0 + 0.0im 0.0 + 0.0im], [-0.10872107627480285 - 0.25483087622936035im -0.2043263449769594 + 0.002715981594696631im … 0.663100848497204 + 0.0im 4.7368123252584347e-17 + 2.2256241337654725e-16im; 0.0 + 0.0im 0.0 + 0.0im … 0.0 + 0.0im 0.0 + 0.0im; … ; 0.0 + 0.0im 0.0 + 0.0im … 0.0 + 0.0im 0.0 + 0.0im; 0.0 + 0.0im 0.0 + 0.0im … 0.0 + 0.0im 0.0 + 0.0im]], Array{Complex{Float64},2}[[-7.229819005249993e-6 - 0.0003792943458124361im -1.0603305632651016e-17 - 3.411802610788865e-17im … 0.00027583423022922715 - 0.33516957685177656im 0.021966711117474468 + 0.14772016098231874im; 0.006641456025535398 + 0.015798057789869743im -4.684242253133713e-19 + 3.9427982531021173e-19im … -0.005295978578954476 + 0.0022236490187994im 0.0021872808253652495 - 0.0013289283402747095im; … ; 0.022078762814486078 - 0.14770345490387962im 5.273111007125686e-18 - 8.1485523914375475e-19im … 0.04950207164858249 + 0.0074220417428268876im 0.9776963821018287 - 8.459574998741486e-6im; -1.0629183939768486e-17 + 3.410997280287024e-17im 1.0 - 4.841507058405064e-37im … -1.1430963794673443e-17 - 3.567626288236274e-18im 5.272491354512249e-18 + 8.188550975744579e-19im], [0.0 + 0.0im 0.0 + 0.0im … 0.0 + 0.0im 0.0 + 0.0im; 0.0 + 0.0im 0.0 + 0.0im … 0.0 + 0.0im 0.0 + 0.0im; … ; 0.0 + 0.0im 0.0 + 0.0im … 0.0 + 0.0im 0.0 + 0.0im; 0.0 + 0.0im 0.0 + 0.0im … 0.0 + 0.0im 0.0 + 0.0im]], Array{Complex{Float64},2}[[0.0 + 0.0im 0.0 - 2.6020852139652076e-18im … 1.401298464324817e-45 - 1.338792119708717e-44im -2.1019476964872256e-45 + 1.8918897723916598e-45im; 0.0 + 0.0im -1.2950416395383779e-18 + 3.536041959922259e-19im … -1.9066706449433635e-31 - 8.040283558494458e-31im -5.731567514496414e-31 - 1.1145717700033506e-31im; … ; 0.0 + 0.0im 1.6414343762504973e-15 + 5.1406556171959665e-15im … -0.1425560951728919 + 0.9139321575588044im 0.15463067492509544 - 0.3017040852623062im; 1.0 + 0.0im 0.0 + 0.0im … 0.0 + 0.0im 0.0 + 0.0im], [-2.1082693963334993e-16 + 1.4161821499717943e-16im -0.3471495563167841 + 0.9368955672667307im … 0.03693911024230242 - 0.018691808888322108im -1.7964273717013665e-16 - 1.0074060744310767e-17im; -0.00017904291984585652 + 0.0013156516249476363im 1.779004239820179e-17 - 1.8124280850005194e-16im … -5.79135931802474e-16 - 9.217374416626306e-16im -0.9987611842972597 - 0.04974267529566189im; … ; -1.0220963082045234e-17 - 2.038151736134334e-17im -7.888609052210118e-31 - 7.888609052210118e-31im … 6.440309734030917e-30 - 1.3805065841367707e-30im -2.4265210708740117e-20 + 1.543984512829746e-20im; 0.0 + 0.0im 0.0 + 0.0im … 0.0 + 0.0im 0.0 + 0.0im]], Array{Complex{Float64},2}[[0.0 + 0.0im -1.9084949059026402e-20 - 7.745846354331328e-21im 4.440892098500626e-16 - 3.8229753430804077e-17im 0.0 + 5.5406852757611595e-34im; 0.0 + 0.0im 0.0 - 1.721756566613365e-17im -2.1772560984099926e-28 + 2.9195936380412787e-29im 0.0 - 2.375767095506751e-45im; … ; 0.0 + 0.0im -1.4928530847397917e-14 + 1.0120751965513167e-14im 4.069435308536902e-17 - 4.347783384185858e-17im -0.28935653332035677 + 0.9572213937354437im; 1.0 + 0.0im 0.0 + 0.0im 0.0 + 0.0im 0.0 + 0.0im], [1.9619675359787558e-16 + 7.040375068932149e-17im -3.5431726996827167e-16 - 2.564138137928216e-16im -1.1897763590312683e-16 + 3.5995512126516276e-17im 0.9996931912188335 - 0.024769405134262474im; 0.9065077225503027 - 0.4221892335868641im -2.155323024653154e-15 + 7.051167566622794e-16im 2.591760295110408e-16 - 1.462680316454463e-15im -1.444521941668767e-16 + 1.5027780219927656e-16im; … ; 3.1554436208840472e-30 - 3.1554436208840472e-30im -1.109872421740401e-16 - 1.1098370536578732e-16im 2.2199271503394635e-16 + 2.775101927707221e-16im 1.7693960941019977e-20 + 4.138903038113537e-19im; 0.0 + 0.0im 0.0 + 0.0im 0.0 + 0.0im 0.0 + 0.0im]], Array{Complex{Float64},2}[[1.0 + 0.0im 2.8868399262796908e-16 - 4.678858859220913e-16im; 5.497778186183265e-16 + 0.0im -0.5250921060319875 + 0.8510454043016107im; 0.0 + 0.0im 0.0 + 0.0im; 0.0 + 0.0im 0.0 + 0.0im], [0.0 + 0.0im 0.0 + 0.0im; 0.0 + 0.0im 0.0 + 0.0im; 0.0 + 0.0im 1.0 + 0.0im; 1.0 + 0.0im 0.0 + 0.0im]], Array{Complex{Float64},2}[[1.0 + 0.0im; 0.0 + 0.0im], [0.0 + 0.0im; 1.0 + 0.0im]]], Any[-0.015370730768370469 - 1.734723475976807e-17im, -2.999999999999999 + 5.5511151231257796e-17im, -2.999999999999999 + 4.2847669856627135e-16im, -2.999999999999999 + 5.3231195397338055e-18im, -3.000000000000001 - 1.0798224414970604e-22im, -3.000000000000001 + 3.3828027494849346e-17im, -3.000000000000001 + 5.334482184232308e-16im, -3.0000000000000013 + 5.4907713889351585e-16im, -3.0000000000000013 + 5.4907713889351585e-16im, -3.0000000000000027 - 3.764516576578242e-31im, -3.0000000000000036 + 1.726049858596923e-16im, -3.0000000000000027 - 1.1188966420050406e-16im, -3.0000000000000036 + 1.6629269634713695e-16im, -3.0000000000000027 - 1.5960474149342653e-16im, -3.000000000000001 - 1.66696140184227e-16im, -3.0000000000000027 + 1.72959145291531e-16im, -3.0000000000000027 + 1.72959145291531e-16im])"
      ]
     },
     "execution_count": 11,
     "metadata": {},
     "output_type": "execute_result"
    }
   ],
   "source": [
    "D = 20\n",
    "N = 4\n",
    "C0 = zeros(ComplexF64, 2^N)\n",
    "#C0[2] = 1 # computational basis\n",
    "C0 = normalize!(rand(ComplexF64, 2^N))\n",
    "mps = MPS(C0, D, 'l') # convert to MPS\n",
    "\n",
    "O = []\n",
    "push!(O, dstack((pauliZ, pauliI, pauliI)) )\n",
    "push!(O, ddstack( [(pauliZ, zero, zero), (zero, pauliZ, zero), (zero, zero, pauliI)] ))\n",
    "push!(O, ddstack( [(pauliI, zero, zero), (zero, pauliZ, zero), (zero, zero, pauliZ)] ))\n",
    "push!(O, dstack((pauliI, pauliI, pauliZ)))\n",
    "\n",
    "(opt_mps, hist) = iterative_ground_state_search(mps, O, D, 2)"
   ]
  },
  {
   "cell_type": "code",
   "execution_count": 12,
   "metadata": {},
   "outputs": [
    {
     "data": {
      "text/plain": [
       "17-element Array{Any,1}:\n",
       " -0.015370730768370469 - 1.734723475976807e-17im\n",
       "    -2.999999999999999 + 5.5511151231257796e-17im\n",
       "    -2.999999999999999 + 4.2847669856627135e-16im\n",
       "    -2.999999999999999 + 5.3231195397338055e-18im\n",
       "    -3.000000000000001 - 1.0798224414970604e-22im\n",
       "    -3.000000000000001 + 3.3828027494849346e-17im\n",
       "    -3.000000000000001 + 5.334482184232308e-16im\n",
       "   -3.0000000000000013 + 5.4907713889351585e-16im\n",
       "   -3.0000000000000013 + 5.4907713889351585e-16im\n",
       "   -3.0000000000000027 - 3.764516576578242e-31im\n",
       "   -3.0000000000000036 + 1.726049858596923e-16im\n",
       "   -3.0000000000000027 - 1.1188966420050406e-16im\n",
       "   -3.0000000000000036 + 1.6629269634713695e-16im\n",
       "   -3.0000000000000027 - 1.5960474149342653e-16im\n",
       "    -3.000000000000001 - 1.66696140184227e-16im\n",
       "   -3.0000000000000027 + 1.72959145291531e-16im\n",
       "   -3.0000000000000027 + 1.72959145291531e-16im"
      ]
     },
     "execution_count": 12,
     "metadata": {},
     "output_type": "execute_result"
    }
   ],
   "source": [
    "hist"
   ]
  },
  {
   "cell_type": "code",
   "execution_count": 132,
   "metadata": {},
   "outputs": [
    {
     "name": "stdout",
     "output_type": "stream",
     "text": [
      "0:-1.1851219930960202e-32 - 2.4768127144321423e-33im\n",
      "1:-4.9727278965174063e-17 - 7.121600858597644e-18im\n",
      "2:0.0 + 0.0im\n",
      "3:0.0 + 0.0im\n",
      "4:-1.906831226944259e-48 - 8.503529943549105e-49im\n",
      "5:-0.9999341849601532 - 0.011472826507641004im\n",
      "6:0.0 + 0.0im\n",
      "7:0.0 + 0.0im\n",
      "8:0.0 + 0.0im\n",
      "9:0.0 + 0.0im\n",
      "10:0.0 + 0.0im\n",
      "11:0.0 + 0.0im\n",
      "12:-1.6016765293919356e-33 - 1.666643679072051e-33im\n",
      "13:-7.072805261199743e-18 - 6.477488609716518e-18im\n",
      "14:0.0 + 0.0im\n",
      "15:0.0 + 0.0im\n"
     ]
    }
   ],
   "source": [
    "for i in 1:2^4\n",
    "    println(i-1, ':', restore(opt_mps, i-1))\n",
    "end"
   ]
  },
  {
   "cell_type": "code",
   "execution_count": 15,
   "metadata": {},
   "outputs": [
    {
     "data": {
      "text/plain": [
       "(Any[Array{Complex{Float64},2}[[0.0 + 0.0im 0.0 + 0.0im], [1.0 + 0.0im 0.0 + 0.0im]], Array{Complex{Float64},2}[[-1.0 + 0.0im 0.0 + 0.0im 0.0 + 0.0im 0.0 + 0.0im; 0.0 + 0.0im 1.0 + 0.0im 0.0 + 0.0im 0.0 + 0.0im], [0.0 + 0.0im 0.0 + 0.0im 0.0 + 0.0im 0.0 + 0.0im; 0.0 + 0.0im 0.0 + 0.0im 0.0 + 0.0im 0.0 + 0.0im]], Array{Complex{Float64},2}[[0.0 + 0.0im 0.0 + 0.0im … 0.0 + 0.0im 0.0 + 0.0im; 0.0 + 0.0im 0.0 + 0.0im … 0.0 + 0.0im 0.0 + 0.0im; 0.0 + 0.0im 0.0 + 0.0im … 0.0 + 0.0im 0.0 + 0.0im; 0.0 + 0.0im 1.0 + 0.0im … 0.0 + 0.0im 0.0 + 0.0im], [1.0 + 0.0im 0.0 + 0.0im … 0.0 + 0.0im 0.0 + 0.0im; 0.0 + 0.0im 0.0 + 0.0im … 0.0 + 0.0im 0.0 + 0.0im; 0.0 + 0.0im 0.0 + 0.0im … 0.0 + 0.0im 0.0 + 0.0im; 0.0 + 0.0im 0.0 + 0.0im … 0.0 + 0.0im 0.0 + 0.0im]], Array{Complex{Float64},2}[[-1.0 + 0.0im 0.0 + 0.0im … 0.0 + 0.0im 0.0 + 0.0im; 0.0 + 0.0im 0.0 + 0.0im … 0.0 + 0.0im 0.0 + 0.0im; … ; 0.0 + 0.0im 0.0 + 0.0im … 0.0 + 0.0im 0.0 + 0.0im; 0.0 + 0.0im 1.0 + 0.0im … 0.0 + 0.0im 0.0 + 0.0im], [0.0 + 0.0im 0.0 + 0.0im … 0.0 + 0.0im 0.0 + 0.0im; 0.0 + 0.0im 0.0 + 0.0im … 0.0 + 0.0im 0.0 + 0.0im; … ; 0.0 + 0.0im 0.0 + 0.0im … 0.0 + 0.0im 0.0 + 0.0im; 0.0 + 0.0im 0.0 + 0.0im … 0.0 + 0.0im 0.0 + 0.0im]], Array{Complex{Float64},2}[[0.0 + 0.0im 0.0 + 0.0im … 0.0 + 0.0im 0.0 + 0.0im; 0.0 + 0.0im 0.0 + 0.0im … 0.0 + 0.0im 0.0 + 0.0im; … ; 0.0 + 0.0im 0.0 + 0.0im … 0.0 + 0.0im 1.0 + 0.0im; -6.577521631967277e-80 + 9.770491074788544e-80im 0.0 + 0.0im … 0.0 + 0.0im 0.0 + 0.0im], [6.577521631967277e-80 + 9.770491074788544e-80im 1.6521112578027175e-51 + 1.5976453314374846e-51im … 0.0 + 0.0im 0.0 + 0.0im; 0.0 + 0.0im 0.0 + 0.0im … 0.0 + 0.0im 0.0 + 0.0im; … ; 0.0 + 0.0im 0.0 + 0.0im … 0.0 + 0.0im 0.0 + 0.0im; 1.0 + 4.403732788485886e-175im -2.647657698810157e-130 + 5.633391571177541e-131im … 0.0 + 0.0im 0.0 + 0.0im]], Array{Complex{Float64},2}[[0.0 + 0.0im -2.220446049250313e-16 - 1.6079680956446808e-17im … 0.0 + 2.8917644749877184e-114im -8.078856290562519e-128 + 3.7908636227266757e-128im; 0.0 + 0.0im -0.9959810152319244 - 0.08956459846158511im … 0.0 + 6.134802473345423e-98im -5.19770488282245e-112 + 2.5420477580755723e-112im; … ; 0.0 + 0.0im 0.0 + 0.0im … 0.0 + 0.0im 0.0 + 0.0im; 0.0 + 0.0im 0.0 + 0.0im … 0.0 + 0.0im 0.0 + 0.0im], [0.9996102500195789 + 0.027916805974084705im 0.0 + 0.0im … 0.0 + 0.0im 0.0 + 0.0im; 0.0 + 1.3877787807814457e-17im 0.0 + 0.0im … 0.0 + 0.0im 0.0 + 0.0im; … ; 0.0 + 0.0im 0.0 + 0.0im … 0.0 + 0.0im 1.0 + 0.0im; 0.0 + 0.0im 0.0 + 0.0im … 1.0 + 0.0im 0.0 + 0.0im]], Array{Complex{Float64},2}[[-1.0 + 0.0im -0.0 + 0.0im -0.0 + 0.0im -0.0 + 0.0im; 0.0 + 0.0im 0.0 + 0.0im 1.0 + 0.0im 0.0 + 0.0im; … ; 0.0 + 0.0im 0.0 + 0.0im 0.0 + 0.0im 0.0 + 0.0im; 0.0 + 0.0im 1.0 + 0.0im 0.0 + 0.0im 0.0 + 0.0im], [-0.0 + 0.0im -0.0 + 0.0im -0.0 + 0.0im -0.0 + 0.0im; 0.0 + 0.0im 0.0 + 0.0im 0.0 + 0.0im 0.0 + 0.0im; … ; 0.0 + 0.0im 0.0 + 0.0im 0.0 + 0.0im 1.0 + 0.0im; 0.0 + 0.0im 0.0 + 0.0im 0.0 + 0.0im 0.0 + 0.0im]], Array{Complex{Float64},2}[[-0.0 + 0.0im 0.0 + 0.0im; 0.0 + 0.0im -1.1102230246251567e-15 - 1.0im; 0.0 + 0.0im 0.0 + 0.0im; -1.0 + 0.0im -0.0 + 0.0im], [1.1102230246251567e-15 - 1.0im -0.0 + 0.0im; 0.0 + 0.0im 0.0 + 0.0im; 0.0 + 0.0im 1.0 + 0.0im; -0.0 + 0.0im -0.0 + 0.0im]], Array{Complex{Float64},2}[[-1.0 + 0.0im; 0.0 + 0.0im], [-0.0 + 0.0im; 1.0 + 0.0im]]], Any[0.1330780736654148 - 1.8973538018496328e-17im, -8.000000000000005 - 1.1102230246251565e-16im, -8.000000000000005 - 4.440892098500626e-16im, -8.0 - 4.440892098500626e-16im, -8.0 - 5.551115123125783e-16im, -8.000000000000004 - 1.0408340855860843e-16im, -8.000000000000007 + 0.0im, -8.000000000000007 + 0.0im, -8.000000000000007 + 0.0im, -8.0 + 3.9443045261050222e-31im, -7.999999999999998 + 1.5777218104420236e-30im, -7.999999999999999 + 0.0im, -7.999999999999999 - 2.1895288505075236e-46im, -8.000000000000005 - 4.379057701015084e-47im, -8.000000000000005 - 4.379057701015084e-47im, -8.000000000000005 - 4.379057701015084e-47im, -8.000000000000005 - 4.379057701015084e-47im])"
      ]
     },
     "execution_count": 15,
     "metadata": {},
     "output_type": "execute_result"
    }
   ],
   "source": [
    "D = 10\n",
    "N = 9\n",
    "C0 = zeros(ComplexF64, 2^N)\n",
    "#C0[2] = 1 # computational basis\n",
    "C0 = normalize!(rand(ComplexF64, 2^N))\n",
    "mps = MPS(C0, D, 'r') # convert to MPS\n",
    "\n",
    "O = []\n",
    "push!(O, dstack((zero, pauliZ, pauliI)) )\n",
    "for i in 1:(N-2)\n",
    "    push!(O, ddstack( [(pauliI, zero, zero), (pauliZ, zero, zero), (zero, pauliZ, pauliI)] ))\n",
    "end\n",
    "push!(O, dstack((pauliI, pauliZ, zero)))\n",
    "\n",
    "(opt_mps, hist) = iterative_ground_state_search(mps, O, D, 2)"
   ]
  },
  {
   "cell_type": "code",
   "execution_count": 16,
   "metadata": {},
   "outputs": [
    {
     "data": {
      "text/plain": [
       "17-element Array{Any,1}:\n",
       " 0.1330780736654148 - 1.8973538018496328e-17im\n",
       " -8.000000000000005 - 1.1102230246251565e-16im\n",
       " -8.000000000000005 - 4.440892098500626e-16im\n",
       "               -8.0 - 4.440892098500626e-16im\n",
       "               -8.0 - 5.551115123125783e-16im\n",
       " -8.000000000000004 - 1.0408340855860843e-16im\n",
       " -8.000000000000007 + 0.0im\n",
       " -8.000000000000007 + 0.0im\n",
       " -8.000000000000007 + 0.0im\n",
       "               -8.0 + 3.9443045261050222e-31im\n",
       " -7.999999999999998 + 1.5777218104420236e-30im\n",
       " -7.999999999999999 + 0.0im\n",
       " -7.999999999999999 - 2.1895288505075236e-46im\n",
       " -8.000000000000005 - 4.379057701015084e-47im\n",
       " -8.000000000000005 - 4.379057701015084e-47im\n",
       " -8.000000000000005 - 4.379057701015084e-47im\n",
       " -8.000000000000005 - 4.379057701015084e-47im"
      ]
     },
     "execution_count": 16,
     "metadata": {},
     "output_type": "execute_result"
    }
   ],
   "source": [
    "hist"
   ]
  },
  {
   "cell_type": "code",
   "execution_count": null,
   "metadata": {},
   "outputs": [],
   "source": []
  }
 ],
 "metadata": {
  "@webio": {
   "lastCommId": null,
   "lastKernelId": null
  },
  "kernelspec": {
   "display_name": "Julia 1.4.2",
   "language": "julia",
   "name": "julia-1.4"
  },
  "language_info": {
   "file_extension": ".jl",
   "mimetype": "application/julia",
   "name": "julia",
   "version": "1.4.2"
  }
 },
 "nbformat": 4,
 "nbformat_minor": 4
}
