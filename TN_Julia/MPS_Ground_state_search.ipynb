{
 "cells": [
  {
   "cell_type": "code",
   "execution_count": 1,
   "metadata": {},
   "outputs": [],
   "source": [
    "include(\"./MPS.jl\")\n",
    "using .MPSforQuantum\n",
    "using TensorOperations\n",
    "using LinearAlgebra"
   ]
  },
  {
   "cell_type": "markdown",
   "metadata": {},
   "source": [
    "## MPOの用意"
   ]
  },
  {
   "cell_type": "markdown",
   "metadata": {},
   "source": [
    "$Z_1 Z_2 + Z_2 Z_3 + Z_3 Z_4$"
   ]
  },
  {
   "cell_type": "markdown",
   "metadata": {},
   "source": [
    "$$\n",
    "\\left[\\begin{array}{c}\n",
    "    Z_1 & I_1 & I_1\\\\\n",
    "\\end{array}\\right]\n",
    "\\left[\\begin{array}{c}\n",
    "    Z_2 & 0 & 0\\\\\n",
    "    0 & Z_2 & 0\\\\\n",
    "    0 & 0 & I_2\\\\\n",
    "\\end{array}\\right]\n",
    "\\left[\\begin{array}{c}\n",
    "    I_3 & 0 & 0\\\\\n",
    "    0 & Z_3 & 0\\\\\n",
    "    0 & 0 & Z_3\\\\\n",
    "\\end{array}\\right]\n",
    "\\left[\\begin{array}{c}\n",
    "    I_4\\\\\n",
    "    I_4\\\\\n",
    "    Z_4\n",
    "\\end{array}\\right] \\quad\n",
    "$$"
   ]
  },
  {
   "cell_type": "code",
   "execution_count": 2,
   "metadata": {},
   "outputs": [
    {
     "data": {
      "text/plain": [
       "2×2×3 Array{Complex{Float64},3}:\n",
       "[:, :, 1] =\n",
       " 1.0+0.0im  0.0+0.0im\n",
       " 0.0+0.0im  1.0+0.0im\n",
       "\n",
       "[:, :, 2] =\n",
       " 1.0+0.0im  0.0+0.0im\n",
       " 0.0+0.0im  1.0+0.0im\n",
       "\n",
       "[:, :, 3] =\n",
       " 1.0+0.0im   0.0+0.0im\n",
       " 0.0+0.0im  -1.0+0.0im"
      ]
     },
     "execution_count": 2,
     "metadata": {},
     "output_type": "execute_result"
    }
   ],
   "source": [
    "pauliZ = convert(Array{ComplexF64,2}, [1 0; 0 -1])\n",
    "pauliI = convert(Array{ComplexF64,2}, [1 0; 0 1])\n",
    "zero = convert(Array{ComplexF64,2}, [0 0; 0 0])\n",
    "\n",
    "O = []\n",
    "push!(O, dstack((pauliZ, pauliI, pauliI)) )\n",
    "push!(O, ddstack( [(pauliZ, zero, zero), (zero, pauliZ, zero), (zero, zero, pauliI)] ))\n",
    "push!(O, ddstack( [(pauliI, zero, zero), (zero, pauliZ, zero), (zero, zero, pauliZ)] ))\n",
    "push!(O, dstack((pauliI, pauliI, pauliZ)))\n",
    "O[4]"
   ]
  },
  {
   "cell_type": "code",
   "execution_count": 3,
   "metadata": {},
   "outputs": [
    {
     "name": "stdout",
     "output_type": "stream",
     "text": [
      "3.0 + 0.0im\n",
      "1.0 + 0.0im\n",
      "-1.0 + 0.0im\n",
      "1.0 + 0.0im\n",
      "-1.0 + 0.0im\n",
      "-3.0 + 0.0im\n",
      "-1.0 + 0.0im\n",
      "1.0 + 0.0im\n",
      "1.0 + 0.0im\n",
      "-1.0 + 0.0im\n",
      "-3.0 + 0.0im\n",
      "-1.0 + 0.0im\n",
      "1.0 + 0.0im\n",
      "-1.0 + 0.0im\n",
      "1.0 + 0.0im\n",
      "3.0 + 0.0im\n"
     ]
    }
   ],
   "source": [
    "N = 4\n",
    "eps = 1e-3\n",
    "D = 10\n",
    "\n",
    "for i in 1:16\n",
    "C0 = zeros(ComplexF64, 2^N)\n",
    "C0[i] = 1 # '0001'\n",
    "#C0 = normalize!(rand(ComplexF64, 2^N))\n",
    "mps = MPS(C0, D)\n",
    "# println(restore(mps, 4))\n",
    "expc = expectation(mps, O)\n",
    "println(expc)\n",
    "end"
   ]
  },
  {
   "cell_type": "markdown",
   "metadata": {},
   "source": [
    "## Right Normalize"
   ]
  },
  {
   "cell_type": "code",
   "execution_count": 4,
   "metadata": {},
   "outputs": [
    {
     "name": "stdout",
     "output_type": "stream",
     "text": [
      "array 1's size: (1, 2)\n",
      "array 2's size: (2, 4)\n",
      "array 3's size: (4, 2)\n",
      "array 4's size: (2, 1)\n",
      "Num of parameters: 40\n",
      "2^N: 16\n",
      "Initial Expectation Value: 0.14576452308760798 + 1.3877787807814457e-17im\n"
     ]
    }
   ],
   "source": [
    "N = 4\n",
    "C0 = normalize!(rand(ComplexF64, 2^N))\n",
    "\n",
    "D = 20\n",
    "mps = MPS(C0, D, 'r') # convert to MPS\n",
    "mps_size(mps) # print the size of MPS\n",
    "\n",
    "expc = expectation(mps, O)\n",
    "println(\"Initial Expectation Value: \", expc)"
   ]
  },
  {
   "cell_type": "code",
   "execution_count": 5,
   "metadata": {},
   "outputs": [
    {
     "data": {
      "text/plain": [
       "4-element Array{Any,1}:\n",
       " Complex{Float64}[1.0 + 0.0im 0.0 + 0.0im; 0.0 + 0.0im -1.0 + 0.0im]\n",
       "\n",
       "Complex{Float64}[1.0 + 0.0im 0.0 + 0.0im; 0.0 + 0.0im 1.0 + 0.0im]\n",
       "\n",
       "Complex{Float64}[1.0 + 0.0im 0.0 + 0.0im; 0.0 + 0.0im 1.0 + 0.0im]\n",
       " Complex{Float64}[1.0 + 0.0im 0.0 + 0.0im; 0.0 + 0.0im -1.0 + 0.0im]\n",
       "\n",
       "Complex{Float64}[0.0 + 0.0im 0.0 + 0.0im; 0.0 + 0.0im 0.0 + 0.0im]\n",
       "\n",
       "Complex{Float64}[0.0 + 0.0im 0.0 + 0.0im; 0.0 + 0.0im 0.0 + 0.0im]\n",
       "\n",
       "Complex{Float64}[0.0 + 0.0im 0.0 + 0.0im; 0.0 + 0.0im 0.0 + 0.0im]\n",
       "\n",
       "Complex{Float64}[1.0 + 0.0im 0.0 + 0.0im; 0.0 + 0.0im -1.0 + 0.0im]\n",
       "\n",
       "Complex{Float64}[0.0 + 0.0im 0.0 + 0.0im; 0.0 + 0.0im 0.0 + 0.0im]\n",
       "\n",
       "Complex{Float64}[0.0 + 0.0im 0.0 + 0.0im; 0.0 + 0.0im 0.0 + 0.0im]\n",
       "\n",
       "Complex{Float64}[0.0 + 0.0im 0.0 + 0.0im; 0.0 + 0.0im 0.0 + 0.0im]\n",
       "\n",
       "Complex{Float64}[1.0 + 0.0im 0.0 + 0.0im; 0.0 + 0.0im 1.0 + 0.0im]\n",
       " Complex{Float64}[1.0 + 0.0im 0.0 + 0.0im; 0.0 + 0.0im 1.0 + 0.0im]\n",
       "\n",
       "Complex{Float64}[0.0 + 0.0im 0.0 + 0.0im; 0.0 + 0.0im 0.0 + 0.0im]\n",
       "\n",
       "Complex{Float64}[0.0 + 0.0im 0.0 + 0.0im; 0.0 + 0.0im 0.0 + 0.0im]\n",
       "\n",
       "Complex{Float64}[0.0 + 0.0im 0.0 + 0.0im; 0.0 + 0.0im 0.0 + 0.0im]\n",
       "\n",
       "Complex{Float64}[1.0 + 0.0im 0.0 + 0.0im; 0.0 + 0.0im -1.0 + 0.0im]\n",
       "\n",
       "Complex{Float64}[0.0 + 0.0im 0.0 + 0.0im; 0.0 + 0.0im 0.0 + 0.0im]\n",
       "\n",
       "Complex{Float64}[0.0 + 0.0im 0.0 + 0.0im; 0.0 + 0.0im 0.0 + 0.0im]\n",
       "\n",
       "Complex{Float64}[0.0 + 0.0im 0.0 + 0.0im; 0.0 + 0.0im 0.0 + 0.0im]\n",
       "\n",
       "Complex{Float64}[1.0 + 0.0im 0.0 + 0.0im; 0.0 + 0.0im -1.0 + 0.0im]\n",
       " Complex{Float64}[1.0 + 0.0im 0.0 + 0.0im; 0.0 + 0.0im 1.0 + 0.0im]\n",
       "\n",
       "Complex{Float64}[1.0 + 0.0im 0.0 + 0.0im; 0.0 + 0.0im 1.0 + 0.0im]\n",
       "\n",
       "Complex{Float64}[1.0 + 0.0im 0.0 + 0.0im; 0.0 + 0.0im -1.0 + 0.0im]"
      ]
     },
     "execution_count": 5,
     "metadata": {},
     "output_type": "execute_result"
    }
   ],
   "source": [
    "pauliZ = convert(Array{ComplexF64,2}, [1 0; 0 -1])\n",
    "pauliI = convert(Array{ComplexF64,2}, [1 0; 0 1])\n",
    "zero = convert(Array{ComplexF64,2}, [0 0; 0 0])\n",
    "\n",
    "O = []\n",
    "push!(O, dstack((pauliZ, pauliI, pauliI)) )\n",
    "push!(O, ddstack( [(pauliZ, zero, zero), (zero, pauliZ, zero), (zero, zero, pauliI)] ))\n",
    "push!(O, ddstack( [(pauliI, zero, zero), (zero, pauliZ, zero), (zero, zero, pauliZ)] ))\n",
    "push!(O, dstack((pauliI, pauliI, pauliZ)))"
   ]
  },
  {
   "cell_type": "markdown",
   "metadata": {},
   "source": [
    "### R expression が正しくできているか、期待値計算を使ってチェック"
   ]
  },
  {
   "cell_type": "code",
   "execution_count": 6,
   "metadata": {},
   "outputs": [
    {
     "name": "stdout",
     "output_type": "stream",
     "text": [
      "Complex{Float64}[3.0 + 0.0im]: 3.0 + 0.0im\n",
      "Complex{Float64}[1.0 + 0.0im]: 1.0 + 0.0im\n",
      "Complex{Float64}[-1.0 + 0.0im]: -1.0 + 0.0im\n",
      "Complex{Float64}[1.0 + 0.0im]: 1.0 + 0.0im\n",
      "Complex{Float64}[-1.0 + 0.0im]: -1.0 + 0.0im\n",
      "Complex{Float64}[-3.0 + 0.0im]: -3.0 + 0.0im\n",
      "Complex{Float64}[-1.0 + 0.0im]: -1.0 + 0.0im\n",
      "Complex{Float64}[1.0 + 0.0im]: 1.0 + 0.0im\n",
      "Complex{Float64}[1.0 + 0.0im]: 1.0 + 0.0im\n",
      "Complex{Float64}[-1.0 + 0.0im]: -1.0 + 0.0im\n",
      "Complex{Float64}[-3.0 + 0.0im]: -3.0 + 0.0im\n",
      "Complex{Float64}[-1.0 + 0.0im]: -1.0 + 0.0im\n",
      "Complex{Float64}[1.0 + 0.0im]: 1.0 + 0.0im\n",
      "Complex{Float64}[-1.0 + 0.0im]: -1.0 + 0.0im\n",
      "Complex{Float64}[1.0 + 0.0im]: 1.0 + 0.0im\n",
      "Complex{Float64}[3.0 + 0.0im]: 3.0 + 0.0im\n"
     ]
    }
   ],
   "source": [
    "N = 4\n",
    "D = 20\n",
    "# C0 = normalize!(rand(ComplexF64, 2^N))\n",
    "\n",
    "for i in 1:2^N\n",
    "    C0 = zeros(ComplexF64, 2^N)\n",
    "    C0[i] = 1 # computational basis\n",
    "    mps = MPS(C0, D, 'r') # convert to MPS\n",
    "    #mps_size(mps) # print the size of MPS\n",
    "    R = R_expression(mps, O, 1)\n",
    "\n",
    "    tmp_mps_cat = cat(mps[1][1], mps[1][2], dims=3)\n",
    "    tmp_mps_dag_cat = cat(mps[1][1]', mps[1][2]', dims=3)\n",
    "    tmp_O = O[1]\n",
    "    res = zeros(ComplexF64, 1, 1)\n",
    "    @tensor begin\n",
    "        res[a0, a0_] = R[a1, b1, a1_] * tmp_mps_cat[a0_, a1_, sigma2] * tmp_O[sigma1, sigma2, b1] * tmp_mps_dag_cat[a1, a0, sigma1]\n",
    "    end\n",
    "    println(res, \": \", expectation(MPS(C0, D), O))\n",
    "    \n",
    "end"
   ]
  },
  {
   "cell_type": "markdown",
   "metadata": {},
   "source": [
    "### L expression が正しくできているか、期待値計算を使ってチェック"
   ]
  },
  {
   "cell_type": "code",
   "execution_count": 7,
   "metadata": {},
   "outputs": [
    {
     "name": "stdout",
     "output_type": "stream",
     "text": [
      "Complex{Float64}[3.0 + 0.0im]: 3.0 + 0.0im\n",
      "Complex{Float64}[1.0 + 0.0im]: 1.0 + 0.0im\n",
      "Complex{Float64}[-1.0 + 0.0im]: -1.0 + 0.0im\n",
      "Complex{Float64}[1.0 + 0.0im]: 1.0 + 0.0im\n",
      "Complex{Float64}[-1.0 + 0.0im]: -1.0 + 0.0im\n",
      "Complex{Float64}[-3.0 + 0.0im]: -3.0 + 0.0im\n",
      "Complex{Float64}[-1.0 + 0.0im]: -1.0 + 0.0im\n",
      "Complex{Float64}[1.0 + 0.0im]: 1.0 + 0.0im\n",
      "Complex{Float64}[1.0 + 0.0im]: 1.0 + 0.0im\n",
      "Complex{Float64}[-1.0 + 0.0im]: -1.0 + 0.0im\n",
      "Complex{Float64}[-3.0 + 0.0im]: -3.0 + 0.0im\n",
      "Complex{Float64}[-1.0 + 0.0im]: -1.0 + 0.0im\n",
      "Complex{Float64}[1.0 + 0.0im]: 1.0 + 0.0im\n",
      "Complex{Float64}[-1.0 + 0.0im]: -1.0 + 0.0im\n",
      "Complex{Float64}[1.0 + 0.0im]: 1.0 + 0.0im\n",
      "Complex{Float64}[3.0 + 0.0im]: 3.0 + 0.0im\n"
     ]
    }
   ],
   "source": [
    "N = 4\n",
    "D = 20\n",
    "# C0 = normalize!(rand(ComplexF64, 2^N))\n",
    "\n",
    "for i in 1:2^N\n",
    "    C0 = zeros(ComplexF64, 2^N)\n",
    "    C0[i] = 1 # computational basis\n",
    "    mps = MPS(C0, D, 'l') # convert to MPS\n",
    "    #mps_size(mps) # print the size of MPS\n",
    "    L = L_expression(mps, O, 4)\n",
    "\n",
    "    tmp_mps_cat = cat(mps[4][1], mps[4][2], dims=3)\n",
    "    tmp_mps_dag_cat = cat(mps[4][1]', mps[4][2]', dims=3)\n",
    "    tmp_O = O[4]\n",
    "    res = zeros(ComplexF64, 1, 1)\n",
    "    @tensor begin\n",
    "        res[a1, a1_] = L[a0, b1, a0_] * tmp_mps_cat[a0_, a1_, sigma2] * tmp_O[sigma1, sigma2, b1] * tmp_mps_dag_cat[a1, a0, sigma1]\n",
    "    end\n",
    "    println(res, \": \", expectation(MPS(C0, D), O))\n",
    "    \n",
    "end"
   ]
  },
  {
   "cell_type": "markdown",
   "metadata": {},
   "source": [
    "### Iterative ground state search\n",
    "\n",
    "MPSに含まれるsiteを掃引しながら各siteに注目した局所最適化を繰り返し、Hamiltonian(MPO)の期待値を最小化するようにMPSを更新する。  \n",
    "MPSの1つのsiteのみを変数としたとき、Hamiltoninaの最小化問題は変数としたsiteに含まれる要素の二次最適化問題の形式をとる。  \n",
    "よって最小化は極値を求めればよく、期待値が極値をとるようなsiteを求める問題は行列の固有値問題に帰着する。\n",
    "\n",
    "結局固有値問題に帰着するのは通常の状態ベクトルを用いた計算と同じだが、MPSのIterative ground state searchで行う固有値問題で扱う行列のサイズはbonding dimensionの大きさでリミットされる、すなわち量子ビット数に対して指数関数的に増える困難は無い。"
   ]
  },
  {
   "cell_type": "markdown",
   "metadata": {},
   "source": [
    "### step 1\n",
    "\n",
    "site 1について期待値最小化"
   ]
  },
  {
   "cell_type": "code",
   "execution_count": 138,
   "metadata": {},
   "outputs": [
    {
     "name": "stdout",
     "output_type": "stream",
     "text": [
      "1.0 + 0.0im\n",
      "-1.0 + 0.0im"
     ]
    }
   ],
   "source": [
    "C0 = zeros(ComplexF64, 2^N)\n",
    "C0[9] = 1 # computational basis\n",
    "mps = MPS(C0, D, 'r') # convert to MPS\n",
    "before = expectation(mps, O)\n",
    "\n",
    "t = 1\n",
    "\n",
    "R = R_expression(mps, O, t)\n",
    "tmp_O = O[t]\n",
    "H = zeros(ComplexF64, size(R, 1), size(R, 3), size(tmp_O, 1), size(tmp_O, 2))\n",
    "@tensor begin\n",
    "    # H[a0, a0_, sigma1, sigma2] = tmp_O[sigma1, sigma2, b0] * R[a0, b0, a0_]\n",
    "    H[sigma1, a0, sigma2, a0_] = tmp_O[sigma1, sigma2, b0] * R[a0, b0, a0_]\n",
    "end\n",
    "\n",
    "H_ = zeros(ComplexF64, size(tmp_O, 1) * size(R, 1), size(tmp_O, 2) * size(R, 3))\n",
    "for i=1:size(H, 1), j=1:size(H, 2), k=1:size(H, 3), l=1:size(H, 4)\n",
    "    H_[(i-1)*size(H, 2) + j, (k-1)*size(H, 4) + l] = H[i,j,k,l]\n",
    "end\n",
    "v = eigvecs(H_)[:, 1]\n",
    "λ = eigvals(H_)[1]\n",
    "\n",
    "d = convert(Int64, size(v, 1) / 2)\n",
    "mps[t][1][:] = v[1:d]\n",
    "mps[t][2][:] = v[d+1:2*d]\n",
    "\n",
    "after = expectation(mps, O)\n",
    "\n",
    "print(before, '\\n', after)"
   ]
  },
  {
   "cell_type": "markdown",
   "metadata": {},
   "source": [
    "### step 2-1\n",
    "\n",
    "site t, site t+1 に対しSVDを行い、site tをleft normalizeする。"
   ]
  },
  {
   "cell_type": "code",
   "execution_count": 2,
   "metadata": {},
   "outputs": [
    {
     "data": {
      "text/plain": [
       "left_norm_for_2_sites (generic function with 1 method)"
      ]
     },
     "execution_count": 2,
     "metadata": {},
     "output_type": "execute_result"
    }
   ],
   "source": [
    "function left_norm_for_2_sites(mps::Array{Any,1}, t::Int64, D::Int64)\n",
    "    # t: target, site to be left normalized\n",
    "    mps_ = copy(mps)\n",
    "    site_1 = cat(mps[t][1], mps[t][2], dims=1)\n",
    "    site_2 = cat(mps[t+1][1], mps[t+1][2], dims=2)\n",
    "    mixed_site = site_1 * site_2\n",
    "    A, M = SVD_L(mixed_site, D)\n",
    "    col = convert(Int64, size(A, 1) / 2)\n",
    "    mps_[t] = [A[1:col, :], A[(col+1):col*2, :]]\n",
    "    col2 = convert(Int64, size(M, 2) / 2)\n",
    "    mps_[t+1] = [M[:, 1:col2], M[:, (col2+1):col2*2]]\n",
    "    return mps_\n",
    "end"
   ]
  },
  {
   "cell_type": "markdown",
   "metadata": {},
   "source": [
    "操作の前後でMPSが表す状態に変化がないことを確認"
   ]
  },
  {
   "cell_type": "code",
   "execution_count": 140,
   "metadata": {},
   "outputs": [
    {
     "name": "stdout",
     "output_type": "stream",
     "text": [
      "true true true true true true true true true true true true true true true true "
     ]
    }
   ],
   "source": [
    "mps_ = left_norm_for_2_sites(mps, 1, 10)\n",
    "for i = 0:15\n",
    "    orig = restore(mps, i)\n",
    "    norm = restore(mps_, i)\n",
    "    print(orig == norm, ' ')\n",
    "end"
   ]
  },
  {
   "cell_type": "markdown",
   "metadata": {},
   "source": [
    "### step 2-2\n",
    "\n",
    "site 2(~N-1)について期待値最小化"
   ]
  },
  {
   "cell_type": "code",
   "execution_count": 141,
   "metadata": {},
   "outputs": [
    {
     "data": {
      "text/plain": [
       "-3.0 + 0.0im"
      ]
     },
     "execution_count": 141,
     "metadata": {},
     "output_type": "execute_result"
    }
   ],
   "source": [
    "t = 2\n",
    "\n",
    "R = R_expression(mps, O, t)\n",
    "L = L_expression(mps, O, t)\n",
    "tmp_O = O[t]\n",
    "\n",
    "H = zeros(ComplexF64, size(tmp_O, 1), size(L, 1), size(R, 1), size(tmp_O, 2), size(L, 3), size(R, 3))\n",
    "@tensor begin\n",
    "    H[sigma1, a0, a1, sigma2, a0_, a1_] = L[a0, b0, a0_] * tmp_O[sigma1, sigma2, b0, b1] * R[a1, b1, a1_]\n",
    "end\n",
    "\n",
    "H_ = zeros(ComplexF64, size(tmp_O, 1) * size(L, 1) * size(R, 1), size(tmp_O, 2) * size(L, 3) * size(R, 3))\n",
    "for i=1:size(H, 1), j=1:size(H, 2), k=1:size(H, 3), l=1:size(H, 4), m=1:size(H, 5), n=1:size(H, 6)\n",
    "    H_[(i-1)*size(H, 2)*size(H, 3) + (j-1)*size(H, 3) + k, (l-1)*size(H, 5)*size(H, 6) + (m-1)*size(H, 6) + n] = H[i,j,k,l,m,n]\n",
    "end\n",
    "v = eigvecs(H_)[:, 1]\n",
    "λ = eigvals(H_)[1]\n",
    "\n",
    "d = convert(Int64, size(v, 1) / 2)\n",
    "\n",
    "M_1 = transpose(reshape(v[1:d], size(transpose(mps[t][1]))))\n",
    "M_2 = transpose(reshape(v[d+1:2*d], size(transpose(mps[t][1]))))\n",
    "mps[t][1][:, :] = M_1\n",
    "mps[t][2][:, :] = M_2\n",
    "\n",
    "after = expectation(mps, O)"
   ]
  },
  {
   "cell_type": "markdown",
   "metadata": {},
   "source": [
    "### step 2-3\n",
    "\n",
    "site 4(N)について期待値最小化する"
   ]
  },
  {
   "cell_type": "code",
   "execution_count": 152,
   "metadata": {},
   "outputs": [
    {
     "data": {
      "text/plain": [
       "-3.0 + 0.0im"
      ]
     },
     "execution_count": 152,
     "metadata": {},
     "output_type": "execute_result"
    }
   ],
   "source": [
    "t = 4\n",
    "\n",
    "L = L_expression(mps, O, t)\n",
    "tmp_O = O[t]\n",
    "H = zeros(ComplexF64, size(L, 1), size(L, 3), size(tmp_O, 1), size(tmp_O, 2))\n",
    "@tensor begin\n",
    "    # H[a0, a0_, sigma1, sigma2] = tmp_O[sigma1, sigma2, b0] * R[a0, b0, a0_]\n",
    "    H[sigma1, a0, sigma2, a0_] = tmp_O[sigma1, sigma2, b0] * L[a0, b0, a0_]\n",
    "end\n",
    "\n",
    "H_ = zeros(ComplexF64, size(tmp_O, 1) * size(L, 1), size(tmp_O, 2) * size(L, 3))\n",
    "for i=1:size(H, 1), j=1:size(H, 2), k=1:size(H, 3), l=1:size(H, 4)\n",
    "    H_[(i-1)*size(H, 2) + j, (k-1)*size(H, 4) + l] = H[i,j,k,l]\n",
    "end\n",
    "v = eigvecs(H_)[:, 1]\n",
    "λ = eigvals(H_)[1]\n",
    "\n",
    "d = convert(Int64, size(v, 1) / 2)\n",
    "mps[t][1][:] = v[1:d]\n",
    "mps[t][2][:] = v[d+1:2*d]\n",
    "\n",
    "after = expectation(mps, O)"
   ]
  },
  {
   "cell_type": "markdown",
   "metadata": {},
   "source": [
    "### step 3\n",
    "\n",
    "site 1$\\to$site N の方向に 1 site ずつ更新してハミルトニアン期待値最小化"
   ]
  },
  {
   "cell_type": "code",
   "execution_count": 95,
   "metadata": {},
   "outputs": [
    {
     "data": {
      "text/plain": [
       "left_to_right_ground_state_search (generic function with 1 method)"
      ]
     },
     "execution_count": 95,
     "metadata": {},
     "output_type": "execute_result"
    }
   ],
   "source": [
    "function left_to_right_ground_state_search(mps::Array{Any,1}, O::Array{Any,1}, D::Int64)\n",
    "    hist = []\n",
    "    N = size(mps, 1)\n",
    "    mps_ = copy(mps)\n",
    "    push!(hist, expectation(mps_, O))\n",
    "    for t = 1:N\n",
    "        if t == 1\n",
    "            R = R_expression(mps_, O, t)\n",
    "            tmp_O = O[t]\n",
    "            H = zeros(ComplexF64, size(R, 1), size(R, 3), size(tmp_O, 1), size(tmp_O, 2))\n",
    "            @tensor begin\n",
    "                H[sigma1, a0, sigma2, a0_] = tmp_O[sigma1, sigma2, b0] * R[a0, b0, a0_]\n",
    "            end\n",
    "            H_ = zeros(ComplexF64, size(tmp_O, 1) * size(R, 1), size(tmp_O, 2) * size(R, 3))\n",
    "            for i=1:size(H, 1), j=1:size(H, 2), k=1:size(H, 3), l=1:size(H, 4)\n",
    "                H_[(i-1)*size(H, 2) + j, (k-1)*size(H, 4) + l] = H[i,j,k,l]\n",
    "            end\n",
    "            v = eigvecs(H_)[:, 1]\n",
    "            d = convert(Int64, size(v, 1) / 2)\n",
    "            mps_[t][1][:] = v[1:d]\n",
    "            mps_[t][2][:] = v[d+1:2*d]\n",
    "            mps_ = left_norm_for_2_sites(mps_, t, D)\n",
    "            \n",
    "        elseif t == N\n",
    "            L = L_expression(mps_, O, t)\n",
    "            tmp_O = O[t]\n",
    "            H = zeros(ComplexF64, size(L, 1), size(L, 3), size(tmp_O, 1), size(tmp_O, 2))\n",
    "            @tensor begin\n",
    "                H[sigma1, a0, sigma2, a0_] = tmp_O[sigma1, sigma2, b0] * L[a0, b0, a0_]\n",
    "            end\n",
    "            H_ = zeros(ComplexF64, size(tmp_O, 1) * size(L, 1), size(tmp_O, 2) * size(L, 3))\n",
    "            for i=1:size(H, 1), j=1:size(H, 2), k=1:size(H, 3), l=1:size(H, 4)\n",
    "                H_[(i-1)*size(H, 2) + j, (k-1)*size(H, 4) + l] = H[i,j,k,l]\n",
    "            end\n",
    "            v = eigvecs(H_)[:, 1]\n",
    "            d = convert(Int64, size(v, 1) / 2)\n",
    "            mps_[t][1][:] = v[1:d]\n",
    "            mps_[t][2][:] = v[d+1:2*d]\n",
    "\n",
    "        else\n",
    "            R = R_expression(mps_, O, t)\n",
    "            L = L_expression(mps_, O, t)\n",
    "            tmp_O = O[t]\n",
    "            H = zeros(ComplexF64, size(tmp_O, 1), size(L, 1), size(R, 1), size(tmp_O, 2), size(L, 3), size(R, 3))\n",
    "            @tensor begin\n",
    "                H[sigma1, a0, a1, sigma2, a0_, a1_] = L[a0, b0, a0_] * tmp_O[sigma1, sigma2, b0, b1] * R[a1, b1, a1_]\n",
    "            end\n",
    "            H_ = zeros(ComplexF64, size(tmp_O, 1) * size(L, 1) * size(R, 1), size(tmp_O, 2) * size(L, 3) * size(R, 3))\n",
    "            for i=1:size(H, 1), j=1:size(H, 2), k=1:size(H, 3), l=1:size(H, 4), m=1:size(H, 5), n=1:size(H, 6)\n",
    "                H_[(i-1)*size(H, 2)*size(H, 3) + (j-1)*size(H, 3) + k, (l-1)*size(H, 5)*size(H, 6) + (m-1)*size(H, 6) + n] = H[i,j,k,l,m,n]\n",
    "            end\n",
    "            v = eigvecs(H_)[:, 1]\n",
    "            d = convert(Int64, size(v, 1) / 2)\n",
    "            M_1 = transpose(reshape(v[1:d], size(transpose(mps_[t][1]))))\n",
    "            M_2 = transpose(reshape(v[d+1:2*d], size(transpose(mps_[t][1]))))\n",
    "            mps_[t][1][:, :] = M_1\n",
    "            mps_[t][2][:, :] = M_2\n",
    "            mps_ = left_norm_for_2_sites(mps_, t, D)\n",
    "        end\n",
    "        push!(hist, expectation(mps_, O))\n",
    "    end\n",
    "    return (mps_, hist)\n",
    "end"
   ]
  },
  {
   "cell_type": "code",
   "execution_count": 96,
   "metadata": {},
   "outputs": [
    {
     "data": {
      "text/plain": [
       "(Any[Array{Complex{Float64},2}[[0.0 + 0.0im -0.5607626214182947 + 0.8279766194887889im], [-0.5607626214182947 - 0.8279766194887889im 2.220446049250313e-16 + 0.0im]], Array{Complex{Float64},2}[[-0.97324245231294 + 0.2297806106178122im -1.6653345369377348e-16 + 2.220446049250313e-16im 0.0 + 0.0im 0.0 + 0.0im; 2.220446049250313e-16 + 2.3592239273284576e-16im -0.9695687216057274 - 0.2448193090502371im 0.0 + 0.0im 0.0 + 0.0im], [0.0 + 0.0im 0.0 + 0.0im 0.0 + 0.0im 1.0 + 0.0im; 0.0 + 0.0im 0.0 + 0.0im 1.0 + 0.0im 0.0 + 0.0im]], Array{Complex{Float64},2}[[-1.4513420134010444e-16 + 2.516759498469181e-18im -1.7212357401774256e-15 + 2.9847798507843105e-17im; 0.0 + 0.0im 0.0 + 0.0im; 0.9996137897257442 - 0.027789771322116696im -1.6403978869705682e-16 + 1.3877787807814457e-17im; -8.500145032286355e-17 + 1.231653667943533e-16im -0.5607626214182946 + 0.8279766194887885im], [0.0 + 0.0im 0.0 + 0.0im; 0.0 + 0.0im 0.0 + 0.0im; 0.0 + 0.0im 0.0 + 0.0im; 0.0 + 0.0im 0.0 + 0.0im]], Array{Complex{Float64},2}[[0.0 + 0.0im; 0.0 + 0.0im], [1.0 + 0.0im; 0.0 + 0.0im]]], Any[0.006968340412331166 + 1.3010426069826053e-18im, -1.0949265952403204 - 4.163336342344337e-17im, -2.999999999999999 - 4.7788047400524155e-17im, -3.0000000000000018 + 5.551115123125783e-17im, -3.0000000000000013 + 0.0im])"
      ]
     },
     "execution_count": 96,
     "metadata": {},
     "output_type": "execute_result"
    }
   ],
   "source": [
    "D = 20\n",
    "N = 4\n",
    "C0 = zeros(ComplexF64, 2^N)\n",
    "#C0[2] = 1 # computational basis\n",
    "C0 = normalize!(rand(ComplexF64, 2^N))\n",
    "mps = MPS(C0, D, 'r') # convert to MPS\n",
    "\n",
    "O = []\n",
    "push!(O, dstack((pauliZ, pauliI, pauliI)) )\n",
    "push!(O, ddstack( [(pauliZ, zero, zero), (zero, pauliZ, zero), (zero, zero, pauliI)] ))\n",
    "push!(O, ddstack( [(pauliI, zero, zero), (zero, pauliZ, zero), (zero, zero, pauliZ)] ))\n",
    "push!(O, dstack((pauliI, pauliI, pauliZ)))\n",
    "\n",
    "(opt_mps, hist) = left_to_right_ground_state_search(mps, O, D)"
   ]
  },
  {
   "cell_type": "code",
   "execution_count": 97,
   "metadata": {},
   "outputs": [
    {
     "data": {
      "text/plain": [
       "5-element Array{Any,1}:\n",
       " 0.006968340412331166 + 1.3010426069826053e-18im\n",
       "  -1.0949265952403204 - 4.163336342344337e-17im\n",
       "   -2.999999999999999 - 4.7788047400524155e-17im\n",
       "  -3.0000000000000018 + 5.551115123125783e-17im\n",
       "  -3.0000000000000013 + 0.0im"
      ]
     },
     "execution_count": 97,
     "metadata": {},
     "output_type": "execute_result"
    }
   ],
   "source": [
    "hist"
   ]
  },
  {
   "cell_type": "code",
   "execution_count": 94,
   "metadata": {},
   "outputs": [
    {
     "name": "stdout",
     "output_type": "stream",
     "text": [
      "0:0.0 + 0.0im\n",
      "1:0.0 + 0.0im\n",
      "2:0.0 + 0.0im\n",
      "3:0.0 + 0.0im\n",
      "4:0.0 + 0.0im\n",
      "5:0.0 + 0.0im\n",
      "6:0.0 + 0.0im\n",
      "7:0.0 + 0.0im\n",
      "8:8.680427074014492e-17 + 1.6361324958020246e-16im\n",
      "9:7.264213386742109e-32 - 2.828928674381776e-32im\n",
      "10:0.8760543303935484 - 0.48221241190860276im\n",
      "11:0.0 + 0.0im\n",
      "12:0.0 + 0.0im\n",
      "13:0.0 + 0.0im\n",
      "14:0.0 + 0.0im\n",
      "15:0.0 + 0.0im\n"
     ]
    }
   ],
   "source": [
    "for i in 1:2^4\n",
    "    println(i-1, ':', restore(opt_mps, i-1))\n",
    "end"
   ]
  },
  {
   "cell_type": "markdown",
   "metadata": {},
   "source": [
    "### step 4\n",
    "\n",
    "site t-1, site t に対しSVDを行い、site tをright normalizeする。"
   ]
  },
  {
   "cell_type": "code",
   "execution_count": 61,
   "metadata": {},
   "outputs": [
    {
     "data": {
      "text/plain": [
       "right_norm_for_2_sites (generic function with 1 method)"
      ]
     },
     "execution_count": 61,
     "metadata": {},
     "output_type": "execute_result"
    }
   ],
   "source": [
    "function right_norm_for_2_sites(mps::Array{Any,1}, t::Int64, D::Int64)\n",
    "    # t: target, site to be left normalized\n",
    "    mps_ = copy(mps)\n",
    "    site_1 = cat(mps[t-1][1], mps[t-1][2], dims=1)\n",
    "    site_2 = cat(mps[t][1], mps[t][2], dims=2)\n",
    "    mixed_site = site_1 * site_2\n",
    "    M, B = SVD_R(mixed_site, D)\n",
    "    col = convert(Int64, size(M, 1) / 2)\n",
    "    mps_[t-1] = [M[1:col, :], M[(col+1):col*2, :]]\n",
    "    col2 = convert(Int64, size(B, 2) / 2)\n",
    "    mps_[t] = [B[:, 1:col2], B[:, (col2+1):col2*2]]\n",
    "    return mps_\n",
    "end"
   ]
  },
  {
   "cell_type": "markdown",
   "metadata": {},
   "source": [
    "操作の前後でMPSが表す状態に変化がないことを確認"
   ]
  },
  {
   "cell_type": "code",
   "execution_count": 90,
   "metadata": {},
   "outputs": [
    {
     "name": "stdout",
     "output_type": "stream",
     "text": [
      "true true true true true true true true true true true true true true true true "
     ]
    }
   ],
   "source": [
    "t = 4\n",
    "C0 = zeros(ComplexF64, 2^N)\n",
    "C0[1] = 1 / sqrt(2) # computational basis\n",
    "C0[5] = 1 / sqrt(2) # computational basis\n",
    "mps = MPS(C0, D, 'r') # convert to MPS\n",
    "\n",
    "mps_ = right_norm_for_2_sites(mps, 2, 10)\n",
    "for i = 0:15\n",
    "    orig = restore(mps, i)\n",
    "    norm = restore(mps_, i)\n",
    "    print(orig == norm, ' ')\n",
    "end"
   ]
  },
  {
   "cell_type": "markdown",
   "metadata": {},
   "source": [
    "### step 5\n",
    "\n",
    "site N-1 $\\to$ site 1 の方向(先程とは逆)に 1 site ずつ更新してハミルトニアン期待値最小化"
   ]
  },
  {
   "cell_type": "code",
   "execution_count": 102,
   "metadata": {},
   "outputs": [
    {
     "data": {
      "text/plain": [
       "right_to_left_ground_state_search (generic function with 1 method)"
      ]
     },
     "execution_count": 102,
     "metadata": {},
     "output_type": "execute_result"
    }
   ],
   "source": [
    "function right_to_left_ground_state_search(mps::Array{Any,1}, O::Array{Any,1}, D::Int64)\n",
    "    hist = []\n",
    "    N = size(mps, 1)\n",
    "    mps_ = copy(mps)\n",
    "    push!(hist, expectation(mps_, O))\n",
    "    for t = N-1:-1:1\n",
    "        mps_ = right_norm_for_2_sites(mps_, t+1, D)\n",
    "        if t == 1\n",
    "            R = R_expression(mps_, O, t)\n",
    "            tmp_O = O[t]\n",
    "            H = zeros(ComplexF64, size(R, 1), size(R, 3), size(tmp_O, 1), size(tmp_O, 2))\n",
    "            @tensor begin\n",
    "                H[sigma1, a0, sigma2, a0_] = tmp_O[sigma1, sigma2, b0] * R[a0, b0, a0_]\n",
    "            end\n",
    "            H_ = zeros(ComplexF64, size(tmp_O, 1) * size(R, 1), size(tmp_O, 2) * size(R, 3))\n",
    "            for i=1:size(H, 1), j=1:size(H, 2), k=1:size(H, 3), l=1:size(H, 4)\n",
    "                H_[(i-1)*size(H, 2) + j, (k-1)*size(H, 4) + l] = H[i,j,k,l]\n",
    "            end\n",
    "            v = eigvecs(H_)[:, 1]\n",
    "            d = convert(Int64, size(v, 1) / 2)\n",
    "            mps_[t][1][:] = v[1:d]\n",
    "            mps_[t][2][:] = v[d+1:2*d]\n",
    "\n",
    "        else\n",
    "            R = R_expression(mps_, O, t)\n",
    "            L = L_expression(mps_, O, t)\n",
    "            tmp_O = O[t]\n",
    "            H = zeros(ComplexF64, size(tmp_O, 1), size(L, 1), size(R, 1), size(tmp_O, 2), size(L, 3), size(R, 3))\n",
    "            @tensor begin\n",
    "                H[sigma1, a0, a1, sigma2, a0_, a1_] = L[a0, b0, a0_] * tmp_O[sigma1, sigma2, b0, b1] * R[a1, b1, a1_]\n",
    "            end\n",
    "            H_ = zeros(ComplexF64, size(tmp_O, 1) * size(L, 1) * size(R, 1), size(tmp_O, 2) * size(L, 3) * size(R, 3))\n",
    "            for i=1:size(H, 1), j=1:size(H, 2), k=1:size(H, 3), l=1:size(H, 4), m=1:size(H, 5), n=1:size(H, 6)\n",
    "                H_[(i-1)*size(H, 2)*size(H, 3) + (j-1)*size(H, 3) + k, (l-1)*size(H, 5)*size(H, 6) + (m-1)*size(H, 6) + n] = H[i,j,k,l,m,n]\n",
    "            end\n",
    "            v = eigvecs(H_)[:, 1]\n",
    "            d = convert(Int64, size(v, 1) / 2)\n",
    "            M_1 = transpose(reshape(v[1:d], size(transpose(mps_[t][1]))))\n",
    "            M_2 = transpose(reshape(v[d+1:2*d], size(transpose(mps_[t][1]))))\n",
    "            mps_[t][1][:, :] = M_1\n",
    "            mps_[t][2][:, :] = M_2\n",
    "        end\n",
    "        push!(hist, expectation(mps_, O))\n",
    "    end\n",
    "    return (mps_, hist)\n",
    "end"
   ]
  },
  {
   "cell_type": "code",
   "execution_count": 109,
   "metadata": {},
   "outputs": [
    {
     "data": {
      "text/plain": [
       "(Any[Array{Complex{Float64},2}[[0.0 - 0.0im 0.0 - 0.0im], [1.0 + 0.0im -1.6820565865622263e-16 - 3.6626859291356426e-16im]], Array{Complex{Float64},2}[[-3.3856405763623705e-16 + 3.1786605777263444e-17im 3.122502256758253e-17 - 1.3877787807814457e-17im 0.7835107529064149 - 0.16737397362303652im 0.5852082781884836 - 0.12501249606870588im; -2.9375070561846326e-16 + 4.143549165033361e-17im -0.3073569134261788 - 0.006411949689282673im 0.16030019460140327 - 0.5464038681924793im -0.21461918917479506 + 0.73155716027069im], [0.0 + 0.0im 0.0 + 0.0im 0.0 + 0.0im 0.0 + 0.0im; 0.0 + 0.0im 0.0 + 0.0im 0.0 + 0.0im 0.0 + 0.0im]], Array{Complex{Float64},2}[[0.8011885838966643 + 0.0im -0.598411942589432 - 6.52323148448189e-17im; -0.598411942589432 + 0.0im -0.8011885838966643 - 8.733680302012205e-17im; 0.0 + 0.0im 0.0 + 0.0im; 0.0 + 0.0im 0.0 + 0.0im], [0.0 + 0.0im 0.0 + 0.0im; 0.0 + 0.0im 0.0 + 0.0im; 0.0 + 0.0im 1.0 + 0.0im; 1.0 + 0.0im 0.0 + 0.0im]], Array{Complex{Float64},2}[[-0.5984119425894324 + 0.0im; -0.8011885838966641 + 0.0im], [-0.8000396601347519 + 0.04289159798623582im; 0.5975538054241357 - 0.0320359588086927im]]], Any[-0.13283384523121178 - 5.551115123125783e-17im, -3.0000000000000036 + 2.7755575615628914e-17im, -3.0000000000000018 - 1.5223152443483392e-18im, -3.0000000000000004 - 1.4319233930506864e-19im])"
      ]
     },
     "execution_count": 109,
     "metadata": {},
     "output_type": "execute_result"
    }
   ],
   "source": [
    "D = 20\n",
    "N = 4\n",
    "C0 = zeros(ComplexF64, 2^N)\n",
    "#C0[2] = 1 # computational basis\n",
    "C0 = normalize!(rand(ComplexF64, 2^N))\n",
    "mps = MPS(C0, D, 'l') # convert to MPS\n",
    "\n",
    "O = []\n",
    "push!(O, dstack((pauliZ, pauliI, pauliI)) )\n",
    "push!(O, ddstack( [(pauliZ, zero, zero), (zero, pauliZ, zero), (zero, zero, pauliI)] ))\n",
    "push!(O, ddstack( [(pauliI, zero, zero), (zero, pauliZ, zero), (zero, zero, pauliZ)] ))\n",
    "push!(O, dstack((pauliI, pauliI, pauliZ)))\n",
    "\n",
    "(opt_mps, hist) = right_to_left_ground_state_search(mps, O, D)"
   ]
  },
  {
   "cell_type": "code",
   "execution_count": 110,
   "metadata": {},
   "outputs": [
    {
     "data": {
      "text/plain": [
       "4-element Array{Any,1}:\n",
       " -0.13283384523121178 - 5.551115123125783e-17im\n",
       "  -3.0000000000000036 + 2.7755575615628914e-17im\n",
       "  -3.0000000000000018 - 1.5223152443483392e-18im\n",
       "  -3.0000000000000004 - 1.4319233930506864e-19im"
      ]
     },
     "execution_count": 110,
     "metadata": {},
     "output_type": "execute_result"
    }
   ],
   "source": [
    "hist"
   ]
  },
  {
   "cell_type": "code",
   "execution_count": 111,
   "metadata": {},
   "outputs": [
    {
     "name": "stdout",
     "output_type": "stream",
     "text": [
      "0:0.0 + 0.0im\n",
      "1:8.057569884245053e-17 + 9.977592261580458e-17im\n",
      "2:0.0 + 0.0im\n",
      "3:0.0 + 0.0im\n",
      "4:0.0 + 0.0im\n",
      "5:-0.9779354931590871 + 0.2089070875286263im\n",
      "6:0.0 + 0.0im\n",
      "7:0.0 + 0.0im\n",
      "8:0.0 + 0.0im\n",
      "9:3.3637685397118943e-16 - 4.9866035960335757e-17im\n",
      "10:0.0 + 0.0im\n",
      "11:0.0 + 0.0im\n",
      "12:0.0 + 0.0im\n",
      "13:-1.9193318606758697e-16 + 1.1250151085496812e-16im\n",
      "14:0.0 + 0.0im\n",
      "15:0.0 + 0.0im\n"
     ]
    }
   ],
   "source": [
    "for i in 1:2^4\n",
    "    println(i-1, ':', restore(opt_mps, i-1))\n",
    "end"
   ]
  },
  {
   "cell_type": "markdown",
   "metadata": {},
   "source": [
    "### step 6\n",
    "\n",
    "上記の関数を統合して、site 1 $\\to$ site N $\\to$ site1 の1往復でground state searchを行う"
   ]
  },
  {
   "cell_type": "code",
   "execution_count": 112,
   "metadata": {},
   "outputs": [
    {
     "data": {
      "text/plain": [
       "right_most_site_update (generic function with 1 method)"
      ]
     },
     "execution_count": 112,
     "metadata": {},
     "output_type": "execute_result"
    }
   ],
   "source": [
    "function left_most_site_update(mps_::Array{Any,1}, O::Array{Any,1}, t::Int64)\n",
    "    R = R_expression(mps_, O, t)\n",
    "    tmp_O = O[t]\n",
    "    H = zeros(ComplexF64, size(R, 1), size(R, 3), size(tmp_O, 1), size(tmp_O, 2))\n",
    "    @tensor begin\n",
    "        H[sigma1, a0, sigma2, a0_] = tmp_O[sigma1, sigma2, b0] * R[a0, b0, a0_]\n",
    "    end\n",
    "    H_ = zeros(ComplexF64, size(tmp_O, 1) * size(R, 1), size(tmp_O, 2) * size(R, 3))\n",
    "    for i=1:size(H, 1), j=1:size(H, 2), k=1:size(H, 3), l=1:size(H, 4)\n",
    "        H_[(i-1)*size(H, 2) + j, (k-1)*size(H, 4) + l] = H[i,j,k,l]\n",
    "    end\n",
    "    v = eigvecs(H_)[:, 1]\n",
    "    d = convert(Int64, size(v, 1) / 2)\n",
    "    mps_[t][1][:] = v[1:d]\n",
    "    mps_[t][2][:] = v[d+1:2*d]\n",
    "    mps_ = left_norm_for_2_sites(mps_, t, D)\n",
    "    return mps_\n",
    "end\n",
    "\n",
    "function mid_site_update(mps_::Array{Any,1}, O::Array{Any,1}, t::Int64)\n",
    "    R = R_expression(mps_, O, t)\n",
    "    L = L_expression(mps_, O, t)\n",
    "    tmp_O = O[t]\n",
    "    H = zeros(ComplexF64, size(tmp_O, 1), size(L, 1), size(R, 1), size(tmp_O, 2), size(L, 3), size(R, 3))\n",
    "    @tensor begin\n",
    "        H[sigma1, a0, a1, sigma2, a0_, a1_] = L[a0, b0, a0_] * tmp_O[sigma1, sigma2, b0, b1] * R[a1, b1, a1_]\n",
    "    end\n",
    "    H_ = zeros(ComplexF64, size(tmp_O, 1) * size(L, 1) * size(R, 1), size(tmp_O, 2) * size(L, 3) * size(R, 3))\n",
    "    for i=1:size(H, 1), j=1:size(H, 2), k=1:size(H, 3), l=1:size(H, 4), m=1:size(H, 5), n=1:size(H, 6)\n",
    "        H_[(i-1)*size(H, 2)*size(H, 3) + (j-1)*size(H, 3) + k, (l-1)*size(H, 5)*size(H, 6) + (m-1)*size(H, 6) + n] = H[i,j,k,l,m,n]\n",
    "    end\n",
    "    v = eigvecs(H_)[:, 1]\n",
    "    d = convert(Int64, size(v, 1) / 2)\n",
    "    M_1 = transpose(reshape(v[1:d], size(transpose(mps_[t][1]))))\n",
    "    M_2 = transpose(reshape(v[d+1:2*d], size(transpose(mps_[t][1]))))\n",
    "    mps_[t][1][:, :] = M_1\n",
    "    mps_[t][2][:, :] = M_2\n",
    "    return mps_\n",
    "end\n",
    "    \n",
    "function right_most_site_update(mps_::Array{Any,1}, O::Array{Any,1}, t::Int64)\n",
    "    L = L_expression(mps_, O, t)\n",
    "    tmp_O = O[t]\n",
    "    H = zeros(ComplexF64, size(L, 1), size(L, 3), size(tmp_O, 1), size(tmp_O, 2))\n",
    "    @tensor begin\n",
    "        H[sigma1, a0, sigma2, a0_] = tmp_O[sigma1, sigma2, b0] * L[a0, b0, a0_]\n",
    "    end\n",
    "    H_ = zeros(ComplexF64, size(tmp_O, 1) * size(L, 1), size(tmp_O, 2) * size(L, 3))\n",
    "    for i=1:size(H, 1), j=1:size(H, 2), k=1:size(H, 3), l=1:size(H, 4)\n",
    "        H_[(i-1)*size(H, 2) + j, (k-1)*size(H, 4) + l] = H[i,j,k,l]\n",
    "    end\n",
    "    v = eigvecs(H_)[:, 1]\n",
    "    d = convert(Int64, size(v, 1) / 2)\n",
    "    mps_[t][1][:] = v[1:d]\n",
    "    mps_[t][2][:] = v[d+1:2*d]\n",
    "    return mps_\n",
    "end"
   ]
  },
  {
   "cell_type": "code",
   "execution_count": 126,
   "metadata": {},
   "outputs": [
    {
     "data": {
      "text/plain": [
       "iterative_ground_state_search (generic function with 1 method)"
      ]
     },
     "execution_count": 126,
     "metadata": {},
     "output_type": "execute_result"
    }
   ],
   "source": [
    "function iterative_ground_state_search(mps::Array{Any,1}, O::Array{Any,1}, D::Int64)\n",
    "    hist = []\n",
    "    N = size(mps, 1)\n",
    "    mps_ = copy(mps)\n",
    "    push!(hist, expectation(mps_, O))\n",
    "    for t = 1:N\n",
    "        if t == 1\n",
    "            mps_ = left_most_site_update(mps_, O, t)\n",
    "            mps_ = left_norm_for_2_sites(mps_, t, D)  \n",
    "        elseif t == N\n",
    "            mps_ = right_most_site_update(mps_, O, t)\n",
    "        else\n",
    "            mps_ = mid_site_update(mps_, O, t)\n",
    "            mps_ = left_norm_for_2_sites(mps_, t, D)\n",
    "        end\n",
    "        push!(hist, expectation(mps_, O))\n",
    "    end\n",
    "    \n",
    "    for t = N-1:-1:1\n",
    "        mps_ = right_norm_for_2_sites(mps_, t+1, D)\n",
    "        if t == 1\n",
    "            mps_ = left_most_site_update(mps_, O, t)\n",
    "        else\n",
    "            mps_ = mid_site_update(mps_, O, t)\n",
    "        end  \n",
    "        push!(hist, expectation(mps_, O))\n",
    "    end\n",
    "    return (mps_, hist)\n",
    "end"
   ]
  },
  {
   "cell_type": "code",
   "execution_count": 130,
   "metadata": {},
   "outputs": [
    {
     "data": {
      "text/plain": [
       "(Any[Array{Complex{Float64},2}[[0.0 + 0.0im 1.0000000000000002 - 1.3877787807814457e-17im], [-0.9979666913446913 + 0.06373761029823724im 3.3306690738754696e-16 - 2.7755575615628914e-17im]], Array{Complex{Float64},2}[[-0.9999999999999999 + 0.0im -9.52394672585655e-18 + 1.1299874843954017e-18im -4.785441958023998e-17 - 1.527985597797844e-17im 0.0 + 0.0im; -6.303735467583421e-49 + 0.0im 2.2954080305542284e-33 - 2.7234322290622644e-34im 1.1533602839647892e-32 + 3.682664879082401e-33im 0.0 + 0.0im], [0.0 + 0.0im 0.0 + 0.0im 0.0 + 0.0im 0.0 + 0.0im; 0.0 + 0.0im 0.0 + 0.0im 0.0 + 0.0im 0.0 + 0.0im]], Array{Complex{Float64},2}[[0.0 + 0.0im 0.0 + 0.0im; 0.0 + 0.0im -5.050027234121323e-16 + 3.677014472583694e-17im; 0.0 + 0.0im 0.9946960831874155 - 0.10285767881696865im; 1.0 + 0.0im 0.0 + 0.0im], [6.4195470466793325e-31 + 6.531423249415268e-31im 0.9971697595821711 + 0.07518291411507787im; 0.6031369130157789 + 0.7976376772431181im -9.860761315262648e-31 - 1.8257815872790996e-31im; 3.175097314717632e-16 + 3.9442028930768606e-16im 2.220446049250313e-16 + 6.938893903907228e-18im; 0.0 + 0.0im 0.0 + 0.0im]], Array{Complex{Float64},2}[[0.0 + 0.0im; -1.0 + 0.0im], [-1.0 - 1.1249118013754704e-33im; 0.0 + 0.0im]]], Any[0.6535478479698861 - 1.3877787807814457e-17im, -0.07770925551448768 + 0.0im, -0.8307210985390447 + 3.469446951953614e-18im, -2.025400075631404 - 1.3877787807814457e-17im, -2.9999999999999987 + 5.473822126268817e-48im, -3.0000000000000036 + 5.473822126268817e-48im, -3.0000000000000018 - 1.134640615595775e-66im, -3.0 - 5.345529420184391e-51im])"
      ]
     },
     "execution_count": 130,
     "metadata": {},
     "output_type": "execute_result"
    }
   ],
   "source": [
    "D = 20\n",
    "N = 4\n",
    "C0 = zeros(ComplexF64, 2^N)\n",
    "#C0[2] = 1 # computational basis\n",
    "C0 = normalize!(rand(ComplexF64, 2^N))\n",
    "mps = MPS(C0, D, 'l') # convert to MPS\n",
    "\n",
    "O = []\n",
    "push!(O, dstack((pauliZ, pauliI, pauliI)) )\n",
    "push!(O, ddstack( [(pauliZ, zero, zero), (zero, pauliZ, zero), (zero, zero, pauliI)] ))\n",
    "push!(O, ddstack( [(pauliI, zero, zero), (zero, pauliZ, zero), (zero, zero, pauliZ)] ))\n",
    "push!(O, dstack((pauliI, pauliI, pauliZ)))\n",
    "\n",
    "(opt_mps, hist) = iterative_ground_state_search(mps, O, D)"
   ]
  },
  {
   "cell_type": "code",
   "execution_count": 131,
   "metadata": {},
   "outputs": [
    {
     "data": {
      "text/plain": [
       "8-element Array{Any,1}:\n",
       "   0.6535478479698861 - 1.3877787807814457e-17im\n",
       " -0.07770925551448768 + 0.0im\n",
       "  -0.8307210985390447 + 3.469446951953614e-18im\n",
       "   -2.025400075631404 - 1.3877787807814457e-17im\n",
       "  -2.9999999999999987 + 5.473822126268817e-48im\n",
       "  -3.0000000000000036 + 5.473822126268817e-48im\n",
       "  -3.0000000000000018 - 1.134640615595775e-66im\n",
       "                 -3.0 - 5.345529420184391e-51im"
      ]
     },
     "execution_count": 131,
     "metadata": {},
     "output_type": "execute_result"
    }
   ],
   "source": [
    "hist"
   ]
  },
  {
   "cell_type": "code",
   "execution_count": 132,
   "metadata": {},
   "outputs": [
    {
     "name": "stdout",
     "output_type": "stream",
     "text": [
      "0:-1.1851219930960202e-32 - 2.4768127144321423e-33im\n",
      "1:-4.9727278965174063e-17 - 7.121600858597644e-18im\n",
      "2:0.0 + 0.0im\n",
      "3:0.0 + 0.0im\n",
      "4:-1.906831226944259e-48 - 8.503529943549105e-49im\n",
      "5:-0.9999341849601532 - 0.011472826507641004im\n",
      "6:0.0 + 0.0im\n",
      "7:0.0 + 0.0im\n",
      "8:0.0 + 0.0im\n",
      "9:0.0 + 0.0im\n",
      "10:0.0 + 0.0im\n",
      "11:0.0 + 0.0im\n",
      "12:-1.6016765293919356e-33 - 1.666643679072051e-33im\n",
      "13:-7.072805261199743e-18 - 6.477488609716518e-18im\n",
      "14:0.0 + 0.0im\n",
      "15:0.0 + 0.0im\n"
     ]
    }
   ],
   "source": [
    "for i in 1:2^4\n",
    "    println(i-1, ':', restore(opt_mps, i-1))\n",
    "end"
   ]
  },
  {
   "cell_type": "code",
   "execution_count": null,
   "metadata": {},
   "outputs": [],
   "source": []
  }
 ],
 "metadata": {
  "@webio": {
   "lastCommId": null,
   "lastKernelId": null
  },
  "kernelspec": {
   "display_name": "Julia 1.4.0",
   "language": "julia",
   "name": "julia-1.4"
  },
  "language_info": {
   "file_extension": ".jl",
   "mimetype": "application/julia",
   "name": "julia",
   "version": "1.4.0"
  }
 },
 "nbformat": 4,
 "nbformat_minor": 4
}
