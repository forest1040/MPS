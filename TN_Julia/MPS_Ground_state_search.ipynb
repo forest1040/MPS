{
 "cells": [
  {
   "cell_type": "code",
   "execution_count": 1,
   "metadata": {},
   "outputs": [],
   "source": [
    "using LinearAlgebra\n",
    "\n",
    "include(\"./MPS.jl\")\n",
    "using .MPSforQuantum\n",
    "using TensorOperations"
   ]
  },
  {
   "cell_type": "markdown",
   "metadata": {},
   "source": [
    "## MPOの用意"
   ]
  },
  {
   "cell_type": "markdown",
   "metadata": {},
   "source": [
    "$Z_1 Z_2 + Z_2 Z_3 + Z_3 Z_4$"
   ]
  },
  {
   "cell_type": "markdown",
   "metadata": {},
   "source": [
    "$$\n",
    "\\left[\\begin{array}{c}\n",
    "    Z_1 & I_1 & I_1\\\\\n",
    "\\end{array}\\right]\n",
    "\\left[\\begin{array}{c}\n",
    "    Z_2 & 0 & 0\\\\\n",
    "    0 & Z_2 & 0\\\\\n",
    "    0 & 0 & I_2\\\\\n",
    "\\end{array}\\right]\n",
    "\\left[\\begin{array}{c}\n",
    "    I_3 & 0 & 0\\\\\n",
    "    0 & Z_3 & 0\\\\\n",
    "    0 & 0 & Z_3\\\\\n",
    "\\end{array}\\right]\n",
    "\\left[\\begin{array}{c}\n",
    "    I_4\\\\\n",
    "    I_4\\\\\n",
    "    Z_4\n",
    "\\end{array}\\right] \\quad\n",
    "$$"
   ]
  },
  {
   "cell_type": "code",
   "execution_count": 2,
   "metadata": {},
   "outputs": [
    {
     "data": {
      "text/plain": [
       "2×2×3 Array{Complex{Float64},3}:\n",
       "[:, :, 1] =\n",
       " 1.0+0.0im  0.0+0.0im\n",
       " 0.0+0.0im  1.0+0.0im\n",
       "\n",
       "[:, :, 2] =\n",
       " 1.0+0.0im  0.0+0.0im\n",
       " 0.0+0.0im  1.0+0.0im\n",
       "\n",
       "[:, :, 3] =\n",
       " 1.0+0.0im   0.0+0.0im\n",
       " 0.0+0.0im  -1.0+0.0im"
      ]
     },
     "execution_count": 2,
     "metadata": {},
     "output_type": "execute_result"
    }
   ],
   "source": [
    "pauliZ = convert(Array{ComplexF64,2}, [1 0; 0 -1])\n",
    "pauliI = convert(Array{ComplexF64,2}, [1 0; 0 1])\n",
    "zero = convert(Array{ComplexF64,2}, [0 0; 0 0])\n",
    "\n",
    "O = []\n",
    "push!(O, dstack((pauliZ, pauliI, pauliI)) )\n",
    "push!(O, ddstack( [(pauliZ, zero, zero), (zero, pauliZ, zero), (zero, zero, pauliI)] ))\n",
    "push!(O, ddstack( [(pauliI, zero, zero), (zero, pauliZ, zero), (zero, zero, pauliZ)] ))\n",
    "push!(O, dstack((pauliI, pauliI, pauliZ)))\n",
    "O[4]"
   ]
  },
  {
   "cell_type": "code",
   "execution_count": 3,
   "metadata": {},
   "outputs": [
    {
     "name": "stdout",
     "output_type": "stream",
     "text": [
      "3.0 + 0.0im\n",
      "1.0 + 0.0im\n",
      "-1.0 + 0.0im\n",
      "1.0 + 0.0im\n",
      "-1.0 + 0.0im\n",
      "-3.0 + 0.0im\n",
      "-1.0 + 0.0im\n",
      "1.0 + 0.0im\n",
      "1.0 + 0.0im\n",
      "-1.0 + 0.0im\n",
      "-3.0 + 0.0im\n",
      "-1.0 + 0.0im\n",
      "1.0 + 0.0im\n",
      "-1.0 + 0.0im\n",
      "1.0 + 0.0im\n",
      "3.0 + 0.0im\n"
     ]
    }
   ],
   "source": [
    "N = 4\n",
    "eps = 1e-3\n",
    "D = 10\n",
    "\n",
    "for i in 1:16\n",
    "C0 = zeros(ComplexF64, 2^N)\n",
    "C0[i] = 1 # '0001'\n",
    "#C0 = normalize!(rand(ComplexF64, 2^N))\n",
    "mps = MPS(C0, D)\n",
    "# println(restore(mps, 4))\n",
    "expc = expectation(mps, O)\n",
    "println(expc)\n",
    "end"
   ]
  },
  {
   "cell_type": "markdown",
   "metadata": {},
   "source": [
    "## 初期状態ベクトルを適当に用意"
   ]
  },
  {
   "cell_type": "code",
   "execution_count": 6,
   "metadata": {},
   "outputs": [
    {
     "name": "stdout",
     "output_type": "stream",
     "text": [
      "array 1's size: (1, 2)\n",
      "array 2's size: (2, 4)\n",
      "array 3's size: (4, 2)\n",
      "array 4's size: (2, 1)\n",
      "Num of parameters: 40\n",
      "2^N: 16\n",
      "Initial Expectation Value: 0.1432423383228108 - 5.984795992119984e-17im\n"
     ]
    }
   ],
   "source": [
    "N = 4\n",
    "C0 = normalize!(rand(ComplexF64, 2^N))\n",
    "\n",
    "D = 20\n",
    "mps = MPS(C0, D, 'r') # convert to MPS\n",
    "mps_size(mps) # print the size of MPS\n",
    "\n",
    "expc = expectation(mps, O)\n",
    "println(\"Initial Expectation Value: \", expc)"
   ]
  },
  {
   "cell_type": "code",
   "execution_count": 52,
   "metadata": {},
   "outputs": [
    {
     "data": {
      "text/plain": [
       "R_expression (generic function with 1 method)"
      ]
     },
     "execution_count": 52,
     "metadata": {},
     "output_type": "execute_result"
    }
   ],
   "source": [
    "function R_expression(mps, O, t)\n",
    "    N_site = size(mps)[1]\n",
    "    n_phys = 2\n",
    "    contracted_sites = []\n",
    "    for i = t+1:N_site\n",
    "        if i==t+1\n",
    "            tmp_mps = cat(mps[i][1], mps[i][2], dims=3)\n",
    "            tmp_mps_dag = cat(mps[i][1]', mps[i][2]', dims=3)\n",
    "            tmp_O = O[i]\n",
    "            a_len1 = size(mps[i-1][1])[2]\n",
    "            a_len2 = size(mps[i][1])[2]\n",
    "            b_len = size(O[i][1, 1, :, :])[1]\n",
    "            arr = zeros(ComplexF64, a_len1, a_len2, b_len, b_len, a_len1, a_len2)\n",
    "            @tensor begin\n",
    "                arr[a1, a2, b1, b2, a1_, a2_] = tmp_mps_dag[a2, a1, sigma1] * tmp_O[sigma1, sigma2, b1, b2] * tmp_mps[a1_, a2_, sigma2]\n",
    "            end\n",
    "            \n",
    "        elseif i==N_site\n",
    "            # last step\n",
    "            tmp_mps = cat(mps[i][1][:], mps[i][2][:], dims=2)\n",
    "            tmp_mps_dag = cat(mps[i][1]'[:], mps[i][2]'[:], dims=2)\n",
    "            tmp_O = O[i]\n",
    "            tmp_site = contracted_sites[i-t-1]\n",
    "            a_len0 = size(tmp_site)[1]\n",
    "            a_len1 = size(mps[i-1][1])[2]\n",
    "            a_len2 = size(mps[i][1])[2]\n",
    "            b_len = size(O[i][1, 1, :])[1]\n",
    "            arr_0 = zeros(ComplexF64, n_phys, a_len0, a_len1, b_len, b_len, a_len0)\n",
    "            arr_1 = zeros(ComplexF64, n_phys, n_phys, a_len0, b_len, b_len, a_len0)\n",
    "            arr = zeros(ComplexF64, a_len0, b_len, a_len0)\n",
    "            @tensor begin\n",
    "                arr_0[sigma2, a0, a1, b0, b1, a0_] = tmp_site[a0, a1, b0, b1, a0_, a1_] * tmp_mps[a1_, sigma2]\n",
    "                arr_1[sigma1, sigma2, a0, b0, b1, a0_] = tmp_mps_dag[a1, sigma1] * arr_0[sigma2, a0, a1, b0, b1, a0_]\n",
    "                arr[a0, b0, a0_] = arr_1[sigma1, sigma2, a0, b0, b1, a0_] * tmp_O[sigma1, sigma2, b1]\n",
    "            end        \n",
    "        else\n",
    "            tmp_mps = cat(mps[i][1], mps[i][2], dims=3)\n",
    "            tmp_mps_dag = cat(mps[i][1]', mps[i][2]', dims=3)\n",
    "            tmp_O = O[i]\n",
    "            tmp_site = contracted_sites[i-t-1]\n",
    "            a_len0 = size(tmp_site)[1]\n",
    "            a_len1 = size(mps[i-1][1])[2]\n",
    "            a_len2 = size(mps[i][1])[2]\n",
    "            b_len = size(O[i][1, 1, :, :])[1]\n",
    "            arr_0 = zeros(ComplexF64, n_phys, a_len0, a_len1, b_len, b_len, a_len0, a_len2)\n",
    "            arr_1 = zeros(ComplexF64, n_phys, n_phys, a_len0, a_len2, b_len, b_len, a_len0, a_len2)\n",
    "            arr = zeros(ComplexF64, a_len0, a_len2, b_len, b_len, a_len0, a_len2)\n",
    "            @tensor begin\n",
    "                arr_0[sigma2, a0, a1, b0, b1, a0_, a2_] = tmp_site[a0, a1, b0, b1, a0_, a1_] * tmp_mps[a1_, a2_, sigma2]\n",
    "                arr_1[sigma1, sigma2, a0, a2, b0, b1, a0_, a2_] = tmp_mps_dag[a2, a1, sigma1] * arr_0[sigma2, a0, a1, b0, b1, a0_, a2_]\n",
    "                arr[a0, a2, b0, b2, a0_, a2_] = arr_1[sigma1, sigma2, a0, a2, b0, b1, a0_, a2_] * tmp_O[sigma1, sigma2, b1, b2]\n",
    "            end\n",
    "        end\n",
    "        \n",
    "        push!(contracted_sites, arr)\n",
    "    end\n",
    "    return contracted_sites[N_site - t]\n",
    "end"
   ]
  },
  {
   "cell_type": "code",
   "execution_count": 77,
   "metadata": {},
   "outputs": [
    {
     "data": {
      "text/plain": [
       "4-element Array{Any,1}:\n",
       " Complex{Float64}[1.0 + 0.0im 0.0 + 0.0im; 0.0 + 0.0im -1.0 + 0.0im]\n",
       "\n",
       "Complex{Float64}[1.0 + 0.0im 0.0 + 0.0im; 0.0 + 0.0im 1.0 + 0.0im]\n",
       "\n",
       "Complex{Float64}[1.0 + 0.0im 0.0 + 0.0im; 0.0 + 0.0im 1.0 + 0.0im]\n",
       " Complex{Float64}[1.0 + 0.0im 0.0 + 0.0im; 0.0 + 0.0im -1.0 + 0.0im]\n",
       "\n",
       "Complex{Float64}[0.0 + 0.0im 0.0 + 0.0im; 0.0 + 0.0im 0.0 + 0.0im]\n",
       "\n",
       "Complex{Float64}[0.0 + 0.0im 0.0 + 0.0im; 0.0 + 0.0im 0.0 + 0.0im]\n",
       "\n",
       "Complex{Float64}[0.0 + 0.0im 0.0 + 0.0im; 0.0 + 0.0im 0.0 + 0.0im]\n",
       "\n",
       "Complex{Float64}[1.0 + 0.0im 0.0 + 0.0im; 0.0 + 0.0im -1.0 + 0.0im]\n",
       "\n",
       "Complex{Float64}[0.0 + 0.0im 0.0 + 0.0im; 0.0 + 0.0im 0.0 + 0.0im]\n",
       "\n",
       "Complex{Float64}[0.0 + 0.0im 0.0 + 0.0im; 0.0 + 0.0im 0.0 + 0.0im]\n",
       "\n",
       "Complex{Float64}[0.0 + 0.0im 0.0 + 0.0im; 0.0 + 0.0im 0.0 + 0.0im]\n",
       "\n",
       "Complex{Float64}[1.0 + 0.0im 0.0 + 0.0im; 0.0 + 0.0im 1.0 + 0.0im]\n",
       " Complex{Float64}[1.0 + 0.0im 0.0 + 0.0im; 0.0 + 0.0im 1.0 + 0.0im]\n",
       "\n",
       "Complex{Float64}[0.0 + 0.0im 0.0 + 0.0im; 0.0 + 0.0im 0.0 + 0.0im]\n",
       "\n",
       "Complex{Float64}[0.0 + 0.0im 0.0 + 0.0im; 0.0 + 0.0im 0.0 + 0.0im]\n",
       "\n",
       "Complex{Float64}[0.0 + 0.0im 0.0 + 0.0im; 0.0 + 0.0im 0.0 + 0.0im]\n",
       "\n",
       "Complex{Float64}[1.0 + 0.0im 0.0 + 0.0im; 0.0 + 0.0im -1.0 + 0.0im]\n",
       "\n",
       "Complex{Float64}[0.0 + 0.0im 0.0 + 0.0im; 0.0 + 0.0im 0.0 + 0.0im]\n",
       "\n",
       "Complex{Float64}[0.0 + 0.0im 0.0 + 0.0im; 0.0 + 0.0im 0.0 + 0.0im]\n",
       "\n",
       "Complex{Float64}[0.0 + 0.0im 0.0 + 0.0im; 0.0 + 0.0im 0.0 + 0.0im]\n",
       "\n",
       "Complex{Float64}[1.0 + 0.0im 0.0 + 0.0im; 0.0 + 0.0im -1.0 + 0.0im]\n",
       " Complex{Float64}[1.0 + 0.0im 0.0 + 0.0im; 0.0 + 0.0im 1.0 + 0.0im]\n",
       "\n",
       "Complex{Float64}[1.0 + 0.0im 0.0 + 0.0im; 0.0 + 0.0im 1.0 + 0.0im]\n",
       "\n",
       "Complex{Float64}[1.0 + 0.0im 0.0 + 0.0im; 0.0 + 0.0im -1.0 + 0.0im]"
      ]
     },
     "execution_count": 77,
     "metadata": {},
     "output_type": "execute_result"
    }
   ],
   "source": [
    "pauliZ = convert(Array{ComplexF64,2}, [1 0; 0 -1])\n",
    "pauliI = convert(Array{ComplexF64,2}, [1 0; 0 1])\n",
    "zero = convert(Array{ComplexF64,2}, [0 0; 0 0])\n",
    "\n",
    "O = []\n",
    "push!(O, dstack((pauliZ, pauliI, pauliI)) )\n",
    "push!(O, ddstack( [(pauliZ, zero, zero), (zero, pauliZ, zero), (zero, zero, pauliI)] ))\n",
    "push!(O, ddstack( [(pauliI, zero, zero), (zero, pauliZ, zero), (zero, zero, pauliZ)] ))\n",
    "push!(O, dstack((pauliI, pauliI, pauliZ)))"
   ]
  },
  {
   "cell_type": "markdown",
   "metadata": {},
   "source": [
    "### R expression が正しくできているか、期待値計算を使ってチェック"
   ]
  },
  {
   "cell_type": "code",
   "execution_count": 94,
   "metadata": {},
   "outputs": [
    {
     "name": "stdout",
     "output_type": "stream",
     "text": [
      "Complex{Float64}[3.0 + 0.0im]: 3.0 + 0.0im\n",
      "Complex{Float64}[1.0 + 0.0im]: 1.0 + 0.0im\n",
      "Complex{Float64}[-1.0 + 0.0im]: -1.0 + 0.0im\n",
      "Complex{Float64}[-3.0 + 0.0im]: 1.0 + 0.0im\n",
      "Complex{Float64}[1.0 + 0.0im]: -1.0 + 0.0im\n",
      "Complex{Float64}[-1.0 + 0.0im]: -3.0 + 0.0im\n",
      "Complex{Float64}[-1.0 + 0.0im]: -1.0 + 0.0im\n",
      "Complex{Float64}[-3.0 + 0.0im]: 1.0 + 0.0im\n",
      "Complex{Float64}[1.0 + 0.0im]: 1.0 + 0.0im\n",
      "Complex{Float64}[-1.0 + 0.0im]: -1.0 + 0.0im\n",
      "Complex{Float64}[1.0 + 0.0im]: -3.0 + 0.0im\n",
      "Complex{Float64}[-1.0 + 0.0im]: -1.0 + 0.0im\n",
      "Complex{Float64}[3.0 + 0.0im]: 1.0 + 0.0im\n",
      "Complex{Float64}[1.0 + 0.0im]: -1.0 + 0.0im\n",
      "Complex{Float64}[1.0 + 0.0im]: 1.0 + 0.0im\n",
      "Complex{Float64}[-1.0 + 0.0im]: 3.0 + 0.0im\n"
     ]
    }
   ],
   "source": [
    "N = 4\n",
    "D = 20\n",
    "# C0 = normalize!(rand(ComplexF64, 2^N))\n",
    "\n",
    "for i in 1:2^N\n",
    "    C0 = zeros(ComplexF64, 2^N)\n",
    "    C0[i] = 1 # computational basis\n",
    "    mps = MPS(C0, D, 'r') # convert to MPS\n",
    "    #mps_size(mps) # print the size of MPS\n",
    "    R = R_expression(mps, O, 1)\n",
    "\n",
    "    tmp_mps_cat = cat(mps[1][1], mps[1][2], dims=3)\n",
    "    tmp_mps_dag_cat = cat(mps[1][1]', mps[1][2]', dims=3)\n",
    "    tmp_O = O[1]\n",
    "    res = zeros(ComplexF64, 1, 1)\n",
    "    @tensor begin\n",
    "        res[a0, a0_] = R[a1, b1, a1_] * tmp_mps_cat[a0_, a1_, sigma2] * tmp_O[sigma1, sigma2, b1] * tmp_mps_dag_cat[a1, a0, sigma1]\n",
    "    end\n",
    "    println(res, \": \", expectation(MPS(C0, D), O))\n",
    "    \n",
    "end"
   ]
  },
  {
   "cell_type": "code",
   "execution_count": null,
   "metadata": {},
   "outputs": [],
   "source": []
  }
 ],
 "metadata": {
  "@webio": {
   "lastCommId": null,
   "lastKernelId": null
  },
  "kernelspec": {
   "display_name": "Julia 1.4.0",
   "language": "julia",
   "name": "julia-1.4"
  },
  "language_info": {
   "file_extension": ".jl",
   "mimetype": "application/julia",
   "name": "julia",
   "version": "1.4.0"
  }
 },
 "nbformat": 4,
 "nbformat_minor": 4
}
