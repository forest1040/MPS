{
 "cells": [
  {
   "cell_type": "code",
   "execution_count": 1,
   "metadata": {},
   "outputs": [],
   "source": [
    "using LinearAlgebra\n",
    "\n",
    "include(\"./MPS.jl\")\n",
    "using .MPSforQuantum"
   ]
  },
  {
   "cell_type": "markdown",
   "metadata": {},
   "source": [
    "## MPOの用意"
   ]
  },
  {
   "cell_type": "markdown",
   "metadata": {},
   "source": [
    "$Z_1 Z_2 + Z_2 Z_3 + Z_3 Z_4$"
   ]
  },
  {
   "cell_type": "markdown",
   "metadata": {},
   "source": [
    "$$\n",
    "\\left[\\begin{array}{c}\n",
    "    Z_1 & I_1 & I_1\\\\\n",
    "\\end{array}\\right]\n",
    "\\left[\\begin{array}{c}\n",
    "    Z_2 & 0 & 0\\\\\n",
    "    0 & Z_2 & 0\\\\\n",
    "    0 & 0 & I_2\\\\\n",
    "\\end{array}\\right]\n",
    "\\left[\\begin{array}{c}\n",
    "    I_3 & 0 & 0\\\\\n",
    "    0 & Z_3 & 0\\\\\n",
    "    0 & 0 & Z_3\\\\\n",
    "\\end{array}\\right]\n",
    "\\left[\\begin{array}{c}\n",
    "    I_4\\\\\n",
    "    I_4\\\\\n",
    "    Z_4\n",
    "\\end{array}\\right] \\quad\n",
    "$$"
   ]
  },
  {
   "cell_type": "code",
   "execution_count": 2,
   "metadata": {},
   "outputs": [
    {
     "data": {
      "text/plain": [
       "2×2×3 Array{Complex{Float64},3}:\n",
       "[:, :, 1] =\n",
       " 1.0+0.0im  0.0+0.0im\n",
       " 0.0+0.0im  1.0+0.0im\n",
       "\n",
       "[:, :, 2] =\n",
       " 1.0+0.0im  0.0+0.0im\n",
       " 0.0+0.0im  1.0+0.0im\n",
       "\n",
       "[:, :, 3] =\n",
       " 1.0+0.0im   0.0+0.0im\n",
       " 0.0+0.0im  -1.0+0.0im"
      ]
     },
     "execution_count": 2,
     "metadata": {},
     "output_type": "execute_result"
    }
   ],
   "source": [
    "pauliZ = convert(Array{ComplexF64,2}, [1 0; 0 -1])\n",
    "pauliI = convert(Array{ComplexF64,2}, [1 0; 0 1])\n",
    "zero = convert(Array{ComplexF64,2}, [0 0; 0 0])\n",
    "\n",
    "O = []\n",
    "push!(O, dstack((pauliZ, pauliI, pauliI)) )\n",
    "push!(O, ddstack( [(pauliZ, zero, zero), (zero, pauliZ, zero), (zero, zero, pauliI)] ))\n",
    "push!(O, ddstack( [(pauliI, zero, zero), (zero, pauliZ, zero), (zero, zero, pauliZ)] ))\n",
    "push!(O, dstack((pauliI, pauliI, pauliZ)))\n",
    "O[4]"
   ]
  },
  {
   "cell_type": "code",
   "execution_count": 3,
   "metadata": {},
   "outputs": [
    {
     "name": "stdout",
     "output_type": "stream",
     "text": [
      "Complex{Float64}[3.0 + 0.0im]\n",
      "Complex{Float64}[1.0 + 0.0im]\n",
      "Complex{Float64}[-1.0 + 0.0im]\n",
      "Complex{Float64}[1.0 + 0.0im]\n",
      "Complex{Float64}[-1.0 + 0.0im]\n",
      "Complex{Float64}[-3.0 + 0.0im]\n",
      "Complex{Float64}[-1.0 + 0.0im]\n",
      "Complex{Float64}[1.0 + 0.0im]\n",
      "Complex{Float64}[1.0 + 0.0im]\n",
      "Complex{Float64}[-1.0 + 0.0im]\n",
      "Complex{Float64}[-3.0 + 0.0im]\n",
      "Complex{Float64}[-1.0 + 0.0im]\n",
      "Complex{Float64}[1.0 + 0.0im]\n",
      "Complex{Float64}[-1.0 + 0.0im]\n",
      "Complex{Float64}[1.0 + 0.0im]\n",
      "Complex{Float64}[3.0 + 0.0im]\n"
     ]
    }
   ],
   "source": [
    "N = 4\n",
    "eps = 1e-3\n",
    "D = 10\n",
    "\n",
    "for i in 1:16\n",
    "C0 = zeros(ComplexF64, 2^N)\n",
    "C0[i] = 1 # '0001'\n",
    "mps = MPS(C0, eps)\n",
    "# println(restore(mps, 4))\n",
    "expc = expectation(mps, O)\n",
    "println(expc)\n",
    "end"
   ]
  },
  {
   "cell_type": "markdown",
   "metadata": {},
   "source": [
    "## 初期状態ベクトルを適当に用意"
   ]
  },
  {
   "cell_type": "code",
   "execution_count": 5,
   "metadata": {},
   "outputs": [
    {
     "name": "stdout",
     "output_type": "stream",
     "text": [
      "array 1's size: (1, 2)\n",
      "array 2's size: (2, 4)\n",
      "array 3's size: (4, 2)\n",
      "array 4's size: (2, 1)\n",
      "Num of parameters: 40\n",
      "2^N: 16\n",
      "Initial Expectation Value: Complex{Float64}[-0.48136571796827476 - 2.7755575615628914e-17im]\n"
     ]
    }
   ],
   "source": [
    "N = 4\n",
    "C0 = normalize!(rand(ComplexF64, 2^N))\n",
    "\n",
    "D = 20\n",
    "mps = MPS(C0, D, 'r') # convert to MPS\n",
    "mps_size(mps) # print the size of MPS\n",
    "\n",
    "expc = expectation(mps, O)\n",
    "println(\"Initial Expectation Value: \", expc)"
   ]
  },
  {
   "cell_type": "code",
   "execution_count": null,
   "metadata": {},
   "outputs": [],
   "source": [
    "function R_expression(mps, O, t)\n",
    "    N_site = size(mps)[1]\n",
    "    n_phys = 2\n",
    "    contracted_sites = []\n",
    "    for i = t+1:N_site\n",
    "        if i==t+1\n",
    "            a_len1 = size(mps[i-1][1])[2]\n",
    "            a_len2 = size(mps[i][1])[2]\n",
    "            b_len = size(O[i][1, 1, :])[1]\n",
    "            arr = zeros(ComplexF64, a_len1, a_len2, b_len, b_len, a_len1, a_len2)\n",
    "            for a1 = 1:a_len1, a2 = 1:a_len2, b1 = 1:b_len, b2 = 1:b_len, a1_ = 1:a_len1, a2_ = 1:a_len2\n",
    "                for sigma1 = 1:n_phys, sigma2 = 1:n_phys\n",
    "                    arr[a1, a2, b1, b2, a1_, a2_] += mps[i][sigma1]'[a2, a1] * O[i][sigma1, sigma2, b1, b2] * mps[i][sigma2][a1_, a2_]\n",
    "                end\n",
    "            end\n",
    "        push!(contracted_sites, arr)\n",
    "            \n",
    "        elseif i==N_site\n",
    "            # last step\n",
    "            a_len1 = size(mps[i-1][1])[2]\n",
    "            a_len2 = size(mps[i][1])[2]\n",
    "            b_len2 = size(O[i][1, 1, :])[1]\n",
    "            arr_0 = zeros(ComplexF64, n_phys, a_len1, b_len2, a_len2)\n",
    "            for sigma2 = 1:n_phys, a1=1:a_len1, b2 = 1:b_len2, a2 = 1:a_len2\n",
    "                for a1_0=1:a_len1\n",
    "                    arr_0[sigma2, a1, b2, a2] += contracted_sites[i-t][a1, b2, a1_0] * mps[i][sigma2][a1_0, a2]\n",
    "                end\n",
    "            end\n",
    "\n",
    "            arr_1 = zeros(ComplexF64, n_phys, a_len1, a_len2)\n",
    "            for sigma1 = 1:n_phys, a1=1:a_len1, a2 = 1:a_len2\n",
    "                for sigma2 = 1:n_phys, b2 = 1:b_len2\n",
    "                    arr_1[sigma1, a1, a2] += O[i][sigma1, sigma2, b2] * arr_0[sigma2, a1, b2, a2]\n",
    "                end\n",
    "            end\n",
    "\n",
    "            arr = zeros(ComplexF64, a_len2, a_len2)\n",
    "            for a2 = 1:a_len2, a2 = 1:a_len2\n",
    "                for sigma1 = 1:n_phys, a1=1:a_len1\n",
    "                    arr[a2, a2] += mps[i][sigma1]'[a2, a1] * arr_1[sigma1, a1, a2]\n",
    "                end\n",
    "            end\n",
    "        \n",
    "        else\n",
    "            a_len1 = size(mps[i-1][1])[2]\n",
    "            a_len2 = size(mps[i][1])[2]\n",
    "            b_len = size(O[i][1, 1, :, :])[1]\n",
    "            arr = zeros(ComplexF64, a_len2, b_len, a_len2)\n",
    "            for sigma2 = 1:n_phys, a1 = 1:a_len1, b1 = 1:b_len1, a2=1:a_len2\n",
    "                for a0_0 = 1:a_len1\n",
    "                    arr_0[sigma2, a1, b1, a2] += contracted_sites[i-t][a1, a2, b1, b2, a1_, a2_] * mps[i][sigma2][a0_0, a2]\n",
    "                end\n",
    "            end\n",
    "\n",
    "            arr_1 = zeros(ComplexF64, n_phys, b_len2, a_len1, a_len2)\n",
    "            for sigma1 = 1:n_phys, b2 = 1:b_len2, a1 = 1:a_len1, a2=1:a_len2\n",
    "                for sigma2=1:n_phys, b1 = 1:b_len1\n",
    "                    arr_1[sigma1, b2, a1, a2] += O[i][sigma1, sigma2, b1, b2] * arr_0[sigma2, a1, b1, a2]\n",
    "                end\n",
    "            end\n",
    "\n",
    "            arr = zeros(ComplexF64, a_len2, b_len2, a_len2)\n",
    "            for a2_=1:a_len2, b2 = 1:b_len2, a2=1:a_len2\n",
    "                for sigma1 = 1:n_phys, a1 = 1:a_len1\n",
    "                    arr[a2, b2, a2_] += mps[i][sigma1]'[a2, a1] * arr_1[sigma1, b2, a1, a2_]\n",
    "                end\n",
    "            end\n",
    "        end\n",
    "    end\n",
    "end"
   ]
  },
  {
   "cell_type": "code",
   "execution_count": 6,
   "metadata": {},
   "outputs": [],
   "source": [
    "using TensorOperations"
   ]
  },
  {
   "cell_type": "code",
   "execution_count": 9,
   "metadata": {},
   "outputs": [
    {
     "data": {
      "text/plain": [
       "2×2 Array{Float64,2}:\n",
       " 1.0  0.0\n",
       " 0.0  1.0"
      ]
     },
     "execution_count": 9,
     "metadata": {},
     "output_type": "execute_result"
    }
   ],
   "source": [
    "A = pauliZ\n",
    "B = pauliZ\n",
    "C = zeros(2,2)\n",
    "@tensor begin\n",
    "    C[a,c] = A[a,b]*B[b,c]\n",
    "end"
   ]
  },
  {
   "cell_type": "code",
   "execution_count": null,
   "metadata": {},
   "outputs": [],
   "source": []
  }
 ],
 "metadata": {
  "@webio": {
   "lastCommId": null,
   "lastKernelId": null
  },
  "kernelspec": {
   "display_name": "Julia 1.4.0",
   "language": "julia",
   "name": "julia-1.4"
  },
  "language_info": {
   "file_extension": ".jl",
   "mimetype": "application/julia",
   "name": "julia",
   "version": "1.4.0"
  }
 },
 "nbformat": 4,
 "nbformat_minor": 4
}
