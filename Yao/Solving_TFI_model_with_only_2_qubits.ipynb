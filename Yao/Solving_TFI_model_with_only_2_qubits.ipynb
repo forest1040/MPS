{
 "cells": [
  {
   "cell_type": "markdown",
   "metadata": {},
   "source": [
    "Following codes are based on following document, opened by the auther.\n",
    "\n",
    "https://giggleliu.github.io/TwoQubit-VQE.html\n",
    "\n",
    "This notebook is aimed to understand quantum tensor network and research the performance and building block technic."
   ]
  },
  {
   "cell_type": "markdown",
   "metadata": {},
   "source": [
    "# Solving TFI model with only 2 qubits - the 幺 simulation\n",
    "\n",
    "Reference: Variational Quantum Eigensolver with Fewer Qubits\n",
    "\n",
    "Jin-Guo Liu, Yi-Hong Zhang, Yuan Wan, Lei Wang"
   ]
  },
  {
   "cell_type": "code",
   "execution_count": 1,
   "metadata": {},
   "outputs": [],
   "source": [
    "using Yao\n",
    "using Statistics: mean\n",
    "using LinearAlgebra\n",
    "using Plots"
   ]
  },
  {
   "cell_type": "markdown",
   "metadata": {},
   "source": [
    "### Build a quantum circuit inspired by MPS\n",
    "\n",
    "The goal of this section is to build the MPS-inspired sampler as our ansatz"
   ]
  },
  {
   "cell_type": "code",
   "execution_count": 41,
   "metadata": {},
   "outputs": [
    {
     "data": {
      "text/plain": [
       "twoqubit_circuit"
      ]
     },
     "execution_count": 41,
     "metadata": {},
     "output_type": "execute_result"
    }
   ],
   "source": [
    "rotor(noleading::Bool=false, notrailing::Bool=false) = noleading ? (notrailing ? Rx(0) : chain(Rx(0), Rz(0))) : (notrailing ? chain(Rz(0), Rx(0)) : chain(Rz(0), Rx(0), Rz(0)))\n",
    "\n",
    "# TT: Rx(0), TF: Rx(0)Rz(0), FT: Rz(0), FF: Rz(0)Rx(0)Rz(0)\n",
    "# 0にはパラメータが後で入る\n",
    "\n",
    "\"\"\"\n",
    "    twoqubit_circuit(nlayer::Int, nrepeat::Int)\n",
    "\n",
    "Construct the above ansatz, `nrepeat` is the number of measure operations,\n",
    "`nlayer` is the length of each block.\n",
    "\"\"\"\n",
    "function twoqubit_circuit(nlayer::Int, nrepeat::Int, operator)\n",
    "    nbit_measure = nbit_virtual = 1\n",
    "    nbit_used = nbit_measure + nbit_virtual # = 2\n",
    "    circuit = chain(nbit_used)\n",
    "\n",
    "    for i=1:nrepeat\n",
    "        unit = chain(nbit_used)\n",
    "        #push!(unit, put(nbit_used, 2=>H))\n",
    "        for j=1:nlayer\n",
    "            push!(unit, put(nbit_used, 1=>rotor(true, false)))\n",
    "            push!(unit, put(nbit_used, 2=>H))\n",
    "            push!(unit, put(nbit_used, 2=>Rz(0.0)))\n",
    "            push!(unit, control(nbit_used, 1, 2=>shift(0.0)))\n",
    "            if j == nlayer\n",
    "                push!(unit, put(nbit_used, 1=>rotor(true, false)))\n",
    "                push!(unit, put(nbit_used, 2=>H))\n",
    "                push!(unit, put(nbit_used, 2=>Rz(0.0)))\n",
    "            end\n",
    "        end\n",
    "        #push!(unit, Measure{nbit_used, 1, AbstractBlock}(Z, (1,), 0, false))\n",
    "        push!(unit, Measure(nbit_used; operator=operator, locs=(1,), resetto=0))\n",
    "        # GeneralMatrixBlock{Hilbert Dim, Currnet Hilbert Dim, MatrixType??} <: PrimitiveBlock{N}\n",
    "        # Measure(n::Int; rng=Random.GLOBAL_RNG, operator=ComputationalBasis(), locs=AllLocs(), resetto=nothing, remove=false)\n",
    "        # resetto: post measured state\n",
    "        if i==nrepeat # last\n",
    "            for k=2:nbit_used\n",
    "                #push!(unit, Measure{nbit_used, 1, AbstractBlock}(Z, (k,), 0, false))\n",
    "                push!(unit, Measure(nbit_used; operator=operator, locs=(k,), resetto=0))\n",
    "            end\n",
    "        end\n",
    "        push!(circuit, unit)\n",
    "    end\n",
    "    dispatch!(circuit, :random)\n",
    "end"
   ]
  },
  {
   "cell_type": "code",
   "execution_count": 42,
   "metadata": {},
   "outputs": [
    {
     "data": {
      "text/plain": [
       "X"
      ]
     },
     "execution_count": 42,
     "metadata": {},
     "output_type": "execute_result"
    }
   ],
   "source": [
    "Measure(2; operator=X, locs=(1,), resetto=0).operator"
   ]
  },
  {
   "cell_type": "code",
   "execution_count": 43,
   "metadata": {},
   "outputs": [
    {
     "data": {
      "text/plain": [
       "\u001b[36mnqubits: 2\u001b[39m\n",
       "\u001b[34m\u001b[1mchain\u001b[22m\u001b[39m\n",
       "├─ \u001b[34m\u001b[1mchain\u001b[22m\u001b[39m\n",
       "│  ├─ \u001b[36m\u001b[1mput on (\u001b[22m\u001b[39m\u001b[36m\u001b[1m1\u001b[22m\u001b[39m\u001b[36m\u001b[1m)\u001b[22m\u001b[39m\n",
       "│  │  └─ \u001b[34m\u001b[1mchain\u001b[22m\u001b[39m\n",
       "│  │     ├─ rot(X, 0.49526804127060386)\n",
       "│  │     └─ rot(Z, 0.7497686124323855)\n",
       "│  ├─ \u001b[36m\u001b[1mput on (\u001b[22m\u001b[39m\u001b[36m\u001b[1m2\u001b[22m\u001b[39m\u001b[36m\u001b[1m)\u001b[22m\u001b[39m\n",
       "│  │  └─ H\n",
       "│  ├─ \u001b[36m\u001b[1mput on (\u001b[22m\u001b[39m\u001b[36m\u001b[1m2\u001b[22m\u001b[39m\u001b[36m\u001b[1m)\u001b[22m\u001b[39m\n",
       "│  │  └─ rot(Z, 0.7498881752719939)\n",
       "│  ├─ \u001b[31m\u001b[1mcontrol(\u001b[22m\u001b[39m\u001b[31m\u001b[1m1\u001b[22m\u001b[39m\u001b[31m\u001b[1m)\u001b[22m\u001b[39m\n",
       "│  │  └─ \u001b[37m\u001b[1m(2,)\u001b[22m\u001b[39m shift(0.8972823909685368)\n",
       "│  ├─ \u001b[36m\u001b[1mput on (\u001b[22m\u001b[39m\u001b[36m\u001b[1m1\u001b[22m\u001b[39m\u001b[36m\u001b[1m)\u001b[22m\u001b[39m\n",
       "│  │  └─ \u001b[34m\u001b[1mchain\u001b[22m\u001b[39m\n",
       "│  │     ├─ rot(X, 0.19403938015604894)\n",
       "│  │     └─ rot(Z, 0.9201493874721554)\n",
       "│  ├─ \u001b[36m\u001b[1mput on (\u001b[22m\u001b[39m\u001b[36m\u001b[1m2\u001b[22m\u001b[39m\u001b[36m\u001b[1m)\u001b[22m\u001b[39m\n",
       "│  │  └─ H\n",
       "│  ├─ \u001b[36m\u001b[1mput on (\u001b[22m\u001b[39m\u001b[36m\u001b[1m2\u001b[22m\u001b[39m\u001b[36m\u001b[1m)\u001b[22m\u001b[39m\n",
       "│  │  └─ rot(Z, 0.613459414492632)\n",
       "│  └─ Measure(2;operator=X, locs=(1,), postprocess=ResetTo{BitBasis.BitStr{1,Int64}}(0 ₍₂₎))\n",
       "├─ \u001b[34m\u001b[1mchain\u001b[22m\u001b[39m\n",
       "│  ├─ \u001b[36m\u001b[1mput on (\u001b[22m\u001b[39m\u001b[36m\u001b[1m1\u001b[22m\u001b[39m\u001b[36m\u001b[1m)\u001b[22m\u001b[39m\n",
       "│  │  └─ \u001b[34m\u001b[1mchain\u001b[22m\u001b[39m\n",
       "│  │     ├─ rot(X, 0.8114329090896917)\n",
       "│  │     └─ rot(Z, 0.4352297242076435)\n",
       "│  ├─ \u001b[36m\u001b[1mput on (\u001b[22m\u001b[39m\u001b[36m\u001b[1m2\u001b[22m\u001b[39m\u001b[36m\u001b[1m)\u001b[22m\u001b[39m\n",
       "│  │  └─ H\n",
       "│  ├─ \u001b[36m\u001b[1mput on (\u001b[22m\u001b[39m\u001b[36m\u001b[1m2\u001b[22m\u001b[39m\u001b[36m\u001b[1m)\u001b[22m\u001b[39m\n",
       "│  │  └─ rot(Z, 0.9427007016058655)\n",
       "│  ├─ \u001b[31m\u001b[1mcontrol(\u001b[22m\u001b[39m\u001b[31m\u001b[1m1\u001b[22m\u001b[39m\u001b[31m\u001b[1m)\u001b[22m\u001b[39m\n",
       "│  │  └─ \u001b[37m\u001b[1m(2,)\u001b[22m\u001b[39m shift(0.43682183231133354)\n",
       "│  ├─ \u001b[36m\u001b[1mput on (\u001b[22m\u001b[39m\u001b[36m\u001b[1m1\u001b[22m\u001b[39m\u001b[36m\u001b[1m)\u001b[22m\u001b[39m\n",
       "│  │  └─ \u001b[34m\u001b[1mchain\u001b[22m\u001b[39m\n",
       "│  │     ├─ rot(X, 0.5968139764813345)\n",
       "│  │     └─ rot(Z, 0.7798885549774279)\n",
       "│  ├─ \u001b[36m\u001b[1mput on (\u001b[22m\u001b[39m\u001b[36m\u001b[1m2\u001b[22m\u001b[39m\u001b[36m\u001b[1m)\u001b[22m\u001b[39m\n",
       "│  │  └─ H\n",
       "│  ├─ \u001b[36m\u001b[1mput on (\u001b[22m\u001b[39m\u001b[36m\u001b[1m2\u001b[22m\u001b[39m\u001b[36m\u001b[1m)\u001b[22m\u001b[39m\n",
       "│  │  └─ rot(Z, 0.4302694004333465)\n",
       "│  └─ Measure(2;operator=X, locs=(1,), postprocess=ResetTo{BitBasis.BitStr{1,Int64}}(0 ₍₂₎))\n",
       "└─ \u001b[34m\u001b[1mchain\u001b[22m\u001b[39m\n",
       "   ├─ \u001b[36m\u001b[1mput on (\u001b[22m\u001b[39m\u001b[36m\u001b[1m1\u001b[22m\u001b[39m\u001b[36m\u001b[1m)\u001b[22m\u001b[39m\n",
       "   │  └─ \u001b[34m\u001b[1mchain\u001b[22m\u001b[39m\n",
       "   │     ├─ rot(X, 0.51296853443736)\n",
       "   │     └─ rot(Z, 0.5807453124733062)\n",
       "   ├─ \u001b[36m\u001b[1mput on (\u001b[22m\u001b[39m\u001b[36m\u001b[1m2\u001b[22m\u001b[39m\u001b[36m\u001b[1m)\u001b[22m\u001b[39m\n",
       "   │  └─ H\n",
       "   ├─ \u001b[36m\u001b[1mput on (\u001b[22m\u001b[39m\u001b[36m\u001b[1m2\u001b[22m\u001b[39m\u001b[36m\u001b[1m)\u001b[22m\u001b[39m\n",
       "   │  └─ rot(Z, 0.15510890348886464)\n",
       "   ├─ \u001b[31m\u001b[1mcontrol(\u001b[22m\u001b[39m\u001b[31m\u001b[1m1\u001b[22m\u001b[39m\u001b[31m\u001b[1m)\u001b[22m\u001b[39m\n",
       "   │  └─ \u001b[37m\u001b[1m(2,)\u001b[22m\u001b[39m shift(0.8977222358272794)\n",
       "   ├─ \u001b[36m\u001b[1mput on (\u001b[22m\u001b[39m\u001b[36m\u001b[1m1\u001b[22m\u001b[39m\u001b[36m\u001b[1m)\u001b[22m\u001b[39m\n",
       "   │  └─ \u001b[34m\u001b[1mchain\u001b[22m\u001b[39m\n",
       "   │     ├─ rot(X, 0.08944843434553573)\n",
       "   │     └─ rot(Z, 0.019680951609170272)\n",
       "   ├─ \u001b[36m\u001b[1mput on (\u001b[22m\u001b[39m\u001b[36m\u001b[1m2\u001b[22m\u001b[39m\u001b[36m\u001b[1m)\u001b[22m\u001b[39m\n",
       "   │  └─ H\n",
       "   ├─ \u001b[36m\u001b[1mput on (\u001b[22m\u001b[39m\u001b[36m\u001b[1m2\u001b[22m\u001b[39m\u001b[36m\u001b[1m)\u001b[22m\u001b[39m\n",
       "   │  └─ rot(Z, 0.48567093599215716)\n",
       "   ├─ Measure(2;operator=X, locs=(1,), postprocess=ResetTo{BitBasis.BitStr{1,Int64}}(0 ₍₂₎))\n",
       "   └─ Measure(2;operator=X, locs=(2,), postprocess=ResetTo{BitBasis.BitStr{1,Int64}}(0 ₍₂₎))\n"
      ]
     },
     "execution_count": 43,
     "metadata": {},
     "output_type": "execute_result"
    }
   ],
   "source": [
    "circuit = twoqubit_circuit(1, 3, X)"
   ]
  },
  {
   "cell_type": "code",
   "execution_count": 44,
   "metadata": {},
   "outputs": [
    {
     "data": {
      "text/plain": [
       "21-element Array{Float64,1}:\n",
       " 0.49526804127060386\n",
       " 0.7497686124323855\n",
       " 0.7498881752719939\n",
       " 0.8972823909685368\n",
       " 0.19403938015604894\n",
       " 0.9201493874721554\n",
       " 0.613459414492632\n",
       " 0.8114329090896917\n",
       " 0.4352297242076435\n",
       " 0.9427007016058655\n",
       " 0.43682183231133354\n",
       " 0.5968139764813345\n",
       " 0.7798885549774279\n",
       " 0.4302694004333465\n",
       " 0.51296853443736\n",
       " 0.5807453124733062\n",
       " 0.15510890348886464\n",
       " 0.8977222358272794\n",
       " 0.08944843434553573\n",
       " 0.019680951609170272\n",
       " 0.48567093599215716"
      ]
     },
     "execution_count": 44,
     "metadata": {},
     "output_type": "execute_result"
    }
   ],
   "source": [
    "parameters(circuit)"
   ]
  },
  {
   "cell_type": "code",
   "execution_count": 45,
   "metadata": {},
   "outputs": [
    {
     "data": {
      "text/plain": [
       "gensample"
      ]
     },
     "execution_count": 45,
     "metadata": {},
     "output_type": "execute_result"
    }
   ],
   "source": [
    "\"\"\"\n",
    "    gensample(circuit, operator; nbatch=1024) -> Vector of Measure\n",
    "\n",
    "Generate samples from MPS-inspired circuit. Here, `nbatch` means nshot.\n",
    "`operator` is the operator to measure.\n",
    "This function returns a vector of `Measure` gates, results are stored in `m.results`.\n",
    "\"\"\"\n",
    "function gensample(circuit; nbatch=1024)\n",
    "    mblocks = collect_blocks(Measure, circuit) # collect all measurement block in circuit\n",
    "    reg = zero_state(nqubits(circuit); nbatch=nbatch)\n",
    "    reg |> circuit\n",
    "    return mblocks\n",
    "end"
   ]
  },
  {
   "cell_type": "code",
   "execution_count": 46,
   "metadata": {},
   "outputs": [
    {
     "name": "stdout",
     "output_type": "stream",
     "text": [
      "Measure[Measure(2;operator=X, locs=(1,), postprocess=ResetTo{BitBasis.BitStr{1,Int64}}(0 ₍₂₎)), Measure(2;operator=X, locs=(1,), postprocess=ResetTo{BitBasis.BitStr{1,Int64}}(0 ₍₂₎)), Measure(2;operator=X, locs=(1,), postprocess=ResetTo{BitBasis.BitStr{1,Int64}}(0 ₍₂₎)), Measure(2;operator=X, locs=(2,), postprocess=ResetTo{BitBasis.BitStr{1,Int64}}(0 ₍₂₎))]\n"
     ]
    },
    {
     "data": {
      "text/plain": [
       "X"
      ]
     },
     "execution_count": 46,
     "metadata": {},
     "output_type": "execute_result"
    }
   ],
   "source": [
    "println(collect_blocks(Measure, circuit))\n",
    "collect_blocks(Measure, circuit)[1].operator"
   ]
  },
  {
   "cell_type": "code",
   "execution_count": 47,
   "metadata": {},
   "outputs": [
    {
     "data": {
      "text/plain": [
       "4-element Array{Measure,1}:\n",
       " Measure(2;operator=X, locs=(1,), postprocess=ResetTo{BitBasis.BitStr{1,Int64}}(0 ₍₂₎))\n",
       " Measure(2;operator=X, locs=(1,), postprocess=ResetTo{BitBasis.BitStr{1,Int64}}(0 ₍₂₎))\n",
       " Measure(2;operator=X, locs=(1,), postprocess=ResetTo{BitBasis.BitStr{1,Int64}}(0 ₍₂₎))\n",
       " Measure(2;operator=X, locs=(2,), postprocess=ResetTo{BitBasis.BitStr{1,Int64}}(0 ₍₂₎))"
      ]
     },
     "execution_count": 47,
     "metadata": {},
     "output_type": "execute_result"
    }
   ],
   "source": [
    "res = gensample(circuit; nbatch=1024)"
   ]
  },
  {
   "cell_type": "code",
   "execution_count": 49,
   "metadata": {},
   "outputs": [
    {
     "data": {
      "text/plain": [
       "1024-element Array{Complex{Float64},1}:\n",
       "  1.0 + 0.0im\n",
       "  1.0 + 0.0im\n",
       "  1.0 + 0.0im\n",
       "  1.0 + 0.0im\n",
       "  1.0 + 0.0im\n",
       "  1.0 + 0.0im\n",
       "  1.0 + 0.0im\n",
       "  1.0 + 0.0im\n",
       " -1.0 + 0.0im\n",
       "  1.0 + 0.0im\n",
       "  1.0 + 0.0im\n",
       "  1.0 + 0.0im\n",
       "  1.0 + 0.0im\n",
       "      ⋮\n",
       "  1.0 + 0.0im\n",
       "  1.0 + 0.0im\n",
       "  1.0 + 0.0im\n",
       "  1.0 + 0.0im\n",
       "  1.0 + 0.0im\n",
       "  1.0 + 0.0im\n",
       "  1.0 + 0.0im\n",
       "  1.0 + 0.0im\n",
       "  1.0 + 0.0im\n",
       "  1.0 + 0.0im\n",
       "  1.0 + 0.0im\n",
       "  1.0 + 0.0im"
      ]
     },
     "execution_count": 49,
     "metadata": {},
     "output_type": "execute_result"
    }
   ],
   "source": [
    "res[4].results"
   ]
  },
  {
   "cell_type": "markdown",
   "metadata": {},
   "source": [
    "# Model Hamiltonians\n",
    "\n",
    "Transverse field Ising Model\n",
    "\n",
    "$H = \\sum^{N-1}_{i=1} s^{z}_{i}s^{z}_{i+1} + h\\sum^{N}_{i=1}s^{x}_{i}$"
   ]
  },
  {
   "cell_type": "code",
   "execution_count": 50,
   "metadata": {},
   "outputs": [
    {
     "data": {
      "text/plain": [
       "nspin (generic function with 1 method)"
      ]
     },
     "execution_count": 50,
     "metadata": {},
     "output_type": "execute_result"
    }
   ],
   "source": [
    "\"\"\"\n",
    "for simplicity, we require an AbstractModel contains `size` and `periodic` members.\n",
    "\"\"\"\n",
    "abstract type AbstractModel{D} end\n",
    "\n",
    "nspin(model::AbstractModel) = prod(model.size)"
   ]
  },
  {
   "cell_type": "code",
   "execution_count": 51,
   "metadata": {},
   "outputs": [
    {
     "data": {
      "text/plain": [
       "TFI"
      ]
     },
     "execution_count": 51,
     "metadata": {},
     "output_type": "execute_result"
    }
   ],
   "source": [
    "\"\"\"\n",
    "transverse field ising model, `h` is the strength of transverse field.\n",
    "\"\"\"\n",
    "struct TFI{D} <:AbstractModel{1}\n",
    "    size::NTuple{D, Int}\n",
    "    h::Float64\n",
    "    periodic::Bool\n",
    "    TFI(size::Int...; h::Real, periodic::Bool) = new{length(size)}(size, Float64(h), periodic)\n",
    "end"
   ]
  },
  {
   "cell_type": "code",
   "execution_count": 52,
   "metadata": {},
   "outputs": [
    {
     "data": {
      "text/plain": [
       "get_bonds (generic function with 2 methods)"
      ]
     },
     "execution_count": 52,
     "metadata": {},
     "output_type": "execute_result"
    }
   ],
   "source": [
    "function get_bonds(model::AbstractModel{1}) # 1-D\n",
    "    nbit, = model.size\n",
    "    [(i, i%nbit+1) for i in 1:(model.periodic ? nbit : nbit-1)]\n",
    "end\n",
    "\n",
    "function get_bonds(model::AbstractModel{2}) # 2-D\n",
    "    m, n = model.size\n",
    "    cis = LinearIndices(model.size)\n",
    "    bonds = Tuple{Int, Int, Float64}[]\n",
    "    for i=1:m, j=1:n\n",
    "        (i!=m || model.periodic) && push!(bonds, (cis[i,j], cis[i%m+1,j]))\n",
    "        (j!=n || model.periodic) && push!(bonds, (cis[i,j], cis[i,j%n+1]))\n",
    "    end\n",
    "    bonds\n",
    "end"
   ]
  },
  {
   "cell_type": "code",
   "execution_count": 53,
   "metadata": {},
   "outputs": [
    {
     "data": {
      "text/plain": [
       "hamiltonian (generic function with 1 method)"
      ]
     },
     "execution_count": 53,
     "metadata": {},
     "output_type": "execute_result"
    }
   ],
   "source": [
    "function hamiltonian(model::TFI{1})\n",
    "    nbit = nspin(model)\n",
    "    sum(repeat(nbit, Z, (i,j)) for (i,j) in get_bonds(model))*0.25 + # 1/4 * Z_i * Z_j\n",
    "    sum(put(nbit, i=>X) for i=1:nbit)*0.5model.h # 1/2 * X_i\n",
    "end"
   ]
  },
  {
   "cell_type": "code",
   "execution_count": 54,
   "metadata": {},
   "outputs": [
    {
     "data": {
      "text/plain": [
       "TFI{1}((4,), 0.5, false)"
      ]
     },
     "execution_count": 54,
     "metadata": {},
     "output_type": "execute_result"
    }
   ],
   "source": [
    "tfi_model = TFI(4; h=0.5, periodic=false)"
   ]
  },
  {
   "cell_type": "code",
   "execution_count": 55,
   "metadata": {},
   "outputs": [
    {
     "data": {
      "text/plain": [
       "(4,)"
      ]
     },
     "execution_count": 55,
     "metadata": {},
     "output_type": "execute_result"
    }
   ],
   "source": [
    "tfi_model.size"
   ]
  },
  {
   "cell_type": "code",
   "execution_count": 56,
   "metadata": {},
   "outputs": [
    {
     "data": {
      "text/plain": [
       "\u001b[36mnqubits: 4\u001b[39m\n",
       "\u001b[31m\u001b[1m+\u001b[22m\u001b[39m\n",
       "├─ \u001b[33m\u001b[1m[scale: 0.25] \u001b[22m\u001b[39m\u001b[31m\u001b[1m+\u001b[22m\u001b[39m\n",
       "│     ├─ \u001b[31m\u001b[1m+\u001b[22m\u001b[39m\n",
       "│     │  ├─ \u001b[36m\u001b[1mrepeat on (\u001b[22m\u001b[39m\u001b[36m\u001b[1m1\u001b[22m\u001b[39m\u001b[36m\u001b[1m, \u001b[22m\u001b[39m\u001b[36m\u001b[1m2\u001b[22m\u001b[39m\u001b[36m\u001b[1m)\u001b[22m\u001b[39m\n",
       "│     │  │  └─ Z\n",
       "│     │  └─ \u001b[36m\u001b[1mrepeat on (\u001b[22m\u001b[39m\u001b[36m\u001b[1m2\u001b[22m\u001b[39m\u001b[36m\u001b[1m, \u001b[22m\u001b[39m\u001b[36m\u001b[1m3\u001b[22m\u001b[39m\u001b[36m\u001b[1m)\u001b[22m\u001b[39m\n",
       "│     │     └─ Z\n",
       "│     └─ \u001b[36m\u001b[1mrepeat on (\u001b[22m\u001b[39m\u001b[36m\u001b[1m3\u001b[22m\u001b[39m\u001b[36m\u001b[1m, \u001b[22m\u001b[39m\u001b[36m\u001b[1m4\u001b[22m\u001b[39m\u001b[36m\u001b[1m)\u001b[22m\u001b[39m\n",
       "│        └─ Z\n",
       "└─ \u001b[33m\u001b[1m[scale: 0.25] \u001b[22m\u001b[39m\u001b[31m\u001b[1m+\u001b[22m\u001b[39m\n",
       "      ├─ \u001b[31m\u001b[1m+\u001b[22m\u001b[39m\n",
       "      │  ├─ \u001b[31m\u001b[1m+\u001b[22m\u001b[39m\n",
       "      │  │  ├─ \u001b[36m\u001b[1mput on (\u001b[22m\u001b[39m\u001b[36m\u001b[1m1\u001b[22m\u001b[39m\u001b[36m\u001b[1m)\u001b[22m\u001b[39m\n",
       "      │  │  │  └─ X\n",
       "      │  │  └─ \u001b[36m\u001b[1mput on (\u001b[22m\u001b[39m\u001b[36m\u001b[1m2\u001b[22m\u001b[39m\u001b[36m\u001b[1m)\u001b[22m\u001b[39m\n",
       "      │  │     └─ X\n",
       "      │  └─ \u001b[36m\u001b[1mput on (\u001b[22m\u001b[39m\u001b[36m\u001b[1m3\u001b[22m\u001b[39m\u001b[36m\u001b[1m)\u001b[22m\u001b[39m\n",
       "      │     └─ X\n",
       "      └─ \u001b[36m\u001b[1mput on (\u001b[22m\u001b[39m\u001b[36m\u001b[1m4\u001b[22m\u001b[39m\u001b[36m\u001b[1m)\u001b[22m\u001b[39m\n",
       "         └─ X\n"
      ]
     },
     "execution_count": 56,
     "metadata": {},
     "output_type": "execute_result"
    }
   ],
   "source": [
    "tfi_h = hamiltonian(tfi_model)"
   ]
  },
  {
   "cell_type": "code",
   "execution_count": 22,
   "metadata": {},
   "outputs": [
    {
     "data": {
      "text/plain": [
       "energy (generic function with 1 method)"
      ]
     },
     "execution_count": 22,
     "metadata": {},
     "output_type": "execute_result"
    }
   ],
   "source": [
    "function ising_energy(circuit, bonds, basis; nbatch=nbatch)\n",
    "    mblocks = gensample(circuit, basis; nbatch=nbatch) # get measurement blocks and do sampling\n",
    "    nspin = length(mblocks)\n",
    "    \n",
    "    local eng = 0.0\n",
    "    for (a, b) in bonds\n",
    "        eng += mean(mblocks[a].results .* mblocks[b].results)\n",
    "    end\n",
    "    eng/=4\n",
    "end\n",
    "\n",
    "function energy(circuit, model::TFI; nbatch=1024)\n",
    "    # measuring Z\n",
    "    eng = ising_energy(circuit, get_bonds(model), Z; nbatch=nbatch)\n",
    "    # measuring X\n",
    "    mblocks = gensample(circuit, X; nbatch=nbatch)\n",
    "    engx = sum(mean.([m.results for m in mblocks]))\n",
    "    eng + model.h*engx/2\n",
    "end"
   ]
  },
  {
   "cell_type": "code",
   "execution_count": 23,
   "metadata": {},
   "outputs": [
    {
     "ename": "MethodError",
     "evalue": "MethodError: no method matching gensample(::ChainBlock{2}, ::ZGate; nbatch=100000)\nClosest candidates are:\n  gensample(::Any; nbatch) at In[6]:9",
     "output_type": "error",
     "traceback": [
      "MethodError: no method matching gensample(::ChainBlock{2}, ::ZGate; nbatch=100000)\nClosest candidates are:\n  gensample(::Any; nbatch) at In[6]:9",
      "",
      "Stacktrace:",
      " [1] ising_energy(::ChainBlock{2}, ::Array{Tuple{Int64,Int64},1}, ::ZGate; nbatch::Int64) at ./In[22]:2",
      " [2] energy(::ChainBlock{2}, ::TFI{1}; nbatch::Int64) at ./In[22]:13",
      " [3] top-level scope at In[23]:1"
     ]
    }
   ],
   "source": [
    "energy(circuit, tfi_model; nbatch=100000)"
   ]
  },
  {
   "cell_type": "code",
   "execution_count": null,
   "metadata": {},
   "outputs": [],
   "source": []
  }
 ],
 "metadata": {
  "kernelspec": {
   "display_name": "Julia 1.4.2",
   "language": "julia",
   "name": "julia-1.4"
  },
  "language_info": {
   "file_extension": ".jl",
   "mimetype": "application/julia",
   "name": "julia",
   "version": "1.4.2"
  }
 },
 "nbformat": 4,
 "nbformat_minor": 4
}
