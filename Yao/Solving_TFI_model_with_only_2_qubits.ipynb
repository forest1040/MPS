{
 "cells": [
  {
   "cell_type": "markdown",
   "metadata": {},
   "source": [
    "Following codes are based on following document, opened by the auther.\n",
    "\n",
    "https://giggleliu.github.io/TwoQubit-VQE.html\n",
    "\n",
    "This notebook is aimed to understand quantum tensor network and research the performance and building block technic."
   ]
  },
  {
   "cell_type": "markdown",
   "metadata": {},
   "source": [
    "# Solving TFI model with only 2 qubits - the 幺 simulation\n",
    "\n",
    "Reference: Variational Quantum Eigensolver with Fewer Qubits\n",
    "\n",
    "Jin-Guo Liu, Yi-Hong Zhang, Yuan Wan, Lei Wang"
   ]
  },
  {
   "cell_type": "code",
   "execution_count": 11,
   "metadata": {},
   "outputs": [
    {
     "data": {
      "text/plain": [
       "Random._GLOBAL_RNG()"
      ]
     },
     "execution_count": 11,
     "metadata": {},
     "output_type": "execute_result"
    }
   ],
   "source": [
    "using Yao\n",
    "using Statistics: mean\n",
    "using LinearAlgebra\n",
    "using Plots\n",
    "using Random\n",
    "rng = Random.GLOBAL_RNG"
   ]
  },
  {
   "cell_type": "markdown",
   "metadata": {},
   "source": [
    "### Build a quantum circuit inspired by MPS\n",
    "\n",
    "The goal of this section is to build the MPS-inspired sampler as our ansatz"
   ]
  },
  {
   "cell_type": "code",
   "execution_count": 12,
   "metadata": {},
   "outputs": [
    {
     "data": {
      "text/plain": [
       "twoqubit_circuit"
      ]
     },
     "execution_count": 12,
     "metadata": {},
     "output_type": "execute_result"
    }
   ],
   "source": [
    "rotor(noleading::Bool=false, notrailing::Bool=false) = noleading ? (notrailing ? Rx(0) : chain(Rx(0), Rz(0))) : (notrailing ? chain(Rz(0), Rx(0)) : chain(Rz(0), Rx(0), Rz(0)))\n",
    "\n",
    "# TT: Rx(0), TF: Rx(0)Rz(0), FT: Rz(0), FF: Rz(0)Rx(0)Rz(0)\n",
    "# 0にはパラメータが後で入る\n",
    "\n",
    "\"\"\"\n",
    "    twoqubit_circuit(nlayer::Int, nrepeat::Int)\n",
    "\n",
    "Construct the above ansatz, `nrepeat` is the number of measure operations,\n",
    "`nlayer` is the length of each block.\n",
    "\"\"\"\n",
    "function twoqubit_circuit(nlayer::Int, nrepeat::Int, operator)\n",
    "    nbit_measure = nbit_virtual = 1\n",
    "    nbit_used = nbit_measure + nbit_virtual # = 2\n",
    "    circuit = chain(nbit_used)\n",
    "\n",
    "    for i=1:nrepeat\n",
    "        unit = chain(nbit_used)\n",
    "        #push!(unit, put(nbit_used, 2=>H))\n",
    "        for j=1:nlayer\n",
    "            push!(unit, put(nbit_used, 1=>rotor(true, false)))\n",
    "            push!(unit, put(nbit_used, 2=>H))\n",
    "            push!(unit, put(nbit_used, 2=>Rz(0.0)))\n",
    "            push!(unit, control(nbit_used, 1, 2=>shift(0.0)))\n",
    "            if j == nlayer\n",
    "                push!(unit, put(nbit_used, 1=>rotor(true, false)))\n",
    "                push!(unit, put(nbit_used, 2=>H))\n",
    "                push!(unit, put(nbit_used, 2=>Rz(0.0)))\n",
    "            end\n",
    "        end\n",
    "        #push!(unit, Measure{nbit_used, 1, AbstractBlock}(Z, (1,), 0, false))\n",
    "        push!(unit, Measure(nbit_used; operator=operator, locs=(1,), resetto=0))\n",
    "        # GeneralMatrixBlock{Hilbert Dim, Currnet Hilbert Dim, MatrixType??} <: PrimitiveBlock{N}\n",
    "        # Measure(n::Int; rng=Random.GLOBAL_RNG, operator=ComputationalBasis(), locs=AllLocs(), resetto=nothing, remove=false)\n",
    "        # resetto: post measured state\n",
    "        if i==nrepeat # last\n",
    "            for k=2:nbit_used\n",
    "                #push!(unit, Measure{nbit_used, 1, AbstractBlock}(Z, (k,), 0, false))\n",
    "                push!(unit, Measure(nbit_used; operator=operator, locs=(k,), resetto=0))\n",
    "            end\n",
    "        end\n",
    "        push!(circuit, unit)\n",
    "    end\n",
    "    dispatch!(circuit, :random)\n",
    "end"
   ]
  },
  {
   "cell_type": "code",
   "execution_count": 13,
   "metadata": {},
   "outputs": [
    {
     "data": {
      "text/plain": [
       "Measure{2,1,XGate,Tuple{Int64},ResetTo{BitBasis.BitStr{1,Int64}},Random._GLOBAL_RNG}"
      ]
     },
     "execution_count": 13,
     "metadata": {},
     "output_type": "execute_result"
    }
   ],
   "source": [
    "Measure(2; operator=X, locs=(1,), resetto=0).operator\n",
    "typeof(Measure(2; operator=X, locs=(1,), resetto=0))\n",
    "#Measure{2, 1, AbstractBlock, typeof(rng)}(rng, Z, (loc,), 0, false)"
   ]
  },
  {
   "cell_type": "code",
   "execution_count": 14,
   "metadata": {},
   "outputs": [
    {
     "data": {
      "text/plain": [
       "\u001b[36mnqubits: 2\u001b[39m\n",
       "\u001b[34m\u001b[1mchain\u001b[22m\u001b[39m\n",
       "├─ \u001b[34m\u001b[1mchain\u001b[22m\u001b[39m\n",
       "│  ├─ \u001b[36m\u001b[1mput on (\u001b[22m\u001b[39m\u001b[36m\u001b[1m1\u001b[22m\u001b[39m\u001b[36m\u001b[1m)\u001b[22m\u001b[39m\n",
       "│  │  └─ \u001b[34m\u001b[1mchain\u001b[22m\u001b[39m\n",
       "│  │     ├─ rot(X, 0.2972547617268082)\n",
       "│  │     └─ rot(Z, 0.7351686871253604)\n",
       "│  ├─ \u001b[36m\u001b[1mput on (\u001b[22m\u001b[39m\u001b[36m\u001b[1m2\u001b[22m\u001b[39m\u001b[36m\u001b[1m)\u001b[22m\u001b[39m\n",
       "│  │  └─ H\n",
       "│  ├─ \u001b[36m\u001b[1mput on (\u001b[22m\u001b[39m\u001b[36m\u001b[1m2\u001b[22m\u001b[39m\u001b[36m\u001b[1m)\u001b[22m\u001b[39m\n",
       "│  │  └─ rot(Z, 0.47727300557930286)\n",
       "│  ├─ \u001b[31m\u001b[1mcontrol(\u001b[22m\u001b[39m\u001b[31m\u001b[1m1\u001b[22m\u001b[39m\u001b[31m\u001b[1m)\u001b[22m\u001b[39m\n",
       "│  │  └─ \u001b[37m\u001b[1m(2,)\u001b[22m\u001b[39m shift(0.02653311736880104)\n",
       "│  ├─ \u001b[36m\u001b[1mput on (\u001b[22m\u001b[39m\u001b[36m\u001b[1m1\u001b[22m\u001b[39m\u001b[36m\u001b[1m)\u001b[22m\u001b[39m\n",
       "│  │  └─ \u001b[34m\u001b[1mchain\u001b[22m\u001b[39m\n",
       "│  │     ├─ rot(X, 0.849548854099313)\n",
       "│  │     └─ rot(Z, 0.17908784832428637)\n",
       "│  ├─ \u001b[36m\u001b[1mput on (\u001b[22m\u001b[39m\u001b[36m\u001b[1m2\u001b[22m\u001b[39m\u001b[36m\u001b[1m)\u001b[22m\u001b[39m\n",
       "│  │  └─ H\n",
       "│  ├─ \u001b[36m\u001b[1mput on (\u001b[22m\u001b[39m\u001b[36m\u001b[1m2\u001b[22m\u001b[39m\u001b[36m\u001b[1m)\u001b[22m\u001b[39m\n",
       "│  │  └─ rot(Z, 0.8122549646093231)\n",
       "│  └─ Measure(2;operator=X, locs=(1,), postprocess=ResetTo{BitBasis.BitStr{1,Int64}}(0 ₍₂₎))\n",
       "├─ \u001b[34m\u001b[1mchain\u001b[22m\u001b[39m\n",
       "│  ├─ \u001b[36m\u001b[1mput on (\u001b[22m\u001b[39m\u001b[36m\u001b[1m1\u001b[22m\u001b[39m\u001b[36m\u001b[1m)\u001b[22m\u001b[39m\n",
       "│  │  └─ \u001b[34m\u001b[1mchain\u001b[22m\u001b[39m\n",
       "│  │     ├─ rot(X, 0.5245352137083092)\n",
       "│  │     └─ rot(Z, 0.5111369059826725)\n",
       "│  ├─ \u001b[36m\u001b[1mput on (\u001b[22m\u001b[39m\u001b[36m\u001b[1m2\u001b[22m\u001b[39m\u001b[36m\u001b[1m)\u001b[22m\u001b[39m\n",
       "│  │  └─ H\n",
       "│  ├─ \u001b[36m\u001b[1mput on (\u001b[22m\u001b[39m\u001b[36m\u001b[1m2\u001b[22m\u001b[39m\u001b[36m\u001b[1m)\u001b[22m\u001b[39m\n",
       "│  │  └─ rot(Z, 0.059116858692093155)\n",
       "│  ├─ \u001b[31m\u001b[1mcontrol(\u001b[22m\u001b[39m\u001b[31m\u001b[1m1\u001b[22m\u001b[39m\u001b[31m\u001b[1m)\u001b[22m\u001b[39m\n",
       "│  │  └─ \u001b[37m\u001b[1m(2,)\u001b[22m\u001b[39m shift(0.5737929743635237)\n",
       "│  ├─ \u001b[36m\u001b[1mput on (\u001b[22m\u001b[39m\u001b[36m\u001b[1m1\u001b[22m\u001b[39m\u001b[36m\u001b[1m)\u001b[22m\u001b[39m\n",
       "│  │  └─ \u001b[34m\u001b[1mchain\u001b[22m\u001b[39m\n",
       "│  │     ├─ rot(X, 0.12198874175650865)\n",
       "│  │     └─ rot(Z, 0.7261702913939085)\n",
       "│  ├─ \u001b[36m\u001b[1mput on (\u001b[22m\u001b[39m\u001b[36m\u001b[1m2\u001b[22m\u001b[39m\u001b[36m\u001b[1m)\u001b[22m\u001b[39m\n",
       "│  │  └─ H\n",
       "│  ├─ \u001b[36m\u001b[1mput on (\u001b[22m\u001b[39m\u001b[36m\u001b[1m2\u001b[22m\u001b[39m\u001b[36m\u001b[1m)\u001b[22m\u001b[39m\n",
       "│  │  └─ rot(Z, 0.790108012439581)\n",
       "│  └─ Measure(2;operator=X, locs=(1,), postprocess=ResetTo{BitBasis.BitStr{1,Int64}}(0 ₍₂₎))\n",
       "└─ \u001b[34m\u001b[1mchain\u001b[22m\u001b[39m\n",
       "   ├─ \u001b[36m\u001b[1mput on (\u001b[22m\u001b[39m\u001b[36m\u001b[1m1\u001b[22m\u001b[39m\u001b[36m\u001b[1m)\u001b[22m\u001b[39m\n",
       "   │  └─ \u001b[34m\u001b[1mchain\u001b[22m\u001b[39m\n",
       "   │     ├─ rot(X, 0.4321454452242739)\n",
       "   │     └─ rot(Z, 0.6632386565406732)\n",
       "   ├─ \u001b[36m\u001b[1mput on (\u001b[22m\u001b[39m\u001b[36m\u001b[1m2\u001b[22m\u001b[39m\u001b[36m\u001b[1m)\u001b[22m\u001b[39m\n",
       "   │  └─ H\n",
       "   ├─ \u001b[36m\u001b[1mput on (\u001b[22m\u001b[39m\u001b[36m\u001b[1m2\u001b[22m\u001b[39m\u001b[36m\u001b[1m)\u001b[22m\u001b[39m\n",
       "   │  └─ rot(Z, 0.004489349901292794)\n",
       "   ├─ \u001b[31m\u001b[1mcontrol(\u001b[22m\u001b[39m\u001b[31m\u001b[1m1\u001b[22m\u001b[39m\u001b[31m\u001b[1m)\u001b[22m\u001b[39m\n",
       "   │  └─ \u001b[37m\u001b[1m(2,)\u001b[22m\u001b[39m shift(0.470032246486368)\n",
       "   ├─ \u001b[36m\u001b[1mput on (\u001b[22m\u001b[39m\u001b[36m\u001b[1m1\u001b[22m\u001b[39m\u001b[36m\u001b[1m)\u001b[22m\u001b[39m\n",
       "   │  └─ \u001b[34m\u001b[1mchain\u001b[22m\u001b[39m\n",
       "   │     ├─ rot(X, 0.6848794273767218)\n",
       "   │     └─ rot(Z, 0.37983070647219264)\n",
       "   ├─ \u001b[36m\u001b[1mput on (\u001b[22m\u001b[39m\u001b[36m\u001b[1m2\u001b[22m\u001b[39m\u001b[36m\u001b[1m)\u001b[22m\u001b[39m\n",
       "   │  └─ H\n",
       "   ├─ \u001b[36m\u001b[1mput on (\u001b[22m\u001b[39m\u001b[36m\u001b[1m2\u001b[22m\u001b[39m\u001b[36m\u001b[1m)\u001b[22m\u001b[39m\n",
       "   │  └─ rot(Z, 0.8143509280295278)\n",
       "   ├─ Measure(2;operator=X, locs=(1,), postprocess=ResetTo{BitBasis.BitStr{1,Int64}}(0 ₍₂₎))\n",
       "   └─ Measure(2;operator=X, locs=(2,), postprocess=ResetTo{BitBasis.BitStr{1,Int64}}(0 ₍₂₎))\n"
      ]
     },
     "execution_count": 14,
     "metadata": {},
     "output_type": "execute_result"
    }
   ],
   "source": [
    "circuit = twoqubit_circuit(1, 3, X)"
   ]
  },
  {
   "cell_type": "code",
   "execution_count": 15,
   "metadata": {},
   "outputs": [
    {
     "data": {
      "text/plain": [
       "21-element Array{Float64,1}:\n",
       " 0.2972547617268082\n",
       " 0.7351686871253604\n",
       " 0.47727300557930286\n",
       " 0.02653311736880104\n",
       " 0.849548854099313\n",
       " 0.17908784832428637\n",
       " 0.8122549646093231\n",
       " 0.5245352137083092\n",
       " 0.5111369059826725\n",
       " 0.059116858692093155\n",
       " 0.5737929743635237\n",
       " 0.12198874175650865\n",
       " 0.7261702913939085\n",
       " 0.790108012439581\n",
       " 0.4321454452242739\n",
       " 0.6632386565406732\n",
       " 0.004489349901292794\n",
       " 0.470032246486368\n",
       " 0.6848794273767218\n",
       " 0.37983070647219264\n",
       " 0.8143509280295278"
      ]
     },
     "execution_count": 15,
     "metadata": {},
     "output_type": "execute_result"
    }
   ],
   "source": [
    "parameters(circuit)"
   ]
  },
  {
   "cell_type": "code",
   "execution_count": 16,
   "metadata": {},
   "outputs": [
    {
     "data": {
      "text/plain": [
       "gensample"
      ]
     },
     "execution_count": 16,
     "metadata": {},
     "output_type": "execute_result"
    }
   ],
   "source": [
    "\"\"\"\n",
    "    gensample(circuit, operator; nbatch=1024) -> Vector of Measure\n",
    "\n",
    "Generate samples from MPS-inspired circuit. Here, `nbatch` means nshot.\n",
    "`operator` is the operator to measure.\n",
    "This function returns a vector of `Measure` gates, results are stored in `m.results`.\n",
    "\"\"\"\n",
    "function gensample(circuit; nbatch=1024)\n",
    "    mblocks = collect_blocks(Measure, circuit) # collect all measurement block in circuit\n",
    "    reg = zero_state(nqubits(circuit); nbatch=nbatch)\n",
    "    reg |> circuit\n",
    "    return mblocks\n",
    "end"
   ]
  },
  {
   "cell_type": "code",
   "execution_count": 17,
   "metadata": {},
   "outputs": [
    {
     "name": "stdout",
     "output_type": "stream",
     "text": [
      "Measure[Measure(2;operator=X, locs=(1,), postprocess=ResetTo{BitBasis.BitStr{1,Int64}}(0 ₍₂₎)), Measure(2;operator=X, locs=(1,), postprocess=ResetTo{BitBasis.BitStr{1,Int64}}(0 ₍₂₎)), Measure(2;operator=X, locs=(1,), postprocess=ResetTo{BitBasis.BitStr{1,Int64}}(0 ₍₂₎)), Measure(2;operator=X, locs=(2,), postprocess=ResetTo{BitBasis.BitStr{1,Int64}}(0 ₍₂₎))]\n"
     ]
    },
    {
     "data": {
      "text/plain": [
       "X"
      ]
     },
     "execution_count": 17,
     "metadata": {},
     "output_type": "execute_result"
    }
   ],
   "source": [
    "println(collect_blocks(Measure, circuit))\n",
    "collect_blocks(Measure, circuit)[1].operator"
   ]
  },
  {
   "cell_type": "code",
   "execution_count": 18,
   "metadata": {},
   "outputs": [
    {
     "data": {
      "text/plain": [
       "4-element Array{Measure,1}:\n",
       " Measure(2;operator=X, locs=(1,), postprocess=ResetTo{BitBasis.BitStr{1,Int64}}(0 ₍₂₎))\n",
       " Measure(2;operator=X, locs=(1,), postprocess=ResetTo{BitBasis.BitStr{1,Int64}}(0 ₍₂₎))\n",
       " Measure(2;operator=X, locs=(1,), postprocess=ResetTo{BitBasis.BitStr{1,Int64}}(0 ₍₂₎))\n",
       " Measure(2;operator=X, locs=(2,), postprocess=ResetTo{BitBasis.BitStr{1,Int64}}(0 ₍₂₎))"
      ]
     },
     "execution_count": 18,
     "metadata": {},
     "output_type": "execute_result"
    }
   ],
   "source": [
    "res = gensample(circuit; nbatch=1024)"
   ]
  },
  {
   "cell_type": "code",
   "execution_count": 19,
   "metadata": {},
   "outputs": [
    {
     "data": {
      "text/plain": [
       "1024-element Array{Complex{Float64},1}:\n",
       "  1.0 + 0.0im\n",
       " -1.0 + 0.0im\n",
       "  1.0 + 0.0im\n",
       "  1.0 + 0.0im\n",
       "  1.0 + 0.0im\n",
       "  1.0 + 0.0im\n",
       "  1.0 + 0.0im\n",
       " -1.0 + 0.0im\n",
       "  1.0 + 0.0im\n",
       "  1.0 + 0.0im\n",
       " -1.0 + 0.0im\n",
       " -1.0 + 0.0im\n",
       "  1.0 + 0.0im\n",
       "      ⋮\n",
       "  1.0 + 0.0im\n",
       " -1.0 + 0.0im\n",
       "  1.0 + 0.0im\n",
       "  1.0 + 0.0im\n",
       " -1.0 + 0.0im\n",
       "  1.0 + 0.0im\n",
       "  1.0 + 0.0im\n",
       "  1.0 + 0.0im\n",
       " -1.0 + 0.0im\n",
       "  1.0 + 0.0im\n",
       "  1.0 + 0.0im\n",
       " -1.0 + 0.0im"
      ]
     },
     "execution_count": 19,
     "metadata": {},
     "output_type": "execute_result"
    }
   ],
   "source": [
    "res[4].results"
   ]
  },
  {
   "cell_type": "markdown",
   "metadata": {},
   "source": [
    "# Model Hamiltonians\n",
    "\n",
    "## Transverse field Ising Model\n",
    "\n",
    "$H = \\sum^{N-1}_{i=1} s^{z}_{i}s^{z}_{i+1} + h\\sum^{N}_{i=1}s^{x}_{i}$"
   ]
  },
  {
   "cell_type": "code",
   "execution_count": 20,
   "metadata": {},
   "outputs": [
    {
     "data": {
      "text/plain": [
       "nspin (generic function with 1 method)"
      ]
     },
     "execution_count": 20,
     "metadata": {},
     "output_type": "execute_result"
    }
   ],
   "source": [
    "\"\"\"\n",
    "for simplicity, we require an AbstractModel contains `size` and `periodic` members.\n",
    "\"\"\"\n",
    "abstract type AbstractModel{D} end\n",
    "\n",
    "nspin(model::AbstractModel) = prod(model.size)"
   ]
  },
  {
   "cell_type": "code",
   "execution_count": 21,
   "metadata": {},
   "outputs": [
    {
     "data": {
      "text/plain": [
       "TFI"
      ]
     },
     "execution_count": 21,
     "metadata": {},
     "output_type": "execute_result"
    }
   ],
   "source": [
    "\"\"\"\n",
    "transverse field ising model, `h` is the strength of transverse field.\n",
    "\"\"\"\n",
    "struct TFI{D} <:AbstractModel{1}\n",
    "    size::NTuple{D, Int}\n",
    "    h::Float64\n",
    "    periodic::Bool\n",
    "    TFI(size::Int...; h::Real, periodic::Bool) = new{length(size)}(size, Float64(h), periodic)\n",
    "end"
   ]
  },
  {
   "cell_type": "code",
   "execution_count": 22,
   "metadata": {},
   "outputs": [
    {
     "data": {
      "text/plain": [
       "get_bonds (generic function with 2 methods)"
      ]
     },
     "execution_count": 22,
     "metadata": {},
     "output_type": "execute_result"
    }
   ],
   "source": [
    "function get_bonds(model::AbstractModel{1}) # 1-D\n",
    "    nbit, = model.size\n",
    "    [(i, i%nbit+1) for i in 1:(model.periodic ? nbit : nbit-1)]\n",
    "end\n",
    "\n",
    "function get_bonds(model::AbstractModel{2}) # 2-D\n",
    "    m, n = model.size\n",
    "    cis = LinearIndices(model.size)\n",
    "    bonds = Tuple{Int, Int, Float64}[]\n",
    "    for i=1:m, j=1:n\n",
    "        (i!=m || model.periodic) && push!(bonds, (cis[i,j], cis[i%m+1,j]))\n",
    "        (j!=n || model.periodic) && push!(bonds, (cis[i,j], cis[i,j%n+1]))\n",
    "    end\n",
    "    bonds\n",
    "end"
   ]
  },
  {
   "cell_type": "code",
   "execution_count": 23,
   "metadata": {},
   "outputs": [
    {
     "data": {
      "text/plain": [
       "hamiltonian (generic function with 1 method)"
      ]
     },
     "execution_count": 23,
     "metadata": {},
     "output_type": "execute_result"
    }
   ],
   "source": [
    "function hamiltonian(model::TFI{1})\n",
    "    nbit = nspin(model)\n",
    "    sum(repeat(nbit, Z, (i,j)) for (i,j) in get_bonds(model))*0.25 + # 1/4 * Z_i * Z_j\n",
    "    sum(put(nbit, i=>X) for i=1:nbit)*0.5model.h # 1/2 * X_i\n",
    "end"
   ]
  },
  {
   "cell_type": "code",
   "execution_count": 24,
   "metadata": {},
   "outputs": [
    {
     "data": {
      "text/plain": [
       "TFI{1}((4,), 0.5, false)"
      ]
     },
     "execution_count": 24,
     "metadata": {},
     "output_type": "execute_result"
    }
   ],
   "source": [
    "tfi_model = TFI(4; h=0.5, periodic=false)"
   ]
  },
  {
   "cell_type": "code",
   "execution_count": 25,
   "metadata": {},
   "outputs": [
    {
     "data": {
      "text/plain": [
       "(4,)"
      ]
     },
     "execution_count": 25,
     "metadata": {},
     "output_type": "execute_result"
    }
   ],
   "source": [
    "tfi_model.size"
   ]
  },
  {
   "cell_type": "code",
   "execution_count": 26,
   "metadata": {},
   "outputs": [
    {
     "data": {
      "text/plain": [
       "\u001b[36mnqubits: 4\u001b[39m\n",
       "\u001b[31m\u001b[1m+\u001b[22m\u001b[39m\n",
       "├─ \u001b[33m\u001b[1m[scale: 0.25] \u001b[22m\u001b[39m\u001b[31m\u001b[1m+\u001b[22m\u001b[39m\n",
       "│     ├─ \u001b[31m\u001b[1m+\u001b[22m\u001b[39m\n",
       "│     │  ├─ \u001b[36m\u001b[1mrepeat on (\u001b[22m\u001b[39m\u001b[36m\u001b[1m1\u001b[22m\u001b[39m\u001b[36m\u001b[1m, \u001b[22m\u001b[39m\u001b[36m\u001b[1m2\u001b[22m\u001b[39m\u001b[36m\u001b[1m)\u001b[22m\u001b[39m\n",
       "│     │  │  └─ Z\n",
       "│     │  └─ \u001b[36m\u001b[1mrepeat on (\u001b[22m\u001b[39m\u001b[36m\u001b[1m2\u001b[22m\u001b[39m\u001b[36m\u001b[1m, \u001b[22m\u001b[39m\u001b[36m\u001b[1m3\u001b[22m\u001b[39m\u001b[36m\u001b[1m)\u001b[22m\u001b[39m\n",
       "│     │     └─ Z\n",
       "│     └─ \u001b[36m\u001b[1mrepeat on (\u001b[22m\u001b[39m\u001b[36m\u001b[1m3\u001b[22m\u001b[39m\u001b[36m\u001b[1m, \u001b[22m\u001b[39m\u001b[36m\u001b[1m4\u001b[22m\u001b[39m\u001b[36m\u001b[1m)\u001b[22m\u001b[39m\n",
       "│        └─ Z\n",
       "└─ \u001b[33m\u001b[1m[scale: 0.25] \u001b[22m\u001b[39m\u001b[31m\u001b[1m+\u001b[22m\u001b[39m\n",
       "      ├─ \u001b[31m\u001b[1m+\u001b[22m\u001b[39m\n",
       "      │  ├─ \u001b[31m\u001b[1m+\u001b[22m\u001b[39m\n",
       "      │  │  ├─ \u001b[36m\u001b[1mput on (\u001b[22m\u001b[39m\u001b[36m\u001b[1m1\u001b[22m\u001b[39m\u001b[36m\u001b[1m)\u001b[22m\u001b[39m\n",
       "      │  │  │  └─ X\n",
       "      │  │  └─ \u001b[36m\u001b[1mput on (\u001b[22m\u001b[39m\u001b[36m\u001b[1m2\u001b[22m\u001b[39m\u001b[36m\u001b[1m)\u001b[22m\u001b[39m\n",
       "      │  │     └─ X\n",
       "      │  └─ \u001b[36m\u001b[1mput on (\u001b[22m\u001b[39m\u001b[36m\u001b[1m3\u001b[22m\u001b[39m\u001b[36m\u001b[1m)\u001b[22m\u001b[39m\n",
       "      │     └─ X\n",
       "      └─ \u001b[36m\u001b[1mput on (\u001b[22m\u001b[39m\u001b[36m\u001b[1m4\u001b[22m\u001b[39m\u001b[36m\u001b[1m)\u001b[22m\u001b[39m\n",
       "         └─ X\n"
      ]
     },
     "execution_count": 26,
     "metadata": {},
     "output_type": "execute_result"
    }
   ],
   "source": [
    "tfi_h = hamiltonian(tfi_model)"
   ]
  },
  {
   "cell_type": "code",
   "execution_count": 69,
   "metadata": {},
   "outputs": [
    {
     "data": {
      "text/plain": [
       "energy (generic function with 3 methods)"
      ]
     },
     "execution_count": 69,
     "metadata": {},
     "output_type": "execute_result"
    }
   ],
   "source": [
    "function ising_energy(circuit, nlayer::Int, nrepeat::Int, bonds, basis; nbatch=nbatch)\n",
    "    circuit_with_basis = circuit(nlayer, nrepeat, basis)\n",
    "    mblocks = gensample(circuit_with_basis; nbatch=nbatch) # get measurement blocks and do sampling\n",
    "    nspin = length(mblocks)\n",
    "    local eng = 0.0\n",
    "    for (a, b) in bonds\n",
    "        eng += mean(mblocks[a].results .* mblocks[b].results)\n",
    "    end\n",
    "    eng/=4\n",
    "    return eng, parameters(circuit_with_basis)\n",
    "end\n",
    "\n",
    "function energy(circuit, nlayer::Int, nrepeat::Int, model::TFI; nbatch=1024)\n",
    "    # measuring Z\n",
    "    eng, params = ising_energy(circuit, nlayer, nrepeat, get_bonds(model), Z; nbatch=nbatch)\n",
    "    # measuring X\n",
    "    circuit_with_basis = twoqubit_circuit(nlayer, nrepeat, X)\n",
    "    dispatch!(circuit_with_basis, params)\n",
    "    mblocks = gensample(circuit_with_basis; nbatch=nbatch)\n",
    "    engx = sum(mean.([m.results for m in mblocks]))\n",
    "    eng + model.h*engx/2\n",
    "end"
   ]
  },
  {
   "cell_type": "code",
   "execution_count": 71,
   "metadata": {},
   "outputs": [
    {
     "data": {
      "text/plain": [
       "0.570145 + 0.0im"
      ]
     },
     "execution_count": 71,
     "metadata": {},
     "output_type": "execute_result"
    }
   ],
   "source": [
    "energy(twoqubit_circuit, 1, 3, tfi_model; nbatch=100000)"
   ]
  },
  {
   "cell_type": "markdown",
   "metadata": {},
   "source": [
    "## Heisenberg Model"
   ]
  },
  {
   "cell_type": "markdown",
   "metadata": {},
   "source": [
    "$H = \\sum^{N-1}_{\\alpha = x,y,z;i=1} s^{\\alpha}_{i}s^{\\alpha}_{i+1}$"
   ]
  },
  {
   "cell_type": "code",
   "execution_count": 59,
   "metadata": {},
   "outputs": [],
   "source": [
    "struct Heisenberg{D} <: AbstractModel{D}\n",
    "    size::NTuple{D, Int}\n",
    "    periodic::Bool\n",
    "    Heisenberg(size::Int...; periodic::Bool) = new{length(size)}(size, periodic)\n",
    "end"
   ]
  },
  {
   "cell_type": "code",
   "execution_count": 60,
   "metadata": {},
   "outputs": [
    {
     "data": {
      "text/plain": [
       "hamiltonian (generic function with 2 methods)"
      ]
     },
     "execution_count": 60,
     "metadata": {},
     "output_type": "execute_result"
    }
   ],
   "source": [
    "heisenberg_ij(nbit::Int, i::Int, j::Int=i+1) = put(nbit, i=>X)*put(nbit, j=>X) + put(nbit, i=>Y)*put(nbit, j=>Y) + put(nbit, i=>Z)*put(nbit, j=>Z)\n",
    "function hamiltonian(model::Heisenberg)\n",
    "    nbit = nspin(model)\n",
    "    sum(x->heisenberg_ij(nbit, x[1], x[2]), get_bonds(model))*0.25\n",
    "end"
   ]
  },
  {
   "cell_type": "code",
   "execution_count": 110,
   "metadata": {},
   "outputs": [
    {
     "data": {
      "text/plain": [
       "energy (generic function with 4 methods)"
      ]
     },
     "execution_count": 110,
     "metadata": {},
     "output_type": "execute_result"
    }
   ],
   "source": [
    "function ising_energy(circuit, nlayer::Int, nrepeat::Int, bonds, basis; params=nothing, nbatch=nbatch)\n",
    "    circuit_with_basis = circuit(nlayer, nrepeat, basis)\n",
    "    if params != nothing\n",
    "        dispatch!(circuit_with_basis, params)\n",
    "    end\n",
    "    mblocks = gensample(circuit_with_basis; nbatch=nbatch) # get measurement blocks and do sampling\n",
    "    nspin = length(mblocks)\n",
    "    local eng = 0.0\n",
    "    for (a, b) in bonds\n",
    "        eng += mean(mblocks[a].results .* mblocks[b].results)\n",
    "    end\n",
    "    eng/=4\n",
    "    return eng, parameters(circuit_with_basis)\n",
    "end\n",
    "\n",
    "function energy(circuit, nlayer::Int, nrepeat::Int, model::Heisenberg; nbatch=1024)\n",
    "    bonds = get_bonds(model)\n",
    "    isingX, params = ising_energy(circuit, nlayer, nrepeat, bonds, X; nbatch=nbatch)\n",
    "    isingY, params = ising_energy(circuit, nlayer, nrepeat, bonds, X; params=params, nbatch=nbatch)\n",
    "    isingZ, params = ising_energy(circuit, nlayer, nrepeat, bonds, X; params=params, nbatch=nbatch)\n",
    "    eng = isingX + isingY + isingZ\n",
    "end"
   ]
  },
  {
   "cell_type": "code",
   "execution_count": 111,
   "metadata": {},
   "outputs": [
    {
     "data": {
      "text/plain": [
       "Heisenberg{1}((4,), false)"
      ]
     },
     "execution_count": 111,
     "metadata": {},
     "output_type": "execute_result"
    }
   ],
   "source": [
    "hei_model = Heisenberg(4; periodic=false)"
   ]
  },
  {
   "cell_type": "code",
   "execution_count": 113,
   "metadata": {},
   "outputs": [
    {
     "data": {
      "text/plain": [
       "0.77392578125 + 0.0im"
      ]
     },
     "execution_count": 113,
     "metadata": {},
     "output_type": "execute_result"
    }
   ],
   "source": [
    "energy(twoqubit_circuit, 1, 3, hei_model)"
   ]
  },
  {
   "cell_type": "markdown",
   "metadata": {},
   "source": [
    "# Build the expanded view and check the energy\n",
    "\n",
    "The expanded view is the equivalent model without qubit reusing, it is used for testing purpose. From this circuit, we are able to obtain the ground state wave function directly."
   ]
  },
  {
   "cell_type": "code",
   "execution_count": 121,
   "metadata": {},
   "outputs": [
    {
     "data": {
      "text/plain": [
       "expand_circuit (generic function with 1 method)"
      ]
     },
     "execution_count": 121,
     "metadata": {},
     "output_type": "execute_result"
    }
   ],
   "source": [
    "function expand_circuit(circuit)\n",
    "    nbit = length(collect_blocks(Measure, circuit))\n",
    "    nm = 1\n",
    "    nv = 1\n",
    "    c = chain(nbit)\n",
    "    for (i, blk) in enumerate(circuit) # circuit consists of 3 unit (chain)\n",
    "        blk = chain([b for b in blk if !(b isa Measure)]...)\n",
    "        push!(c, subroutine(nbit, blk, [(i-1)*nm+1:i*nm..., nbit-nv+1:nbit...])) # subroutine(n, block, locs)\n",
    "    end\n",
    "    c\n",
    "end"
   ]
  },
  {
   "cell_type": "code",
   "execution_count": 217,
   "metadata": {},
   "outputs": [
    {
     "data": {
      "text/plain": [
       "\u001b[36mnqubits: 4\u001b[39m\n",
       "Subroutine: (3, 4)\n",
       "└─ \u001b[34m\u001b[1mchain\u001b[22m\u001b[39m\n",
       "   ├─ \u001b[36m\u001b[1mput on (\u001b[22m\u001b[39m\u001b[36m\u001b[1m1\u001b[22m\u001b[39m\u001b[36m\u001b[1m)\u001b[22m\u001b[39m\n",
       "   │  └─ \u001b[34m\u001b[1mchain\u001b[22m\u001b[39m\n",
       "   │     ├─ rot(X, 0.5446317385074191)\n",
       "   │     └─ rot(Z, 0.3472208675835622)\n",
       "   ├─ \u001b[36m\u001b[1mput on (\u001b[22m\u001b[39m\u001b[36m\u001b[1m2\u001b[22m\u001b[39m\u001b[36m\u001b[1m)\u001b[22m\u001b[39m\n",
       "   │  └─ H\n",
       "   ├─ \u001b[36m\u001b[1mput on (\u001b[22m\u001b[39m\u001b[36m\u001b[1m2\u001b[22m\u001b[39m\u001b[36m\u001b[1m)\u001b[22m\u001b[39m\n",
       "   │  └─ rot(Z, 0.5889628499535176)\n",
       "   ├─ \u001b[31m\u001b[1mcontrol(\u001b[22m\u001b[39m\u001b[31m\u001b[1m1\u001b[22m\u001b[39m\u001b[31m\u001b[1m)\u001b[22m\u001b[39m\n",
       "   │  └─ \u001b[37m\u001b[1m(2,)\u001b[22m\u001b[39m shift(0.023556964519714008)\n",
       "   ├─ \u001b[36m\u001b[1mput on (\u001b[22m\u001b[39m\u001b[36m\u001b[1m1\u001b[22m\u001b[39m\u001b[36m\u001b[1m)\u001b[22m\u001b[39m\n",
       "   │  └─ \u001b[34m\u001b[1mchain\u001b[22m\u001b[39m\n",
       "   │     ├─ rot(X, 0.39404519902365376)\n",
       "   │     └─ rot(Z, 0.5945383227685819)\n",
       "   ├─ \u001b[36m\u001b[1mput on (\u001b[22m\u001b[39m\u001b[36m\u001b[1m2\u001b[22m\u001b[39m\u001b[36m\u001b[1m)\u001b[22m\u001b[39m\n",
       "   │  └─ H\n",
       "   └─ \u001b[36m\u001b[1mput on (\u001b[22m\u001b[39m\u001b[36m\u001b[1m2\u001b[22m\u001b[39m\u001b[36m\u001b[1m)\u001b[22m\u001b[39m\n",
       "      └─ rot(Z, 0.8629551112988589)\n"
      ]
     },
     "execution_count": 217,
     "metadata": {},
     "output_type": "execute_result"
    }
   ],
   "source": [
    "circuit = twoqubit_circuit(1, 4, Z)\n",
    "hei_model = Heisenberg(5; periodic=false)\n",
    "\n",
    "nm=1\n",
    "nv=1\n",
    "nbit=4\n",
    "i=3\n",
    "blk = chain([b for b in circuit[i] if !(b isa Measure)]...)\n",
    "subroutine(nbit, blk, [(i-1)*nm+1:i*nm..., nbit-nv+1:nbit...])\n",
    "# locs=[1, 4]なら、元々qubit1, 2にかかってたゲートがqubit1, 4にかかる"
   ]
  },
  {
   "cell_type": "code",
   "execution_count": 218,
   "metadata": {},
   "outputs": [
    {
     "data": {
      "text/plain": [
       "\u001b[36mnqubits: 5\u001b[39m\n",
       "\u001b[34m\u001b[1mchain\u001b[22m\u001b[39m\n",
       "├─ Subroutine: (1, 5)\n",
       "│  └─ \u001b[34m\u001b[1mchain\u001b[22m\u001b[39m\n",
       "│     ├─ \u001b[36m\u001b[1mput on (\u001b[22m\u001b[39m\u001b[36m\u001b[1m1\u001b[22m\u001b[39m\u001b[36m\u001b[1m)\u001b[22m\u001b[39m\n",
       "│     │  └─ \u001b[34m\u001b[1mchain\u001b[22m\u001b[39m\n",
       "│     │     ├─ rot(X, 0.13716780319521793)\n",
       "│     │     └─ rot(Z, 0.28657772893632494)\n",
       "│     ├─ \u001b[36m\u001b[1mput on (\u001b[22m\u001b[39m\u001b[36m\u001b[1m2\u001b[22m\u001b[39m\u001b[36m\u001b[1m)\u001b[22m\u001b[39m\n",
       "│     │  └─ H\n",
       "│     ├─ \u001b[36m\u001b[1mput on (\u001b[22m\u001b[39m\u001b[36m\u001b[1m2\u001b[22m\u001b[39m\u001b[36m\u001b[1m)\u001b[22m\u001b[39m\n",
       "│     │  └─ rot(Z, 0.2873634372307643)\n",
       "│     ├─ \u001b[31m\u001b[1mcontrol(\u001b[22m\u001b[39m\u001b[31m\u001b[1m1\u001b[22m\u001b[39m\u001b[31m\u001b[1m)\u001b[22m\u001b[39m\n",
       "│     │  └─ \u001b[37m\u001b[1m(2,)\u001b[22m\u001b[39m shift(0.2515348872209271)\n",
       "│     ├─ \u001b[36m\u001b[1mput on (\u001b[22m\u001b[39m\u001b[36m\u001b[1m1\u001b[22m\u001b[39m\u001b[36m\u001b[1m)\u001b[22m\u001b[39m\n",
       "│     │  └─ \u001b[34m\u001b[1mchain\u001b[22m\u001b[39m\n",
       "│     │     ├─ rot(X, 0.9970313059194842)\n",
       "│     │     └─ rot(Z, 0.7513890532354695)\n",
       "│     ├─ \u001b[36m\u001b[1mput on (\u001b[22m\u001b[39m\u001b[36m\u001b[1m2\u001b[22m\u001b[39m\u001b[36m\u001b[1m)\u001b[22m\u001b[39m\n",
       "│     │  └─ H\n",
       "│     └─ \u001b[36m\u001b[1mput on (\u001b[22m\u001b[39m\u001b[36m\u001b[1m2\u001b[22m\u001b[39m\u001b[36m\u001b[1m)\u001b[22m\u001b[39m\n",
       "│        └─ rot(Z, 0.8474654591206003)\n",
       "├─ Subroutine: (2, 5)\n",
       "│  └─ \u001b[34m\u001b[1mchain\u001b[22m\u001b[39m\n",
       "│     ├─ \u001b[36m\u001b[1mput on (\u001b[22m\u001b[39m\u001b[36m\u001b[1m1\u001b[22m\u001b[39m\u001b[36m\u001b[1m)\u001b[22m\u001b[39m\n",
       "│     │  └─ \u001b[34m\u001b[1mchain\u001b[22m\u001b[39m\n",
       "│     │     ├─ rot(X, 0.5997859504360255)\n",
       "│     │     └─ rot(Z, 0.513191347602107)\n",
       "│     ├─ \u001b[36m\u001b[1mput on (\u001b[22m\u001b[39m\u001b[36m\u001b[1m2\u001b[22m\u001b[39m\u001b[36m\u001b[1m)\u001b[22m\u001b[39m\n",
       "│     │  └─ H\n",
       "│     ├─ \u001b[36m\u001b[1mput on (\u001b[22m\u001b[39m\u001b[36m\u001b[1m2\u001b[22m\u001b[39m\u001b[36m\u001b[1m)\u001b[22m\u001b[39m\n",
       "│     │  └─ rot(Z, 0.7512199824176007)\n",
       "│     ├─ \u001b[31m\u001b[1mcontrol(\u001b[22m\u001b[39m\u001b[31m\u001b[1m1\u001b[22m\u001b[39m\u001b[31m\u001b[1m)\u001b[22m\u001b[39m\n",
       "│     │  └─ \u001b[37m\u001b[1m(2,)\u001b[22m\u001b[39m shift(0.9479019486778417)\n",
       "│     ├─ \u001b[36m\u001b[1mput on (\u001b[22m\u001b[39m\u001b[36m\u001b[1m1\u001b[22m\u001b[39m\u001b[36m\u001b[1m)\u001b[22m\u001b[39m\n",
       "│     │  └─ \u001b[34m\u001b[1mchain\u001b[22m\u001b[39m\n",
       "│     │     ├─ rot(X, 0.6380836979697222)\n",
       "│     │     └─ rot(Z, 0.2339451662517471)\n",
       "│     ├─ \u001b[36m\u001b[1mput on (\u001b[22m\u001b[39m\u001b[36m\u001b[1m2\u001b[22m\u001b[39m\u001b[36m\u001b[1m)\u001b[22m\u001b[39m\n",
       "│     │  └─ H\n",
       "│     └─ \u001b[36m\u001b[1mput on (\u001b[22m\u001b[39m\u001b[36m\u001b[1m2\u001b[22m\u001b[39m\u001b[36m\u001b[1m)\u001b[22m\u001b[39m\n",
       "│        └─ rot(Z, 0.9038980964025294)\n",
       "├─ Subroutine: (3, 5)\n",
       "│  └─ \u001b[34m\u001b[1mchain\u001b[22m\u001b[39m\n",
       "│     ├─ \u001b[36m\u001b[1mput on (\u001b[22m\u001b[39m\u001b[36m\u001b[1m1\u001b[22m\u001b[39m\u001b[36m\u001b[1m)\u001b[22m\u001b[39m\n",
       "│     │  └─ \u001b[34m\u001b[1mchain\u001b[22m\u001b[39m\n",
       "│     │     ├─ rot(X, 0.5446317385074191)\n",
       "│     │     └─ rot(Z, 0.3472208675835622)\n",
       "│     ├─ \u001b[36m\u001b[1mput on (\u001b[22m\u001b[39m\u001b[36m\u001b[1m2\u001b[22m\u001b[39m\u001b[36m\u001b[1m)\u001b[22m\u001b[39m\n",
       "│     │  └─ H\n",
       "│     ├─ \u001b[36m\u001b[1mput on (\u001b[22m\u001b[39m\u001b[36m\u001b[1m2\u001b[22m\u001b[39m\u001b[36m\u001b[1m)\u001b[22m\u001b[39m\n",
       "│     │  └─ rot(Z, 0.5889628499535176)\n",
       "│     ├─ \u001b[31m\u001b[1mcontrol(\u001b[22m\u001b[39m\u001b[31m\u001b[1m1\u001b[22m\u001b[39m\u001b[31m\u001b[1m)\u001b[22m\u001b[39m\n",
       "│     │  └─ \u001b[37m\u001b[1m(2,)\u001b[22m\u001b[39m shift(0.023556964519714008)\n",
       "│     ├─ \u001b[36m\u001b[1mput on (\u001b[22m\u001b[39m\u001b[36m\u001b[1m1\u001b[22m\u001b[39m\u001b[36m\u001b[1m)\u001b[22m\u001b[39m\n",
       "│     │  └─ \u001b[34m\u001b[1mchain\u001b[22m\u001b[39m\n",
       "│     │     ├─ rot(X, 0.39404519902365376)\n",
       "│     │     └─ rot(Z, 0.5945383227685819)\n",
       "│     ├─ \u001b[36m\u001b[1mput on (\u001b[22m\u001b[39m\u001b[36m\u001b[1m2\u001b[22m\u001b[39m\u001b[36m\u001b[1m)\u001b[22m\u001b[39m\n",
       "│     │  └─ H\n",
       "│     └─ \u001b[36m\u001b[1mput on (\u001b[22m\u001b[39m\u001b[36m\u001b[1m2\u001b[22m\u001b[39m\u001b[36m\u001b[1m)\u001b[22m\u001b[39m\n",
       "│        └─ rot(Z, 0.8629551112988589)\n",
       "└─ Subroutine: (4, 5)\n",
       "   └─ \u001b[34m\u001b[1mchain\u001b[22m\u001b[39m\n",
       "      ├─ \u001b[36m\u001b[1mput on (\u001b[22m\u001b[39m\u001b[36m\u001b[1m1\u001b[22m\u001b[39m\u001b[36m\u001b[1m)\u001b[22m\u001b[39m\n",
       "      │  └─ \u001b[34m\u001b[1mchain\u001b[22m\u001b[39m\n",
       "      │     ├─ rot(X, 0.38043471356463776)\n",
       "      │     └─ rot(Z, 0.6034880194095369)\n",
       "      ├─ \u001b[36m\u001b[1mput on (\u001b[22m\u001b[39m\u001b[36m\u001b[1m2\u001b[22m\u001b[39m\u001b[36m\u001b[1m)\u001b[22m\u001b[39m\n",
       "      │  └─ H\n",
       "      ├─ \u001b[36m\u001b[1mput on (\u001b[22m\u001b[39m\u001b[36m\u001b[1m2\u001b[22m\u001b[39m\u001b[36m\u001b[1m)\u001b[22m\u001b[39m\n",
       "      │  └─ rot(Z, 0.6376907037271116)\n",
       "      ├─ \u001b[31m\u001b[1mcontrol(\u001b[22m\u001b[39m\u001b[31m\u001b[1m1\u001b[22m\u001b[39m\u001b[31m\u001b[1m)\u001b[22m\u001b[39m\n",
       "      │  └─ \u001b[37m\u001b[1m(2,)\u001b[22m\u001b[39m shift(0.07238683349075159)\n",
       "      ├─ \u001b[36m\u001b[1mput on (\u001b[22m\u001b[39m\u001b[36m\u001b[1m1\u001b[22m\u001b[39m\u001b[36m\u001b[1m)\u001b[22m\u001b[39m\n",
       "      │  └─ \u001b[34m\u001b[1mchain\u001b[22m\u001b[39m\n",
       "      │     ├─ rot(X, 0.7920881204319035)\n",
       "      │     └─ rot(Z, 0.8158590177525509)\n",
       "      ├─ \u001b[36m\u001b[1mput on (\u001b[22m\u001b[39m\u001b[36m\u001b[1m2\u001b[22m\u001b[39m\u001b[36m\u001b[1m)\u001b[22m\u001b[39m\n",
       "      │  └─ H\n",
       "      └─ \u001b[36m\u001b[1mput on (\u001b[22m\u001b[39m\u001b[36m\u001b[1m2\u001b[22m\u001b[39m\u001b[36m\u001b[1m)\u001b[22m\u001b[39m\n",
       "         └─ rot(Z, 0.5265531131376631)\n"
      ]
     },
     "execution_count": 218,
     "metadata": {},
     "output_type": "execute_result"
    }
   ],
   "source": [
    "c_expand = expand_circuit(circuit)\n",
    "# Measureを除いた回路"
   ]
  },
  {
   "cell_type": "code",
   "execution_count": 219,
   "metadata": {},
   "outputs": [
    {
     "data": {
      "text/plain": [
       "wave_function (generic function with 1 method)"
      ]
     },
     "execution_count": 219,
     "metadata": {},
     "output_type": "execute_result"
    }
   ],
   "source": [
    "function wave_function(circuit)\n",
    "    #ec = chem2circuit(circuit)\n",
    "    zero_state(nqubits(circuit)) |> circuit\n",
    "end"
   ]
  },
  {
   "cell_type": "code",
   "execution_count": 221,
   "metadata": {},
   "outputs": [
    {
     "name": "stdout",
     "output_type": "stream",
     "text": [
      "expect(hamiltonian(hei_model), wave_function(c_expand)) |> real = 0.8499529029520934\n"
     ]
    }
   ],
   "source": [
    "#@show expect(tfi_h, wave_function(c_expand)) |> real\n",
    "@show expect(hamiltonian(hei_model), wave_function(c_expand)) |> real;"
   ]
  },
  {
   "cell_type": "markdown",
   "metadata": {},
   "source": [
    "# Obtaining the ground state\n",
    "\n",
    "Sequential optimization"
   ]
  },
  {
   "cell_type": "code",
   "execution_count": 222,
   "metadata": {},
   "outputs": [
    {
     "data": {
      "text/plain": [
       "fidelity (generic function with 1 method)"
      ]
     },
     "execution_count": 222,
     "metadata": {},
     "output_type": "execute_result"
    }
   ],
   "source": [
    "function fidelity(circuit, VG)\n",
    "    psi = zero_state(nqubits(circuit)) |> circuit\n",
    "    abs(statevec(psi)' * VG)\n",
    "end"
   ]
  },
  {
   "cell_type": "code",
   "execution_count": 223,
   "metadata": {},
   "outputs": [
    {
     "data": {
      "text/plain": [
       "28"
      ]
     },
     "execution_count": 223,
     "metadata": {},
     "output_type": "execute_result"
    }
   ],
   "source": [
    "nparameters(circuit)"
   ]
  },
  {
   "cell_type": "code",
   "execution_count": 224,
   "metadata": {},
   "outputs": [
    {
     "data": {
      "text/plain": [
       "loss (generic function with 1 method)"
      ]
     },
     "execution_count": 224,
     "metadata": {},
     "output_type": "execute_result"
    }
   ],
   "source": [
    "function loss(hamiltonian, circ)\n",
    "    expect(hamiltonian, wave_function(circ)) |> real\n",
    "    return real\n",
    "end"
   ]
  },
  {
   "cell_type": "code",
   "execution_count": 227,
   "metadata": {},
   "outputs": [
    {
     "data": {
      "text/plain": [
       "ArrayReg{1, Complex{Float64}, Array...}\n",
       "    active qubits: 5/5 => [-0.01877000297592657, -0.002512856895093666, -0.1638917637906169, 0.0012398070841330897, -0.014405577791108277, -0.019278376419091386, 0.03475485824801158, -0.10341649263840422, 0.024652483939704532, -0.19788785157403962  …  0.07215815232281776, 0.02374535174489048, -0.10860147001815784, 0.002607013194380975, 0.06513748264379735, 0.06636779254164607, 0.00691078526935412, -0.09087674350221894, 0.14078263290811094, -0.18242922467490802]"
      ]
     },
     "execution_count": 227,
     "metadata": {},
     "output_type": "execute_result"
    }
   ],
   "source": [
    "a, grad = expect'(hamiltonian(hei_model), zero_state(5) => c_expand)"
   ]
  },
  {
   "cell_type": "code",
   "execution_count": 231,
   "metadata": {},
   "outputs": [
    {
     "name": "stdout",
     "output_type": "stream",
     "text": [
      "energy = -1.3419433400299448\n",
      "[-1.9278862533179943, -1.9278862533179937, -1.207106781186551, -1.207106781186545, -0.8090169943749483, -0.8090169943749471, -0.8090169943749452, -0.8090169943749452, -0.660818587131649, -0.6608185871316482, -0.3090169943749489, -0.3090169943749472, -0.3090169943749466, -0.3090169943749461, 0.20710678118654754, 0.20710678118654824, 0.3090169943749474, 0.30901699437494784, 0.309016994374948, 0.3090169943749484, 0.5887048404496422, 0.5887048404496428, 0.8090169943749469, 0.8090169943749471, 0.8090169943749473, 0.8090169943749477, 0.9999999999999998, 1.0, 1.0, 1.0, 1.0, 1.0000000000000002]"
     ]
    }
   ],
   "source": [
    "dispatch!(c_expand, :random)\n",
    "for i in 1:10000\n",
    "      _, grad = expect'(hamiltonian(hei_model), zero_state(5) => c_expand)\n",
    "      dispatch!(-, c_expand, 0.05 * grad)\n",
    "      #println(\"Step $i, energy = $(real.(expect(hamiltonian(hei_model), zero_state(4)=>c_expand)))\")\n",
    "end\n",
    "\n",
    "println(\"energy = $(real.(expect(hamiltonian(hei_model), zero_state(5)=>c_expand)))\")\n",
    "\n",
    "using LinearAlgebra\n",
    "w, _ = eigen(Matrix(mat(hamiltonian(hei_model))))\n",
    "print(w)"
   ]
  },
  {
   "cell_type": "markdown",
   "metadata": {},
   "source": [
    "Ground stateまでいかない...パラメータ数が足りない？->ansatzの表現力"
   ]
  },
  {
   "cell_type": "code",
   "execution_count": 211,
   "metadata": {},
   "outputs": [
    {
     "data": {
      "text/plain": [
       "\u001b[36mnqubits: 4\u001b[39m\n",
       "\u001b[33m\u001b[1m[scale: 0.25] \u001b[22m\u001b[39m\u001b[31m\u001b[1m+\u001b[22m\u001b[39m\n",
       "   ├─ \u001b[31m\u001b[1m+\u001b[22m\u001b[39m\n",
       "   │  ├─ \u001b[31m\u001b[1m+\u001b[22m\u001b[39m\n",
       "   │  │  ├─ \u001b[34m\u001b[1mchain\u001b[22m\u001b[39m\n",
       "   │  │  │  ├─ \u001b[36m\u001b[1mput on (\u001b[22m\u001b[39m\u001b[36m\u001b[1m2\u001b[22m\u001b[39m\u001b[36m\u001b[1m)\u001b[22m\u001b[39m\n",
       "   │  │  │  │  └─ X\n",
       "   │  │  │  └─ \u001b[36m\u001b[1mput on (\u001b[22m\u001b[39m\u001b[36m\u001b[1m1\u001b[22m\u001b[39m\u001b[36m\u001b[1m)\u001b[22m\u001b[39m\n",
       "   │  │  │     └─ X\n",
       "   │  │  ├─ \u001b[34m\u001b[1mchain\u001b[22m\u001b[39m\n",
       "   │  │  │  ├─ \u001b[36m\u001b[1mput on (\u001b[22m\u001b[39m\u001b[36m\u001b[1m2\u001b[22m\u001b[39m\u001b[36m\u001b[1m)\u001b[22m\u001b[39m\n",
       "   │  │  │  │  └─ Y\n",
       "   │  │  │  └─ \u001b[36m\u001b[1mput on (\u001b[22m\u001b[39m\u001b[36m\u001b[1m1\u001b[22m\u001b[39m\u001b[36m\u001b[1m)\u001b[22m\u001b[39m\n",
       "   │  │  │     └─ Y\n",
       "   │  │  └─ \u001b[34m\u001b[1mchain\u001b[22m\u001b[39m\n",
       "   │  │     ├─ \u001b[36m\u001b[1mput on (\u001b[22m\u001b[39m\u001b[36m\u001b[1m2\u001b[22m\u001b[39m\u001b[36m\u001b[1m)\u001b[22m\u001b[39m\n",
       "   │  │     │  └─ Z\n",
       "   │  │     └─ \u001b[36m\u001b[1mput on (\u001b[22m\u001b[39m\u001b[36m\u001b[1m1\u001b[22m\u001b[39m\u001b[36m\u001b[1m)\u001b[22m\u001b[39m\n",
       "   │  │        └─ Z\n",
       "   │  └─ \u001b[31m\u001b[1m+\u001b[22m\u001b[39m\n",
       "   │     ├─ \u001b[34m\u001b[1mchain\u001b[22m\u001b[39m\n",
       "   │     │  ├─ \u001b[36m\u001b[1mput on (\u001b[22m\u001b[39m\u001b[36m\u001b[1m3\u001b[22m\u001b[39m\u001b[36m\u001b[1m)\u001b[22m\u001b[39m\n",
       "   │     │  │  └─ X\n",
       "   │     │  └─ \u001b[36m\u001b[1mput on (\u001b[22m\u001b[39m\u001b[36m\u001b[1m2\u001b[22m\u001b[39m\u001b[36m\u001b[1m)\u001b[22m\u001b[39m\n",
       "   │     │     └─ X\n",
       "   │     ├─ \u001b[34m\u001b[1mchain\u001b[22m\u001b[39m\n",
       "   │     │  ├─ \u001b[36m\u001b[1mput on (\u001b[22m\u001b[39m\u001b[36m\u001b[1m3\u001b[22m\u001b[39m\u001b[36m\u001b[1m)\u001b[22m\u001b[39m\n",
       "   │     │  │  └─ Y\n",
       "   │     │  └─ \u001b[36m\u001b[1mput on (\u001b[22m\u001b[39m\u001b[36m\u001b[1m2\u001b[22m\u001b[39m\u001b[36m\u001b[1m)\u001b[22m\u001b[39m\n",
       "   │     │     └─ Y\n",
       "   │     └─ \u001b[34m\u001b[1mchain\u001b[22m\u001b[39m\n",
       "   │        ├─ \u001b[36m\u001b[1mput on (\u001b[22m\u001b[39m\u001b[36m\u001b[1m3\u001b[22m\u001b[39m\u001b[36m\u001b[1m)\u001b[22m\u001b[39m\n",
       "   │        │  └─ Z\n",
       "   │        └─ \u001b[36m\u001b[1mput on (\u001b[22m\u001b[39m\u001b[36m\u001b[1m2\u001b[22m\u001b[39m\u001b[36m\u001b[1m)\u001b[22m\u001b[39m\n",
       "   │           └─ Z\n",
       "   └─ \u001b[31m\u001b[1m+\u001b[22m\u001b[39m\n",
       "      ├─ \u001b[34m\u001b[1mchain\u001b[22m\u001b[39m\n",
       "      │  ├─ \u001b[36m\u001b[1mput on (\u001b[22m\u001b[39m\u001b[36m\u001b[1m4\u001b[22m\u001b[39m\u001b[36m\u001b[1m)\u001b[22m\u001b[39m\n",
       "      │  │  └─ X\n",
       "      │  └─ \u001b[36m\u001b[1mput on (\u001b[22m\u001b[39m\u001b[36m\u001b[1m3\u001b[22m\u001b[39m\u001b[36m\u001b[1m)\u001b[22m\u001b[39m\n",
       "      │     └─ X\n",
       "      ├─ \u001b[34m\u001b[1mchain\u001b[22m\u001b[39m\n",
       "      │  ├─ \u001b[36m\u001b[1mput on (\u001b[22m\u001b[39m\u001b[36m\u001b[1m4\u001b[22m\u001b[39m\u001b[36m\u001b[1m)\u001b[22m\u001b[39m\n",
       "      │  │  └─ Y\n",
       "      │  └─ \u001b[36m\u001b[1mput on (\u001b[22m\u001b[39m\u001b[36m\u001b[1m3\u001b[22m\u001b[39m\u001b[36m\u001b[1m)\u001b[22m\u001b[39m\n",
       "      │     └─ Y\n",
       "      └─ \u001b[34m\u001b[1mchain\u001b[22m\u001b[39m\n",
       "         ├─ \u001b[36m\u001b[1mput on (\u001b[22m\u001b[39m\u001b[36m\u001b[1m4\u001b[22m\u001b[39m\u001b[36m\u001b[1m)\u001b[22m\u001b[39m\n",
       "         │  └─ Z\n",
       "         └─ \u001b[36m\u001b[1mput on (\u001b[22m\u001b[39m\u001b[36m\u001b[1m3\u001b[22m\u001b[39m\u001b[36m\u001b[1m)\u001b[22m\u001b[39m\n",
       "            └─ Z\n"
      ]
     },
     "execution_count": 211,
     "metadata": {},
     "output_type": "execute_result"
    }
   ],
   "source": [
    "hamiltonian(hei_model)"
   ]
  },
  {
   "cell_type": "code",
   "execution_count": null,
   "metadata": {},
   "outputs": [],
   "source": []
  }
 ],
 "metadata": {
  "kernelspec": {
   "display_name": "Julia 1.4.0",
   "language": "julia",
   "name": "julia-1.4"
  },
  "language_info": {
   "file_extension": ".jl",
   "mimetype": "application/julia",
   "name": "julia",
   "version": "1.4.0"
  }
 },
 "nbformat": 4,
 "nbformat_minor": 4
}
