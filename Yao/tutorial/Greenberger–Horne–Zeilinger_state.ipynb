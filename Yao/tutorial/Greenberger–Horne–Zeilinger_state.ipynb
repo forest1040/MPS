{
 "cells": [
  {
   "cell_type": "code",
   "execution_count": 36,
   "metadata": {},
   "outputs": [
    {
     "name": "stderr",
     "output_type": "stream",
     "text": [
      "┌ Info: Precompiling Plots [91a5bcdd-55d7-5caf-9e0b-520d859cae80]\n",
      "└ @ Base loading.jl:1260\n"
     ]
    }
   ],
   "source": [
    "using Yao\n",
    "using StatsBase, Plots"
   ]
  },
  {
   "cell_type": "code",
   "execution_count": 3,
   "metadata": {},
   "outputs": [
    {
     "data": {
      "text/plain": [
       "\u001b[36mnqubits: 4\u001b[39m\n",
       "\u001b[34m\u001b[1mchain\u001b[22m\u001b[39m\n",
       "├─ \u001b[36m\u001b[1mput on (\u001b[22m\u001b[39m\u001b[36m\u001b[1m1\u001b[22m\u001b[39m\u001b[36m\u001b[1m)\u001b[22m\u001b[39m\n",
       "│  └─ X\n",
       "├─ \u001b[36m\u001b[1mrepeat on (\u001b[22m\u001b[39m\u001b[36m\u001b[1m2\u001b[22m\u001b[39m\u001b[36m\u001b[1m, \u001b[22m\u001b[39m\u001b[36m\u001b[1m3\u001b[22m\u001b[39m\u001b[36m\u001b[1m, \u001b[22m\u001b[39m\u001b[36m\u001b[1m4\u001b[22m\u001b[39m\u001b[36m\u001b[1m)\u001b[22m\u001b[39m\n",
       "│  └─ H\n",
       "├─ \u001b[31m\u001b[1mcontrol(\u001b[22m\u001b[39m\u001b[31m\u001b[1m2\u001b[22m\u001b[39m\u001b[31m\u001b[1m)\u001b[22m\u001b[39m\n",
       "│  └─ \u001b[37m\u001b[1m(1,)\u001b[22m\u001b[39m X\n",
       "├─ \u001b[31m\u001b[1mcontrol(\u001b[22m\u001b[39m\u001b[31m\u001b[1m4\u001b[22m\u001b[39m\u001b[31m\u001b[1m)\u001b[22m\u001b[39m\n",
       "│  └─ \u001b[37m\u001b[1m(3,)\u001b[22m\u001b[39m X\n",
       "├─ \u001b[31m\u001b[1mcontrol(\u001b[22m\u001b[39m\u001b[31m\u001b[1m3\u001b[22m\u001b[39m\u001b[31m\u001b[1m)\u001b[22m\u001b[39m\n",
       "│  └─ \u001b[37m\u001b[1m(1,)\u001b[22m\u001b[39m X\n",
       "├─ \u001b[31m\u001b[1mcontrol(\u001b[22m\u001b[39m\u001b[31m\u001b[1m4\u001b[22m\u001b[39m\u001b[31m\u001b[1m)\u001b[22m\u001b[39m\n",
       "│  └─ \u001b[37m\u001b[1m(3,)\u001b[22m\u001b[39m X\n",
       "└─ \u001b[36m\u001b[1mrepeat on (\u001b[22m\u001b[39m\u001b[36m\u001b[1m1\u001b[22m\u001b[39m\u001b[36m\u001b[1m, \u001b[22m\u001b[39m\u001b[36m\u001b[1m2\u001b[22m\u001b[39m\u001b[36m\u001b[1m, \u001b[22m\u001b[39m\u001b[36m\u001b[1m3\u001b[22m\u001b[39m\u001b[36m\u001b[1m, \u001b[22m\u001b[39m\u001b[36m\u001b[1m4\u001b[22m\u001b[39m\u001b[36m\u001b[1m)\u001b[22m\u001b[39m\n",
       "   └─ H\n"
      ]
     },
     "execution_count": 3,
     "metadata": {},
     "output_type": "execute_result"
    }
   ],
   "source": [
    "circuit = chain( # compose gates\n",
    "    4,\n",
    "    put(1=>X), # put single gate\n",
    "    repeat(H, 2:4), # Hgates\n",
    "    control(2, 1=>X), # (control, target)\n",
    "    control(4, 3=>X),\n",
    "    control(3, 1=>X),\n",
    "    control(4, 3=>X),\n",
    "    repeat(H, 1:4),\n",
    ")"
   ]
  },
  {
   "cell_type": "code",
   "execution_count": 10,
   "metadata": {},
   "outputs": [
    {
     "data": {
      "text/plain": [
       "\u001b[36mnqubits: 4\u001b[39m\n",
       "\u001b[36m\u001b[1mput on (\u001b[22m\u001b[39m\u001b[36m\u001b[1m1\u001b[22m\u001b[39m\u001b[36m\u001b[1m, \u001b[22m\u001b[39m\u001b[36m\u001b[1m2\u001b[22m\u001b[39m\u001b[36m\u001b[1m)\u001b[22m\u001b[39m\n",
       "└─ \u001b[36m\u001b[1mput on (\u001b[22m\u001b[39m\u001b[36m\u001b[1m1\u001b[22m\u001b[39m\u001b[36m\u001b[1m, \u001b[22m\u001b[39m\u001b[36m\u001b[1m2\u001b[22m\u001b[39m\u001b[36m\u001b[1m)\u001b[22m\u001b[39m\n",
       "   └─ SWAP\n"
      ]
     },
     "execution_count": 10,
     "metadata": {},
     "output_type": "execute_result"
    }
   ],
   "source": [
    "put(4, (1, 2)=>swap(2, 1, 2))\n",
    "# all function can have qubit number as variable"
   ]
  },
  {
   "cell_type": "code",
   "execution_count": 17,
   "metadata": {},
   "outputs": [
    {
     "data": {
      "text/plain": [
       "#7 (generic function with 1 method)"
      ]
     },
     "execution_count": 17,
     "metadata": {},
     "output_type": "execute_result"
    }
   ],
   "source": [
    "put(4, (1, 2)=>swap(2, 1, 2))\n",
    "(n -> put(n, (1, 2)=>swap(2, 1, 2)))"
   ]
  },
  {
   "cell_type": "code",
   "execution_count": 19,
   "metadata": {},
   "outputs": [
    {
     "data": {
      "text/plain": [
       "\u001b[36mnqubits: 2\u001b[39m\n",
       "\u001b[36m\u001b[1mput on (\u001b[22m\u001b[39m\u001b[36m\u001b[1m1\u001b[22m\u001b[39m\u001b[36m\u001b[1m, \u001b[22m\u001b[39m\u001b[36m\u001b[1m2\u001b[22m\u001b[39m\u001b[36m\u001b[1m)\u001b[22m\u001b[39m\n",
       "└─ \u001b[36m\u001b[1mput on (\u001b[22m\u001b[39m\u001b[36m\u001b[1m1\u001b[22m\u001b[39m\u001b[36m\u001b[1m, \u001b[22m\u001b[39m\u001b[36m\u001b[1m2\u001b[22m\u001b[39m\u001b[36m\u001b[1m)\u001b[22m\u001b[39m\n",
       "   └─ SWAP\n"
      ]
     },
     "execution_count": 19,
     "metadata": {},
     "output_type": "execute_result"
    }
   ],
   "source": [
    "put((1, 2)=>swap(2, 1, 2))(2)"
   ]
  },
  {
   "cell_type": "code",
   "execution_count": 21,
   "metadata": {},
   "outputs": [
    {
     "data": {
      "text/plain": [
       "\u001b[36mnqubits: 4\u001b[39m\n",
       "\u001b[31m\u001b[1mcontrol(\u001b[22m\u001b[39m\u001b[31m\u001b[1m2\u001b[22m\u001b[39m\u001b[31m\u001b[1m)\u001b[22m\u001b[39m\n",
       "└─ \u001b[37m\u001b[1m(1,)\u001b[22m\u001b[39m X"
      ]
     },
     "execution_count": 21,
     "metadata": {},
     "output_type": "execute_result"
    }
   ],
   "source": [
    "control(2, 1=>X)\n",
    "(n -> control(n, 2, 1 => X))\n",
    "\n",
    "control(2, 1=>X)(4)"
   ]
  },
  {
   "cell_type": "code",
   "execution_count": 30,
   "metadata": {},
   "outputs": [
    {
     "name": "stdout",
     "output_type": "stream",
     "text": [
      "ChainBlock{4}\n",
      "ChainBlock{4}\n"
     ]
    }
   ],
   "source": [
    "println(typeof(circuit))\n",
    "println(YaoBlocks.ChainBlock{4})"
   ]
  },
  {
   "cell_type": "markdown",
   "metadata": {},
   "source": [
    "# Construct GHZ state from 00...00"
   ]
  },
  {
   "cell_type": "markdown",
   "metadata": {},
   "source": [
    "### create ArrayReg for initial state"
   ]
  },
  {
   "cell_type": "code",
   "execution_count": 31,
   "metadata": {},
   "outputs": [
    {
     "data": {
      "text/plain": [
       "ArrayReg{1, Complex{Float64}, Array...}\n",
       "    active qubits: 4/4"
      ]
     },
     "execution_count": 31,
     "metadata": {},
     "output_type": "execute_result"
    }
   ],
   "source": [
    "zero_state(4)"
   ]
  },
  {
   "cell_type": "code",
   "execution_count": 32,
   "metadata": {},
   "outputs": [
    {
     "data": {
      "text/plain": [
       "ArrayReg{1, Complex{Float64}, Array...}\n",
       "    active qubits: 4/4"
      ]
     },
     "execution_count": 32,
     "metadata": {},
     "output_type": "execute_result"
    }
   ],
   "source": [
    "ArrayReg(bit\"0000\")"
   ]
  },
  {
   "cell_type": "markdown",
   "metadata": {},
   "source": [
    "### Apply ArrayReg to circuit"
   ]
  },
  {
   "cell_type": "code",
   "execution_count": 33,
   "metadata": {},
   "outputs": [
    {
     "data": {
      "text/plain": [
       "ArrayReg{1, Complex{Float64}, Array...}\n",
       "    active qubits: 4/4"
      ]
     },
     "execution_count": 33,
     "metadata": {},
     "output_type": "execute_result"
    }
   ],
   "source": [
    "apply!(zero_state(4), circuit)"
   ]
  },
  {
   "cell_type": "markdown",
   "metadata": {},
   "source": [
    "### |> operator"
   ]
  },
  {
   "cell_type": "code",
   "execution_count": 37,
   "metadata": {},
   "outputs": [
    {
     "data": {
      "text/plain": [
       "1000-element Array{BitBasis.BitStr{4,Int64},1}:\n",
       " 0000 ₍₂₎\n",
       " 1111 ₍₂₎\n",
       " 0000 ₍₂₎\n",
       " 1111 ₍₂₎\n",
       " 0000 ₍₂₎\n",
       " 0000 ₍₂₎\n",
       " 0000 ₍₂₎\n",
       " 0000 ₍₂₎\n",
       " 1111 ₍₂₎\n",
       " 0000 ₍₂₎\n",
       " 1111 ₍₂₎\n",
       " 0000 ₍₂₎\n",
       " 1111 ₍₂₎\n",
       "        ⋮\n",
       " 1111 ₍₂₎\n",
       " 1111 ₍₂₎\n",
       " 1111 ₍₂₎\n",
       " 0000 ₍₂₎\n",
       " 1111 ₍₂₎\n",
       " 1111 ₍₂₎\n",
       " 0000 ₍₂₎\n",
       " 1111 ₍₂₎\n",
       " 0000 ₍₂₎\n",
       " 1111 ₍₂₎\n",
       " 0000 ₍₂₎\n",
       " 0000 ₍₂₎"
      ]
     },
     "execution_count": 37,
     "metadata": {},
     "output_type": "execute_result"
    }
   ],
   "source": [
    "results = zero_state(4) |> circuit |> r->measure(r, nshots=1000)"
   ]
  },
  {
   "cell_type": "code",
   "execution_count": 38,
   "metadata": {},
   "outputs": [
    {
     "data": {
      "image/svg+xml": [
       "<?xml version=\"1.0\" encoding=\"utf-8\"?>\n",
       "<svg xmlns=\"http://www.w3.org/2000/svg\" xmlns:xlink=\"http://www.w3.org/1999/xlink\" width=\"600\" height=\"400\" viewBox=\"0 0 2400 1600\">\n",
       "<defs>\n",
       "  <clipPath id=\"clip920\">\n",
       "    <rect x=\"0\" y=\"0\" width=\"2400\" height=\"1600\"/>\n",
       "  </clipPath>\n",
       "</defs>\n",
       "<path clip-path=\"url(#clip920)\" d=\"\n",
       "M0 1600 L2400 1600 L2400 0 L0 0  Z\n",
       "  \" fill=\"#ffffff\" fill-rule=\"evenodd\" fill-opacity=\"1\"/>\n",
       "<defs>\n",
       "  <clipPath id=\"clip921\">\n",
       "    <rect x=\"480\" y=\"0\" width=\"1681\" height=\"1600\"/>\n",
       "  </clipPath>\n",
       "</defs>\n",
       "<path clip-path=\"url(#clip920)\" d=\"\n",
       "M166.205 1486.45 L2352.76 1486.45 L2352.76 47.2441 L166.205 47.2441  Z\n",
       "  \" fill=\"#ffffff\" fill-rule=\"evenodd\" fill-opacity=\"1\"/>\n",
       "<defs>\n",
       "  <clipPath id=\"clip922\">\n",
       "    <rect x=\"166\" y=\"47\" width=\"2188\" height=\"1440\"/>\n",
       "  </clipPath>\n",
       "</defs>\n",
       "<polyline clip-path=\"url(#clip922)\" style=\"stroke:#000000; stroke-width:2; stroke-opacity:0.1; fill:none\" points=\"\n",
       "  335.735,1486.45 335.735,47.2441 \n",
       "  \"/>\n",
       "<polyline clip-path=\"url(#clip922)\" style=\"stroke:#000000; stroke-width:2; stroke-opacity:0.1; fill:none\" points=\"\n",
       "  951.565,1486.45 951.565,47.2441 \n",
       "  \"/>\n",
       "<polyline clip-path=\"url(#clip922)\" style=\"stroke:#000000; stroke-width:2; stroke-opacity:0.1; fill:none\" points=\"\n",
       "  1567.4,1486.45 1567.4,47.2441 \n",
       "  \"/>\n",
       "<polyline clip-path=\"url(#clip922)\" style=\"stroke:#000000; stroke-width:2; stroke-opacity:0.1; fill:none\" points=\"\n",
       "  2183.23,1486.45 2183.23,47.2441 \n",
       "  \"/>\n",
       "<polyline clip-path=\"url(#clip922)\" style=\"stroke:#000000; stroke-width:2; stroke-opacity:0.1; fill:none\" points=\"\n",
       "  166.205,1445.72 2352.76,1445.72 \n",
       "  \"/>\n",
       "<polyline clip-path=\"url(#clip922)\" style=\"stroke:#000000; stroke-width:2; stroke-opacity:0.1; fill:none\" points=\"\n",
       "  166.205,1180.01 2352.76,1180.01 \n",
       "  \"/>\n",
       "<polyline clip-path=\"url(#clip922)\" style=\"stroke:#000000; stroke-width:2; stroke-opacity:0.1; fill:none\" points=\"\n",
       "  166.205,914.311 2352.76,914.311 \n",
       "  \"/>\n",
       "<polyline clip-path=\"url(#clip922)\" style=\"stroke:#000000; stroke-width:2; stroke-opacity:0.1; fill:none\" points=\"\n",
       "  166.205,648.608 2352.76,648.608 \n",
       "  \"/>\n",
       "<polyline clip-path=\"url(#clip922)\" style=\"stroke:#000000; stroke-width:2; stroke-opacity:0.1; fill:none\" points=\"\n",
       "  166.205,382.906 2352.76,382.906 \n",
       "  \"/>\n",
       "<polyline clip-path=\"url(#clip922)\" style=\"stroke:#000000; stroke-width:2; stroke-opacity:0.1; fill:none\" points=\"\n",
       "  166.205,117.204 2352.76,117.204 \n",
       "  \"/>\n",
       "<polyline clip-path=\"url(#clip920)\" style=\"stroke:#000000; stroke-width:4; stroke-opacity:1; fill:none\" points=\"\n",
       "  166.205,1486.45 2352.76,1486.45 \n",
       "  \"/>\n",
       "<polyline clip-path=\"url(#clip920)\" style=\"stroke:#000000; stroke-width:4; stroke-opacity:1; fill:none\" points=\"\n",
       "  166.205,1486.45 166.205,47.2441 \n",
       "  \"/>\n",
       "<polyline clip-path=\"url(#clip920)\" style=\"stroke:#000000; stroke-width:4; stroke-opacity:1; fill:none\" points=\"\n",
       "  335.735,1486.45 335.735,1469.18 \n",
       "  \"/>\n",
       "<polyline clip-path=\"url(#clip920)\" style=\"stroke:#000000; stroke-width:4; stroke-opacity:1; fill:none\" points=\"\n",
       "  951.565,1486.45 951.565,1469.18 \n",
       "  \"/>\n",
       "<polyline clip-path=\"url(#clip920)\" style=\"stroke:#000000; stroke-width:4; stroke-opacity:1; fill:none\" points=\"\n",
       "  1567.4,1486.45 1567.4,1469.18 \n",
       "  \"/>\n",
       "<polyline clip-path=\"url(#clip920)\" style=\"stroke:#000000; stroke-width:4; stroke-opacity:1; fill:none\" points=\"\n",
       "  2183.23,1486.45 2183.23,1469.18 \n",
       "  \"/>\n",
       "<polyline clip-path=\"url(#clip920)\" style=\"stroke:#000000; stroke-width:4; stroke-opacity:1; fill:none\" points=\"\n",
       "  166.205,1445.72 192.443,1445.72 \n",
       "  \"/>\n",
       "<polyline clip-path=\"url(#clip920)\" style=\"stroke:#000000; stroke-width:4; stroke-opacity:1; fill:none\" points=\"\n",
       "  166.205,1180.01 192.443,1180.01 \n",
       "  \"/>\n",
       "<polyline clip-path=\"url(#clip920)\" style=\"stroke:#000000; stroke-width:4; stroke-opacity:1; fill:none\" points=\"\n",
       "  166.205,914.311 192.443,914.311 \n",
       "  \"/>\n",
       "<polyline clip-path=\"url(#clip920)\" style=\"stroke:#000000; stroke-width:4; stroke-opacity:1; fill:none\" points=\"\n",
       "  166.205,648.608 192.443,648.608 \n",
       "  \"/>\n",
       "<polyline clip-path=\"url(#clip920)\" style=\"stroke:#000000; stroke-width:4; stroke-opacity:1; fill:none\" points=\"\n",
       "  166.205,382.906 192.443,382.906 \n",
       "  \"/>\n",
       "<polyline clip-path=\"url(#clip920)\" style=\"stroke:#000000; stroke-width:4; stroke-opacity:1; fill:none\" points=\"\n",
       "  166.205,117.204 192.443,117.204 \n",
       "  \"/>\n",
       "<path clip-path=\"url(#clip920)\" d=\"M 0 0 M335.735 1508.44 Q332.124 1508.44 330.295 1512 Q328.49 1515.55 328.49 1522.67 Q328.49 1529.78 330.295 1533.35 Q332.124 1536.89 335.735 1536.89 Q339.37 1536.89 341.175 1533.35 Q343.004 1529.78 343.004 1522.67 Q343.004 1515.55 341.175 1512 Q339.37 1508.44 335.735 1508.44 M335.735 1504.73 Q341.545 1504.73 344.601 1509.34 Q347.68 1513.92 347.68 1522.67 Q347.68 1531.4 344.601 1536.01 Q341.545 1540.59 335.735 1540.59 Q329.925 1540.59 326.846 1536.01 Q323.791 1531.4 323.791 1522.67 Q323.791 1513.92 326.846 1509.34 Q329.925 1504.73 335.735 1504.73 Z\" fill=\"#000000\" fill-rule=\"evenodd\" fill-opacity=\"1\" /><path clip-path=\"url(#clip920)\" d=\"M 0 0 M941.843 1505.36 L960.199 1505.36 L960.199 1509.3 L946.125 1509.3 L946.125 1517.77 Q947.144 1517.42 948.163 1517.26 Q949.181 1517.07 950.2 1517.07 Q955.987 1517.07 959.366 1520.24 Q962.746 1523.42 962.746 1528.83 Q962.746 1534.41 959.274 1537.51 Q955.801 1540.59 949.482 1540.59 Q947.306 1540.59 945.038 1540.22 Q942.792 1539.85 940.385 1539.11 L940.385 1534.41 Q942.468 1535.54 944.69 1536.1 Q946.913 1536.66 949.389 1536.66 Q953.394 1536.66 955.732 1534.55 Q958.07 1532.44 958.07 1528.83 Q958.07 1525.22 955.732 1523.11 Q953.394 1521.01 949.389 1521.01 Q947.514 1521.01 945.639 1521.42 Q943.788 1521.84 941.843 1522.72 L941.843 1505.36 Z\" fill=\"#000000\" fill-rule=\"evenodd\" fill-opacity=\"1\" /><path clip-path=\"url(#clip920)\" d=\"M 0 0 M1544.27 1535.98 L1551.91 1535.98 L1551.91 1509.62 L1543.6 1511.29 L1543.6 1507.03 L1551.86 1505.36 L1556.54 1505.36 L1556.54 1535.98 L1564.18 1535.98 L1564.18 1539.92 L1544.27 1539.92 L1544.27 1535.98 Z\" fill=\"#000000\" fill-rule=\"evenodd\" fill-opacity=\"1\" /><path clip-path=\"url(#clip920)\" d=\"M 0 0 M1579.25 1508.44 Q1575.64 1508.44 1573.81 1512 Q1572 1515.55 1572 1522.67 Q1572 1529.78 1573.81 1533.35 Q1575.64 1536.89 1579.25 1536.89 Q1582.88 1536.89 1584.69 1533.35 Q1586.52 1529.78 1586.52 1522.67 Q1586.52 1515.55 1584.69 1512 Q1582.88 1508.44 1579.25 1508.44 M1579.25 1504.73 Q1585.06 1504.73 1588.11 1509.34 Q1591.19 1513.92 1591.19 1522.67 Q1591.19 1531.4 1588.11 1536.01 Q1585.06 1540.59 1579.25 1540.59 Q1573.44 1540.59 1570.36 1536.01 Q1567.3 1531.4 1567.3 1522.67 Q1567.3 1513.92 1570.36 1509.34 Q1573.44 1504.73 1579.25 1504.73 Z\" fill=\"#000000\" fill-rule=\"evenodd\" fill-opacity=\"1\" /><path clip-path=\"url(#clip920)\" d=\"M 0 0 M2160.6 1535.98 L2168.24 1535.98 L2168.24 1509.62 L2159.93 1511.29 L2159.93 1507.03 L2168.19 1505.36 L2172.87 1505.36 L2172.87 1535.98 L2180.51 1535.98 L2180.51 1539.92 L2160.6 1539.92 L2160.6 1535.98 Z\" fill=\"#000000\" fill-rule=\"evenodd\" fill-opacity=\"1\" /><path clip-path=\"url(#clip920)\" d=\"M 0 0 M2185.62 1505.36 L2203.98 1505.36 L2203.98 1509.3 L2189.9 1509.3 L2189.9 1517.77 Q2190.92 1517.42 2191.94 1517.26 Q2192.96 1517.07 2193.98 1517.07 Q2199.76 1517.07 2203.14 1520.24 Q2206.52 1523.42 2206.52 1528.83 Q2206.52 1534.41 2203.05 1537.51 Q2199.58 1540.59 2193.26 1540.59 Q2191.08 1540.59 2188.82 1540.22 Q2186.57 1539.85 2184.16 1539.11 L2184.16 1534.41 Q2186.25 1535.54 2188.47 1536.1 Q2190.69 1536.66 2193.17 1536.66 Q2197.17 1536.66 2199.51 1534.55 Q2201.85 1532.44 2201.85 1528.83 Q2201.85 1525.22 2199.51 1523.11 Q2197.17 1521.01 2193.17 1521.01 Q2191.29 1521.01 2189.42 1521.42 Q2187.57 1521.84 2185.62 1522.72 L2185.62 1505.36 Z\" fill=\"#000000\" fill-rule=\"evenodd\" fill-opacity=\"1\" /><path clip-path=\"url(#clip920)\" d=\"M 0 0 M130.26 1431.51 Q126.649 1431.51 124.82 1435.08 Q123.015 1438.62 123.015 1445.75 Q123.015 1452.86 124.82 1456.42 Q126.649 1459.96 130.26 1459.96 Q133.895 1459.96 135.7 1456.42 Q137.529 1452.86 137.529 1445.75 Q137.529 1438.62 135.7 1435.08 Q133.895 1431.51 130.26 1431.51 M130.26 1427.81 Q136.07 1427.81 139.126 1432.42 Q142.205 1437 142.205 1445.75 Q142.205 1454.48 139.126 1459.08 Q136.07 1463.67 130.26 1463.67 Q124.45 1463.67 121.371 1459.08 Q118.316 1454.48 118.316 1445.75 Q118.316 1437 121.371 1432.42 Q124.45 1427.81 130.26 1427.81 Z\" fill=\"#000000\" fill-rule=\"evenodd\" fill-opacity=\"1\" /><path clip-path=\"url(#clip920)\" d=\"M 0 0 M68.2699 1193.36 L75.9087 1193.36 L75.9087 1166.99 L67.5986 1168.66 L67.5986 1164.4 L75.8624 1162.73 L80.5383 1162.73 L80.5383 1193.36 L88.1772 1193.36 L88.1772 1197.29 L68.2699 1197.29 L68.2699 1193.36 Z\" fill=\"#000000\" fill-rule=\"evenodd\" fill-opacity=\"1\" /><path clip-path=\"url(#clip920)\" d=\"M 0 0 M103.247 1165.81 Q99.6354 1165.81 97.8068 1169.38 Q96.0012 1172.92 96.0012 1180.05 Q96.0012 1187.15 97.8068 1190.72 Q99.6354 1194.26 103.247 1194.26 Q106.881 1194.26 108.686 1190.72 Q110.515 1187.15 110.515 1180.05 Q110.515 1172.92 108.686 1169.38 Q106.881 1165.81 103.247 1165.81 M103.247 1162.11 Q109.057 1162.11 112.112 1166.71 Q115.191 1171.3 115.191 1180.05 Q115.191 1188.77 112.112 1193.38 Q109.057 1197.96 103.247 1197.96 Q97.4364 1197.96 94.3577 1193.38 Q91.3022 1188.77 91.3022 1180.05 Q91.3022 1171.3 94.3577 1166.71 Q97.4364 1162.11 103.247 1162.11 Z\" fill=\"#000000\" fill-rule=\"evenodd\" fill-opacity=\"1\" /><path clip-path=\"url(#clip920)\" d=\"M 0 0 M130.26 1165.81 Q126.649 1165.81 124.82 1169.38 Q123.015 1172.92 123.015 1180.05 Q123.015 1187.15 124.82 1190.72 Q126.649 1194.26 130.26 1194.26 Q133.895 1194.26 135.7 1190.72 Q137.529 1187.15 137.529 1180.05 Q137.529 1172.92 135.7 1169.38 Q133.895 1165.81 130.26 1165.81 M130.26 1162.11 Q136.07 1162.11 139.126 1166.71 Q142.205 1171.3 142.205 1180.05 Q142.205 1188.77 139.126 1193.38 Q136.07 1197.96 130.26 1197.96 Q124.45 1197.96 121.371 1193.38 Q118.316 1188.77 118.316 1180.05 Q118.316 1171.3 121.371 1166.71 Q124.45 1162.11 130.26 1162.11 Z\" fill=\"#000000\" fill-rule=\"evenodd\" fill-opacity=\"1\" /><path clip-path=\"url(#clip920)\" d=\"M 0 0 M71.8578 927.656 L88.1772 927.656 L88.1772 931.591 L66.2328 931.591 L66.2328 927.656 Q68.8949 924.901 73.4782 920.271 Q78.0846 915.619 79.2652 914.276 Q81.5105 911.753 82.3902 910.017 Q83.2929 908.258 83.2929 906.568 Q83.2929 903.813 81.3485 902.077 Q79.4272 900.341 76.3254 900.341 Q74.1263 900.341 71.6726 901.105 Q69.2421 901.869 66.4643 903.42 L66.4643 898.697 Q69.2884 897.563 71.7421 896.985 Q74.1958 896.406 76.2328 896.406 Q81.6031 896.406 84.7976 899.091 Q87.992 901.776 87.992 906.267 Q87.992 908.397 87.1818 910.318 Q86.3948 912.216 84.2883 914.809 Q83.7096 915.48 80.6078 918.697 Q77.5059 921.892 71.8578 927.656 Z\" fill=\"#000000\" fill-rule=\"evenodd\" fill-opacity=\"1\" /><path clip-path=\"url(#clip920)\" d=\"M 0 0 M103.247 900.11 Q99.6354 900.11 97.8068 903.674 Q96.0012 907.216 96.0012 914.346 Q96.0012 921.452 97.8068 925.017 Q99.6354 928.558 103.247 928.558 Q106.881 928.558 108.686 925.017 Q110.515 921.452 110.515 914.346 Q110.515 907.216 108.686 903.674 Q106.881 900.11 103.247 900.11 M103.247 896.406 Q109.057 896.406 112.112 901.012 Q115.191 905.596 115.191 914.346 Q115.191 923.072 112.112 927.679 Q109.057 932.262 103.247 932.262 Q97.4364 932.262 94.3577 927.679 Q91.3022 923.072 91.3022 914.346 Q91.3022 905.596 94.3577 901.012 Q97.4364 896.406 103.247 896.406 Z\" fill=\"#000000\" fill-rule=\"evenodd\" fill-opacity=\"1\" /><path clip-path=\"url(#clip920)\" d=\"M 0 0 M130.26 900.11 Q126.649 900.11 124.82 903.674 Q123.015 907.216 123.015 914.346 Q123.015 921.452 124.82 925.017 Q126.649 928.558 130.26 928.558 Q133.895 928.558 135.7 925.017 Q137.529 921.452 137.529 914.346 Q137.529 907.216 135.7 903.674 Q133.895 900.11 130.26 900.11 M130.26 896.406 Q136.07 896.406 139.126 901.012 Q142.205 905.596 142.205 914.346 Q142.205 923.072 139.126 927.679 Q136.07 932.262 130.26 932.262 Q124.45 932.262 121.371 927.679 Q118.316 923.072 118.316 914.346 Q118.316 905.596 121.371 901.012 Q124.45 896.406 130.26 896.406 Z\" fill=\"#000000\" fill-rule=\"evenodd\" fill-opacity=\"1\" /><path clip-path=\"url(#clip920)\" d=\"M 0 0 M81.0476 647.254 Q84.404 647.972 86.279 650.24 Q88.1772 652.509 88.1772 655.842 Q88.1772 660.958 84.6587 663.759 Q81.1402 666.56 74.6587 666.56 Q72.4828 666.56 70.168 666.12 Q67.8764 665.703 65.4227 664.847 L65.4227 660.333 Q67.3671 661.467 69.6819 662.046 Q71.9967 662.625 74.5198 662.625 Q78.918 662.625 81.2096 660.888 Q83.5244 659.152 83.5244 655.842 Q83.5244 652.787 81.3717 651.074 Q79.242 649.338 75.4226 649.338 L71.3949 649.338 L71.3949 645.495 L75.6078 645.495 Q79.0569 645.495 80.8855 644.129 Q82.7142 642.74 82.7142 640.148 Q82.7142 637.486 80.8161 636.074 Q78.9411 634.639 75.4226 634.639 Q73.5013 634.639 71.3023 635.055 Q69.1032 635.472 66.4643 636.352 L66.4643 632.185 Q69.1264 631.444 71.4412 631.074 Q73.7791 630.703 75.8393 630.703 Q81.1633 630.703 84.2652 633.134 Q87.367 635.541 87.367 639.662 Q87.367 642.532 85.7235 644.523 Q84.08 646.49 81.0476 647.254 Z\" fill=\"#000000\" fill-rule=\"evenodd\" fill-opacity=\"1\" /><path clip-path=\"url(#clip920)\" d=\"M 0 0 M103.247 634.407 Q99.6354 634.407 97.8068 637.972 Q96.0012 641.514 96.0012 648.643 Q96.0012 655.75 97.8068 659.314 Q99.6354 662.856 103.247 662.856 Q106.881 662.856 108.686 659.314 Q110.515 655.75 110.515 648.643 Q110.515 641.514 108.686 637.972 Q106.881 634.407 103.247 634.407 M103.247 630.703 Q109.057 630.703 112.112 635.31 Q115.191 639.893 115.191 648.643 Q115.191 657.37 112.112 661.976 Q109.057 666.56 103.247 666.56 Q97.4364 666.56 94.3577 661.976 Q91.3022 657.37 91.3022 648.643 Q91.3022 639.893 94.3577 635.31 Q97.4364 630.703 103.247 630.703 Z\" fill=\"#000000\" fill-rule=\"evenodd\" fill-opacity=\"1\" /><path clip-path=\"url(#clip920)\" d=\"M 0 0 M130.26 634.407 Q126.649 634.407 124.82 637.972 Q123.015 641.514 123.015 648.643 Q123.015 655.75 124.82 659.314 Q126.649 662.856 130.26 662.856 Q133.895 662.856 135.7 659.314 Q137.529 655.75 137.529 648.643 Q137.529 641.514 135.7 637.972 Q133.895 634.407 130.26 634.407 M130.26 630.703 Q136.07 630.703 139.126 635.31 Q142.205 639.893 142.205 648.643 Q142.205 657.37 139.126 661.976 Q136.07 666.56 130.26 666.56 Q124.45 666.56 121.371 661.976 Q118.316 657.37 118.316 648.643 Q118.316 639.893 121.371 635.31 Q124.45 630.703 130.26 630.703 Z\" fill=\"#000000\" fill-rule=\"evenodd\" fill-opacity=\"1\" /><path clip-path=\"url(#clip920)\" d=\"M 0 0 M78.5939 369.7 L66.7884 388.149 L78.5939 388.149 L78.5939 369.7 M77.367 365.626 L83.2466 365.626 L83.2466 388.149 L88.1772 388.149 L88.1772 392.038 L83.2466 392.038 L83.2466 400.186 L78.5939 400.186 L78.5939 392.038 L62.9921 392.038 L62.9921 387.524 L77.367 365.626 Z\" fill=\"#000000\" fill-rule=\"evenodd\" fill-opacity=\"1\" /><path clip-path=\"url(#clip920)\" d=\"M 0 0 M103.247 368.705 Q99.6354 368.705 97.8068 372.269 Q96.0012 375.811 96.0012 382.941 Q96.0012 390.047 97.8068 393.612 Q99.6354 397.154 103.247 397.154 Q106.881 397.154 108.686 393.612 Q110.515 390.047 110.515 382.941 Q110.515 375.811 108.686 372.269 Q106.881 368.705 103.247 368.705 M103.247 365.001 Q109.057 365.001 112.112 369.607 Q115.191 374.191 115.191 382.941 Q115.191 391.668 112.112 396.274 Q109.057 400.857 103.247 400.857 Q97.4364 400.857 94.3577 396.274 Q91.3022 391.668 91.3022 382.941 Q91.3022 374.191 94.3577 369.607 Q97.4364 365.001 103.247 365.001 Z\" fill=\"#000000\" fill-rule=\"evenodd\" fill-opacity=\"1\" /><path clip-path=\"url(#clip920)\" d=\"M 0 0 M130.26 368.705 Q126.649 368.705 124.82 372.269 Q123.015 375.811 123.015 382.941 Q123.015 390.047 124.82 393.612 Q126.649 397.154 130.26 397.154 Q133.895 397.154 135.7 393.612 Q137.529 390.047 137.529 382.941 Q137.529 375.811 135.7 372.269 Q133.895 368.705 130.26 368.705 M130.26 365.001 Q136.07 365.001 139.126 369.607 Q142.205 374.191 142.205 382.941 Q142.205 391.668 139.126 396.274 Q136.07 400.857 130.26 400.857 Q124.45 400.857 121.371 396.274 Q118.316 391.668 118.316 382.941 Q118.316 374.191 121.371 369.607 Q124.45 365.001 130.26 365.001 Z\" fill=\"#000000\" fill-rule=\"evenodd\" fill-opacity=\"1\" /><path clip-path=\"url(#clip920)\" d=\"M 0 0 M67.2745 99.9235 L85.6309 99.9235 L85.6309 103.859 L71.5569 103.859 L71.5569 112.331 Q72.5754 111.984 73.5939 111.822 Q74.6124 111.636 75.6309 111.636 Q81.418 111.636 84.7976 114.808 Q88.1772 117.979 88.1772 123.396 Q88.1772 128.974 84.705 132.076 Q81.2328 135.155 74.9134 135.155 Q72.7374 135.155 70.4689 134.784 Q68.2236 134.414 65.8162 133.673 L65.8162 128.974 Q67.8995 130.109 70.1217 130.664 Q72.3439 131.22 74.8208 131.22 Q78.8254 131.22 81.1633 129.113 Q83.5013 127.007 83.5013 123.396 Q83.5013 119.785 81.1633 117.678 Q78.8254 115.572 74.8208 115.572 Q72.9458 115.572 71.0708 115.988 Q69.2189 116.405 67.2745 117.285 L67.2745 99.9235 Z\" fill=\"#000000\" fill-rule=\"evenodd\" fill-opacity=\"1\" /><path clip-path=\"url(#clip920)\" d=\"M 0 0 M103.247 103.002 Q99.6354 103.002 97.8068 106.567 Q96.0012 110.109 96.0012 117.238 Q96.0012 124.345 97.8068 127.91 Q99.6354 131.451 103.247 131.451 Q106.881 131.451 108.686 127.91 Q110.515 124.345 110.515 117.238 Q110.515 110.109 108.686 106.567 Q106.881 103.002 103.247 103.002 M103.247 99.2985 Q109.057 99.2985 112.112 103.905 Q115.191 108.488 115.191 117.238 Q115.191 125.965 112.112 130.572 Q109.057 135.155 103.247 135.155 Q97.4364 135.155 94.3577 130.572 Q91.3022 125.965 91.3022 117.238 Q91.3022 108.488 94.3577 103.905 Q97.4364 99.2985 103.247 99.2985 Z\" fill=\"#000000\" fill-rule=\"evenodd\" fill-opacity=\"1\" /><path clip-path=\"url(#clip920)\" d=\"M 0 0 M130.26 103.002 Q126.649 103.002 124.82 106.567 Q123.015 110.109 123.015 117.238 Q123.015 124.345 124.82 127.91 Q126.649 131.451 130.26 131.451 Q133.895 131.451 135.7 127.91 Q137.529 124.345 137.529 117.238 Q137.529 110.109 135.7 106.567 Q133.895 103.002 130.26 103.002 M130.26 99.2985 Q136.07 99.2985 139.126 103.905 Q142.205 108.488 142.205 117.238 Q142.205 125.965 139.126 130.572 Q136.07 135.155 130.26 135.155 Q124.45 135.155 121.371 130.572 Q118.316 125.965 118.316 117.238 Q118.316 108.488 121.371 103.905 Q124.45 99.2985 130.26 99.2985 Z\" fill=\"#000000\" fill-rule=\"evenodd\" fill-opacity=\"1\" /><path clip-path=\"url(#clip922)\" d=\"\n",
       "M286.469 146.431 L286.469 1445.72 L385.002 1445.72 L385.002 146.431 L286.469 146.431 L286.469 146.431  Z\n",
       "  \" fill=\"#009af9\" fill-rule=\"evenodd\" fill-opacity=\"1\"/>\n",
       "<polyline clip-path=\"url(#clip922)\" style=\"stroke:#000000; stroke-width:4; stroke-opacity:1; fill:none\" points=\"\n",
       "  286.469,146.431 286.469,1445.72 385.002,1445.72 385.002,146.431 286.469,146.431 \n",
       "  \"/>\n",
       "<path clip-path=\"url(#clip922)\" d=\"\n",
       "M409.635 1445.72 L409.635 1445.72 L508.168 1445.72 L508.168 1445.72 L409.635 1445.72 L409.635 1445.72  Z\n",
       "  \" fill=\"#009af9\" fill-rule=\"evenodd\" fill-opacity=\"1\"/>\n",
       "<polyline clip-path=\"url(#clip922)\" style=\"stroke:#000000; stroke-width:4; stroke-opacity:1; fill:none\" points=\"\n",
       "  409.635,1445.72 409.635,1445.72 508.168,1445.72 409.635,1445.72 \n",
       "  \"/>\n",
       "<path clip-path=\"url(#clip922)\" d=\"\n",
       "M532.801 1445.72 L532.801 1445.72 L631.334 1445.72 L631.334 1445.72 L532.801 1445.72 L532.801 1445.72  Z\n",
       "  \" fill=\"#009af9\" fill-rule=\"evenodd\" fill-opacity=\"1\"/>\n",
       "<polyline clip-path=\"url(#clip922)\" style=\"stroke:#000000; stroke-width:4; stroke-opacity:1; fill:none\" points=\"\n",
       "  532.801,1445.72 532.801,1445.72 631.334,1445.72 532.801,1445.72 \n",
       "  \"/>\n",
       "<path clip-path=\"url(#clip922)\" d=\"\n",
       "M655.967 1445.72 L655.967 1445.72 L754.5 1445.72 L754.5 1445.72 L655.967 1445.72 L655.967 1445.72  Z\n",
       "  \" fill=\"#009af9\" fill-rule=\"evenodd\" fill-opacity=\"1\"/>\n",
       "<polyline clip-path=\"url(#clip922)\" style=\"stroke:#000000; stroke-width:4; stroke-opacity:1; fill:none\" points=\"\n",
       "  655.967,1445.72 655.967,1445.72 754.5,1445.72 655.967,1445.72 \n",
       "  \"/>\n",
       "<path clip-path=\"url(#clip922)\" d=\"\n",
       "M779.133 1445.72 L779.133 1445.72 L877.666 1445.72 L877.666 1445.72 L779.133 1445.72 L779.133 1445.72  Z\n",
       "  \" fill=\"#009af9\" fill-rule=\"evenodd\" fill-opacity=\"1\"/>\n",
       "<polyline clip-path=\"url(#clip922)\" style=\"stroke:#000000; stroke-width:4; stroke-opacity:1; fill:none\" points=\"\n",
       "  779.133,1445.72 779.133,1445.72 877.666,1445.72 779.133,1445.72 \n",
       "  \"/>\n",
       "<path clip-path=\"url(#clip922)\" d=\"\n",
       "M902.299 1445.72 L902.299 1445.72 L1000.83 1445.72 L1000.83 1445.72 L902.299 1445.72 L902.299 1445.72  Z\n",
       "  \" fill=\"#009af9\" fill-rule=\"evenodd\" fill-opacity=\"1\"/>\n",
       "<polyline clip-path=\"url(#clip922)\" style=\"stroke:#000000; stroke-width:4; stroke-opacity:1; fill:none\" points=\"\n",
       "  902.299,1445.72 902.299,1445.72 1000.83,1445.72 902.299,1445.72 \n",
       "  \"/>\n",
       "<path clip-path=\"url(#clip922)\" d=\"\n",
       "M1025.46 1445.72 L1025.46 1445.72 L1124 1445.72 L1124 1445.72 L1025.46 1445.72 L1025.46 1445.72  Z\n",
       "  \" fill=\"#009af9\" fill-rule=\"evenodd\" fill-opacity=\"1\"/>\n",
       "<polyline clip-path=\"url(#clip922)\" style=\"stroke:#000000; stroke-width:4; stroke-opacity:1; fill:none\" points=\"\n",
       "  1025.46,1445.72 1025.46,1445.72 1124,1445.72 1025.46,1445.72 \n",
       "  \"/>\n",
       "<path clip-path=\"url(#clip922)\" d=\"\n",
       "M1148.63 1445.72 L1148.63 1445.72 L1247.16 1445.72 L1247.16 1445.72 L1148.63 1445.72 L1148.63 1445.72  Z\n",
       "  \" fill=\"#009af9\" fill-rule=\"evenodd\" fill-opacity=\"1\"/>\n",
       "<polyline clip-path=\"url(#clip922)\" style=\"stroke:#000000; stroke-width:4; stroke-opacity:1; fill:none\" points=\"\n",
       "  1148.63,1445.72 1148.63,1445.72 1247.16,1445.72 1148.63,1445.72 \n",
       "  \"/>\n",
       "<path clip-path=\"url(#clip922)\" d=\"\n",
       "M1271.8 1445.72 L1271.8 1445.72 L1370.33 1445.72 L1370.33 1445.72 L1271.8 1445.72 L1271.8 1445.72  Z\n",
       "  \" fill=\"#009af9\" fill-rule=\"evenodd\" fill-opacity=\"1\"/>\n",
       "<polyline clip-path=\"url(#clip922)\" style=\"stroke:#000000; stroke-width:4; stroke-opacity:1; fill:none\" points=\"\n",
       "  1271.8,1445.72 1271.8,1445.72 1370.33,1445.72 1271.8,1445.72 \n",
       "  \"/>\n",
       "<path clip-path=\"url(#clip922)\" d=\"\n",
       "M1394.96 1445.72 L1394.96 1445.72 L1493.5 1445.72 L1493.5 1445.72 L1394.96 1445.72 L1394.96 1445.72  Z\n",
       "  \" fill=\"#009af9\" fill-rule=\"evenodd\" fill-opacity=\"1\"/>\n",
       "<polyline clip-path=\"url(#clip922)\" style=\"stroke:#000000; stroke-width:4; stroke-opacity:1; fill:none\" points=\"\n",
       "  1394.96,1445.72 1394.96,1445.72 1493.5,1445.72 1394.96,1445.72 \n",
       "  \"/>\n",
       "<path clip-path=\"url(#clip922)\" d=\"\n",
       "M1518.13 1445.72 L1518.13 1445.72 L1616.66 1445.72 L1616.66 1445.72 L1518.13 1445.72 L1518.13 1445.72  Z\n",
       "  \" fill=\"#009af9\" fill-rule=\"evenodd\" fill-opacity=\"1\"/>\n",
       "<polyline clip-path=\"url(#clip922)\" style=\"stroke:#000000; stroke-width:4; stroke-opacity:1; fill:none\" points=\"\n",
       "  1518.13,1445.72 1518.13,1445.72 1616.66,1445.72 1518.13,1445.72 \n",
       "  \"/>\n",
       "<path clip-path=\"url(#clip922)\" d=\"\n",
       "M1641.29 1445.72 L1641.29 1445.72 L1739.83 1445.72 L1739.83 1445.72 L1641.29 1445.72 L1641.29 1445.72  Z\n",
       "  \" fill=\"#009af9\" fill-rule=\"evenodd\" fill-opacity=\"1\"/>\n",
       "<polyline clip-path=\"url(#clip922)\" style=\"stroke:#000000; stroke-width:4; stroke-opacity:1; fill:none\" points=\"\n",
       "  1641.29,1445.72 1641.29,1445.72 1739.83,1445.72 1641.29,1445.72 \n",
       "  \"/>\n",
       "<path clip-path=\"url(#clip922)\" d=\"\n",
       "M1764.46 1445.72 L1764.46 1445.72 L1862.99 1445.72 L1862.99 1445.72 L1764.46 1445.72 L1764.46 1445.72  Z\n",
       "  \" fill=\"#009af9\" fill-rule=\"evenodd\" fill-opacity=\"1\"/>\n",
       "<polyline clip-path=\"url(#clip922)\" style=\"stroke:#000000; stroke-width:4; stroke-opacity:1; fill:none\" points=\"\n",
       "  1764.46,1445.72 1764.46,1445.72 1862.99,1445.72 1764.46,1445.72 \n",
       "  \"/>\n",
       "<path clip-path=\"url(#clip922)\" d=\"\n",
       "M1887.63 1445.72 L1887.63 1445.72 L1986.16 1445.72 L1986.16 1445.72 L1887.63 1445.72 L1887.63 1445.72  Z\n",
       "  \" fill=\"#009af9\" fill-rule=\"evenodd\" fill-opacity=\"1\"/>\n",
       "<polyline clip-path=\"url(#clip922)\" style=\"stroke:#000000; stroke-width:4; stroke-opacity:1; fill:none\" points=\"\n",
       "  1887.63,1445.72 1887.63,1445.72 1986.16,1445.72 1887.63,1445.72 \n",
       "  \"/>\n",
       "<path clip-path=\"url(#clip922)\" d=\"\n",
       "M2010.79 1445.72 L2010.79 1445.72 L2109.33 1445.72 L2109.33 1445.72 L2010.79 1445.72 L2010.79 1445.72  Z\n",
       "  \" fill=\"#009af9\" fill-rule=\"evenodd\" fill-opacity=\"1\"/>\n",
       "<polyline clip-path=\"url(#clip922)\" style=\"stroke:#000000; stroke-width:4; stroke-opacity:1; fill:none\" points=\"\n",
       "  2010.79,1445.72 2010.79,1445.72 2109.33,1445.72 2010.79,1445.72 \n",
       "  \"/>\n",
       "<path clip-path=\"url(#clip922)\" d=\"\n",
       "M2133.96 87.9763 L2133.96 1445.72 L2232.49 1445.72 L2232.49 87.9763 L2133.96 87.9763 L2133.96 87.9763  Z\n",
       "  \" fill=\"#009af9\" fill-rule=\"evenodd\" fill-opacity=\"1\"/>\n",
       "<polyline clip-path=\"url(#clip922)\" style=\"stroke:#000000; stroke-width:4; stroke-opacity:1; fill:none\" points=\"\n",
       "  2133.96,87.9763 2133.96,1445.72 2232.49,1445.72 2232.49,87.9763 2133.96,87.9763 \n",
       "  \"/>\n",
       "</svg>\n"
      ]
     },
     "execution_count": 38,
     "metadata": {},
     "output_type": "execute_result"
    }
   ],
   "source": [
    "hist = fit(Histogram, Int.(results), 0:16)\n",
    "bar(hist.edges[1] .- 0.5, hist.weights, legend=:none)"
   ]
  },
  {
   "cell_type": "code",
   "execution_count": null,
   "metadata": {},
   "outputs": [],
   "source": []
  }
 ],
 "metadata": {
  "kernelspec": {
   "display_name": "Julia 1.4.0",
   "language": "julia",
   "name": "julia-1.4"
  },
  "language_info": {
   "file_extension": ".jl",
   "mimetype": "application/julia",
   "name": "julia",
   "version": "1.4.0"
  }
 },
 "nbformat": 4,
 "nbformat_minor": 2
}
