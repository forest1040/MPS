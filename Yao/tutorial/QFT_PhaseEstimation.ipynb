{
 "cells": [
  {
   "cell_type": "code",
   "execution_count": 1,
   "metadata": {},
   "outputs": [],
   "source": [
    "using Yao"
   ]
  },
  {
   "cell_type": "markdown",
   "metadata": {},
   "source": [
    "# QFT circuit"
   ]
  },
  {
   "cell_type": "code",
   "execution_count": null,
   "metadata": {},
   "outputs": [],
   "source": [
    "A(i, j) = control(i, j=>shift(2π/(1<<(i-j+1))))"
   ]
  },
  {
   "cell_type": "code",
   "execution_count": 7,
   "metadata": {},
   "outputs": [
    {
     "data": {
      "text/plain": [
       "(n -> control(n, 4, 1 => shift(0.39269908169872414)))"
      ]
     },
     "execution_count": 7,
     "metadata": {},
     "output_type": "execute_result"
    }
   ],
   "source": [
    "R4 = A(4, 1) # qubit num can be desided after"
   ]
  },
  {
   "cell_type": "code",
   "execution_count": 8,
   "metadata": {},
   "outputs": [
    {
     "data": {
      "text/plain": [
       "\u001b[36mnqubits: 5\u001b[39m\n",
       "\u001b[31m\u001b[1mcontrol(\u001b[22m\u001b[39m\u001b[31m\u001b[1m4\u001b[22m\u001b[39m\u001b[31m\u001b[1m)\u001b[22m\u001b[39m\n",
       "└─ \u001b[37m\u001b[1m(1,)\u001b[22m\u001b[39m shift(0.39269908169872414)"
      ]
     },
     "execution_count": 8,
     "metadata": {},
     "output_type": "execute_result"
    }
   ],
   "source": [
    "R4(5)"
   ]
  },
  {
   "cell_type": "code",
   "execution_count": 13,
   "metadata": {},
   "outputs": [
    {
     "data": {
      "text/plain": [
       "B (generic function with 1 method)"
      ]
     },
     "execution_count": 13,
     "metadata": {},
     "output_type": "execute_result"
    }
   ],
   "source": [
    "B(n, k) = chain(n, j==k ? put(k=>H) : A(j, k) for j in k:n)\n",
    "# if j==k, put(k=>H), else, A(j, k)~"
   ]
  },
  {
   "cell_type": "code",
   "execution_count": 14,
   "metadata": {},
   "outputs": [
    {
     "data": {
      "text/plain": [
       "qft (generic function with 1 method)"
      ]
     },
     "execution_count": 14,
     "metadata": {},
     "output_type": "execute_result"
    }
   ],
   "source": [
    "qft(n) = chain(B(n, k) for k in 1:n)"
   ]
  },
  {
   "cell_type": "code",
   "execution_count": 11,
   "metadata": {},
   "outputs": [
    {
     "data": {
      "text/plain": [
       "\u001b[36mnqubits: 4\u001b[39m\n",
       "\u001b[34m\u001b[1mchain\u001b[22m\u001b[39m\n",
       "├─ \u001b[34m\u001b[1mchain\u001b[22m\u001b[39m\n",
       "│  ├─ \u001b[36m\u001b[1mput on (\u001b[22m\u001b[39m\u001b[36m\u001b[1m1\u001b[22m\u001b[39m\u001b[36m\u001b[1m)\u001b[22m\u001b[39m\n",
       "│  │  └─ H\n",
       "│  ├─ \u001b[31m\u001b[1mcontrol(\u001b[22m\u001b[39m\u001b[31m\u001b[1m2\u001b[22m\u001b[39m\u001b[31m\u001b[1m)\u001b[22m\u001b[39m\n",
       "│  │  └─ \u001b[37m\u001b[1m(1,)\u001b[22m\u001b[39m shift(1.5707963267948966)\n",
       "│  ├─ \u001b[31m\u001b[1mcontrol(\u001b[22m\u001b[39m\u001b[31m\u001b[1m3\u001b[22m\u001b[39m\u001b[31m\u001b[1m)\u001b[22m\u001b[39m\n",
       "│  │  └─ \u001b[37m\u001b[1m(1,)\u001b[22m\u001b[39m shift(0.7853981633974483)\n",
       "│  └─ \u001b[31m\u001b[1mcontrol(\u001b[22m\u001b[39m\u001b[31m\u001b[1m4\u001b[22m\u001b[39m\u001b[31m\u001b[1m)\u001b[22m\u001b[39m\n",
       "│     └─ \u001b[37m\u001b[1m(1,)\u001b[22m\u001b[39m shift(0.39269908169872414)\n",
       "├─ \u001b[34m\u001b[1mchain\u001b[22m\u001b[39m\n",
       "│  ├─ \u001b[36m\u001b[1mput on (\u001b[22m\u001b[39m\u001b[36m\u001b[1m2\u001b[22m\u001b[39m\u001b[36m\u001b[1m)\u001b[22m\u001b[39m\n",
       "│  │  └─ H\n",
       "│  ├─ \u001b[31m\u001b[1mcontrol(\u001b[22m\u001b[39m\u001b[31m\u001b[1m3\u001b[22m\u001b[39m\u001b[31m\u001b[1m)\u001b[22m\u001b[39m\n",
       "│  │  └─ \u001b[37m\u001b[1m(2,)\u001b[22m\u001b[39m shift(1.5707963267948966)\n",
       "│  └─ \u001b[31m\u001b[1mcontrol(\u001b[22m\u001b[39m\u001b[31m\u001b[1m4\u001b[22m\u001b[39m\u001b[31m\u001b[1m)\u001b[22m\u001b[39m\n",
       "│     └─ \u001b[37m\u001b[1m(2,)\u001b[22m\u001b[39m shift(0.7853981633974483)\n",
       "├─ \u001b[34m\u001b[1mchain\u001b[22m\u001b[39m\n",
       "│  ├─ \u001b[36m\u001b[1mput on (\u001b[22m\u001b[39m\u001b[36m\u001b[1m3\u001b[22m\u001b[39m\u001b[36m\u001b[1m)\u001b[22m\u001b[39m\n",
       "│  │  └─ H\n",
       "│  └─ \u001b[31m\u001b[1mcontrol(\u001b[22m\u001b[39m\u001b[31m\u001b[1m4\u001b[22m\u001b[39m\u001b[31m\u001b[1m)\u001b[22m\u001b[39m\n",
       "│     └─ \u001b[37m\u001b[1m(3,)\u001b[22m\u001b[39m shift(1.5707963267948966)\n",
       "└─ \u001b[34m\u001b[1mchain\u001b[22m\u001b[39m\n",
       "   └─ \u001b[36m\u001b[1mput on (\u001b[22m\u001b[39m\u001b[36m\u001b[1m4\u001b[22m\u001b[39m\u001b[36m\u001b[1m)\u001b[22m\u001b[39m\n",
       "      └─ H\n"
      ]
     },
     "execution_count": 11,
     "metadata": {},
     "output_type": "execute_result"
    }
   ],
   "source": [
    "qft(4)"
   ]
  },
  {
   "cell_type": "markdown",
   "metadata": {},
   "source": [
    "### Wrap QFT to an external block\n",
    "\n",
    "it's useful to be able to wrap circuit to custom blocks."
   ]
  },
  {
   "cell_type": "code",
   "execution_count": 88,
   "metadata": {},
   "outputs": [
    {
     "data": {
      "text/plain": [
       "QFT"
      ]
     },
     "execution_count": 88,
     "metadata": {},
     "output_type": "execute_result"
    }
   ],
   "source": [
    "# Parametric Composite Types\n",
    "struct QFT{N} <: PrimitiveBlock{N} end # define new type QFT{N} as subtype of PrimitiveBlock\n",
    "QFT(n::Int) = QFT{n}() # QFT{n::int} class is defined."
   ]
  },
  {
   "cell_type": "code",
   "execution_count": 148,
   "metadata": {},
   "outputs": [
    {
     "name": "stdout",
     "output_type": "stream",
     "text": [
      "UnionAll\n",
      "QFT{3}\n"
     ]
    }
   ],
   "source": [
    "println( typeof(QFT) )\n",
    "println( typeof(QFT(3)) )"
   ]
  },
  {
   "cell_type": "code",
   "execution_count": 127,
   "metadata": {},
   "outputs": [
    {
     "data": {
      "text/plain": [
       "circuit (generic function with 2 methods)"
      ]
     },
     "execution_count": 127,
     "metadata": {},
     "output_type": "execute_result"
    }
   ],
   "source": [
    "circuit(::QFT{N}) where N = qft(N)\n",
    "# circuit(::QFT{N}) where N  *ここが区切り*  = qft(N)"
   ]
  },
  {
   "cell_type": "code",
   "execution_count": 145,
   "metadata": {},
   "outputs": [
    {
     "data": {
      "text/plain": [
       "\u001b[36mnqubits: 3\u001b[39m\n",
       "\u001b[34m\u001b[1mchain\u001b[22m\u001b[39m\n",
       "├─ \u001b[34m\u001b[1mchain\u001b[22m\u001b[39m\n",
       "│  ├─ \u001b[36m\u001b[1mput on (\u001b[22m\u001b[39m\u001b[36m\u001b[1m1\u001b[22m\u001b[39m\u001b[36m\u001b[1m)\u001b[22m\u001b[39m\n",
       "│  │  └─ H\n",
       "│  ├─ \u001b[31m\u001b[1mcontrol(\u001b[22m\u001b[39m\u001b[31m\u001b[1m2\u001b[22m\u001b[39m\u001b[31m\u001b[1m)\u001b[22m\u001b[39m\n",
       "│  │  └─ \u001b[37m\u001b[1m(1,)\u001b[22m\u001b[39m shift(1.5707963267948966)\n",
       "│  └─ \u001b[31m\u001b[1mcontrol(\u001b[22m\u001b[39m\u001b[31m\u001b[1m3\u001b[22m\u001b[39m\u001b[31m\u001b[1m)\u001b[22m\u001b[39m\n",
       "│     └─ \u001b[37m\u001b[1m(1,)\u001b[22m\u001b[39m shift(0.7853981633974483)\n",
       "├─ \u001b[34m\u001b[1mchain\u001b[22m\u001b[39m\n",
       "│  ├─ \u001b[36m\u001b[1mput on (\u001b[22m\u001b[39m\u001b[36m\u001b[1m2\u001b[22m\u001b[39m\u001b[36m\u001b[1m)\u001b[22m\u001b[39m\n",
       "│  │  └─ H\n",
       "│  └─ \u001b[31m\u001b[1mcontrol(\u001b[22m\u001b[39m\u001b[31m\u001b[1m3\u001b[22m\u001b[39m\u001b[31m\u001b[1m)\u001b[22m\u001b[39m\n",
       "│     └─ \u001b[37m\u001b[1m(2,)\u001b[22m\u001b[39m shift(1.5707963267948966)\n",
       "└─ \u001b[34m\u001b[1mchain\u001b[22m\u001b[39m\n",
       "   └─ \u001b[36m\u001b[1mput on (\u001b[22m\u001b[39m\u001b[36m\u001b[1m3\u001b[22m\u001b[39m\u001b[36m\u001b[1m)\u001b[22m\u001b[39m\n",
       "      └─ H\n"
      ]
     },
     "execution_count": 145,
     "metadata": {},
     "output_type": "execute_result"
    }
   ],
   "source": [
    "circuit(QFT(3))"
   ]
  },
  {
   "cell_type": "code",
   "execution_count": 142,
   "metadata": {},
   "outputs": [
    {
     "name": "stdout",
     "output_type": "stream",
     "text": [
      "QFT{2}\n",
      "ChainBlock{2}\n",
      "ChainBlock{2}\n"
     ]
    }
   ],
   "source": [
    "println( typeof(QFT(2)) )\n",
    "println( typeof(circuit(QFT(2))) )\n",
    "println( typeof(qft(2)) )"
   ]
  },
  {
   "cell_type": "code",
   "execution_count": 132,
   "metadata": {},
   "outputs": [
    {
     "data": {
      "text/plain": [
       "true"
      ]
     },
     "execution_count": 132,
     "metadata": {},
     "output_type": "execute_result"
    }
   ],
   "source": [
    "circuit(QFT(3)) == qft(3)"
   ]
  },
  {
   "cell_type": "code",
   "execution_count": 38,
   "metadata": {},
   "outputs": [
    {
     "data": {
      "text/plain": [
       "4×4 SparseArrays.SparseMatrixCSC{Complex{Float64},Int64} with 16 stored entries:\n",
       "  [1, 1]  =  0.5+0.0im\n",
       "  [2, 1]  =  0.5+0.0im\n",
       "  [3, 1]  =  0.5+0.0im\n",
       "  [4, 1]  =  0.5+0.0im\n",
       "  [1, 2]  =  0.5+0.0im\n",
       "  [2, 2]  =  -0.5+0.0im\n",
       "  [3, 2]  =  0.5+0.0im\n",
       "  [4, 2]  =  -0.5+0.0im\n",
       "  [1, 3]  =  0.5+0.0im\n",
       "  [2, 3]  =  3.06162e-17+0.5im\n",
       "  [3, 3]  =  -0.5+0.0im\n",
       "  [4, 3]  =  -3.06162e-17-0.5im\n",
       "  [1, 4]  =  0.5+0.0im\n",
       "  [2, 4]  =  -3.06162e-17-0.5im\n",
       "  [3, 4]  =  -0.5+0.0im\n",
       "  [4, 4]  =  3.06162e-17+0.5im"
      ]
     },
     "execution_count": 38,
     "metadata": {},
     "output_type": "execute_result"
    }
   ],
   "source": [
    "mat(circuit(QFT(2)))"
   ]
  },
  {
   "cell_type": "code",
   "execution_count": 79,
   "metadata": {},
   "outputs": [],
   "source": [
    "YaoBlocks.mat(::Type{T}, x::QFT) where T = mat(T, circuit(x))\n",
    "# YaoBlocks の　method(generic function) を今回作った型で定義している??"
   ]
  },
  {
   "cell_type": "code",
   "execution_count": 41,
   "metadata": {},
   "outputs": [],
   "source": [
    "YaoBlocks.print_block(io::IO, x::QFT{N}) where N = print(io, \"QFT($N)\")"
   ]
  },
  {
   "cell_type": "markdown",
   "metadata": {},
   "source": [
    "Since it is possible to use FFT to simulate the results of QFT (like cheating), we could define our custom apply! method:"
   ]
  },
  {
   "cell_type": "code",
   "execution_count": 51,
   "metadata": {},
   "outputs": [],
   "source": [
    "using FFTW, LinearAlgebra\n",
    "\n",
    "function YaoBlocks.apply!(r::ArrayReg, x::QFT)\n",
    "    α = sqrt(length(statevec(r)))\n",
    "    invorder!(r)\n",
    "    lmul!(α, ifft!(statevec(r)))\n",
    "    return r\n",
    "end"
   ]
  },
  {
   "cell_type": "code",
   "execution_count": 48,
   "metadata": {},
   "outputs": [
    {
     "data": {
      "text/plain": [
       "true"
      ]
     },
     "execution_count": 48,
     "metadata": {},
     "output_type": "execute_result"
    }
   ],
   "source": [
    "r = rand_state(5)\n",
    "r1 = r |> copy |> QFT(5)\n",
    "r2 = r |> copy |> circuit(QFT(5))\n",
    "r1 ≈ r2"
   ]
  },
  {
   "cell_type": "code",
   "execution_count": 67,
   "metadata": {},
   "outputs": [
    {
     "data": {
      "text/plain": [
       "100-element Array{BitBasis.BitStr{5,Int64},1}:\n",
       " 00000 ₍₂₎\n",
       " 11001 ₍₂₎\n",
       " 11001 ₍₂₎\n",
       " 10000 ₍₂₎\n",
       " 11001 ₍₂₎\n",
       " 01111 ₍₂₎\n",
       " 01111 ₍₂₎\n",
       " 10011 ₍₂₎\n",
       " 11100 ₍₂₎\n",
       " 10111 ₍₂₎\n",
       " 01010 ₍₂₎\n",
       " 10010 ₍₂₎\n",
       " 10010 ₍₂₎\n",
       "         ⋮\n",
       " 01011 ₍₂₎\n",
       " 01111 ₍₂₎\n",
       " 11010 ₍₂₎\n",
       " 00111 ₍₂₎\n",
       " 00001 ₍₂₎\n",
       " 00111 ₍₂₎\n",
       " 01000 ₍₂₎\n",
       " 10000 ₍₂₎\n",
       " 01110 ₍₂₎\n",
       " 10010 ₍₂₎\n",
       " 11000 ₍₂₎\n",
       " 10010 ₍₂₎"
      ]
     },
     "execution_count": 67,
     "metadata": {},
     "output_type": "execute_result"
    }
   ],
   "source": [
    "r1 = r |> copy |> QFT(5) |> r -> measure(r, nshots=100)"
   ]
  },
  {
   "cell_type": "code",
   "execution_count": 151,
   "metadata": {},
   "outputs": [
    {
     "data": {
      "text/plain": [
       "\u001b[33m\u001b[1m [†]\u001b[22m\u001b[39mQFT(5)"
      ]
     },
     "execution_count": 151,
     "metadata": {},
     "output_type": "execute_result"
    }
   ],
   "source": [
    "QFT(5)'"
   ]
  },
  {
   "cell_type": "code",
   "execution_count": 159,
   "metadata": {},
   "outputs": [
    {
     "name": "stdout",
     "output_type": "stream",
     "text": [
      "Daggered{QFT{5},5}\n",
      "ChainBlock{3}\n"
     ]
    }
   ],
   "source": [
    "println(typeof(QFT(5)'))\n",
    "println(typeof(qft(3)'))"
   ]
  },
  {
   "cell_type": "markdown",
   "metadata": {},
   "source": [
    "# Phase Estimation circuit"
   ]
  },
  {
   "cell_type": "code",
   "execution_count": 152,
   "metadata": {},
   "outputs": [
    {
     "data": {
      "text/plain": [
       "Hadamards (generic function with 1 method)"
      ]
     },
     "execution_count": 152,
     "metadata": {},
     "output_type": "execute_result"
    }
   ],
   "source": [
    "Hadamards(n) = repeat(H, 1:n)"
   ]
  },
  {
   "cell_type": "code",
   "execution_count": 153,
   "metadata": {},
   "outputs": [
    {
     "data": {
      "text/plain": [
       "ControlU (generic function with 1 method)"
      ]
     },
     "execution_count": 153,
     "metadata": {},
     "output_type": "execute_result"
    }
   ],
   "source": [
    "ControlU(n, m, U) = chain(n+m, control(k, n+1:n+m=>matblock(U^(2^(k-1)))) for k in 1:n)"
   ]
  },
  {
   "cell_type": "code",
   "execution_count": 154,
   "metadata": {},
   "outputs": [
    {
     "data": {
      "text/plain": [
       "PE (generic function with 1 method)"
      ]
     },
     "execution_count": 154,
     "metadata": {},
     "output_type": "execute_result"
    }
   ],
   "source": [
    "PE(n, m, U) =\n",
    "    chain(n+m, # total number of the qubits\n",
    "        concentrate(Hadamards(n), 1:n), # apply H in local scope\n",
    "        ControlU(n, m, U),\n",
    "        concentrate(QFT(n)', 1:n))"
   ]
  },
  {
   "cell_type": "markdown",
   "metadata": {},
   "source": [
    "一度CahinBlock{N}として定義したqft(n)を、QFT(n)という名前でPrimitiveBlock{N}として定義し直したため、もう一度chain()に突っ込める。"
   ]
  },
  {
   "cell_type": "code",
   "execution_count": 155,
   "metadata": {},
   "outputs": [
    {
     "data": {
      "text/plain": [
       "ArrayReg{1, Complex{Float64}, Array...}\n",
       "    active qubits: 5/5"
      ]
     },
     "execution_count": 155,
     "metadata": {},
     "output_type": "execute_result"
    }
   ],
   "source": [
    "r = rand_state(5)"
   ]
  },
  {
   "cell_type": "code",
   "execution_count": 156,
   "metadata": {},
   "outputs": [
    {
     "data": {
      "text/plain": [
       "ArrayReg{1, Complex{Float64}, Array...}\n",
       "    active qubits: 3/5"
      ]
     },
     "execution_count": 156,
     "metadata": {},
     "output_type": "execute_result"
    }
   ],
   "source": [
    "focus!(r, 1:3)"
   ]
  },
  {
   "cell_type": "code",
   "execution_count": 157,
   "metadata": {},
   "outputs": [
    {
     "data": {
      "text/plain": [
       "ArrayReg{1, Complex{Float64}, Array...}\n",
       "    active qubits: 5/5"
      ]
     },
     "execution_count": 157,
     "metadata": {},
     "output_type": "execute_result"
    }
   ],
   "source": [
    "relax!(r, 1:3)"
   ]
  },
  {
   "cell_type": "markdown",
   "metadata": {},
   "source": [
    "In this way, we will be able to apply small operator directly on the subset of the qubits."
   ]
  },
  {
   "cell_type": "code",
   "execution_count": 161,
   "metadata": {},
   "outputs": [
    {
     "data": {
      "text/plain": [
       "32×32 Array{Complex{Float64},2}:\n",
       "     0.46071-0.302347im    …   -0.0903844-0.101259im\n",
       "   0.0690542-0.1068im          -0.0584892-0.0241442im\n",
       "   0.0376043+0.0355771im       -0.0954238-0.150688im\n",
       "   0.0617421-0.12045im        -0.00245556-0.22158im\n",
       "   0.0321338+0.0142511im       -0.0605465-0.151011im\n",
       "   0.0203351+0.114761im    …    -0.138323-0.0715385im\n",
       "   0.0671265+0.065407im          0.143348-0.100983im\n",
       "   0.0228185-0.0983436im        -0.101941+0.0920513im\n",
       "   0.0362004-0.027697im        0.00568236-0.207122im\n",
       " -0.00114995+0.0190755im        0.0150346+0.0654877im\n",
       "  -0.0426691-0.0456888im   …   -0.0752605+0.152529im\n",
       "    0.155556+0.0184419im        0.0121835+0.156086im\n",
       "   0.0780916-0.0349016im        0.0725806+0.113856im\n",
       "            ⋮              ⋱  \n",
       "     0.20813-0.0671839im   …     0.229504-0.124093im\n",
       "  -0.0561755+0.0910277im       0.00887671-0.13519im\n",
       "   0.0489875-0.241589im         0.0891129-0.0522965im\n",
       "   -0.056753-0.116786im         -0.135559-0.000524529im\n",
       "    0.143653+0.0172643im        -0.104062-0.0228538im\n",
       "  0.00666647-0.258256im    …    -0.139424-0.0455859im\n",
       " -0.00776119+0.0789823im        0.0233393+0.0486552im\n",
       "   0.0623963-0.0467912im         0.109102+0.260736im\n",
       "    0.155589+0.0655286im       -0.0753665+0.196596im\n",
       "   0.0166165-0.00384664im        0.114169+0.156168im\n",
       "   -0.119683-0.242749im    …    0.0262635-0.0283603im\n",
       "   -0.141616+0.00280349im        0.279651-0.172679im"
      ]
     },
     "execution_count": 161,
     "metadata": {},
     "output_type": "execute_result"
    }
   ],
   "source": [
    "N, M = 3, 5\n",
    "P = eigen(rand_unitary(1<<M)).vectors\n",
    "θ = Int(0b110) / 1<<N\n",
    "phases = rand(1<<M)\n",
    "phases[0b010+1] = θ\n",
    "U = P * Diagonal(exp.(2π * im * phases)) * P'"
   ]
  },
  {
   "cell_type": "code",
   "execution_count": 162,
   "metadata": {},
   "outputs": [
    {
     "data": {
      "text/plain": [
       "32-element Array{Complex{Float64},1}:\n",
       "  -0.05849257886632364 - 0.17791781646085325im\n",
       "   0.06013684973829846 + 0.05935300087228702im\n",
       "   0.20740409946452612 - 0.18818220270461297im\n",
       "   0.12139343030157221 + 0.056267662670782384im\n",
       "  0.007786324597054674 - 0.22020470546794624im\n",
       "   0.17529926509884827 - 0.1445920624896402im\n",
       "  -0.11954995064266083 - 0.15730177195456566im\n",
       "   0.13605363808283408 - 0.013756616230986222im\n",
       "  -0.22340332394751417 + 0.10236410312442945im\n",
       "  -0.10477667654391569 - 0.07089751093575208im\n",
       "  -0.19535410346623142 + 0.10134837875973857im\n",
       "   0.12758298333611373 - 0.07137772153111205im\n",
       "  -0.11913736299928815 + 0.03476389104599038im\n",
       "                       ⋮\n",
       "  -0.04660587058350546 - 0.08309812553125542im\n",
       "  -0.08781714059506278 - 0.058886343995567636im\n",
       "   0.23720806565730151 + 0.17213190799575814im\n",
       "  -0.09338030808645637 - 0.15733585308739914im\n",
       "  -0.16010477524858918 - 0.1481030303440515im\n",
       "   0.03914536533728363 - 0.09949153546566986im\n",
       "  0.043028930837625434 + 0.15572438453758186im\n",
       "  0.007515998517704597 - 0.20376319638923537im\n",
       "    0.1366211650365306 + 0.19055907240932138im\n",
       "   0.08122667734929176 - 0.035485919988422224im\n",
       " -0.019454437755981137 + 0.0672216353053114im\n",
       "   -0.0374312768256476 + 0.007126613328774038im"
      ]
     },
     "execution_count": 162,
     "metadata": {},
     "output_type": "execute_result"
    }
   ],
   "source": [
    "psi = P[:, 3]"
   ]
  },
  {
   "cell_type": "code",
   "execution_count": 163,
   "metadata": {},
   "outputs": [
    {
     "name": "stderr",
     "output_type": "stream",
     "text": [
      "┌ Warning: `concentrate` is deprecated, use `subroutine` instead.\n",
      "│   caller = PE(::Int64, ::Int64, ::Array{Complex{Float64},2}) at In[154]:1\n",
      "└ @ Main ./In[154]:1\n",
      "┌ Warning: `concentrate` is deprecated, use `subroutine` instead.\n",
      "│   caller = PE(::Int64, ::Int64, ::Array{Complex{Float64},2}) at In[154]:1\n",
      "└ @ Main ./In[154]:1\n"
     ]
    },
    {
     "data": {
      "text/plain": [
       "ArrayReg{1, Complex{Float64}, Array...}\n",
       "    active qubits: 8/8"
      ]
     },
     "execution_count": 163,
     "metadata": {},
     "output_type": "execute_result"
    }
   ],
   "source": [
    "r = join(ArrayReg(psi), zero_state(N))\n",
    "r |> PE(N, M, U)"
   ]
  },
  {
   "cell_type": "code",
   "execution_count": 164,
   "metadata": {},
   "outputs": [
    {
     "data": {
      "text/plain": [
       "1-element Array{BitBasis.BitStr{3,Int64},1}:\n",
       " 011 ₍₂₎"
      ]
     },
     "execution_count": 164,
     "metadata": {},
     "output_type": "execute_result"
    }
   ],
   "source": [
    "results = measure(r, 1:N; nshots=1)"
   ]
  },
  {
   "cell_type": "code",
   "execution_count": 167,
   "metadata": {},
   "outputs": [
    {
     "data": {
      "text/plain": [
       "0.75"
      ]
     },
     "execution_count": 167,
     "metadata": {},
     "output_type": "execute_result"
    }
   ],
   "source": [
    "using BitBasis\n",
    "estimated_phase = bfloat(results[]; nbits=N)"
   ]
  },
  {
   "cell_type": "code",
   "execution_count": null,
   "metadata": {},
   "outputs": [],
   "source": []
  }
 ],
 "metadata": {
  "kernelspec": {
   "display_name": "Julia 1.4.0",
   "language": "julia",
   "name": "julia-1.4"
  },
  "language_info": {
   "file_extension": ".jl",
   "mimetype": "application/julia",
   "name": "julia",
   "version": "1.4.0"
  }
 },
 "nbformat": 4,
 "nbformat_minor": 2
}
